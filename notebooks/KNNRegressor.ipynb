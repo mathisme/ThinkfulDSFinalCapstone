{
 "cells": [
  {
   "cell_type": "code",
   "execution_count": 14,
   "id": "32f0598b",
   "metadata": {},
   "outputs": [],
   "source": [
    "import numpy as np\n",
    "import pandas as pd\n",
    "import matplotlib.pyplot as plt\n",
    "import seaborn as sns\n",
    "from sklearn.neighbors import KNeighborsRegressor\n",
    "from sklearn.model_selection import train_test_split\n",
    "from sklearn.pipeline import Pipeline\n",
    "from sklearn.model_selection import GridSearchCV\n",
    "from sklearn.compose import ColumnTransformer\n",
    "from sklearn.preprocessing import OneHotEncoder, MinMaxScaler\n",
    "from sklearn.decomposition import PCA\n",
    "from feature_engine.outliers import Winsorizer\n",
    "from sklearn.metrics import mean_absolute_error, mean_squared_error\n",
    "from sklearn.impute import KNNImputer"
   ]
  },
  {
   "cell_type": "code",
   "execution_count": 2,
   "id": "1ac655a1",
   "metadata": {},
   "outputs": [],
   "source": [
    "df = pd.read_csv('../Data/df_transformed.csv')"
   ]
  },
  {
   "cell_type": "code",
   "execution_count": 4,
   "id": "e3485453",
   "metadata": {},
   "outputs": [],
   "source": [
    "df.drop('Unnamed: 0',axis=1,inplace=True)"
   ]
  },
  {
   "cell_type": "code",
   "execution_count": 5,
   "id": "688206c7",
   "metadata": {},
   "outputs": [
    {
     "data": {
      "text/plain": [
       "Index(['LBXTC', 'RIAGENDR', 'RIDRETH3', 'RIDAGEYR', 'BMXWT', 'BMXHT', 'BMXBMI',\n",
       "       'BPXPLS', 'BPXPULS', 'DR1TKCAL', 'DR1TPROT', 'DR1TCARB', 'DR1TSUGR',\n",
       "       'DR1TFIBE', 'DR1TTFAT', 'DR1TSFAT', 'DR1TMFAT', 'DR1TPFAT', 'DR1TCHOL',\n",
       "       'DR1TSODI', 'DR1TVD', 'DR1TCALC', 'DR1TIRON', 'DR1TPOTA', 'DR1_300',\n",
       "       'ALQ120Q', 'ALQ120U', 'ALQ130', 'BPQ020', 'BPQ050A', 'BPQ080',\n",
       "       'BPQ100D', 'DIQ010', 'MCQ170M', 'SMQ681', 'PAQ610', 'PAD615', 'PAQ625',\n",
       "       'PAD630', 'PAQ655', 'PAD660', 'PAQ670', 'PAD675', 'Systolic',\n",
       "       'Diastolic', 'MET_work', 'MET_rec', 'DR1TKCAL_t', 'DR1TPROT_t',\n",
       "       'DR1TCARB_t', 'DR1TSUGR_t', 'DR1TFIBE_t', 'DR1TTFAT_t', 'DR1TSFAT_t',\n",
       "       'DR1TMFAT_t', 'DR1TPFAT_t', 'DR1TCHOL_t', 'DR1TSODI_t', 'DR1TVD_t',\n",
       "       'DR1TCALC_t', 'DR1TIRON_t', 'DR1TPOTA_t', 'log_LBXTC'],\n",
       "      dtype='object')"
      ]
     },
     "execution_count": 5,
     "metadata": {},
     "output_type": "execute_result"
    }
   ],
   "source": [
    "df.columns"
   ]
  },
  {
   "cell_type": "markdown",
   "id": "54bd6e36",
   "metadata": {},
   "source": [
    "First I'm going to try with demographic information, body mass index, blood pressure, pulse, nutrition info (not transformed) and MET recreational.  Because KNN uses distance, any categorical, non oridnal, values with more than two levels such as race, need to be one hot encoded because we want the distances to be the same between any two races.  I will also first try with y being LBXTC and not log transformed.\n",
    "I plan to first drop missing values then try it with imputed missing values"
   ]
  },
  {
   "cell_type": "code",
   "execution_count": 8,
   "id": "598bfc4a",
   "metadata": {},
   "outputs": [],
   "source": [
    "numerical_variables = ['RIAGENDR','RIDAGEYR','BMXBMI','BPXPLS','DR1TKCAL', 'DR1TPROT', 'DR1TCARB', 'DR1TSUGR',\n",
    "       'DR1TFIBE', 'DR1TTFAT', 'DR1TSFAT', 'DR1TMFAT', 'DR1TPFAT', 'DR1TCHOL',\n",
    "       'DR1TSODI', 'DR1TVD', 'DR1TCALC', 'DR1TIRON', 'DR1TPOTA','MET_rec']\n",
    "categorical_variables = ['RIDRETH3','DR1_300']"
   ]
  },
  {
   "cell_type": "code",
   "execution_count": 9,
   "id": "83a3ac7c",
   "metadata": {},
   "outputs": [],
   "source": [
    "df1 = df[numerical_variables+categorical_variables+['LBXTC']].copy()"
   ]
  },
  {
   "cell_type": "code",
   "execution_count": 10,
   "id": "9df4060c",
   "metadata": {},
   "outputs": [],
   "source": [
    "df1.dropna(inplace=True)"
   ]
  },
  {
   "cell_type": "code",
   "execution_count": 12,
   "id": "75d556cf",
   "metadata": {},
   "outputs": [],
   "source": [
    "y = df1.LBXTC\n",
    "X = df1.drop('LBXTC', axis=1)"
   ]
  },
  {
   "cell_type": "code",
   "execution_count": 13,
   "id": "b1666063",
   "metadata": {},
   "outputs": [],
   "source": [
    "X_train, X_test, y_train, y_test = train_test_split(X,y,test_size=0.2,random_state=625)"
   ]
  },
  {
   "cell_type": "code",
   "execution_count": 15,
   "id": "4c656fbd",
   "metadata": {},
   "outputs": [],
   "source": [
    "numeric_transformer = Pipeline(steps=[('scalar',MinMaxScaler())])\n",
    "cat_transformer = Pipeline(steps=[('one_hot',OneHotEncoder(handle_unknown='ignore'))])\n",
    "\n",
    "preprocessor = ColumnTransformer(transformers=[\n",
    "    ('num',numeric_transformer,numerical_variables),\n",
    "    ('cat',cat_transformer,categorical_variables)])"
   ]
  },
  {
   "cell_type": "code",
   "execution_count": 16,
   "id": "4547882f",
   "metadata": {},
   "outputs": [],
   "source": [
    "knn1 = Pipeline(steps =[\n",
    "    ('preprocessor',preprocessor),\n",
    "    ('knn_regression', KNeighborsRegressor())])"
   ]
  },
  {
   "cell_type": "code",
   "execution_count": 19,
   "id": "e3db3a8e",
   "metadata": {},
   "outputs": [],
   "source": [
    "params = {\n",
    "    'knn_regression__weights':['uniform', 'distance'],\n",
    "    'knn_regression__n_neighbors':[1, 2,5,10, 20,50,100]\n",
    "}"
   ]
  },
  {
   "cell_type": "code",
   "execution_count": 20,
   "id": "37837754",
   "metadata": {},
   "outputs": [
    {
     "name": "stdout",
     "output_type": "stream",
     "text": [
      "Fitting 5 folds for each of 14 candidates, totalling 70 fits\n",
      "[CV 1/5] END knn_regression__n_neighbors=1, knn_regression__weights=uniform;, score=-43.635 total time=   0.0s\n",
      "[CV 2/5] END knn_regression__n_neighbors=1, knn_regression__weights=uniform;, score=-44.143 total time=   0.0s\n",
      "[CV 3/5] END knn_regression__n_neighbors=1, knn_regression__weights=uniform;, score=-40.676 total time=   0.0s\n",
      "[CV 4/5] END knn_regression__n_neighbors=1, knn_regression__weights=uniform;, score=-44.191 total time=   0.0s\n",
      "[CV 5/5] END knn_regression__n_neighbors=1, knn_regression__weights=uniform;, score=-44.501 total time=   0.0s\n",
      "[CV 1/5] END knn_regression__n_neighbors=1, knn_regression__weights=distance;, score=-43.635 total time=   0.0s\n",
      "[CV 2/5] END knn_regression__n_neighbors=1, knn_regression__weights=distance;, score=-44.143 total time=   0.0s\n",
      "[CV 3/5] END knn_regression__n_neighbors=1, knn_regression__weights=distance;, score=-40.676 total time=   0.0s\n",
      "[CV 4/5] END knn_regression__n_neighbors=1, knn_regression__weights=distance;, score=-44.191 total time=   0.0s\n",
      "[CV 5/5] END knn_regression__n_neighbors=1, knn_regression__weights=distance;, score=-44.501 total time=   0.0s\n",
      "[CV 1/5] END knn_regression__n_neighbors=2, knn_regression__weights=uniform;, score=-37.330 total time=   0.0s\n",
      "[CV 2/5] END knn_regression__n_neighbors=2, knn_regression__weights=uniform;, score=-36.575 total time=   0.0s\n",
      "[CV 3/5] END knn_regression__n_neighbors=2, knn_regression__weights=uniform;, score=-35.924 total time=   0.0s\n",
      "[CV 4/5] END knn_regression__n_neighbors=2, knn_regression__weights=uniform;, score=-37.711 total time=   0.0s\n",
      "[CV 5/5] END knn_regression__n_neighbors=2, knn_regression__weights=uniform;, score=-38.404 total time=   0.0s\n",
      "[CV 1/5] END knn_regression__n_neighbors=2, knn_regression__weights=distance;, score=-37.544 total time=   0.0s\n",
      "[CV 2/5] END knn_regression__n_neighbors=2, knn_regression__weights=distance;, score=-36.708 total time=   0.0s\n",
      "[CV 3/5] END knn_regression__n_neighbors=2, knn_regression__weights=distance;, score=-35.889 total time=   0.0s\n",
      "[CV 4/5] END knn_regression__n_neighbors=2, knn_regression__weights=distance;, score=-37.690 total time=   0.0s\n",
      "[CV 5/5] END knn_regression__n_neighbors=2, knn_regression__weights=distance;, score=-38.540 total time=   0.0s\n",
      "[CV 1/5] END knn_regression__n_neighbors=5, knn_regression__weights=uniform;, score=-33.734 total time=   0.0s\n",
      "[CV 2/5] END knn_regression__n_neighbors=5, knn_regression__weights=uniform;, score=-31.776 total time=   0.0s\n",
      "[CV 3/5] END knn_regression__n_neighbors=5, knn_regression__weights=uniform;, score=-32.122 total time=   0.0s\n",
      "[CV 4/5] END knn_regression__n_neighbors=5, knn_regression__weights=uniform;, score=-33.906 total time=   0.0s\n",
      "[CV 5/5] END knn_regression__n_neighbors=5, knn_regression__weights=uniform;, score=-35.836 total time=   0.0s\n",
      "[CV 1/5] END knn_regression__n_neighbors=5, knn_regression__weights=distance;, score=-33.674 total time=   0.0s\n",
      "[CV 2/5] END knn_regression__n_neighbors=5, knn_regression__weights=distance;, score=-31.855 total time=   0.0s\n",
      "[CV 3/5] END knn_regression__n_neighbors=5, knn_regression__weights=distance;, score=-32.055 total time=   0.0s\n",
      "[CV 4/5] END knn_regression__n_neighbors=5, knn_regression__weights=distance;, score=-33.853 total time=   0.0s\n",
      "[CV 5/5] END knn_regression__n_neighbors=5, knn_regression__weights=distance;, score=-35.763 total time=   0.0s\n",
      "[CV 1/5] END knn_regression__n_neighbors=10, knn_regression__weights=uniform;, score=-31.997 total time=   0.0s\n",
      "[CV 2/5] END knn_regression__n_neighbors=10, knn_regression__weights=uniform;, score=-30.602 total time=   0.0s\n",
      "[CV 3/5] END knn_regression__n_neighbors=10, knn_regression__weights=uniform;, score=-30.453 total time=   0.0s\n",
      "[CV 4/5] END knn_regression__n_neighbors=10, knn_regression__weights=uniform;, score=-33.139 total time=   0.0s\n",
      "[CV 5/5] END knn_regression__n_neighbors=10, knn_regression__weights=uniform;, score=-34.395 total time=   0.0s\n",
      "[CV 1/5] END knn_regression__n_neighbors=10, knn_regression__weights=distance;, score=-31.909 total time=   0.0s\n",
      "[CV 2/5] END knn_regression__n_neighbors=10, knn_regression__weights=distance;, score=-30.578 total time=   0.0s\n",
      "[CV 3/5] END knn_regression__n_neighbors=10, knn_regression__weights=distance;, score=-30.458 total time=   0.0s\n",
      "[CV 4/5] END knn_regression__n_neighbors=10, knn_regression__weights=distance;, score=-32.974 total time=   0.0s\n",
      "[CV 5/5] END knn_regression__n_neighbors=10, knn_regression__weights=distance;, score=-34.365 total time=   0.0s\n",
      "[CV 1/5] END knn_regression__n_neighbors=20, knn_regression__weights=uniform;, score=-31.448 total time=   0.0s\n",
      "[CV 2/5] END knn_regression__n_neighbors=20, knn_regression__weights=uniform;, score=-30.602 total time=   0.0s\n",
      "[CV 3/5] END knn_regression__n_neighbors=20, knn_regression__weights=uniform;, score=-30.551 total time=   0.0s\n",
      "[CV 4/5] END knn_regression__n_neighbors=20, knn_regression__weights=uniform;, score=-33.138 total time=   0.0s\n",
      "[CV 5/5] END knn_regression__n_neighbors=20, knn_regression__weights=uniform;, score=-33.412 total time=   0.0s\n",
      "[CV 1/5] END knn_regression__n_neighbors=20, knn_regression__weights=distance;, score=-31.332 total time=   0.0s\n",
      "[CV 2/5] END knn_regression__n_neighbors=20, knn_regression__weights=distance;, score=-30.419 total time=   0.0s\n",
      "[CV 3/5] END knn_regression__n_neighbors=20, knn_regression__weights=distance;, score=-30.386 total time=   0.0s\n",
      "[CV 4/5] END knn_regression__n_neighbors=20, knn_regression__weights=distance;, score=-32.924 total time=   0.0s\n",
      "[CV 5/5] END knn_regression__n_neighbors=20, knn_regression__weights=distance;, score=-33.385 total time=   0.0s\n",
      "[CV 1/5] END knn_regression__n_neighbors=50, knn_regression__weights=uniform;, score=-31.241 total time=   0.0s\n",
      "[CV 2/5] END knn_regression__n_neighbors=50, knn_regression__weights=uniform;, score=-30.727 total time=   0.0s\n",
      "[CV 3/5] END knn_regression__n_neighbors=50, knn_regression__weights=uniform;, score=-30.879 total time=   0.0s\n",
      "[CV 4/5] END knn_regression__n_neighbors=50, knn_regression__weights=uniform;, score=-32.818 total time=   0.0s\n",
      "[CV 5/5] END knn_regression__n_neighbors=50, knn_regression__weights=uniform;, score=-33.250 total time=   0.0s\n",
      "[CV 1/5] END knn_regression__n_neighbors=50, knn_regression__weights=distance;, score=-31.110 total time=   0.0s\n",
      "[CV 2/5] END knn_regression__n_neighbors=50, knn_regression__weights=distance;, score=-30.530 total time=   0.0s\n",
      "[CV 3/5] END knn_regression__n_neighbors=50, knn_regression__weights=distance;, score=-30.653 total time=   0.0s\n",
      "[CV 4/5] END knn_regression__n_neighbors=50, knn_regression__weights=distance;, score=-32.670 total time=   0.0s\n",
      "[CV 5/5] END knn_regression__n_neighbors=50, knn_regression__weights=distance;, score=-33.210 total time=   0.0s\n",
      "[CV 1/5] END knn_regression__n_neighbors=100, knn_regression__weights=uniform;, score=-31.586 total time=   0.0s\n",
      "[CV 2/5] END knn_regression__n_neighbors=100, knn_regression__weights=uniform;, score=-30.737 total time=   0.0s\n",
      "[CV 3/5] END knn_regression__n_neighbors=100, knn_regression__weights=uniform;, score=-31.164 total time=   0.0s\n",
      "[CV 4/5] END knn_regression__n_neighbors=100, knn_regression__weights=uniform;, score=-33.075 total time=   0.0s\n",
      "[CV 5/5] END knn_regression__n_neighbors=100, knn_regression__weights=uniform;, score=-33.437 total time=   0.0s\n",
      "[CV 1/5] END knn_regression__n_neighbors=100, knn_regression__weights=distance;, score=-31.396 total time=   0.0s\n",
      "[CV 2/5] END knn_regression__n_neighbors=100, knn_regression__weights=distance;, score=-30.596 total time=   0.0s\n",
      "[CV 3/5] END knn_regression__n_neighbors=100, knn_regression__weights=distance;, score=-30.939 total time=   0.0s\n",
      "[CV 4/5] END knn_regression__n_neighbors=100, knn_regression__weights=distance;, score=-32.899 total time=   0.0s\n",
      "[CV 5/5] END knn_regression__n_neighbors=100, knn_regression__weights=distance;, score=-33.306 total time=   0.0s\n"
     ]
    },
    {
     "data": {
      "text/plain": [
       "{'knn_regression__n_neighbors': 50, 'knn_regression__weights': 'distance'}"
      ]
     },
     "execution_count": 20,
     "metadata": {},
     "output_type": "execute_result"
    }
   ],
   "source": [
    "grid1 = GridSearchCV(knn1,params,scoring='neg_mean_absolute_error',verbose=0)\n",
    "grid1.fit(X_train,y_train)\n",
    "grid1.best_params_"
   ]
  },
  {
   "cell_type": "code",
   "execution_count": 21,
   "id": "2642d878",
   "metadata": {},
   "outputs": [
    {
     "data": {
      "text/plain": [
       "-31.634678286793154"
      ]
     },
     "execution_count": 21,
     "metadata": {},
     "output_type": "execute_result"
    }
   ],
   "source": [
    "grid1.best_score_"
   ]
  },
  {
   "cell_type": "code",
   "execution_count": 23,
   "id": "95083731",
   "metadata": {},
   "outputs": [
    {
     "name": "stdout",
     "output_type": "stream",
     "text": [
      "Mean Absolute error for test set: 31.994752241358416\n"
     ]
    }
   ],
   "source": [
    "y_preds = grid1.predict(X_test)\n",
    "print('Mean Absolute error for test set:',mean_absolute_error(y_test, y_preds))"
   ]
  },
  {
   "cell_type": "markdown",
   "id": "f703cb39",
   "metadata": {},
   "source": [
    "The test and train scores are similar. There doesn't appear to be underfitting.  However that is a large MAE.  In context someone with cholesterol level of 170 may in fact have high cholesterol.    Looking at the plot of residuals.."
   ]
  },
  {
   "cell_type": "code",
   "execution_count": 26,
   "id": "b81974ef",
   "metadata": {},
   "outputs": [
    {
     "data": {
      "text/plain": [
       "<matplotlib.collections.PathCollection at 0x272cdfeafd0>"
      ]
     },
     "execution_count": 26,
     "metadata": {},
     "output_type": "execute_result"
    },
    {
     "data": {
      "image/png": "[encoded data removed]",
      "text/plain": [
       "<Figure size 432x288 with 1 Axes>"
      ]
     },
     "metadata": {
      "needs_background": "light"
     },
     "output_type": "display_data"
    }
   ],
   "source": [
    "residuals = y_preds-y_test\n",
    "plt.scatter(y_test,residuals)"
   ]
  },
  {
   "cell_type": "markdown",
   "id": "430efe37",
   "metadata": {},
   "source": [
    "Notice this is not a good model.  The residuals should be randomly scattered centered at 0"
   ]
  },
  {
   "cell_type": "code",
   "execution_count": 27,
   "id": "1408aba9",
   "metadata": {},
   "outputs": [
    {
     "data": {
      "text/plain": [
       "(array([  1.,   0.,   0.,   2.,   1.,   3.,   4.,  11.,  18.,  23.,  32.,\n",
       "         41.,  61.,  69., 119., 109., 119.,  93.,  74.,  63.,  28.,  19.,\n",
       "          7.,   3.,   3.]),\n",
       " array([-181.60941947, -169.59342372, -157.57742796, -145.56143221,\n",
       "        -133.54543645, -121.5294407 , -109.51344495,  -97.49744919,\n",
       "         -85.48145344,  -73.46545768,  -61.44946193,  -49.43346617,\n",
       "         -37.41747042,  -25.40147466,  -13.38547891,   -1.36948316,\n",
       "          10.6465126 ,   22.66250835,   34.67850411,   46.69449986,\n",
       "          58.71049562,   70.72649137,   82.74248713,   94.75848288,\n",
       "         106.77447863,  118.79047439]),\n",
       " <BarContainer object of 25 artists>)"
      ]
     },
     "execution_count": 27,
     "metadata": {},
     "output_type": "execute_result"
    },
    {
     "data": {
      "image/png": "[encoded data removed]",
      "text/plain": [
       "<Figure size 432x288 with 1 Axes>"
      ]
     },
     "metadata": {
      "needs_background": "light"
     },
     "output_type": "display_data"
    }
   ],
   "source": [
    "plt.hist(residuals,bins=25)"
   ]
  },
  {
   "cell_type": "markdown",
   "id": "95b8f8fa",
   "metadata": {},
   "source": [
    "The histogram of the residuals is left skewed.  "
   ]
  }
 ],
 "metadata": {
  "kernelspec": {
   "display_name": "Python 3",
   "language": "python",
   "name": "python3"
  },
  "language_info": {
   "codemirror_mode": {
    "name": "ipython",
    "version": 3
   },
   "file_extension": ".py",
   "mimetype": "text/x-python",
   "name": "python",
   "nbconvert_exporter": "python",
   "pygments_lexer": "ipython3",
   "version": "3.9.5"
  }
 },
 "nbformat": 4,
 "nbformat_minor": 5
}
