{
 "cells": [
  {
   "cell_type": "code",
   "execution_count": 1,
   "id": "b91be173",
   "metadata": {},
   "outputs": [],
   "source": [
    "import numpy as np\n",
    "import pandas as pd"
   ]
  },
  {
   "cell_type": "code",
   "execution_count": 2,
   "id": "592bee58",
   "metadata": {},
   "outputs": [
    {
     "data": {
      "text/html": [
       "<div>\n",
       "<style scoped>\n",
       "    .dataframe tbody tr th:only-of-type {\n",
       "        vertical-align: middle;\n",
       "    }\n",
       "\n",
       "    .dataframe tbody tr th {\n",
       "        vertical-align: top;\n",
       "    }\n",
       "\n",
       "    .dataframe thead th {\n",
       "        text-align: right;\n",
       "    }\n",
       "</style>\n",
       "<table border=\"1\" class=\"dataframe\">\n",
       "  <thead>\n",
       "    <tr style=\"text-align: right;\">\n",
       "      <th></th>\n",
       "      <th>Unnamed: 0</th>\n",
       "      <th>LBXTC</th>\n",
       "      <th>RIAGENDR</th>\n",
       "      <th>RIDRETH3</th>\n",
       "      <th>RIDAGEYR</th>\n",
       "      <th>BMXWT</th>\n",
       "      <th>BMXHT</th>\n",
       "      <th>BMXBMI</th>\n",
       "      <th>BPXPLS</th>\n",
       "      <th>BPXPULS</th>\n",
       "      <th>...</th>\n",
       "      <th>PAD615</th>\n",
       "      <th>PAQ625</th>\n",
       "      <th>PAD630</th>\n",
       "      <th>PAQ655</th>\n",
       "      <th>PAD660</th>\n",
       "      <th>PAQ670</th>\n",
       "      <th>PAD675</th>\n",
       "      <th>KIQ022</th>\n",
       "      <th>Systolic</th>\n",
       "      <th>Diastolic</th>\n",
       "    </tr>\n",
       "  </thead>\n",
       "  <tbody>\n",
       "    <tr>\n",
       "      <th>0</th>\n",
       "      <td>1</td>\n",
       "      <td>265.0</td>\n",
       "      <td>1.0</td>\n",
       "      <td>3.0</td>\n",
       "      <td>53.0</td>\n",
       "      <td>90.4</td>\n",
       "      <td>171.4</td>\n",
       "      <td>30.8</td>\n",
       "      <td>72.0</td>\n",
       "      <td>1.0</td>\n",
       "      <td>...</td>\n",
       "      <td>0.0</td>\n",
       "      <td>0.0</td>\n",
       "      <td>0.0</td>\n",
       "      <td>0.0</td>\n",
       "      <td>0.0</td>\n",
       "      <td>0.0</td>\n",
       "      <td>0.0</td>\n",
       "      <td>NaN</td>\n",
       "      <td>140.000000</td>\n",
       "      <td>86.000000</td>\n",
       "    </tr>\n",
       "    <tr>\n",
       "      <th>1</th>\n",
       "      <td>2</td>\n",
       "      <td>229.0</td>\n",
       "      <td>1.0</td>\n",
       "      <td>3.0</td>\n",
       "      <td>78.0</td>\n",
       "      <td>83.4</td>\n",
       "      <td>170.1</td>\n",
       "      <td>28.8</td>\n",
       "      <td>56.0</td>\n",
       "      <td>1.0</td>\n",
       "      <td>...</td>\n",
       "      <td>0.0</td>\n",
       "      <td>4.0</td>\n",
       "      <td>240.0</td>\n",
       "      <td>0.0</td>\n",
       "      <td>0.0</td>\n",
       "      <td>0.0</td>\n",
       "      <td>0.0</td>\n",
       "      <td>NaN</td>\n",
       "      <td>135.333333</td>\n",
       "      <td>45.333333</td>\n",
       "    </tr>\n",
       "    <tr>\n",
       "      <th>2</th>\n",
       "      <td>4</td>\n",
       "      <td>204.0</td>\n",
       "      <td>2.0</td>\n",
       "      <td>4.0</td>\n",
       "      <td>42.0</td>\n",
       "      <td>55.2</td>\n",
       "      <td>164.9</td>\n",
       "      <td>20.3</td>\n",
       "      <td>76.0</td>\n",
       "      <td>1.0</td>\n",
       "      <td>...</td>\n",
       "      <td>0.0</td>\n",
       "      <td>7.0</td>\n",
       "      <td>480.0</td>\n",
       "      <td>0.0</td>\n",
       "      <td>0.0</td>\n",
       "      <td>0.0</td>\n",
       "      <td>0.0</td>\n",
       "      <td>NaN</td>\n",
       "      <td>104.000000</td>\n",
       "      <td>60.000000</td>\n",
       "    </tr>\n",
       "    <tr>\n",
       "      <th>3</th>\n",
       "      <td>5</td>\n",
       "      <td>190.0</td>\n",
       "      <td>2.0</td>\n",
       "      <td>1.0</td>\n",
       "      <td>72.0</td>\n",
       "      <td>64.4</td>\n",
       "      <td>150.0</td>\n",
       "      <td>28.6</td>\n",
       "      <td>64.0</td>\n",
       "      <td>1.0</td>\n",
       "      <td>...</td>\n",
       "      <td>0.0</td>\n",
       "      <td>0.0</td>\n",
       "      <td>0.0</td>\n",
       "      <td>0.0</td>\n",
       "      <td>0.0</td>\n",
       "      <td>0.0</td>\n",
       "      <td>0.0</td>\n",
       "      <td>NaN</td>\n",
       "      <td>119.333333</td>\n",
       "      <td>58.666667</td>\n",
       "    </tr>\n",
       "    <tr>\n",
       "      <th>4</th>\n",
       "      <td>7</td>\n",
       "      <td>164.0</td>\n",
       "      <td>1.0</td>\n",
       "      <td>4.0</td>\n",
       "      <td>22.0</td>\n",
       "      <td>76.6</td>\n",
       "      <td>165.4</td>\n",
       "      <td>28.0</td>\n",
       "      <td>66.0</td>\n",
       "      <td>1.0</td>\n",
       "      <td>...</td>\n",
       "      <td>0.0</td>\n",
       "      <td>0.0</td>\n",
       "      <td>0.0</td>\n",
       "      <td>2.0</td>\n",
       "      <td>60.0</td>\n",
       "      <td>0.0</td>\n",
       "      <td>0.0</td>\n",
       "      <td>NaN</td>\n",
       "      <td>111.333333</td>\n",
       "      <td>72.666667</td>\n",
       "    </tr>\n",
       "  </tbody>\n",
       "</table>\n",
       "<p>5 rows × 47 columns</p>\n",
       "</div>"
      ],
      "text/plain": [
       "   Unnamed: 0  LBXTC  RIAGENDR  RIDRETH3  RIDAGEYR  BMXWT  BMXHT  BMXBMI  \\\n",
       "0           1  265.0       1.0       3.0      53.0   90.4  171.4    30.8   \n",
       "1           2  229.0       1.0       3.0      78.0   83.4  170.1    28.8   \n",
       "2           4  204.0       2.0       4.0      42.0   55.2  164.9    20.3   \n",
       "3           5  190.0       2.0       1.0      72.0   64.4  150.0    28.6   \n",
       "4           7  164.0       1.0       4.0      22.0   76.6  165.4    28.0   \n",
       "\n",
       "   BPXPLS  BPXPULS  ...  PAD615  PAQ625  PAD630  PAQ655  PAD660  PAQ670  \\\n",
       "0    72.0      1.0  ...     0.0     0.0     0.0     0.0     0.0     0.0   \n",
       "1    56.0      1.0  ...     0.0     4.0   240.0     0.0     0.0     0.0   \n",
       "2    76.0      1.0  ...     0.0     7.0   480.0     0.0     0.0     0.0   \n",
       "3    64.0      1.0  ...     0.0     0.0     0.0     0.0     0.0     0.0   \n",
       "4    66.0      1.0  ...     0.0     0.0     0.0     2.0    60.0     0.0   \n",
       "\n",
       "   PAD675  KIQ022    Systolic  Diastolic  \n",
       "0     0.0     NaN  140.000000  86.000000  \n",
       "1     0.0     NaN  135.333333  45.333333  \n",
       "2     0.0     NaN  104.000000  60.000000  \n",
       "3     0.0     NaN  119.333333  58.666667  \n",
       "4     0.0     NaN  111.333333  72.666667  \n",
       "\n",
       "[5 rows x 47 columns]"
      ]
     },
     "execution_count": 2,
     "metadata": {},
     "output_type": "execute_result"
    }
   ],
   "source": [
    "df = pd.read_csv('../Data/df_processed.csv')\n",
    "df.head()"
   ]
  },
  {
   "cell_type": "code",
   "execution_count": 3,
   "id": "88f7d287",
   "metadata": {},
   "outputs": [
    {
     "data": {
      "text/plain": [
       "Index(['Unnamed: 0', 'LBXTC', 'RIAGENDR', 'RIDRETH3', 'RIDAGEYR', 'BMXWT',\n",
       "       'BMXHT', 'BMXBMI', 'BPXPLS', 'BPXPULS', 'DR1TKCAL', 'DR1TPROT',\n",
       "       'DR1TCARB', 'DR1TSUGR', 'DR1TFIBE', 'DR1TTFAT', 'DR1TSFAT', 'DR1TMFAT',\n",
       "       'DR1TPFAT', 'DR1TCHOL', 'DR1TSODI', 'DR1TVD', 'DR1TCALC', 'DR1TIRON',\n",
       "       'DR1TPOTA', 'DR1_300', 'ALQ120Q', 'ALQ120U', 'ALQ130', 'BPQ020',\n",
       "       'BPQ050A', 'BPQ080', 'BPQ100D', 'DIQ010', 'MCQ170M', 'SMQ681', 'PAQ610',\n",
       "       'PAD615', 'PAQ625', 'PAD630', 'PAQ655', 'PAD660', 'PAQ670', 'PAD675',\n",
       "       'KIQ022', 'Systolic', 'Diastolic'],\n",
       "      dtype='object')"
      ]
     },
     "execution_count": 3,
     "metadata": {},
     "output_type": "execute_result"
    }
   ],
   "source": [
    "df.columns"
   ]
  },
  {
   "cell_type": "code",
   "execution_count": 4,
   "id": "2008c9d1",
   "metadata": {},
   "outputs": [],
   "source": [
    "df.drop('Unnamed: 0',axis=1,inplace=True)"
   ]
  },
  {
   "cell_type": "code",
   "execution_count": 5,
   "id": "23bc145c",
   "metadata": {},
   "outputs": [
    {
     "data": {
      "text/plain": [
       "Int64Index([ 743,  535,  895,   37,  379,  141,  982, 2092,   65, 1248,\n",
       "            ...\n",
       "            4840, 4257, 3265, 4727, 4692, 2581, 4524, 3044, 3206, 1230],\n",
       "           dtype='int64', length=345)"
      ]
     },
     "execution_count": 5,
     "metadata": {},
     "output_type": "execute_result"
    }
   ],
   "source": [
    "null_rows = (100*df.isnull().sum(axis=1)/df.shape[1]).sort_values(ascending=False)\n",
    "null_rows[null_rows > 25].index"
   ]
  },
  {
   "cell_type": "code",
   "execution_count": 6,
   "id": "8541a069",
   "metadata": {},
   "outputs": [],
   "source": [
    "df.drop(null_rows[null_rows>25].index,axis=0,inplace=True)"
   ]
  },
  {
   "cell_type": "code",
   "execution_count": 7,
   "id": "fc59e5e2",
   "metadata": {},
   "outputs": [
    {
     "data": {
      "text/plain": [
       "KIQ022    49.098325\n",
       "dtype: float64"
      ]
     },
     "execution_count": 7,
     "metadata": {},
     "output_type": "execute_result"
    }
   ],
   "source": [
    "null_cols = (100*df.isnull().sum(axis=0)/df.shape[0]).sort_values(ascending=False)\n",
    "null_cols[null_cols>25]"
   ]
  },
  {
   "cell_type": "markdown",
   "id": "d392a29a",
   "metadata": {},
   "source": [
    "As the variable regarding Kidney conditions is the only variable with more than a quarter of the data missing, that will be dropped.\n",
    "\n",
    "note to self - go back through the docs and see if the result of a prior question skips over this"
   ]
  },
  {
   "cell_type": "code",
   "execution_count": 8,
   "id": "495982fa",
   "metadata": {},
   "outputs": [],
   "source": [
    "df.drop('KIQ022',axis=1,inplace=True)"
   ]
  },
  {
   "cell_type": "markdown",
   "id": "2fbc4764",
   "metadata": {},
   "source": [
    "## Looking for erroneous data"
   ]
  },
  {
   "cell_type": "code",
   "execution_count": 9,
   "id": "b4a17f8d",
   "metadata": {},
   "outputs": [
    {
     "data": {
      "text/plain": [
       "Index(['LBXTC', 'RIAGENDR', 'RIDRETH3', 'RIDAGEYR', 'BMXWT', 'BMXHT', 'BMXBMI',\n",
       "       'BPXPLS', 'BPXPULS', 'DR1TKCAL', 'DR1TPROT', 'DR1TCARB', 'DR1TSUGR',\n",
       "       'DR1TFIBE', 'DR1TTFAT', 'DR1TSFAT', 'DR1TMFAT', 'DR1TPFAT', 'DR1TCHOL',\n",
       "       'DR1TSODI', 'DR1TVD', 'DR1TCALC', 'DR1TIRON', 'DR1TPOTA', 'DR1_300',\n",
       "       'ALQ120Q', 'ALQ120U', 'ALQ130', 'BPQ020', 'BPQ050A', 'BPQ080',\n",
       "       'BPQ100D', 'DIQ010', 'MCQ170M', 'SMQ681', 'PAQ610', 'PAD615', 'PAQ625',\n",
       "       'PAD630', 'PAQ655', 'PAD660', 'PAQ670', 'PAD675', 'Systolic',\n",
       "       'Diastolic'],\n",
       "      dtype='object')"
      ]
     },
     "execution_count": 9,
     "metadata": {},
     "output_type": "execute_result"
    }
   ],
   "source": [
    "df.columns"
   ]
  },
  {
   "cell_type": "code",
   "execution_count": 10,
   "id": "86d04fd0",
   "metadata": {},
   "outputs": [
    {
     "data": {
      "text/plain": [
       "count    4658.000000\n",
       "mean      189.365608\n",
       "std        41.900601\n",
       "min        69.000000\n",
       "25%       160.000000\n",
       "50%       186.000000\n",
       "75%       213.000000\n",
       "max       612.000000\n",
       "Name: LBXTC, dtype: float64"
      ]
     },
     "execution_count": 10,
     "metadata": {},
     "output_type": "execute_result"
    }
   ],
   "source": [
    "df.LBXTC.describe()"
   ]
  },
  {
   "cell_type": "markdown",
   "id": "c9abe425",
   "metadata": {},
   "source": [
    "Although the max is large, there doesn't appear to be an errors.  I'll have to figure out what I want to do with outliers."
   ]
  },
  {
   "cell_type": "code",
   "execution_count": 11,
   "id": "15287ac4",
   "metadata": {},
   "outputs": [
    {
     "data": {
      "text/plain": [
       "array([1., 2.])"
      ]
     },
     "execution_count": 11,
     "metadata": {},
     "output_type": "execute_result"
    }
   ],
   "source": [
    "df.RIAGENDR.unique()"
   ]
  },
  {
   "cell_type": "code",
   "execution_count": 12,
   "id": "63a6a13e",
   "metadata": {},
   "outputs": [
    {
     "data": {
      "text/plain": [
       "array([3., 4., 1., 7., 2., 6.])"
      ]
     },
     "execution_count": 12,
     "metadata": {},
     "output_type": "execute_result"
    }
   ],
   "source": [
    "df.RIDRETH3.unique()"
   ]
  },
  {
   "cell_type": "code",
   "execution_count": 13,
   "id": "4de895d6",
   "metadata": {},
   "outputs": [
    {
     "data": {
      "text/plain": [
       "count    4658.000000\n",
       "mean       49.384714\n",
       "std        17.424684\n",
       "min        20.000000\n",
       "25%        34.250000\n",
       "50%        49.000000\n",
       "75%        63.000000\n",
       "max        80.000000\n",
       "Name: RIDAGEYR, dtype: float64"
      ]
     },
     "execution_count": 13,
     "metadata": {},
     "output_type": "execute_result"
    }
   ],
   "source": [
    "df.RIDAGEYR.describe()"
   ]
  },
  {
   "cell_type": "code",
   "execution_count": 14,
   "id": "45fe7f2f",
   "metadata": {},
   "outputs": [
    {
     "data": {
      "text/plain": [
       "count    4635.000000\n",
       "mean       82.320820\n",
       "std        22.088128\n",
       "min        32.300000\n",
       "25%        66.800000\n",
       "50%        78.900000\n",
       "75%        93.850000\n",
       "max       198.900000\n",
       "Name: BMXWT, dtype: float64"
      ]
     },
     "execution_count": 14,
     "metadata": {},
     "output_type": "execute_result"
    }
   ],
   "source": [
    "df.BMXWT.describe()"
   ]
  },
  {
   "cell_type": "code",
   "execution_count": 15,
   "id": "8372d379",
   "metadata": {},
   "outputs": [
    {
     "data": {
      "text/plain": [
       "count    4633.000000\n",
       "mean      167.099426\n",
       "std         9.986096\n",
       "min       137.600000\n",
       "25%       159.800000\n",
       "50%       166.800000\n",
       "75%       174.300000\n",
       "max       202.700000\n",
       "Name: BMXHT, dtype: float64"
      ]
     },
     "execution_count": 15,
     "metadata": {},
     "output_type": "execute_result"
    }
   ],
   "source": [
    "df.BMXHT.describe()"
   ]
  },
  {
   "cell_type": "code",
   "execution_count": 16,
   "id": "171d70ed",
   "metadata": {},
   "outputs": [
    {
     "data": {
      "text/plain": [
       "count    4627.000000\n",
       "mean       29.398617\n",
       "std         7.164954\n",
       "min        14.500000\n",
       "25%        24.300000\n",
       "50%        28.200000\n",
       "75%        33.000000\n",
       "max        70.100000\n",
       "Name: BMXBMI, dtype: float64"
      ]
     },
     "execution_count": 16,
     "metadata": {},
     "output_type": "execute_result"
    }
   ],
   "source": [
    "df.BMXBMI.describe()"
   ]
  },
  {
   "cell_type": "code",
   "execution_count": 17,
   "id": "e0888090",
   "metadata": {},
   "outputs": [
    {
     "data": {
      "text/plain": [
       "count    4581.000000\n",
       "mean       71.765990\n",
       "std        11.594054\n",
       "min        36.000000\n",
       "25%        64.000000\n",
       "50%        70.000000\n",
       "75%        78.000000\n",
       "max       160.000000\n",
       "Name: BPXPLS, dtype: float64"
      ]
     },
     "execution_count": 17,
     "metadata": {},
     "output_type": "execute_result"
    }
   ],
   "source": [
    "df.BPXPLS.describe()"
   ]
  },
  {
   "cell_type": "code",
   "execution_count": 18,
   "id": "75bfdeab",
   "metadata": {},
   "outputs": [
    {
     "data": {
      "text/plain": [
       "array([ 1.,  2., nan])"
      ]
     },
     "execution_count": 18,
     "metadata": {},
     "output_type": "execute_result"
    }
   ],
   "source": [
    "df.BPXPULS.unique()"
   ]
  },
  {
   "cell_type": "code",
   "execution_count": 19,
   "id": "e4a7d8ea",
   "metadata": {},
   "outputs": [
    {
     "data": {
      "text/plain": [
       "count     4658.000000\n",
       "mean      2091.592744\n",
       "std        986.841250\n",
       "min        117.000000\n",
       "25%       1435.000000\n",
       "50%       1935.500000\n",
       "75%       2555.750000\n",
       "max      12108.000000\n",
       "Name: DR1TKCAL, dtype: float64"
      ]
     },
     "execution_count": 19,
     "metadata": {},
     "output_type": "execute_result"
    }
   ],
   "source": [
    "df.DR1TKCAL.describe()"
   ]
  },
  {
   "cell_type": "code",
   "execution_count": 20,
   "id": "622c879f",
   "metadata": {},
   "outputs": [
    {
     "data": {
      "text/plain": [
       "count    4.658000e+03\n",
       "mean     8.192210e+01\n",
       "std      4.403831e+01\n",
       "min      5.397605e-79\n",
       "25%      5.233250e+01\n",
       "50%      7.386500e+01\n",
       "75%      1.013775e+02\n",
       "max      5.131000e+02\n",
       "Name: DR1TPROT, dtype: float64"
      ]
     },
     "execution_count": 20,
     "metadata": {},
     "output_type": "execute_result"
    }
   ],
   "source": [
    "df.DR1TPROT.describe()"
   ]
  },
  {
   "cell_type": "markdown",
   "id": "3c9fc314",
   "metadata": {},
   "source": [
    "For protein amount, a value of 5.397e-79 seems to be a mistake.  I'm replacing all values less than 1 with 0"
   ]
  },
  {
   "cell_type": "code",
   "execution_count": 21,
   "id": "694808c0",
   "metadata": {},
   "outputs": [
    {
     "data": {
      "text/plain": [
       "count    4658.000000\n",
       "mean       81.922102\n",
       "std        44.038307\n",
       "min         0.000000\n",
       "25%        52.332500\n",
       "50%        73.865000\n",
       "75%       101.377500\n",
       "max       513.100000\n",
       "Name: DR1TPROT, dtype: float64"
      ]
     },
     "execution_count": 21,
     "metadata": {},
     "output_type": "execute_result"
    }
   ],
   "source": [
    "df.loc[df.DR1TPROT<1,'DR1TPROT']=0\n",
    "df.DR1TPROT.describe()"
   ]
  },
  {
   "cell_type": "code",
   "execution_count": 22,
   "id": "91afefc7",
   "metadata": {},
   "outputs": [
    {
     "data": {
      "text/plain": [
       "count    4658.000000\n",
       "mean      247.133828\n",
       "std       123.387580\n",
       "min         8.670000\n",
       "25%       162.582500\n",
       "50%       227.485000\n",
       "75%       308.275000\n",
       "max      1423.870000\n",
       "Name: DR1TCARB, dtype: float64"
      ]
     },
     "execution_count": 22,
     "metadata": {},
     "output_type": "execute_result"
    }
   ],
   "source": [
    "df.DR1TCARB.describe()"
   ]
  },
  {
   "cell_type": "code",
   "execution_count": 23,
   "id": "527ac340",
   "metadata": {},
   "outputs": [
    {
     "data": {
      "text/plain": [
       "count    4658.000000\n",
       "mean      105.321627\n",
       "std        74.766506\n",
       "min         0.130000\n",
       "25%        55.112500\n",
       "50%        90.615000\n",
       "75%       138.465000\n",
       "max      1115.500000\n",
       "Name: DR1TSUGR, dtype: float64"
      ]
     },
     "execution_count": 23,
     "metadata": {},
     "output_type": "execute_result"
    }
   ],
   "source": [
    "df.DR1TSUGR.describe()"
   ]
  },
  {
   "cell_type": "code",
   "execution_count": 24,
   "id": "435e889f",
   "metadata": {},
   "outputs": [
    {
     "data": {
      "text/plain": [
       "count    4.658000e+03\n",
       "mean     1.687106e+01\n",
       "std      1.082425e+01\n",
       "min      5.397605e-79\n",
       "25%      9.500000e+00\n",
       "50%      1.450000e+01\n",
       "75%      2.160000e+01\n",
       "max      1.363000e+02\n",
       "Name: DR1TFIBE, dtype: float64"
      ]
     },
     "execution_count": 24,
     "metadata": {},
     "output_type": "execute_result"
    }
   ],
   "source": [
    "df.DR1TFIBE.describe()"
   ]
  },
  {
   "cell_type": "markdown",
   "id": "666ec79a",
   "metadata": {},
   "source": [
    "Again, extremely small min values"
   ]
  },
  {
   "cell_type": "code",
   "execution_count": 25,
   "id": "75182c35",
   "metadata": {},
   "outputs": [
    {
     "data": {
      "text/plain": [
       "17"
      ]
     },
     "execution_count": 25,
     "metadata": {},
     "output_type": "execute_result"
    }
   ],
   "source": [
    "sum(df.DR1TFIBE<1)"
   ]
  },
  {
   "cell_type": "markdown",
   "id": "901ab3df",
   "metadata": {},
   "source": [
    "This time there appears to be more small values, taking a look at these"
   ]
  },
  {
   "cell_type": "code",
   "execution_count": 26,
   "id": "09ed2494",
   "metadata": {},
   "outputs": [
    {
     "data": {
      "text/plain": [
       "261     3.000000e-01\n",
       "359     7.000000e-01\n",
       "737     4.000000e-01\n",
       "835     7.000000e-01\n",
       "963     5.397605e-79\n",
       "1406    1.000000e-01\n",
       "1952    4.000000e-01\n",
       "2483    8.000000e-01\n",
       "2490    5.000000e-01\n",
       "2890    5.397605e-79\n",
       "3168    2.000000e-01\n",
       "3316    4.000000e-01\n",
       "3584    8.000000e-01\n",
       "3724    5.397605e-79\n",
       "3979    5.397605e-79\n",
       "4053    3.000000e-01\n",
       "4853    4.000000e-01\n",
       "Name: DR1TFIBE, dtype: float64"
      ]
     },
     "execution_count": 26,
     "metadata": {},
     "output_type": "execute_result"
    }
   ],
   "source": [
    "df[df.DR1TFIBE<1]['DR1TFIBE']"
   ]
  },
  {
   "cell_type": "markdown",
   "id": "5cb7a7e1",
   "metadata": {},
   "source": [
    "Values of 0.2 may be reasonable, but anything less than 0.01 is probably an error."
   ]
  },
  {
   "cell_type": "code",
   "execution_count": 27,
   "id": "359ec54e",
   "metadata": {},
   "outputs": [
    {
     "data": {
      "text/plain": [
       "963     5.397605e-79\n",
       "2890    5.397605e-79\n",
       "3724    5.397605e-79\n",
       "3979    5.397605e-79\n",
       "Name: DR1TFIBE, dtype: float64"
      ]
     },
     "execution_count": 27,
     "metadata": {},
     "output_type": "execute_result"
    }
   ],
   "source": [
    "df[df.DR1TFIBE<0.05]['DR1TFIBE']"
   ]
  },
  {
   "cell_type": "code",
   "execution_count": 28,
   "id": "ae950ed0",
   "metadata": {},
   "outputs": [],
   "source": [
    "df.loc[df.DR1TFIBE<0.05,'DR1TFIBE']=0"
   ]
  },
  {
   "cell_type": "code",
   "execution_count": 29,
   "id": "873ab580",
   "metadata": {},
   "outputs": [
    {
     "data": {
      "text/plain": [
       "count    4658.000000\n",
       "mean       16.871061\n",
       "std        10.824250\n",
       "min         0.000000\n",
       "25%         9.500000\n",
       "50%        14.500000\n",
       "75%        21.600000\n",
       "max       136.300000\n",
       "Name: DR1TFIBE, dtype: float64"
      ]
     },
     "execution_count": 29,
     "metadata": {},
     "output_type": "execute_result"
    }
   ],
   "source": [
    "df.DR1TFIBE.describe()"
   ]
  },
  {
   "cell_type": "code",
   "execution_count": 31,
   "id": "0ce57c37",
   "metadata": {},
   "outputs": [
    {
     "data": {
      "text/plain": [
       "count    4.658000e+03\n",
       "mean     8.172349e+01\n",
       "std      4.746392e+01\n",
       "min      5.397605e-79\n",
       "25%      4.997000e+01\n",
       "50%      7.378500e+01\n",
       "75%      1.030075e+02\n",
       "max      5.483800e+02\n",
       "Name: DR1TTFAT, dtype: float64"
      ]
     },
     "execution_count": 31,
     "metadata": {},
     "output_type": "execute_result"
    }
   ],
   "source": [
    "df.DR1TTFAT.describe()"
   ]
  },
  {
   "cell_type": "markdown",
   "id": "9b357968",
   "metadata": {},
   "source": [
    "Again very small values that may be errors"
   ]
  },
  {
   "cell_type": "code",
   "execution_count": 32,
   "id": "0cb1b308",
   "metadata": {},
   "outputs": [
    {
     "data": {
      "text/plain": [
       "3979    5.397605e-79\n",
       "Name: DR1TTFAT, dtype: float64"
      ]
     },
     "execution_count": 32,
     "metadata": {},
     "output_type": "execute_result"
    }
   ],
   "source": [
    "df[df.DR1TTFAT<0.1]['DR1TTFAT']"
   ]
  },
  {
   "cell_type": "code",
   "execution_count": 33,
   "id": "3b63ff08",
   "metadata": {},
   "outputs": [
    {
     "data": {
      "text/plain": [
       "count    4658.000000\n",
       "mean       81.723486\n",
       "std        47.463920\n",
       "min         0.000000\n",
       "25%        49.970000\n",
       "50%        73.785000\n",
       "75%       103.007500\n",
       "max       548.380000\n",
       "Name: DR1TTFAT, dtype: float64"
      ]
     },
     "execution_count": 33,
     "metadata": {},
     "output_type": "execute_result"
    }
   ],
   "source": [
    "df.loc[df.DR1TTFAT<0.1,'DR1TTFAT']=0\n",
    "df.DR1TTFAT.describe()"
   ]
  },
  {
   "cell_type": "code",
   "execution_count": 34,
   "id": "e0f70651",
   "metadata": {},
   "outputs": [
    {
     "data": {
      "text/plain": [
       "count    4.658000e+03\n",
       "mean     2.621632e+01\n",
       "std      1.654159e+01\n",
       "min      5.397605e-79\n",
       "25%      1.497900e+01\n",
       "50%      2.292800e+01\n",
       "75%      3.379300e+01\n",
       "max      1.774670e+02\n",
       "Name: DR1TSFAT, dtype: float64"
      ]
     },
     "execution_count": 34,
     "metadata": {},
     "output_type": "execute_result"
    }
   ],
   "source": [
    "df.DR1TSFAT.describe()"
   ]
  },
  {
   "cell_type": "markdown",
   "id": "04cb8834",
   "metadata": {},
   "source": [
    "For the rest of the nutrient information, I'm going to go through the values and anything less than 0.01 I'm replacing with 0"
   ]
  },
  {
   "cell_type": "code",
   "execution_count": 37,
   "id": "254d3571",
   "metadata": {},
   "outputs": [],
   "source": [
    "for x in ['DR1TSFAT','DR1TMFAT', 'DR1TPFAT', 'DR1TCHOL','DR1TSODI', 'DR1TVD', 'DR1TCALC', 'DR1TIRON', 'DR1TPOTA']:\n",
    "    df.loc[df[x]<0.01,x]=0"
   ]
  },
  {
   "cell_type": "code",
   "execution_count": 38,
   "id": "15b84f5b",
   "metadata": {},
   "outputs": [
    {
     "data": {
      "text/plain": [
       "count    4658.000000\n",
       "mean       26.216316\n",
       "std        16.541587\n",
       "min         0.000000\n",
       "25%        14.979000\n",
       "50%        22.928000\n",
       "75%        33.793000\n",
       "max       177.467000\n",
       "Name: DR1TSFAT, dtype: float64"
      ]
     },
     "execution_count": 38,
     "metadata": {},
     "output_type": "execute_result"
    }
   ],
   "source": [
    "df.DR1TSFAT.describe()"
   ]
  },
  {
   "cell_type": "code",
   "execution_count": 39,
   "id": "79d06aed",
   "metadata": {},
   "outputs": [
    {
     "data": {
      "text/plain": [
       "count    4658.000000\n",
       "mean       28.809978\n",
       "std        17.783049\n",
       "min         0.000000\n",
       "25%        16.993000\n",
       "50%        25.572000\n",
       "75%        36.558000\n",
       "max       221.673000\n",
       "Name: DR1TMFAT, dtype: float64"
      ]
     },
     "execution_count": 39,
     "metadata": {},
     "output_type": "execute_result"
    }
   ],
   "source": [
    "df.DR1TMFAT.describe()"
   ]
  },
  {
   "cell_type": "code",
   "execution_count": 40,
   "id": "61c387a3",
   "metadata": {},
   "outputs": [
    {
     "data": {
      "text/plain": [
       "count    4658.000000\n",
       "mean       19.096201\n",
       "std        13.221963\n",
       "min         0.000000\n",
       "25%        10.207000\n",
       "50%        16.409000\n",
       "75%        24.555250\n",
       "max       182.462000\n",
       "Name: DR1TPFAT, dtype: float64"
      ]
     },
     "execution_count": 40,
     "metadata": {},
     "output_type": "execute_result"
    }
   ],
   "source": [
    "df.DR1TPFAT.describe()"
   ]
  },
  {
   "cell_type": "code",
   "execution_count": 41,
   "id": "d64bfddf",
   "metadata": {},
   "outputs": [
    {
     "data": {
      "text/plain": [
       "count    4658.000000\n",
       "mean      300.318592\n",
       "std       239.314287\n",
       "min         0.000000\n",
       "25%       134.000000\n",
       "50%       232.500000\n",
       "75%       408.000000\n",
       "max      2352.000000\n",
       "Name: DR1TCHOL, dtype: float64"
      ]
     },
     "execution_count": 41,
     "metadata": {},
     "output_type": "execute_result"
    }
   ],
   "source": [
    "df.DR1TCHOL.describe()"
   ]
  },
  {
   "cell_type": "code",
   "execution_count": 42,
   "id": "f1c5da55",
   "metadata": {},
   "outputs": [
    {
     "data": {
      "text/plain": [
       "count     4658.000000\n",
       "mean      3504.799699\n",
       "std       1846.270129\n",
       "min         29.000000\n",
       "25%       2249.250000\n",
       "50%       3175.500000\n",
       "75%       4354.000000\n",
       "max      21399.000000\n",
       "Name: DR1TSODI, dtype: float64"
      ]
     },
     "execution_count": 42,
     "metadata": {},
     "output_type": "execute_result"
    }
   ],
   "source": [
    "df.DR1TSODI.describe()"
   ]
  },
  {
   "cell_type": "code",
   "execution_count": 43,
   "id": "ea469ee0",
   "metadata": {},
   "outputs": [
    {
     "data": {
      "text/plain": [
       "count    4658.000000\n",
       "mean        4.512774\n",
       "std         6.117031\n",
       "min         0.000000\n",
       "25%         1.000000\n",
       "50%         2.800000\n",
       "75%         5.700000\n",
       "max        78.100000\n",
       "Name: DR1TVD, dtype: float64"
      ]
     },
     "execution_count": 43,
     "metadata": {},
     "output_type": "execute_result"
    }
   ],
   "source": [
    "df.DR1TVD.describe()"
   ]
  },
  {
   "cell_type": "code",
   "execution_count": 44,
   "id": "e4448c81",
   "metadata": {},
   "outputs": [
    {
     "data": {
      "text/plain": [
       "count    4658.000000\n",
       "mean      905.994418\n",
       "std       583.691597\n",
       "min        18.000000\n",
       "25%       502.250000\n",
       "50%       787.000000\n",
       "75%      1152.000000\n",
       "max      7337.000000\n",
       "Name: DR1TCALC, dtype: float64"
      ]
     },
     "execution_count": 44,
     "metadata": {},
     "output_type": "execute_result"
    }
   ],
   "source": [
    "df.DR1TCALC.describe()"
   ]
  },
  {
   "cell_type": "code",
   "execution_count": 45,
   "id": "2ab265fb",
   "metadata": {},
   "outputs": [
    {
     "data": {
      "text/plain": [
       "count    4658.000000\n",
       "mean       13.845676\n",
       "std         8.008605\n",
       "min         0.050000\n",
       "25%         8.400000\n",
       "50%        12.140000\n",
       "75%        17.617500\n",
       "max        89.550000\n",
       "Name: DR1TIRON, dtype: float64"
      ]
     },
     "execution_count": 45,
     "metadata": {},
     "output_type": "execute_result"
    }
   ],
   "source": [
    "df.DR1TIRON.describe()"
   ]
  },
  {
   "cell_type": "code",
   "execution_count": 46,
   "id": "313d9bbb",
   "metadata": {},
   "outputs": [
    {
     "data": {
      "text/plain": [
       "count     4658.000000\n",
       "mean      2554.786818\n",
       "std       1217.403526\n",
       "min         68.000000\n",
       "25%       1695.250000\n",
       "50%       2384.000000\n",
       "75%       3218.750000\n",
       "max      14072.000000\n",
       "Name: DR1TPOTA, dtype: float64"
      ]
     },
     "execution_count": 46,
     "metadata": {},
     "output_type": "execute_result"
    }
   ],
   "source": [
    "df.DR1TPOTA.describe()"
   ]
  },
  {
   "cell_type": "code",
   "execution_count": 47,
   "id": "a944345d",
   "metadata": {},
   "outputs": [
    {
     "data": {
      "text/plain": [
       "array([2., 1., 3., 9.])"
      ]
     },
     "execution_count": 47,
     "metadata": {},
     "output_type": "execute_result"
    }
   ],
   "source": [
    "df.DR1_300.unique()\n",
    "# I do need to adjust for those with values of 9, don't know"
   ]
  },
  {
   "cell_type": "code",
   "execution_count": 48,
   "id": "65fab193",
   "metadata": {},
   "outputs": [],
   "source": [
    "df.loc[df.DR1_300==9,'DR1_300']=np.nan"
   ]
  },
  {
   "cell_type": "code",
   "execution_count": 49,
   "id": "b2dd9105",
   "metadata": {},
   "outputs": [
    {
     "data": {
      "text/plain": [
       "count    4.456000e+03\n",
       "mean     2.847172e+00\n",
       "std      1.246271e+01\n",
       "min      0.000000e+00\n",
       "25%      5.397605e-79\n",
       "50%      1.000000e+00\n",
       "75%      3.000000e+00\n",
       "max      3.650000e+02\n",
       "Name: ALQ120Q, dtype: float64"
      ]
     },
     "execution_count": 49,
     "metadata": {},
     "output_type": "execute_result"
    }
   ],
   "source": [
    "df.ALQ120Q.describe()"
   ]
  },
  {
   "cell_type": "markdown",
   "id": "d7e41a0d",
   "metadata": {},
   "source": [
    "Again there are many with very small values, replacing them with 0s"
   ]
  },
  {
   "cell_type": "code",
   "execution_count": 50,
   "id": "e0ae2052",
   "metadata": {},
   "outputs": [
    {
     "data": {
      "text/plain": [
       "count    4456.000000\n",
       "mean        2.847172\n",
       "std        12.462711\n",
       "min         0.000000\n",
       "25%         0.000000\n",
       "50%         1.000000\n",
       "75%         3.000000\n",
       "max       365.000000\n",
       "Name: ALQ120Q, dtype: float64"
      ]
     },
     "execution_count": 50,
     "metadata": {},
     "output_type": "execute_result"
    }
   ],
   "source": [
    "df.loc[df.ALQ120Q<0.01,'ALQ120Q']=0\n",
    "df.ALQ120Q.describe()"
   ]
  },
  {
   "cell_type": "code",
   "execution_count": 51,
   "id": "9e5e05ce",
   "metadata": {},
   "outputs": [
    {
     "data": {
      "text/plain": [
       "array([ 1., nan,  3.,  2.])"
      ]
     },
     "execution_count": 51,
     "metadata": {},
     "output_type": "execute_result"
    }
   ],
   "source": [
    "df.ALQ120U.unique()"
   ]
  },
  {
   "cell_type": "code",
   "execution_count": 52,
   "id": "f09f05bf",
   "metadata": {},
   "outputs": [
    {
     "data": {
      "text/plain": [
       "count    3700.00000\n",
       "mean        2.20000\n",
       "std         2.40943\n",
       "min         0.00000\n",
       "25%         1.00000\n",
       "50%         2.00000\n",
       "75%         3.00000\n",
       "max        25.00000\n",
       "Name: ALQ130, dtype: float64"
      ]
     },
     "execution_count": 52,
     "metadata": {},
     "output_type": "execute_result"
    }
   ],
   "source": [
    "df.ALQ130.describe()"
   ]
  },
  {
   "cell_type": "markdown",
   "id": "80dbb8df",
   "metadata": {},
   "source": [
    "Since the min is 0, checking to see if there are any less than 0.01 but greater than 0..."
   ]
  },
  {
   "cell_type": "code",
   "execution_count": 54,
   "id": "59f26276",
   "metadata": {},
   "outputs": [
    {
     "data": {
      "text/plain": [
       "(0, 45)"
      ]
     },
     "execution_count": 54,
     "metadata": {},
     "output_type": "execute_result"
    }
   ],
   "source": [
    "df[(df.ALQ130>0)&(df.ALQ130<0.01)].shape"
   ]
  },
  {
   "cell_type": "markdown",
   "id": "5a95182d",
   "metadata": {},
   "source": [
    "Apparently not"
   ]
  },
  {
   "cell_type": "code",
   "execution_count": 56,
   "id": "a2ddae82",
   "metadata": {},
   "outputs": [
    {
     "data": {
      "text/plain": [
       "array([ 2.,  1., nan])"
      ]
     },
     "execution_count": 56,
     "metadata": {},
     "output_type": "execute_result"
    }
   ],
   "source": [
    "df.BPQ020.unique()"
   ]
  },
  {
   "cell_type": "code",
   "execution_count": 57,
   "id": "4d3a2038",
   "metadata": {},
   "outputs": [
    {
     "data": {
      "text/plain": [
       "array([ 2.,  1., nan,  9.])"
      ]
     },
     "execution_count": 57,
     "metadata": {},
     "output_type": "execute_result"
    }
   ],
   "source": [
    "df.BPQ050A.unique()"
   ]
  },
  {
   "cell_type": "code",
   "execution_count": 58,
   "id": "9a5f5fc4",
   "metadata": {},
   "outputs": [],
   "source": [
    "# I thought I took care of this, need to look at my code\n",
    "df.loc[df.BPQ050A==9,'BPQ050A']=np.nan\n",
    "# ok, from my code I did not change this, will need to fix that later."
   ]
  },
  {
   "cell_type": "code",
   "execution_count": 59,
   "id": "207e6339",
   "metadata": {},
   "outputs": [
    {
     "data": {
      "text/plain": [
       "Index(['ALQ120Q', 'ALQ120U', 'ALQ130', 'BPQ020', 'BPQ050A', 'BPQ080',\n",
       "       'BPQ100D', 'DIQ010', 'MCQ170M', 'SMQ681', 'PAQ610', 'PAD615', 'PAQ625',\n",
       "       'PAD630', 'PAQ655', 'PAD660', 'PAQ670', 'PAD675', 'Systolic',\n",
       "       'Diastolic'],\n",
       "      dtype='object')"
      ]
     },
     "execution_count": 59,
     "metadata": {},
     "output_type": "execute_result"
    }
   ],
   "source": [
    "df.columns[-20:]"
   ]
  },
  {
   "cell_type": "code",
   "execution_count": 60,
   "id": "d0a4f7a6",
   "metadata": {},
   "outputs": [
    {
     "data": {
      "text/plain": [
       "array([ 2.,  1., nan])"
      ]
     },
     "execution_count": 60,
     "metadata": {},
     "output_type": "execute_result"
    }
   ],
   "source": [
    "df.BPQ080.unique()"
   ]
  },
  {
   "cell_type": "code",
   "execution_count": 62,
   "id": "934c751d",
   "metadata": {},
   "outputs": [
    {
     "data": {
      "text/plain": [
       "array([ 2.,  1., nan,  9.])"
      ]
     },
     "execution_count": 62,
     "metadata": {},
     "output_type": "execute_result"
    }
   ],
   "source": [
    "df.BPQ100D.unique()"
   ]
  },
  {
   "cell_type": "code",
   "execution_count": 63,
   "id": "eb039d61",
   "metadata": {},
   "outputs": [],
   "source": [
    "df.loc[df.BPQ100D==9,'BPQ100D']=np.nan"
   ]
  },
  {
   "cell_type": "code",
   "execution_count": 64,
   "id": "982235b7",
   "metadata": {},
   "outputs": [
    {
     "data": {
      "text/plain": [
       "array([ 2.,  1.,  3., nan])"
      ]
     },
     "execution_count": 64,
     "metadata": {},
     "output_type": "execute_result"
    }
   ],
   "source": [
    "df.DIQ010.unique()"
   ]
  },
  {
   "cell_type": "code",
   "execution_count": 65,
   "id": "da1df3df",
   "metadata": {},
   "outputs": [
    {
     "data": {
      "text/plain": [
       "array([ 2.,  1., nan])"
      ]
     },
     "execution_count": 65,
     "metadata": {},
     "output_type": "execute_result"
    }
   ],
   "source": [
    "df.MCQ170M.unique()"
   ]
  },
  {
   "cell_type": "code",
   "execution_count": 66,
   "id": "d6bbd48a",
   "metadata": {},
   "outputs": [
    {
     "data": {
      "text/plain": [
       "array([ 1.,  2., nan])"
      ]
     },
     "execution_count": 66,
     "metadata": {},
     "output_type": "execute_result"
    }
   ],
   "source": [
    "df.SMQ681.unique()"
   ]
  },
  {
   "cell_type": "code",
   "execution_count": 67,
   "id": "8e6f8af2",
   "metadata": {},
   "outputs": [
    {
     "data": {
      "text/plain": [
       "array([ 0.,  1.,  3.,  2.,  5.,  7.,  4.,  6., nan])"
      ]
     },
     "execution_count": 67,
     "metadata": {},
     "output_type": "execute_result"
    }
   ],
   "source": [
    "df.PAQ610.unique()"
   ]
  },
  {
   "cell_type": "code",
   "execution_count": 68,
   "id": "9073d2a5",
   "metadata": {},
   "outputs": [
    {
     "data": {
      "text/plain": [
       "count    4644.000000\n",
       "mean       37.182386\n",
       "std        99.961609\n",
       "min         0.000000\n",
       "25%         0.000000\n",
       "50%         0.000000\n",
       "75%         0.000000\n",
       "max       840.000000\n",
       "Name: PAD615, dtype: float64"
      ]
     },
     "execution_count": 68,
     "metadata": {},
     "output_type": "execute_result"
    }
   ],
   "source": [
    "df.PAD615.describe()"
   ]
  },
  {
   "cell_type": "code",
   "execution_count": 71,
   "id": "ce80f420",
   "metadata": {},
   "outputs": [
    {
     "data": {
      "text/plain": [
       "(0, 45)"
      ]
     },
     "execution_count": 71,
     "metadata": {},
     "output_type": "execute_result"
    }
   ],
   "source": [
    "#checking for those with really small values\n",
    "df[(df.PAD615>0)&(df.PAD615<0.01)].shape"
   ]
  },
  {
   "cell_type": "code",
   "execution_count": 69,
   "id": "329a0e3d",
   "metadata": {},
   "outputs": [
    {
     "data": {
      "text/plain": [
       "array([ 0.,  4.,  7.,  2.,  3.,  5.,  6.,  1., nan])"
      ]
     },
     "execution_count": 69,
     "metadata": {},
     "output_type": "execute_result"
    }
   ],
   "source": [
    "df.PAQ625.unique()"
   ]
  },
  {
   "cell_type": "code",
   "execution_count": 70,
   "id": "d0552f2f",
   "metadata": {},
   "outputs": [
    {
     "data": {
      "text/plain": [
       "count    4642.000000\n",
       "mean       58.912107\n",
       "std       115.500455\n",
       "min         0.000000\n",
       "25%         0.000000\n",
       "50%         0.000000\n",
       "75%        60.000000\n",
       "max       990.000000\n",
       "Name: PAD630, dtype: float64"
      ]
     },
     "execution_count": 70,
     "metadata": {},
     "output_type": "execute_result"
    }
   ],
   "source": [
    "df.PAD630.describe()"
   ]
  },
  {
   "cell_type": "code",
   "execution_count": 72,
   "id": "3cf09b28",
   "metadata": {},
   "outputs": [
    {
     "data": {
      "text/plain": [
       "(0, 45)"
      ]
     },
     "execution_count": 72,
     "metadata": {},
     "output_type": "execute_result"
    }
   ],
   "source": [
    "#checking for those with really small values\n",
    "df[(df.PAD630>0)&(df.PAD630<0.01)].shape"
   ]
  },
  {
   "cell_type": "code",
   "execution_count": 73,
   "id": "8b3cffa5",
   "metadata": {},
   "outputs": [
    {
     "data": {
      "text/plain": [
       "array([ 0.,  2.,  6.,  5.,  3.,  1.,  4.,  7., nan])"
      ]
     },
     "execution_count": 73,
     "metadata": {},
     "output_type": "execute_result"
    }
   ],
   "source": [
    "df.PAQ655.unique()"
   ]
  },
  {
   "cell_type": "code",
   "execution_count": 74,
   "id": "733b2d6c",
   "metadata": {},
   "outputs": [
    {
     "data": {
      "text/plain": [
       "count    4654.000000\n",
       "mean       17.461753\n",
       "std        42.799350\n",
       "min         0.000000\n",
       "25%         0.000000\n",
       "50%         0.000000\n",
       "75%         0.000000\n",
       "max       480.000000\n",
       "Name: PAD660, dtype: float64"
      ]
     },
     "execution_count": 74,
     "metadata": {},
     "output_type": "execute_result"
    }
   ],
   "source": [
    "df.PAD660.describe()"
   ]
  },
  {
   "cell_type": "code",
   "execution_count": 75,
   "id": "ea6b313c",
   "metadata": {},
   "outputs": [
    {
     "data": {
      "text/plain": [
       "(0, 45)"
      ]
     },
     "execution_count": 75,
     "metadata": {},
     "output_type": "execute_result"
    }
   ],
   "source": [
    "#checking for those with really small values\n",
    "df[(df.PAD660>0)&(df.PAD660<0.01)].shape"
   ]
  },
  {
   "cell_type": "code",
   "execution_count": 76,
   "id": "5a690639",
   "metadata": {},
   "outputs": [
    {
     "data": {
      "text/plain": [
       "array([ 0.,  4.,  5.,  2.,  7.,  1.,  3.,  6., nan])"
      ]
     },
     "execution_count": 76,
     "metadata": {},
     "output_type": "execute_result"
    }
   ],
   "source": [
    "df.PAQ670.unique()"
   ]
  },
  {
   "cell_type": "code",
   "execution_count": 77,
   "id": "9dd69ff8",
   "metadata": {},
   "outputs": [
    {
     "data": {
      "text/plain": [
       "count    4652.000000\n",
       "mean       25.812984\n",
       "std        48.430493\n",
       "min         0.000000\n",
       "25%         0.000000\n",
       "50%         0.000000\n",
       "75%        30.000000\n",
       "max       600.000000\n",
       "Name: PAD675, dtype: float64"
      ]
     },
     "execution_count": 77,
     "metadata": {},
     "output_type": "execute_result"
    }
   ],
   "source": [
    "df.PAD675.describe()"
   ]
  },
  {
   "cell_type": "code",
   "execution_count": 78,
   "id": "f70963c9",
   "metadata": {},
   "outputs": [
    {
     "data": {
      "text/plain": [
       "(0, 45)"
      ]
     },
     "execution_count": 78,
     "metadata": {},
     "output_type": "execute_result"
    }
   ],
   "source": [
    "#checking for those with really small values\n",
    "df[(df.PAD675>0)&(df.PAD675<0.01)].shape"
   ]
  },
  {
   "cell_type": "code",
   "execution_count": 79,
   "id": "275cd7ba",
   "metadata": {},
   "outputs": [
    {
     "data": {
      "text/plain": [
       "count    4580.000000\n",
       "mean      124.016157\n",
       "std        18.258561\n",
       "min        64.666667\n",
       "25%       111.333333\n",
       "50%       120.666667\n",
       "75%       134.000000\n",
       "max       228.666667\n",
       "Name: Systolic, dtype: float64"
      ]
     },
     "execution_count": 79,
     "metadata": {},
     "output_type": "execute_result"
    }
   ],
   "source": [
    "df.Systolic.describe()"
   ]
  },
  {
   "cell_type": "code",
   "execution_count": 80,
   "id": "659bbe0d",
   "metadata": {},
   "outputs": [
    {
     "data": {
      "text/plain": [
       "count    4.580000e+03\n",
       "mean     6.877052e+01\n",
       "std      1.270026e+01\n",
       "min      5.397605e-79\n",
       "25%      6.200000e+01\n",
       "50%      6.933333e+01\n",
       "75%      7.600000e+01\n",
       "max      1.280000e+02\n",
       "Name: Diastolic, dtype: float64"
      ]
     },
     "execution_count": 80,
     "metadata": {},
     "output_type": "execute_result"
    }
   ],
   "source": [
    "df.Diastolic.describe()"
   ]
  },
  {
   "cell_type": "markdown",
   "id": "d0338e4c",
   "metadata": {},
   "source": [
    "Again there looks to be some error.  For those with very small diastolic readings, they will be dropped"
   ]
  },
  {
   "cell_type": "code",
   "execution_count": 82,
   "id": "e4e797e0",
   "metadata": {},
   "outputs": [
    {
     "data": {
      "text/plain": [
       "2423    5.397605e-79\n",
       "1951    5.397605e-79\n",
       "4824    5.397605e-79\n",
       "4408    5.397605e-79\n",
       "2709    5.397605e-79\n",
       "            ...     \n",
       "4867             NaN\n",
       "4875             NaN\n",
       "4909             NaN\n",
       "4920             NaN\n",
       "4984             NaN\n",
       "Name: Diastolic, Length: 4658, dtype: float64"
      ]
     },
     "execution_count": 82,
     "metadata": {},
     "output_type": "execute_result"
    }
   ],
   "source": [
    "df.Diastolic.sort_values()"
   ]
  },
  {
   "cell_type": "code",
   "execution_count": 81,
   "id": "d5cc6712",
   "metadata": {},
   "outputs": [
    {
     "data": {
      "text/plain": [
       "Int64Index([ 674, 1353, 1361, 1402, 1793, 1951, 2423, 2709, 3741, 3856, 3868,\n",
       "            4408, 4819, 4824],\n",
       "           dtype='int64')"
      ]
     },
     "execution_count": 81,
     "metadata": {},
     "output_type": "execute_result"
    }
   ],
   "source": [
    "df[df.Diastolic<1].index"
   ]
  },
  {
   "cell_type": "code",
   "execution_count": 83,
   "id": "0e61de87",
   "metadata": {},
   "outputs": [],
   "source": [
    "df.drop(df[df.Diastolic<1].index,axis=0,inplace=True)"
   ]
  },
  {
   "cell_type": "code",
   "execution_count": 84,
   "id": "241c93cf",
   "metadata": {},
   "outputs": [
    {
     "name": "stdout",
     "output_type": "stream",
     "text": [
      "<class 'pandas.core.frame.DataFrame'>\n",
      "Int64Index: 4644 entries, 0 to 5002\n",
      "Data columns (total 45 columns):\n",
      " #   Column     Non-Null Count  Dtype  \n",
      "---  ------     --------------  -----  \n",
      " 0   LBXTC      4644 non-null   float64\n",
      " 1   RIAGENDR   4644 non-null   float64\n",
      " 2   RIDRETH3   4644 non-null   float64\n",
      " 3   RIDAGEYR   4644 non-null   float64\n",
      " 4   BMXWT      4622 non-null   float64\n",
      " 5   BMXHT      4619 non-null   float64\n",
      " 6   BMXBMI     4614 non-null   float64\n",
      " 7   BPXPLS     4567 non-null   float64\n",
      " 8   BPXPULS    4568 non-null   float64\n",
      " 9   DR1TKCAL   4644 non-null   float64\n",
      " 10  DR1TPROT   4644 non-null   float64\n",
      " 11  DR1TCARB   4644 non-null   float64\n",
      " 12  DR1TSUGR   4644 non-null   float64\n",
      " 13  DR1TFIBE   4644 non-null   float64\n",
      " 14  DR1TTFAT   4644 non-null   float64\n",
      " 15  DR1TSFAT   4644 non-null   float64\n",
      " 16  DR1TMFAT   4644 non-null   float64\n",
      " 17  DR1TPFAT   4644 non-null   float64\n",
      " 18  DR1TCHOL   4644 non-null   float64\n",
      " 19  DR1TSODI   4644 non-null   float64\n",
      " 20  DR1TVD     4644 non-null   float64\n",
      " 21  DR1TCALC   4644 non-null   float64\n",
      " 22  DR1TIRON   4644 non-null   float64\n",
      " 23  DR1TPOTA   4644 non-null   float64\n",
      " 24  DR1_300    4624 non-null   float64\n",
      " 25  ALQ120Q    4442 non-null   float64\n",
      " 26  ALQ120U    3692 non-null   float64\n",
      " 27  ALQ130     3691 non-null   float64\n",
      " 28  BPQ020     4639 non-null   float64\n",
      " 29  BPQ050A    4637 non-null   float64\n",
      " 30  BPQ080     4612 non-null   float64\n",
      " 31  BPQ100D    4619 non-null   float64\n",
      " 32  DIQ010     4643 non-null   float64\n",
      " 33  MCQ170M    4617 non-null   float64\n",
      " 34  SMQ681     4445 non-null   float64\n",
      " 35  PAQ610     4640 non-null   float64\n",
      " 36  PAD615     4630 non-null   float64\n",
      " 37  PAQ625     4639 non-null   float64\n",
      " 38  PAD630     4628 non-null   float64\n",
      " 39  PAQ655     4643 non-null   float64\n",
      " 40  PAD660     4640 non-null   float64\n",
      " 41  PAQ670     4641 non-null   float64\n",
      " 42  PAD675     4638 non-null   float64\n",
      " 43  Systolic   4566 non-null   float64\n",
      " 44  Diastolic  4566 non-null   float64\n",
      "dtypes: float64(45)\n",
      "memory usage: 1.6 MB\n"
     ]
    }
   ],
   "source": [
    "df.info()"
   ]
  },
  {
   "cell_type": "markdown",
   "id": "aefa2187",
   "metadata": {},
   "source": [
    "## now looking for observations that are persistant outliers"
   ]
  },
  {
   "cell_type": "code",
   "execution_count": 95,
   "id": "3fa7f55c",
   "metadata": {},
   "outputs": [],
   "source": [
    "outliers = {}\n",
    "for column in df.columns:\n",
    "    description = df[column].describe()\n",
    "    q1 = description['25%']\n",
    "    q3 = description['75%']\n",
    "    iqr15 = 3*(q3-q1)\n",
    "    indices = df[(df[column]<q1-iqr15)|(df[column]>q3+iqr15)].index\n",
    "    for x in indices:\n",
    "        outliers[x]=outliers.get(x,0)+1\n"
   ]
  },
  {
   "cell_type": "code",
   "execution_count": 96,
   "id": "bd4d1a13",
   "metadata": {},
   "outputs": [
    {
     "data": {
      "text/plain": [
       "{1061: 3,\n",
       " 1194: 6,\n",
       " 3931: 2,\n",
       " 4099: 3,\n",
       " 4199: 3,\n",
       " 482: 2,\n",
       " 690: 4,\n",
       " 1033: 2,\n",
       " 1702: 2,\n",
       " 2256: 4,\n",
       " 2373: 3,\n",
       " 3345: 4,\n",
       " 3451: 5,\n",
       " 3555: 2,\n",
       " 4293: 2,\n",
       " 4365: 4,\n",
       " 4980: 3,\n",
       " 1466: 1,\n",
       " 2025: 3,\n",
       " 2348: 2,\n",
       " 3351: 3,\n",
       " 3618: 4,\n",
       " 4211: 2,\n",
       " 4660: 1,\n",
       " 358: 4,\n",
       " 937: 3,\n",
       " 1563: 1,\n",
       " 2997: 4,\n",
       " 4100: 3,\n",
       " 4210: 6,\n",
       " 16: 1,\n",
       " 45: 1,\n",
       " 128: 3,\n",
       " 361: 3,\n",
       " 458: 2,\n",
       " 460: 5,\n",
       " 462: 5,\n",
       " 478: 1,\n",
       " 483: 2,\n",
       " 486: 2,\n",
       " 508: 2,\n",
       " 596: 2,\n",
       " 698: 5,\n",
       " 769: 2,\n",
       " 800: 4,\n",
       " 817: 1,\n",
       " 866: 2,\n",
       " 946: 4,\n",
       " 958: 1,\n",
       " 966: 1,\n",
       " 1023: 3,\n",
       " 1047: 4,\n",
       " 1059: 4,\n",
       " 1089: 1,\n",
       " 1121: 2,\n",
       " 1154: 3,\n",
       " 1169: 3,\n",
       " 1177: 3,\n",
       " 1192: 1,\n",
       " 1275: 4,\n",
       " 1281: 3,\n",
       " 1326: 3,\n",
       " 1335: 2,\n",
       " 1368: 2,\n",
       " 1422: 1,\n",
       " 1497: 4,\n",
       " 1516: 4,\n",
       " 1532: 4,\n",
       " 1535: 3,\n",
       " 1560: 4,\n",
       " 1591: 3,\n",
       " 1661: 3,\n",
       " 1711: 2,\n",
       " 1730: 5,\n",
       " 1736: 3,\n",
       " 1757: 2,\n",
       " 1770: 3,\n",
       " 1827: 2,\n",
       " 1920: 2,\n",
       " 1928: 5,\n",
       " 1941: 2,\n",
       " 1950: 1,\n",
       " 2033: 5,\n",
       " 2124: 2,\n",
       " 2162: 3,\n",
       " 2201: 7,\n",
       " 2265: 2,\n",
       " 2274: 8,\n",
       " 2292: 1,\n",
       " 2334: 4,\n",
       " 2362: 4,\n",
       " 2383: 5,\n",
       " 2402: 3,\n",
       " 2422: 2,\n",
       " 2430: 1,\n",
       " 2431: 1,\n",
       " 2455: 1,\n",
       " 2458: 3,\n",
       " 2535: 4,\n",
       " 2540: 2,\n",
       " 2556: 1,\n",
       " 2671: 3,\n",
       " 2700: 4,\n",
       " 2752: 3,\n",
       " 2806: 2,\n",
       " 2822: 3,\n",
       " 2832: 4,\n",
       " 2859: 2,\n",
       " 2938: 3,\n",
       " 3026: 1,\n",
       " 3069: 1,\n",
       " 3079: 3,\n",
       " 3146: 1,\n",
       " 3233: 3,\n",
       " 3441: 2,\n",
       " 3458: 4,\n",
       " 3487: 2,\n",
       " 3515: 3,\n",
       " 3699: 3,\n",
       " 3721: 5,\n",
       " 3760: 3,\n",
       " 3771: 1,\n",
       " 3823: 6,\n",
       " 3863: 6,\n",
       " 3885: 1,\n",
       " 3890: 3,\n",
       " 3987: 2,\n",
       " 4175: 1,\n",
       " 4288: 1,\n",
       " 4380: 2,\n",
       " 4387: 1,\n",
       " 4395: 3,\n",
       " 4439: 1,\n",
       " 4454: 2,\n",
       " 4620: 2,\n",
       " 4642: 1,\n",
       " 4676: 4,\n",
       " 4801: 2,\n",
       " 4812: 3,\n",
       " 4871: 4,\n",
       " 4960: 2,\n",
       " 15: 9,\n",
       " 108: 5,\n",
       " 146: 5,\n",
       " 292: 5,\n",
       " 548: 11,\n",
       " 582: 9,\n",
       " 859: 5,\n",
       " 920: 12,\n",
       " 1050: 9,\n",
       " 1808: 11,\n",
       " 1990: 9,\n",
       " 2143: 9,\n",
       " 2341: 6,\n",
       " 2542: 10,\n",
       " 2971: 17,\n",
       " 3036: 4,\n",
       " 3191: 10,\n",
       " 3300: 11,\n",
       " 3483: 6,\n",
       " 3499: 8,\n",
       " 3545: 12,\n",
       " 3577: 2,\n",
       " 3730: 9,\n",
       " 4186: 8,\n",
       " 4320: 10,\n",
       " 4359: 11,\n",
       " 4374: 11,\n",
       " 4376: 12,\n",
       " 4460: 4,\n",
       " 4528: 4,\n",
       " 4607: 11,\n",
       " 4847: 6,\n",
       " 4861: 9,\n",
       " 4937: 5,\n",
       " 139: 8,\n",
       " 237: 2,\n",
       " 515: 2,\n",
       " 951: 6,\n",
       " 2365: 3,\n",
       " 2374: 4,\n",
       " 2934: 7,\n",
       " 3139: 8,\n",
       " 3343: 4,\n",
       " 3502: 4,\n",
       " 3598: 4,\n",
       " 3930: 6,\n",
       " 4093: 5,\n",
       " 4678: 6,\n",
       " 4773: 3,\n",
       " 1721: 4,\n",
       " 2648: 4,\n",
       " 2783: 1,\n",
       " 3048: 7,\n",
       " 3959: 5,\n",
       " 4094: 6,\n",
       " 58: 5,\n",
       " 1883: 2,\n",
       " 2138: 4,\n",
       " 2536: 3,\n",
       " 3060: 4,\n",
       " 3063: 3,\n",
       " 3594: 5,\n",
       " 3679: 5,\n",
       " 3924: 3,\n",
       " 3940: 2,\n",
       " 3956: 4,\n",
       " 4136: 2,\n",
       " 4208: 2,\n",
       " 4685: 8,\n",
       " 4749: 5,\n",
       " 4984: 5,\n",
       " 4986: 4,\n",
       " 271: 1,\n",
       " 287: 2,\n",
       " 994: 1,\n",
       " 1064: 1,\n",
       " 1383: 6,\n",
       " 1761: 6,\n",
       " 1895: 5,\n",
       " 2002: 3,\n",
       " 2079: 1,\n",
       " 2321: 2,\n",
       " 2426: 1,\n",
       " 2528: 1,\n",
       " 2614: 3,\n",
       " 2619: 4,\n",
       " 2676: 4,\n",
       " 3176: 3,\n",
       " 3408: 4,\n",
       " 3864: 4,\n",
       " 3881: 4,\n",
       " 754: 4,\n",
       " 1216: 10,\n",
       " 1626: 5,\n",
       " 2815: 5,\n",
       " 3219: 5,\n",
       " 4806: 6,\n",
       " 164: 8,\n",
       " 813: 3,\n",
       " 976: 6,\n",
       " 1144: 2,\n",
       " 2605: 2,\n",
       " 2777: 8,\n",
       " 3334: 5,\n",
       " 4624: 2,\n",
       " 894: 1,\n",
       " 1694: 7,\n",
       " 1970: 4,\n",
       " 2252: 1,\n",
       " 2394: 5,\n",
       " 3912: 6,\n",
       " 4018: 4,\n",
       " 80: 3,\n",
       " 342: 2,\n",
       " 629: 2,\n",
       " 823: 2,\n",
       " 1110: 3,\n",
       " 3220: 2,\n",
       " 3268: 4,\n",
       " 3436: 5,\n",
       " 4121: 3,\n",
       " 4235: 1,\n",
       " 4611: 3,\n",
       " 28: 3,\n",
       " 155: 5,\n",
       " 667: 1,\n",
       " 669: 2,\n",
       " 1109: 3,\n",
       " 1360: 3,\n",
       " 1623: 3,\n",
       " 2057: 1,\n",
       " 2204: 3,\n",
       " 2643: 5,\n",
       " 2682: 2,\n",
       " 2893: 3,\n",
       " 3142: 2,\n",
       " 3612: 3,\n",
       " 3654: 4,\n",
       " 3715: 3,\n",
       " 3718: 6,\n",
       " 4244: 2,\n",
       " 1965: 4,\n",
       " 2970: 2,\n",
       " 3193: 1,\n",
       " 3743: 3,\n",
       " 4393: 3,\n",
       " 4570: 2,\n",
       " 4631: 3,\n",
       " 4897: 3,\n",
       " 11: 5,\n",
       " 77: 4,\n",
       " 103: 6,\n",
       " 115: 2,\n",
       " 137: 1,\n",
       " 314: 4,\n",
       " 355: 3,\n",
       " 518: 3,\n",
       " 534: 4,\n",
       " 693: 1,\n",
       " 713: 5,\n",
       " 834: 3,\n",
       " 911: 1,\n",
       " 925: 4,\n",
       " 941: 2,\n",
       " 971: 1,\n",
       " 995: 3,\n",
       " 1049: 4,\n",
       " 1073: 1,\n",
       " 1119: 2,\n",
       " 1184: 1,\n",
       " 1263: 3,\n",
       " 1333: 3,\n",
       " 1369: 3,\n",
       " 1373: 1,\n",
       " 1406: 2,\n",
       " 1550: 4,\n",
       " 1597: 4,\n",
       " 1714: 2,\n",
       " 1805: 3,\n",
       " 1878: 2,\n",
       " 1974: 4,\n",
       " 2050: 2,\n",
       " 2064: 3,\n",
       " 2134: 3,\n",
       " 2251: 3,\n",
       " 2287: 2,\n",
       " 2293: 3,\n",
       " 2417: 2,\n",
       " 2433: 2,\n",
       " 2450: 4,\n",
       " 2479: 2,\n",
       " 2510: 3,\n",
       " 2522: 6,\n",
       " 2552: 1,\n",
       " 2565: 4,\n",
       " 2571: 2,\n",
       " 2607: 3,\n",
       " 2639: 5,\n",
       " 2704: 1,\n",
       " 2722: 4,\n",
       " 2805: 5,\n",
       " 2810: 3,\n",
       " 2894: 1,\n",
       " 2916: 2,\n",
       " 2932: 1,\n",
       " 3007: 4,\n",
       " 3014: 2,\n",
       " 3015: 3,\n",
       " 3022: 5,\n",
       " 3059: 4,\n",
       " 3119: 5,\n",
       " 3179: 1,\n",
       " 3187: 2,\n",
       " 3194: 1,\n",
       " 3195: 2,\n",
       " 3203: 2,\n",
       " 3239: 2,\n",
       " 3282: 2,\n",
       " 3376: 6,\n",
       " 3380: 5,\n",
       " 3382: 6,\n",
       " 3462: 4,\n",
       " 3601: 4,\n",
       " 3611: 4,\n",
       " 3624: 1,\n",
       " 3660: 3,\n",
       " 3698: 2,\n",
       " 3774: 3,\n",
       " 3831: 3,\n",
       " 3928: 4,\n",
       " 3946: 1,\n",
       " 3992: 4,\n",
       " 4015: 3,\n",
       " 4081: 3,\n",
       " 4268: 5,\n",
       " 4281: 4,\n",
       " 4309: 5,\n",
       " 4371: 1,\n",
       " 4372: 7,\n",
       " 4402: 4,\n",
       " 4416: 2,\n",
       " 4426: 2,\n",
       " 4646: 4,\n",
       " 4668: 5,\n",
       " 4686: 3,\n",
       " 4733: 1,\n",
       " 4734: 6,\n",
       " 4756: 3,\n",
       " 4854: 4,\n",
       " 4875: 1,\n",
       " 4895: 4,\n",
       " 4936: 4,\n",
       " 4956: 3,\n",
       " 4973: 3,\n",
       " 4995: 3,\n",
       " 140: 6,\n",
       " 1067: 4,\n",
       " 1162: 7,\n",
       " 2039: 2,\n",
       " 2703: 4,\n",
       " 3517: 3,\n",
       " 3782: 2,\n",
       " 4559: 5,\n",
       " 5002: 3,\n",
       " 62: 1,\n",
       " 169: 4,\n",
       " 637: 2,\n",
       " 747: 3,\n",
       " 886: 7,\n",
       " 1273: 5,\n",
       " 1610: 3,\n",
       " 2621: 5,\n",
       " 2937: 3,\n",
       " 3375: 3,\n",
       " 3505: 3,\n",
       " 3739: 3,\n",
       " 3769: 1,\n",
       " 3817: 3,\n",
       " 4002: 5,\n",
       " 4797: 2,\n",
       " 389: 3,\n",
       " 1: 2,\n",
       " 2: 3,\n",
       " 22: 1,\n",
       " 29: 3,\n",
       " 30: 4,\n",
       " 31: 1,\n",
       " 32: 1,\n",
       " 34: 3,\n",
       " 40: 1,\n",
       " 48: 1,\n",
       " 60: 6,\n",
       " 64: 4,\n",
       " 67: 6,\n",
       " 68: 2,\n",
       " 73: 2,\n",
       " 76: 2,\n",
       " 79: 1,\n",
       " 82: 1,\n",
       " 87: 1,\n",
       " 88: 4,\n",
       " 91: 3,\n",
       " 98: 3,\n",
       " 101: 2,\n",
       " 117: 1,\n",
       " 122: 3,\n",
       " 124: 3,\n",
       " 129: 1,\n",
       " 134: 1,\n",
       " 136: 6,\n",
       " 143: 2,\n",
       " 147: 4,\n",
       " 151: 1,\n",
       " 159: 4,\n",
       " 167: 1,\n",
       " 185: 6,\n",
       " 194: 2,\n",
       " 195: 2,\n",
       " 199: 3,\n",
       " 202: 2,\n",
       " 203: 1,\n",
       " 208: 4,\n",
       " 210: 3,\n",
       " 214: 2,\n",
       " 221: 3,\n",
       " 230: 2,\n",
       " 244: 5,\n",
       " 246: 3,\n",
       " 248: 1,\n",
       " 261: 2,\n",
       " 268: 3,\n",
       " 269: 4,\n",
       " 270: 3,\n",
       " 273: 6,\n",
       " 276: 4,\n",
       " 279: 1,\n",
       " 280: 3,\n",
       " 291: 2,\n",
       " 294: 2,\n",
       " 295: 3,\n",
       " 300: 2,\n",
       " 305: 5,\n",
       " 306: 5,\n",
       " 313: 3,\n",
       " 315: 2,\n",
       " 316: 3,\n",
       " 318: 1,\n",
       " 319: 4,\n",
       " 325: 4,\n",
       " 326: 2,\n",
       " 331: 2,\n",
       " 341: 1,\n",
       " 353: 5,\n",
       " 357: 3,\n",
       " 360: 4,\n",
       " 362: 2,\n",
       " 364: 1,\n",
       " 366: 2,\n",
       " 368: 5,\n",
       " 369: 2,\n",
       " 374: 3,\n",
       " 375: 3,\n",
       " 381: 1,\n",
       " 383: 1,\n",
       " 386: 1,\n",
       " 390: 3,\n",
       " 391: 4,\n",
       " 394: 3,\n",
       " 403: 1,\n",
       " 405: 2,\n",
       " 406: 3,\n",
       " 407: 7,\n",
       " 409: 4,\n",
       " 412: 1,\n",
       " 413: 3,\n",
       " 414: 1,\n",
       " 420: 3,\n",
       " 422: 1,\n",
       " 423: 4,\n",
       " 430: 4,\n",
       " 439: 1,\n",
       " 442: 1,\n",
       " 444: 3,\n",
       " 449: 1,\n",
       " 450: 3,\n",
       " 452: 1,\n",
       " 453: 3,\n",
       " 461: 3,\n",
       " 464: 1,\n",
       " 476: 2,\n",
       " 477: 2,\n",
       " 484: 2,\n",
       " 487: 2,\n",
       " 493: 1,\n",
       " 497: 1,\n",
       " 505: 3,\n",
       " 510: 3,\n",
       " 511: 2,\n",
       " 521: 3,\n",
       " 522: 4,\n",
       " 526: 1,\n",
       " 532: 3,\n",
       " 538: 2,\n",
       " 544: 3,\n",
       " 545: 5,\n",
       " 546: 7,\n",
       " 550: 4,\n",
       " 560: 4,\n",
       " 563: 2,\n",
       " 567: 3,\n",
       " 568: 4,\n",
       " 571: 1,\n",
       " 579: 2,\n",
       " 581: 3,\n",
       " 583: 2,\n",
       " 584: 1,\n",
       " 586: 4,\n",
       " 587: 2,\n",
       " 592: 1,\n",
       " 598: 1,\n",
       " 603: 1,\n",
       " 611: 3,\n",
       " 612: 2,\n",
       " 613: 3,\n",
       " 624: 2,\n",
       " 630: 1,\n",
       " 633: 1,\n",
       " 641: 4,\n",
       " 643: 2,\n",
       " 651: 2,\n",
       " 657: 2,\n",
       " 663: 2,\n",
       " 676: 1,\n",
       " 683: 1,\n",
       " 691: 5,\n",
       " 692: 2,\n",
       " 695: 2,\n",
       " 697: 1,\n",
       " 699: 1,\n",
       " 727: 1,\n",
       " 729: 5,\n",
       " 730: 3,\n",
       " 733: 1,\n",
       " 734: 3,\n",
       " 736: 4,\n",
       " 737: 1,\n",
       " 745: 2,\n",
       " 752: 7,\n",
       " 757: 1,\n",
       " 758: 3,\n",
       " 774: 1,\n",
       " 779: 1,\n",
       " 781: 2,\n",
       " 789: 3,\n",
       " 797: 3,\n",
       " 801: 1,\n",
       " 803: 3,\n",
       " 808: 2,\n",
       " 815: 2,\n",
       " 818: 4,\n",
       " 830: 2,\n",
       " 832: 1,\n",
       " 835: 1,\n",
       " 836: 2,\n",
       " 837: 1,\n",
       " 843: 5,\n",
       " 851: 4,\n",
       " 855: 4,\n",
       " 858: 1,\n",
       " 862: 1,\n",
       " 865: 1,\n",
       " 869: 4,\n",
       " 912: 3,\n",
       " 916: 1,\n",
       " 923: 3,\n",
       " 924: 1,\n",
       " 926: 2,\n",
       " 929: 4,\n",
       " 935: 6,\n",
       " 939: 8,\n",
       " 940: 6,\n",
       " 954: 3,\n",
       " 956: 2,\n",
       " 960: 3,\n",
       " 962: 4,\n",
       " 963: 2,\n",
       " 964: 4,\n",
       " 965: 2,\n",
       " 967: 3,\n",
       " 973: 7,\n",
       " 981: 3,\n",
       " 986: 1,\n",
       " 989: 4,\n",
       " 990: 2,\n",
       " 991: 3,\n",
       " 992: 3,\n",
       " 993: 3,\n",
       " 996: 1,\n",
       " 997: 5,\n",
       " 998: 2,\n",
       " 1003: 1,\n",
       " 1009: 5,\n",
       " 1011: 1,\n",
       " 1012: 4,\n",
       " 1016: 2,\n",
       " 1017: 3,\n",
       " 1019: 2,\n",
       " 1020: 4,\n",
       " 1028: 5,\n",
       " 1029: 4,\n",
       " 1034: 4,\n",
       " 1039: 2,\n",
       " 1041: 1,\n",
       " 1042: 4,\n",
       " 1044: 3,\n",
       " 1045: 3,\n",
       " 1046: 1,\n",
       " 1058: 2,\n",
       " 1065: 4,\n",
       " 1069: 3,\n",
       " 1075: 3,\n",
       " 1078: 2,\n",
       " 1079: 1,\n",
       " 1082: 1,\n",
       " 1085: 1,\n",
       " 1092: 1,\n",
       " 1100: 1,\n",
       " 1102: 3,\n",
       " 1104: 3,\n",
       " 1106: 2,\n",
       " 1118: 3,\n",
       " 1130: 3,\n",
       " 1131: 1,\n",
       " 1132: 3,\n",
       " 1134: 5,\n",
       " 1135: 4,\n",
       " 1137: 2,\n",
       " 1150: 6,\n",
       " 1156: 4,\n",
       " 1157: 2,\n",
       " 1159: 2,\n",
       " 1174: 1,\n",
       " 1176: 5,\n",
       " 1182: 3,\n",
       " 1183: 3,\n",
       " 1187: 3,\n",
       " 1188: 2,\n",
       " 1189: 1,\n",
       " 1196: 1,\n",
       " 1212: 6,\n",
       " 1220: 1,\n",
       " 1221: 3,\n",
       " 1231: 3,\n",
       " 1238: 3,\n",
       " 1239: 3,\n",
       " 1241: 2,\n",
       " 1251: 2,\n",
       " 1253: 2,\n",
       " 1256: 1,\n",
       " 1257: 2,\n",
       " 1262: 2,\n",
       " 1265: 1,\n",
       " 1270: 1,\n",
       " 1278: 3,\n",
       " 1282: 3,\n",
       " 1289: 1,\n",
       " 1293: 1,\n",
       " 1304: 3,\n",
       " 1319: 2,\n",
       " 1327: 1,\n",
       " 1329: 1,\n",
       " 1330: 1,\n",
       " 1331: 9,\n",
       " 1332: 4,\n",
       " 1337: 1,\n",
       " 1339: 4,\n",
       " 1342: 3,\n",
       " 1346: 2,\n",
       " 1348: 3,\n",
       " 1352: 7,\n",
       " 1354: 3,\n",
       " 1355: 1,\n",
       " 1365: 4,\n",
       " 1367: 4,\n",
       " 1370: 6,\n",
       " 1371: 4,\n",
       " 1374: 3,\n",
       " 1377: 4,\n",
       " 1378: 3,\n",
       " 1381: 3,\n",
       " 1391: 2,\n",
       " 1392: 1,\n",
       " 1399: 4,\n",
       " 1400: 8,\n",
       " 1405: 5,\n",
       " 1413: 3,\n",
       " 1418: 2,\n",
       " 1427: 2,\n",
       " 1430: 4,\n",
       " 1434: 6,\n",
       " 1435: 5,\n",
       " 1437: 1,\n",
       " 1438: 1,\n",
       " 1442: 4,\n",
       " 1445: 3,\n",
       " 1457: 1,\n",
       " 1460: 4,\n",
       " 1465: 5,\n",
       " 1475: 2,\n",
       " 1479: 4,\n",
       " 1481: 1,\n",
       " 1485: 1,\n",
       " 1490: 3,\n",
       " 1501: 1,\n",
       " 1503: 3,\n",
       " 1505: 5,\n",
       " 1517: 3,\n",
       " 1519: 2,\n",
       " 1528: 1,\n",
       " 1538: 1,\n",
       " 1539: 5,\n",
       " 1540: 2,\n",
       " 1541: 8,\n",
       " 1545: 1,\n",
       " 1549: 1,\n",
       " 1552: 1,\n",
       " 1554: 2,\n",
       " 1557: 2,\n",
       " 1559: 4,\n",
       " 1564: 3,\n",
       " 1565: 1,\n",
       " 1576: 1,\n",
       " 1577: 2,\n",
       " 1579: 4,\n",
       " 1594: 2,\n",
       " 1596: 1,\n",
       " 1608: 5,\n",
       " 1611: 4,\n",
       " 1615: 6,\n",
       " 1617: 4,\n",
       " 1618: 2,\n",
       " 1622: 1,\n",
       " 1627: 5,\n",
       " 1629: 1,\n",
       " 1632: 6,\n",
       " 1633: 1,\n",
       " 1635: 1,\n",
       " 1641: 3,\n",
       " 1643: 2,\n",
       " 1647: 2,\n",
       " 1648: 6,\n",
       " 1651: 4,\n",
       " 1652: 3,\n",
       " 1660: 7,\n",
       " 1664: 3,\n",
       " 1665: 1,\n",
       " 1667: 3,\n",
       " 1670: 3,\n",
       " 1671: 3,\n",
       " 1673: 2,\n",
       " 1675: 3,\n",
       " 1679: 1,\n",
       " 1686: 3,\n",
       " 1695: 5,\n",
       " 1701: 6,\n",
       " 1712: 2,\n",
       " 1716: 2,\n",
       " 1718: 3,\n",
       " 1722: 3,\n",
       " 1725: 1,\n",
       " 1727: 5,\n",
       " 1729: 4,\n",
       " 1731: 4,\n",
       " 1734: 4,\n",
       " 1737: 4,\n",
       " 1740: 3,\n",
       " 1741: 4,\n",
       " 1743: 3,\n",
       " 1746: 4,\n",
       " 1749: 3,\n",
       " 1750: 3,\n",
       " 1753: 2,\n",
       " 1754: 3,\n",
       " 1756: 1,\n",
       " 1758: 2,\n",
       " 1765: 4,\n",
       " 1768: 2,\n",
       " 1775: 1,\n",
       " 1780: 2,\n",
       " 1785: 4,\n",
       " 1789: 3,\n",
       " 1796: 2,\n",
       " 1800: 5,\n",
       " 1801: 3,\n",
       " 1803: 4,\n",
       " 1804: 3,\n",
       " 1809: 1,\n",
       " 1811: 4,\n",
       " 1812: 1,\n",
       " 1813: 4,\n",
       " 1816: 3,\n",
       " 1823: 3,\n",
       " 1828: 5,\n",
       " 1831: 1,\n",
       " 1836: 1,\n",
       " 1842: 1,\n",
       " 1848: 4,\n",
       " 1851: 3,\n",
       " 1853: 1,\n",
       " 1855: 1,\n",
       " 1859: 4,\n",
       " 1860: 3,\n",
       " 1862: 5,\n",
       " 1863: 2,\n",
       " 1879: 2,\n",
       " 1881: 3,\n",
       " 1888: 2,\n",
       " 1889: 1,\n",
       " 1890: 2,\n",
       " 1896: 7,\n",
       " 1898: 2,\n",
       " 1899: 1,\n",
       " 1916: 2,\n",
       " 1917: 3,\n",
       " 1918: 2,\n",
       " 1921: 3,\n",
       " 1924: 1,\n",
       " 1931: 2,\n",
       " 1934: 1,\n",
       " 1935: 5,\n",
       " 1944: 2,\n",
       " 1952: 3,\n",
       " 1954: 2,\n",
       " 1955: 5,\n",
       " 1963: 2,\n",
       " 1964: 4,\n",
       " 1967: 3,\n",
       " 1973: 1,\n",
       " 1977: 2,\n",
       " 1981: 1,\n",
       " 1992: 1,\n",
       " 1993: 4,\n",
       " 1998: 2,\n",
       " 2000: 1,\n",
       " 2008: 7,\n",
       " 2016: 1,\n",
       " 2019: 1,\n",
       " 2021: 3,\n",
       " 2022: 5,\n",
       " 2024: 2,\n",
       " 2026: 1,\n",
       " 2029: 3,\n",
       " 2031: 1,\n",
       " 2034: 1,\n",
       " 2043: 6,\n",
       " 2046: 2,\n",
       " 2051: 3,\n",
       " 2052: 5,\n",
       " 2054: 1,\n",
       " 2067: 4,\n",
       " 2078: 1,\n",
       " 2088: 2,\n",
       " 2097: 3,\n",
       " 2100: 1,\n",
       " 2101: 3,\n",
       " 2102: 3,\n",
       " 2104: 1,\n",
       " 2106: 7,\n",
       " 2108: 3,\n",
       " 2111: 3,\n",
       " 2112: 5,\n",
       " 2114: 2,\n",
       " 2125: 8,\n",
       " 2126: 5,\n",
       " 2128: 4,\n",
       " 2130: 1,\n",
       " 2133: 1,\n",
       " 2136: 1,\n",
       " 2139: 3,\n",
       " 2141: 4,\n",
       " 2147: 5,\n",
       " 2150: 3,\n",
       " 2154: 5,\n",
       " 2160: 3,\n",
       " 2164: 2,\n",
       " 2165: 3,\n",
       " 2167: 2,\n",
       " 2173: 3,\n",
       " 2177: 2,\n",
       " 2180: 3,\n",
       " 2181: 1,\n",
       " 2182: 2,\n",
       " 2186: 2,\n",
       " 2189: 2,\n",
       " 2190: 1,\n",
       " 2197: 5,\n",
       " 2205: 2,\n",
       " 2206: 5,\n",
       " 2224: 4,\n",
       " 2229: 3,\n",
       " 2237: 3,\n",
       " 2238: 3,\n",
       " 2240: 4,\n",
       " 2242: 5,\n",
       " 2254: 5,\n",
       " 2255: 2,\n",
       " 2261: 4,\n",
       " 2272: 2,\n",
       " 2275: 4,\n",
       " 2281: 3,\n",
       " 2282: 6,\n",
       " 2284: 3,\n",
       " 2286: 1,\n",
       " 2290: 2,\n",
       " 2297: 7,\n",
       " 2298: 1,\n",
       " 2301: 3,\n",
       " 2302: 1,\n",
       " 2305: 1,\n",
       " 2309: 3,\n",
       " 2311: 1,\n",
       " 2313: 1,\n",
       " 2323: 4,\n",
       " 2329: 3,\n",
       " 2336: 4,\n",
       " 2338: 1,\n",
       " 2350: 3,\n",
       " 2351: 4,\n",
       " 2354: 2,\n",
       " 2360: 1,\n",
       " 2361: 1,\n",
       " 2368: 1,\n",
       " 2376: 4,\n",
       " 2377: 1,\n",
       " 2385: 3,\n",
       " 2391: 3,\n",
       " 2392: 2,\n",
       " 2407: 4,\n",
       " 2410: 5,\n",
       " 2412: 6,\n",
       " 2427: 3,\n",
       " 2440: 2,\n",
       " 2444: 1,\n",
       " 2445: 3,\n",
       " 2446: 2,\n",
       " 2447: 3,\n",
       " 2473: 3,\n",
       " 2474: 5,\n",
       " 2475: 7,\n",
       " 2482: 3,\n",
       " 2484: 1,\n",
       " 2485: 3,\n",
       " 2491: 1,\n",
       " 2494: 2,\n",
       " 2495: 1,\n",
       " 2496: 3,\n",
       " 2497: 1,\n",
       " 2499: 3,\n",
       " 2500: 2,\n",
       " ...}"
      ]
     },
     "execution_count": 96,
     "metadata": {},
     "output_type": "execute_result"
    }
   ],
   "source": [
    "outliers"
   ]
  },
  {
   "cell_type": "code",
   "execution_count": 97,
   "id": "98841155",
   "metadata": {},
   "outputs": [],
   "source": [
    "outlier_df=pd.DataFrame({'index':outliers.keys(),'count':outliers.values()})\n"
   ]
  },
  {
   "cell_type": "code",
   "execution_count": 98,
   "id": "d16e4aff",
   "metadata": {},
   "outputs": [
    {
     "data": {
      "text/html": [
       "<div>\n",
       "<style scoped>\n",
       "    .dataframe tbody tr th:only-of-type {\n",
       "        vertical-align: middle;\n",
       "    }\n",
       "\n",
       "    .dataframe tbody tr th {\n",
       "        vertical-align: top;\n",
       "    }\n",
       "\n",
       "    .dataframe thead th {\n",
       "        text-align: right;\n",
       "    }\n",
       "</style>\n",
       "<table border=\"1\" class=\"dataframe\">\n",
       "  <thead>\n",
       "    <tr style=\"text-align: right;\">\n",
       "      <th></th>\n",
       "      <th>index</th>\n",
       "      <th>count</th>\n",
       "    </tr>\n",
       "  </thead>\n",
       "  <tbody>\n",
       "    <tr>\n",
       "      <th>155</th>\n",
       "      <td>2971</td>\n",
       "      <td>17</td>\n",
       "    </tr>\n",
       "    <tr>\n",
       "      <th>148</th>\n",
       "      <td>920</td>\n",
       "      <td>12</td>\n",
       "    </tr>\n",
       "    <tr>\n",
       "      <th>168</th>\n",
       "      <td>4376</td>\n",
       "      <td>12</td>\n",
       "    </tr>\n",
       "    <tr>\n",
       "      <th>161</th>\n",
       "      <td>3545</td>\n",
       "      <td>12</td>\n",
       "    </tr>\n",
       "    <tr>\n",
       "      <th>171</th>\n",
       "      <td>4607</td>\n",
       "      <td>11</td>\n",
       "    </tr>\n",
       "    <tr>\n",
       "      <th>...</th>\n",
       "      <td>...</td>\n",
       "      <td>...</td>\n",
       "    </tr>\n",
       "    <tr>\n",
       "      <th>2836</th>\n",
       "      <td>2089</td>\n",
       "      <td>1</td>\n",
       "    </tr>\n",
       "    <tr>\n",
       "      <th>2835</th>\n",
       "      <td>2087</td>\n",
       "      <td>1</td>\n",
       "    </tr>\n",
       "    <tr>\n",
       "      <th>1693</th>\n",
       "      <td>1200</td>\n",
       "      <td>1</td>\n",
       "    </tr>\n",
       "    <tr>\n",
       "      <th>2831</th>\n",
       "      <td>2069</td>\n",
       "      <td>1</td>\n",
       "    </tr>\n",
       "    <tr>\n",
       "      <th>3813</th>\n",
       "      <td>4354</td>\n",
       "      <td>1</td>\n",
       "    </tr>\n",
       "  </tbody>\n",
       "</table>\n",
       "<p>3814 rows × 2 columns</p>\n",
       "</div>"
      ],
      "text/plain": [
       "      index  count\n",
       "155    2971     17\n",
       "148     920     12\n",
       "168    4376     12\n",
       "161    3545     12\n",
       "171    4607     11\n",
       "...     ...    ...\n",
       "2836   2089      1\n",
       "2835   2087      1\n",
       "1693   1200      1\n",
       "2831   2069      1\n",
       "3813   4354      1\n",
       "\n",
       "[3814 rows x 2 columns]"
      ]
     },
     "execution_count": 98,
     "metadata": {},
     "output_type": "execute_result"
    }
   ],
   "source": [
    "outlier_df.sort_values(by='count',ascending=False)"
   ]
  },
  {
   "cell_type": "code",
   "execution_count": 99,
   "id": "9032484b",
   "metadata": {},
   "outputs": [
    {
     "data": {
      "text/plain": [
       "(4644, 45)"
      ]
     },
     "execution_count": 99,
     "metadata": {},
     "output_type": "execute_result"
    }
   ],
   "source": [
    "df.shape"
   ]
  },
  {
   "cell_type": "markdown",
   "id": "c994990c",
   "metadata": {},
   "source": [
    "As there are 45 columns, those that are outliers for more than 11 (25%) values should be dropped."
   ]
  },
  {
   "cell_type": "code",
   "execution_count": 103,
   "id": "dc18342c",
   "metadata": {},
   "outputs": [
    {
     "name": "stdout",
     "output_type": "stream",
     "text": [
      "<class 'pandas.core.frame.DataFrame'>\n",
      "Int64Index: 4640 entries, 0 to 5002\n",
      "Data columns (total 45 columns):\n",
      " #   Column     Non-Null Count  Dtype  \n",
      "---  ------     --------------  -----  \n",
      " 0   LBXTC      4640 non-null   float64\n",
      " 1   RIAGENDR   4640 non-null   float64\n",
      " 2   RIDRETH3   4640 non-null   float64\n",
      " 3   RIDAGEYR   4640 non-null   float64\n",
      " 4   BMXWT      4618 non-null   float64\n",
      " 5   BMXHT      4615 non-null   float64\n",
      " 6   BMXBMI     4610 non-null   float64\n",
      " 7   BPXPLS     4563 non-null   float64\n",
      " 8   BPXPULS    4564 non-null   float64\n",
      " 9   DR1TKCAL   4640 non-null   float64\n",
      " 10  DR1TPROT   4640 non-null   float64\n",
      " 11  DR1TCARB   4640 non-null   float64\n",
      " 12  DR1TSUGR   4640 non-null   float64\n",
      " 13  DR1TFIBE   4640 non-null   float64\n",
      " 14  DR1TTFAT   4640 non-null   float64\n",
      " 15  DR1TSFAT   4640 non-null   float64\n",
      " 16  DR1TMFAT   4640 non-null   float64\n",
      " 17  DR1TPFAT   4640 non-null   float64\n",
      " 18  DR1TCHOL   4640 non-null   float64\n",
      " 19  DR1TSODI   4640 non-null   float64\n",
      " 20  DR1TVD     4640 non-null   float64\n",
      " 21  DR1TCALC   4640 non-null   float64\n",
      " 22  DR1TIRON   4640 non-null   float64\n",
      " 23  DR1TPOTA   4640 non-null   float64\n",
      " 24  DR1_300    4620 non-null   float64\n",
      " 25  ALQ120Q    4438 non-null   float64\n",
      " 26  ALQ120U    3688 non-null   float64\n",
      " 27  ALQ130     3687 non-null   float64\n",
      " 28  BPQ020     4635 non-null   float64\n",
      " 29  BPQ050A    4633 non-null   float64\n",
      " 30  BPQ080     4609 non-null   float64\n",
      " 31  BPQ100D    4616 non-null   float64\n",
      " 32  DIQ010     4639 non-null   float64\n",
      " 33  MCQ170M    4613 non-null   float64\n",
      " 34  SMQ681     4441 non-null   float64\n",
      " 35  PAQ610     4636 non-null   float64\n",
      " 36  PAD615     4626 non-null   float64\n",
      " 37  PAQ625     4635 non-null   float64\n",
      " 38  PAD630     4624 non-null   float64\n",
      " 39  PAQ655     4639 non-null   float64\n",
      " 40  PAD660     4636 non-null   float64\n",
      " 41  PAQ670     4637 non-null   float64\n",
      " 42  PAD675     4634 non-null   float64\n",
      " 43  Systolic   4562 non-null   float64\n",
      " 44  Diastolic  4562 non-null   float64\n",
      "dtypes: float64(45)\n",
      "memory usage: 1.6 MB\n"
     ]
    }
   ],
   "source": [
    "df.drop(list(outlier_df[outlier_df['count']>11]['index']),axis=0,inplace=True)\n",
    "df.info()"
   ]
  },
  {
   "cell_type": "code",
   "execution_count": 104,
   "id": "bcf5226b",
   "metadata": {},
   "outputs": [],
   "source": [
    "#writing the cleaned file so it can be used for modeling\n",
    "df.to_csv('../Data/df_cleaned.csv')"
   ]
  },
  {
   "cell_type": "code",
   "execution_count": null,
   "id": "0724cbee",
   "metadata": {},
   "outputs": [],
   "source": []
  }
 ],
 "metadata": {
  "kernelspec": {
   "display_name": "Python 3",
   "language": "python",
   "name": "python3"
  },
  "language_info": {
   "codemirror_mode": {
    "name": "ipython",
    "version": 3
   },
   "file_extension": ".py",
   "mimetype": "text/x-python",
   "name": "python",
   "nbconvert_exporter": "python",
   "pygments_lexer": "ipython3",
   "version": "3.9.5"
  }
 },
 "nbformat": 4,
 "nbformat_minor": 5
}
