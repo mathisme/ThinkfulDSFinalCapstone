{
 "cells": [
  {
   "cell_type": "code",
   "execution_count": 1,
   "id": "b91be173",
   "metadata": {},
   "outputs": [],
   "source": [
    "import numpy as np\n",
    "import pandas as pd"
   ]
  },
  {
   "cell_type": "code",
   "execution_count": 2,
   "id": "592bee58",
   "metadata": {},
   "outputs": [
    {
     "data": {
      "text/html": [
       "<div>\n",
       "<style scoped>\n",
       "    .dataframe tbody tr th:only-of-type {\n",
       "        vertical-align: middle;\n",
       "    }\n",
       "\n",
       "    .dataframe tbody tr th {\n",
       "        vertical-align: top;\n",
       "    }\n",
       "\n",
       "    .dataframe thead th {\n",
       "        text-align: right;\n",
       "    }\n",
       "</style>\n",
       "<table border=\"1\" class=\"dataframe\">\n",
       "  <thead>\n",
       "    <tr style=\"text-align: right;\">\n",
       "      <th></th>\n",
       "      <th>Unnamed: 0</th>\n",
       "      <th>LBXTC</th>\n",
       "      <th>RIAGENDR</th>\n",
       "      <th>RIDRETH3</th>\n",
       "      <th>RIDAGEYR</th>\n",
       "      <th>BMXWT</th>\n",
       "      <th>BMXHT</th>\n",
       "      <th>BMXBMI</th>\n",
       "      <th>BPXPLS</th>\n",
       "      <th>BPXPULS</th>\n",
       "      <th>...</th>\n",
       "      <th>PAD615</th>\n",
       "      <th>PAQ625</th>\n",
       "      <th>PAD630</th>\n",
       "      <th>PAQ655</th>\n",
       "      <th>PAD660</th>\n",
       "      <th>PAQ670</th>\n",
       "      <th>PAD675</th>\n",
       "      <th>KIQ022</th>\n",
       "      <th>Systolic</th>\n",
       "      <th>Diastolic</th>\n",
       "    </tr>\n",
       "  </thead>\n",
       "  <tbody>\n",
       "    <tr>\n",
       "      <th>0</th>\n",
       "      <td>1</td>\n",
       "      <td>265.0</td>\n",
       "      <td>1.0</td>\n",
       "      <td>3.0</td>\n",
       "      <td>53.0</td>\n",
       "      <td>90.4</td>\n",
       "      <td>171.4</td>\n",
       "      <td>30.8</td>\n",
       "      <td>72.0</td>\n",
       "      <td>1.0</td>\n",
       "      <td>...</td>\n",
       "      <td>0.0</td>\n",
       "      <td>0.0</td>\n",
       "      <td>0.0</td>\n",
       "      <td>0.0</td>\n",
       "      <td>0.0</td>\n",
       "      <td>0.0</td>\n",
       "      <td>0.0</td>\n",
       "      <td>NaN</td>\n",
       "      <td>140.000000</td>\n",
       "      <td>86.000000</td>\n",
       "    </tr>\n",
       "    <tr>\n",
       "      <th>1</th>\n",
       "      <td>2</td>\n",
       "      <td>229.0</td>\n",
       "      <td>1.0</td>\n",
       "      <td>3.0</td>\n",
       "      <td>78.0</td>\n",
       "      <td>83.4</td>\n",
       "      <td>170.1</td>\n",
       "      <td>28.8</td>\n",
       "      <td>56.0</td>\n",
       "      <td>1.0</td>\n",
       "      <td>...</td>\n",
       "      <td>0.0</td>\n",
       "      <td>4.0</td>\n",
       "      <td>240.0</td>\n",
       "      <td>0.0</td>\n",
       "      <td>0.0</td>\n",
       "      <td>0.0</td>\n",
       "      <td>0.0</td>\n",
       "      <td>NaN</td>\n",
       "      <td>135.333333</td>\n",
       "      <td>45.333333</td>\n",
       "    </tr>\n",
       "    <tr>\n",
       "      <th>2</th>\n",
       "      <td>4</td>\n",
       "      <td>204.0</td>\n",
       "      <td>2.0</td>\n",
       "      <td>4.0</td>\n",
       "      <td>42.0</td>\n",
       "      <td>55.2</td>\n",
       "      <td>164.9</td>\n",
       "      <td>20.3</td>\n",
       "      <td>76.0</td>\n",
       "      <td>1.0</td>\n",
       "      <td>...</td>\n",
       "      <td>0.0</td>\n",
       "      <td>7.0</td>\n",
       "      <td>480.0</td>\n",
       "      <td>0.0</td>\n",
       "      <td>0.0</td>\n",
       "      <td>0.0</td>\n",
       "      <td>0.0</td>\n",
       "      <td>NaN</td>\n",
       "      <td>104.000000</td>\n",
       "      <td>60.000000</td>\n",
       "    </tr>\n",
       "    <tr>\n",
       "      <th>3</th>\n",
       "      <td>5</td>\n",
       "      <td>190.0</td>\n",
       "      <td>2.0</td>\n",
       "      <td>1.0</td>\n",
       "      <td>72.0</td>\n",
       "      <td>64.4</td>\n",
       "      <td>150.0</td>\n",
       "      <td>28.6</td>\n",
       "      <td>64.0</td>\n",
       "      <td>1.0</td>\n",
       "      <td>...</td>\n",
       "      <td>0.0</td>\n",
       "      <td>0.0</td>\n",
       "      <td>0.0</td>\n",
       "      <td>0.0</td>\n",
       "      <td>0.0</td>\n",
       "      <td>0.0</td>\n",
       "      <td>0.0</td>\n",
       "      <td>NaN</td>\n",
       "      <td>119.333333</td>\n",
       "      <td>58.666667</td>\n",
       "    </tr>\n",
       "    <tr>\n",
       "      <th>4</th>\n",
       "      <td>7</td>\n",
       "      <td>164.0</td>\n",
       "      <td>1.0</td>\n",
       "      <td>4.0</td>\n",
       "      <td>22.0</td>\n",
       "      <td>76.6</td>\n",
       "      <td>165.4</td>\n",
       "      <td>28.0</td>\n",
       "      <td>66.0</td>\n",
       "      <td>1.0</td>\n",
       "      <td>...</td>\n",
       "      <td>0.0</td>\n",
       "      <td>0.0</td>\n",
       "      <td>0.0</td>\n",
       "      <td>2.0</td>\n",
       "      <td>60.0</td>\n",
       "      <td>0.0</td>\n",
       "      <td>0.0</td>\n",
       "      <td>NaN</td>\n",
       "      <td>111.333333</td>\n",
       "      <td>72.666667</td>\n",
       "    </tr>\n",
       "  </tbody>\n",
       "</table>\n",
       "<p>5 rows × 47 columns</p>\n",
       "</div>"
      ],
      "text/plain": [
       "   Unnamed: 0  LBXTC  RIAGENDR  RIDRETH3  RIDAGEYR  BMXWT  BMXHT  BMXBMI  \\\n",
       "0           1  265.0       1.0       3.0      53.0   90.4  171.4    30.8   \n",
       "1           2  229.0       1.0       3.0      78.0   83.4  170.1    28.8   \n",
       "2           4  204.0       2.0       4.0      42.0   55.2  164.9    20.3   \n",
       "3           5  190.0       2.0       1.0      72.0   64.4  150.0    28.6   \n",
       "4           7  164.0       1.0       4.0      22.0   76.6  165.4    28.0   \n",
       "\n",
       "   BPXPLS  BPXPULS  ...  PAD615  PAQ625  PAD630  PAQ655  PAD660  PAQ670  \\\n",
       "0    72.0      1.0  ...     0.0     0.0     0.0     0.0     0.0     0.0   \n",
       "1    56.0      1.0  ...     0.0     4.0   240.0     0.0     0.0     0.0   \n",
       "2    76.0      1.0  ...     0.0     7.0   480.0     0.0     0.0     0.0   \n",
       "3    64.0      1.0  ...     0.0     0.0     0.0     0.0     0.0     0.0   \n",
       "4    66.0      1.0  ...     0.0     0.0     0.0     2.0    60.0     0.0   \n",
       "\n",
       "   PAD675  KIQ022    Systolic  Diastolic  \n",
       "0     0.0     NaN  140.000000  86.000000  \n",
       "1     0.0     NaN  135.333333  45.333333  \n",
       "2     0.0     NaN  104.000000  60.000000  \n",
       "3     0.0     NaN  119.333333  58.666667  \n",
       "4     0.0     NaN  111.333333  72.666667  \n",
       "\n",
       "[5 rows x 47 columns]"
      ]
     },
     "execution_count": 2,
     "metadata": {},
     "output_type": "execute_result"
    }
   ],
   "source": [
    "df = pd.read_csv('../Data/df_processed.csv')\n",
    "df.head()"
   ]
  },
  {
   "cell_type": "code",
   "execution_count": 3,
   "id": "88f7d287",
   "metadata": {},
   "outputs": [
    {
     "data": {
      "text/plain": [
       "Index(['Unnamed: 0', 'LBXTC', 'RIAGENDR', 'RIDRETH3', 'RIDAGEYR', 'BMXWT',\n",
       "       'BMXHT', 'BMXBMI', 'BPXPLS', 'BPXPULS', 'DR1TKCAL', 'DR1TPROT',\n",
       "       'DR1TCARB', 'DR1TSUGR', 'DR1TFIBE', 'DR1TTFAT', 'DR1TSFAT', 'DR1TMFAT',\n",
       "       'DR1TPFAT', 'DR1TCHOL', 'DR1TSODI', 'DR1TVD', 'DR1TCALC', 'DR1TIRON',\n",
       "       'DR1TPOTA', 'DR1_300', 'ALQ120Q', 'ALQ120U', 'ALQ130', 'BPQ020',\n",
       "       'BPQ050A', 'BPQ080', 'BPQ100D', 'DIQ010', 'MCQ170M', 'SMQ681', 'PAQ610',\n",
       "       'PAD615', 'PAQ625', 'PAD630', 'PAQ655', 'PAD660', 'PAQ670', 'PAD675',\n",
       "       'KIQ022', 'Systolic', 'Diastolic'],\n",
       "      dtype='object')"
      ]
     },
     "execution_count": 3,
     "metadata": {},
     "output_type": "execute_result"
    }
   ],
   "source": [
    "df.columns"
   ]
  },
  {
   "cell_type": "code",
   "execution_count": 4,
   "id": "2008c9d1",
   "metadata": {},
   "outputs": [],
   "source": [
    "df.drop('Unnamed: 0',axis=1,inplace=True)"
   ]
  },
  {
   "cell_type": "code",
   "execution_count": 5,
   "id": "23bc145c",
   "metadata": {},
   "outputs": [
    {
     "data": {
      "text/plain": [
       "Int64Index([ 743,  535,  895,   37,  379,  141,  982, 2092,   65, 1248,\n",
       "            ...\n",
       "            4840, 4257, 3265, 4727, 4692, 2581, 4524, 3044, 3206, 1230],\n",
       "           dtype='int64', length=345)"
      ]
     },
     "execution_count": 5,
     "metadata": {},
     "output_type": "execute_result"
    }
   ],
   "source": [
    "null_rows = (100*df.isnull().sum(axis=1)/df.shape[1]).sort_values(ascending=False)\n",
    "null_rows[null_rows > 25].index"
   ]
  },
  {
   "cell_type": "code",
   "execution_count": 6,
   "id": "8541a069",
   "metadata": {},
   "outputs": [],
   "source": [
    "df.drop(null_rows[null_rows>25].index,axis=0,inplace=True)"
   ]
  },
  {
   "cell_type": "code",
   "execution_count": 7,
   "id": "fc59e5e2",
   "metadata": {},
   "outputs": [
    {
     "data": {
      "text/plain": [
       "KIQ022    49.098325\n",
       "dtype: float64"
      ]
     },
     "execution_count": 7,
     "metadata": {},
     "output_type": "execute_result"
    }
   ],
   "source": [
    "null_cols = (100*df.isnull().sum(axis=0)/df.shape[0]).sort_values(ascending=False)\n",
    "null_cols[null_cols>25]"
   ]
  },
  {
   "cell_type": "markdown",
   "id": "d392a29a",
   "metadata": {},
   "source": [
    "As the variable regarding Kidney conditions is the only variable with more than a quarter of the data missing, that will be dropped.\n",
    "\n",
    "note to self - go back through the docs and see if the result of a prior question skips over this"
   ]
  },
  {
   "cell_type": "code",
   "execution_count": 8,
   "id": "495982fa",
   "metadata": {},
   "outputs": [],
   "source": [
    "df.drop('KIQ022',axis=1,inplace=True)"
   ]
  },
  {
   "cell_type": "markdown",
   "id": "2fbc4764",
   "metadata": {},
   "source": [
    "## Looking for erroneous data"
   ]
  },
  {
   "cell_type": "code",
   "execution_count": 9,
   "id": "b4a17f8d",
   "metadata": {},
   "outputs": [
    {
     "data": {
      "text/plain": [
       "Index(['LBXTC', 'RIAGENDR', 'RIDRETH3', 'RIDAGEYR', 'BMXWT', 'BMXHT', 'BMXBMI',\n",
       "       'BPXPLS', 'BPXPULS', 'DR1TKCAL', 'DR1TPROT', 'DR1TCARB', 'DR1TSUGR',\n",
       "       'DR1TFIBE', 'DR1TTFAT', 'DR1TSFAT', 'DR1TMFAT', 'DR1TPFAT', 'DR1TCHOL',\n",
       "       'DR1TSODI', 'DR1TVD', 'DR1TCALC', 'DR1TIRON', 'DR1TPOTA', 'DR1_300',\n",
       "       'ALQ120Q', 'ALQ120U', 'ALQ130', 'BPQ020', 'BPQ050A', 'BPQ080',\n",
       "       'BPQ100D', 'DIQ010', 'MCQ170M', 'SMQ681', 'PAQ610', 'PAD615', 'PAQ625',\n",
       "       'PAD630', 'PAQ655', 'PAD660', 'PAQ670', 'PAD675', 'Systolic',\n",
       "       'Diastolic'],\n",
       "      dtype='object')"
      ]
     },
     "execution_count": 9,
     "metadata": {},
     "output_type": "execute_result"
    }
   ],
   "source": [
    "df.columns"
   ]
  },
  {
   "cell_type": "code",
   "execution_count": 12,
   "id": "86d04fd0",
   "metadata": {},
   "outputs": [
    {
     "data": {
      "text/plain": [
       "count    4658.000000\n",
       "mean      189.365608\n",
       "std        41.900601\n",
       "min        69.000000\n",
       "25%       160.000000\n",
       "50%       186.000000\n",
       "75%       213.000000\n",
       "max       612.000000\n",
       "Name: LBXTC, dtype: float64"
      ]
     },
     "execution_count": 12,
     "metadata": {},
     "output_type": "execute_result"
    }
   ],
   "source": [
    "df.LBXTC.describe()"
   ]
  },
  {
   "cell_type": "markdown",
   "id": "c9abe425",
   "metadata": {},
   "source": [
    "Although the max is large, there doesn't appear to be an errors.  I'll have to figure out what I want to do with outliers."
   ]
  },
  {
   "cell_type": "code",
   "execution_count": 13,
   "id": "15287ac4",
   "metadata": {},
   "outputs": [
    {
     "data": {
      "text/plain": [
       "array([1., 2.])"
      ]
     },
     "execution_count": 13,
     "metadata": {},
     "output_type": "execute_result"
    }
   ],
   "source": [
    "df.RIAGENDR.unique()"
   ]
  },
  {
   "cell_type": "code",
   "execution_count": 14,
   "id": "63a6a13e",
   "metadata": {},
   "outputs": [
    {
     "data": {
      "text/plain": [
       "array([3., 4., 1., 7., 2., 6.])"
      ]
     },
     "execution_count": 14,
     "metadata": {},
     "output_type": "execute_result"
    }
   ],
   "source": [
    "df.RIDRETH3.unique()"
   ]
  },
  {
   "cell_type": "code",
   "execution_count": 15,
   "id": "4de895d6",
   "metadata": {},
   "outputs": [
    {
     "data": {
      "text/plain": [
       "count    4658.000000\n",
       "mean       49.384714\n",
       "std        17.424684\n",
       "min        20.000000\n",
       "25%        34.250000\n",
       "50%        49.000000\n",
       "75%        63.000000\n",
       "max        80.000000\n",
       "Name: RIDAGEYR, dtype: float64"
      ]
     },
     "execution_count": 15,
     "metadata": {},
     "output_type": "execute_result"
    }
   ],
   "source": [
    "df.RIDAGEYR.describe()"
   ]
  },
  {
   "cell_type": "code",
   "execution_count": 16,
   "id": "45fe7f2f",
   "metadata": {},
   "outputs": [
    {
     "data": {
      "text/plain": [
       "count    4635.000000\n",
       "mean       82.320820\n",
       "std        22.088128\n",
       "min        32.300000\n",
       "25%        66.800000\n",
       "50%        78.900000\n",
       "75%        93.850000\n",
       "max       198.900000\n",
       "Name: BMXWT, dtype: float64"
      ]
     },
     "execution_count": 16,
     "metadata": {},
     "output_type": "execute_result"
    }
   ],
   "source": [
    "df.BMXWT.describe()"
   ]
  },
  {
   "cell_type": "code",
   "execution_count": 17,
   "id": "8372d379",
   "metadata": {},
   "outputs": [
    {
     "data": {
      "text/plain": [
       "count    4633.000000\n",
       "mean      167.099426\n",
       "std         9.986096\n",
       "min       137.600000\n",
       "25%       159.800000\n",
       "50%       166.800000\n",
       "75%       174.300000\n",
       "max       202.700000\n",
       "Name: BMXHT, dtype: float64"
      ]
     },
     "execution_count": 17,
     "metadata": {},
     "output_type": "execute_result"
    }
   ],
   "source": [
    "df.BMXHT.describe()"
   ]
  },
  {
   "cell_type": "code",
   "execution_count": 18,
   "id": "171d70ed",
   "metadata": {},
   "outputs": [
    {
     "data": {
      "text/plain": [
       "count    4627.000000\n",
       "mean       29.398617\n",
       "std         7.164954\n",
       "min        14.500000\n",
       "25%        24.300000\n",
       "50%        28.200000\n",
       "75%        33.000000\n",
       "max        70.100000\n",
       "Name: BMXBMI, dtype: float64"
      ]
     },
     "execution_count": 18,
     "metadata": {},
     "output_type": "execute_result"
    }
   ],
   "source": [
    "df.BMXBMI.describe()"
   ]
  },
  {
   "cell_type": "code",
   "execution_count": 19,
   "id": "e0888090",
   "metadata": {},
   "outputs": [
    {
     "data": {
      "text/plain": [
       "count    4581.000000\n",
       "mean       71.765990\n",
       "std        11.594054\n",
       "min        36.000000\n",
       "25%        64.000000\n",
       "50%        70.000000\n",
       "75%        78.000000\n",
       "max       160.000000\n",
       "Name: BPXPLS, dtype: float64"
      ]
     },
     "execution_count": 19,
     "metadata": {},
     "output_type": "execute_result"
    }
   ],
   "source": [
    "df.BPXPLS.describe()"
   ]
  },
  {
   "cell_type": "code",
   "execution_count": 20,
   "id": "75bfdeab",
   "metadata": {},
   "outputs": [
    {
     "data": {
      "text/plain": [
       "array([ 1.,  2., nan])"
      ]
     },
     "execution_count": 20,
     "metadata": {},
     "output_type": "execute_result"
    }
   ],
   "source": [
    "df.BPXPULS.unique()"
   ]
  },
  {
   "cell_type": "code",
   "execution_count": 21,
   "id": "e4a7d8ea",
   "metadata": {},
   "outputs": [
    {
     "data": {
      "text/plain": [
       "count     4658.000000\n",
       "mean      2091.592744\n",
       "std        986.841250\n",
       "min        117.000000\n",
       "25%       1435.000000\n",
       "50%       1935.500000\n",
       "75%       2555.750000\n",
       "max      12108.000000\n",
       "Name: DR1TKCAL, dtype: float64"
      ]
     },
     "execution_count": 21,
     "metadata": {},
     "output_type": "execute_result"
    }
   ],
   "source": [
    "df.DR1TKCAL.describe()"
   ]
  },
  {
   "cell_type": "code",
   "execution_count": 22,
   "id": "622c879f",
   "metadata": {},
   "outputs": [
    {
     "data": {
      "text/plain": [
       "count    4.658000e+03\n",
       "mean     8.192210e+01\n",
       "std      4.403831e+01\n",
       "min      5.397605e-79\n",
       "25%      5.233250e+01\n",
       "50%      7.386500e+01\n",
       "75%      1.013775e+02\n",
       "max      5.131000e+02\n",
       "Name: DR1TPROT, dtype: float64"
      ]
     },
     "execution_count": 22,
     "metadata": {},
     "output_type": "execute_result"
    }
   ],
   "source": [
    "df.DR1TPROT.describe()"
   ]
  },
  {
   "cell_type": "markdown",
   "id": "3c9fc314",
   "metadata": {},
   "source": [
    "For protein amount, a value of 5.397e-79 seems to be a mistake.  I'm replacing all values less than 1 with 0"
   ]
  },
  {
   "cell_type": "code",
   "execution_count": 24,
   "id": "694808c0",
   "metadata": {},
   "outputs": [
    {
     "data": {
      "text/plain": [
       "count    4658.000000\n",
       "mean       81.922102\n",
       "std        44.038307\n",
       "min         0.000000\n",
       "25%        52.332500\n",
       "50%        73.865000\n",
       "75%       101.377500\n",
       "max       513.100000\n",
       "Name: DR1TPROT, dtype: float64"
      ]
     },
     "execution_count": 24,
     "metadata": {},
     "output_type": "execute_result"
    }
   ],
   "source": [
    "df.loc[df.DR1TPROT<1,'DR1TPROT']=0\n",
    "df.DR1TPROT.describe()"
   ]
  },
  {
   "cell_type": "code",
   "execution_count": 25,
   "id": "91afefc7",
   "metadata": {},
   "outputs": [
    {
     "data": {
      "text/plain": [
       "count    4658.000000\n",
       "mean      247.133828\n",
       "std       123.387580\n",
       "min         8.670000\n",
       "25%       162.582500\n",
       "50%       227.485000\n",
       "75%       308.275000\n",
       "max      1423.870000\n",
       "Name: DR1TCARB, dtype: float64"
      ]
     },
     "execution_count": 25,
     "metadata": {},
     "output_type": "execute_result"
    }
   ],
   "source": [
    "df.DR1TCARB.describe()"
   ]
  },
  {
   "cell_type": "code",
   "execution_count": 26,
   "id": "527ac340",
   "metadata": {},
   "outputs": [
    {
     "data": {
      "text/plain": [
       "count    4658.000000\n",
       "mean      105.321627\n",
       "std        74.766506\n",
       "min         0.130000\n",
       "25%        55.112500\n",
       "50%        90.615000\n",
       "75%       138.465000\n",
       "max      1115.500000\n",
       "Name: DR1TSUGR, dtype: float64"
      ]
     },
     "execution_count": 26,
     "metadata": {},
     "output_type": "execute_result"
    }
   ],
   "source": [
    "df.DR1TSUGR.describe()"
   ]
  },
  {
   "cell_type": "code",
   "execution_count": 27,
   "id": "435e889f",
   "metadata": {},
   "outputs": [
    {
     "data": {
      "text/plain": [
       "count    4.658000e+03\n",
       "mean     1.687106e+01\n",
       "std      1.082425e+01\n",
       "min      5.397605e-79\n",
       "25%      9.500000e+00\n",
       "50%      1.450000e+01\n",
       "75%      2.160000e+01\n",
       "max      1.363000e+02\n",
       "Name: DR1TFIBE, dtype: float64"
      ]
     },
     "execution_count": 27,
     "metadata": {},
     "output_type": "execute_result"
    }
   ],
   "source": [
    "df.DR1TFIBE.describe()"
   ]
  },
  {
   "cell_type": "markdown",
   "id": "666ec79a",
   "metadata": {},
   "source": [
    "Again, extremely small min values"
   ]
  },
  {
   "cell_type": "code",
   "execution_count": 28,
   "id": "75182c35",
   "metadata": {},
   "outputs": [
    {
     "data": {
      "text/plain": [
       "17"
      ]
     },
     "execution_count": 28,
     "metadata": {},
     "output_type": "execute_result"
    }
   ],
   "source": [
    "sum(df.DR1TFIBE<1)"
   ]
  },
  {
   "cell_type": "markdown",
   "id": "901ab3df",
   "metadata": {},
   "source": [
    "This time there appears to be more small values, taking a look at these"
   ]
  },
  {
   "cell_type": "code",
   "execution_count": 29,
   "id": "09ed2494",
   "metadata": {},
   "outputs": [
    {
     "data": {
      "text/plain": [
       "261     3.000000e-01\n",
       "359     7.000000e-01\n",
       "737     4.000000e-01\n",
       "835     7.000000e-01\n",
       "963     5.397605e-79\n",
       "1406    1.000000e-01\n",
       "1952    4.000000e-01\n",
       "2483    8.000000e-01\n",
       "2490    5.000000e-01\n",
       "2890    5.397605e-79\n",
       "3168    2.000000e-01\n",
       "3316    4.000000e-01\n",
       "3584    8.000000e-01\n",
       "3724    5.397605e-79\n",
       "3979    5.397605e-79\n",
       "4053    3.000000e-01\n",
       "4853    4.000000e-01\n",
       "Name: DR1TFIBE, dtype: float64"
      ]
     },
     "execution_count": 29,
     "metadata": {},
     "output_type": "execute_result"
    }
   ],
   "source": [
    "df[df.DR1TFIBE<1]['DR1TFIBE']"
   ]
  },
  {
   "cell_type": "markdown",
   "id": "5cb7a7e1",
   "metadata": {},
   "source": [
    "Values of 0.2 may be reasonable, but anything less than 0.01 is probably an error."
   ]
  },
  {
   "cell_type": "code",
   "execution_count": 30,
   "id": "359ec54e",
   "metadata": {},
   "outputs": [
    {
     "data": {
      "text/plain": [
       "963     5.397605e-79\n",
       "2890    5.397605e-79\n",
       "3724    5.397605e-79\n",
       "3979    5.397605e-79\n",
       "Name: DR1TFIBE, dtype: float64"
      ]
     },
     "execution_count": 30,
     "metadata": {},
     "output_type": "execute_result"
    }
   ],
   "source": [
    "df[df.DR1TFIBE<0.05]['DR1TFIBE']"
   ]
  },
  {
   "cell_type": "code",
   "execution_count": 31,
   "id": "ae950ed0",
   "metadata": {},
   "outputs": [],
   "source": [
    "df.loc[df.DR1TFIBE<0.05,'DR1TFIBE']=0"
   ]
  },
  {
   "cell_type": "code",
   "execution_count": 32,
   "id": "873ab580",
   "metadata": {},
   "outputs": [
    {
     "data": {
      "text/plain": [
       "count    4658.000000\n",
       "mean       16.871061\n",
       "std        10.824250\n",
       "min         0.000000\n",
       "25%         9.500000\n",
       "50%        14.500000\n",
       "75%        21.600000\n",
       "max       136.300000\n",
       "Name: DR1TFIBE, dtype: float64"
      ]
     },
     "execution_count": 32,
     "metadata": {},
     "output_type": "execute_result"
    }
   ],
   "source": [
    "df.DR1TFIBE.describe()"
   ]
  },
  {
   "cell_type": "code",
   "execution_count": null,
   "id": "0ce57c37",
   "metadata": {},
   "outputs": [],
   "source": [
    "df"
   ]
  }
 ],
 "metadata": {
  "kernelspec": {
   "display_name": "Python 3",
   "language": "python",
   "name": "python3"
  },
  "language_info": {
   "codemirror_mode": {
    "name": "ipython",
    "version": 3
   },
   "file_extension": ".py",
   "mimetype": "text/x-python",
   "name": "python",
   "nbconvert_exporter": "python",
   "pygments_lexer": "ipython3",
   "version": "3.9.5"
  }
 },
 "nbformat": 4,
 "nbformat_minor": 5
}
