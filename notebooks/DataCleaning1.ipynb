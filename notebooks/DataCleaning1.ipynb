{
 "cells": [
  {
   "cell_type": "code",
   "execution_count": 1,
   "id": "b91be173",
   "metadata": {},
   "outputs": [],
   "source": [
    "import numpy as np\n",
    "import pandas as pd"
   ]
  },
  {
   "cell_type": "code",
   "execution_count": 2,
   "id": "592bee58",
   "metadata": {},
   "outputs": [
    {
     "data": {
      "text/html": [
       "<div>\n",
       "<style scoped>\n",
       "    .dataframe tbody tr th:only-of-type {\n",
       "        vertical-align: middle;\n",
       "    }\n",
       "\n",
       "    .dataframe tbody tr th {\n",
       "        vertical-align: top;\n",
       "    }\n",
       "\n",
       "    .dataframe thead th {\n",
       "        text-align: right;\n",
       "    }\n",
       "</style>\n",
       "<table border=\"1\" class=\"dataframe\">\n",
       "  <thead>\n",
       "    <tr style=\"text-align: right;\">\n",
       "      <th></th>\n",
       "      <th>Unnamed: 0</th>\n",
       "      <th>LBXTC</th>\n",
       "      <th>RIAGENDR</th>\n",
       "      <th>RIDRETH3</th>\n",
       "      <th>RIDAGEYR</th>\n",
       "      <th>BMXWT</th>\n",
       "      <th>BMXHT</th>\n",
       "      <th>BMXBMI</th>\n",
       "      <th>BPXPLS</th>\n",
       "      <th>BPXPULS</th>\n",
       "      <th>...</th>\n",
       "      <th>PAD615</th>\n",
       "      <th>PAQ625</th>\n",
       "      <th>PAD630</th>\n",
       "      <th>PAQ655</th>\n",
       "      <th>PAD660</th>\n",
       "      <th>PAQ670</th>\n",
       "      <th>PAD675</th>\n",
       "      <th>KIQ022</th>\n",
       "      <th>Systolic</th>\n",
       "      <th>Diastolic</th>\n",
       "    </tr>\n",
       "  </thead>\n",
       "  <tbody>\n",
       "    <tr>\n",
       "      <th>0</th>\n",
       "      <td>1</td>\n",
       "      <td>265.0</td>\n",
       "      <td>1.0</td>\n",
       "      <td>3.0</td>\n",
       "      <td>53.0</td>\n",
       "      <td>90.4</td>\n",
       "      <td>171.4</td>\n",
       "      <td>30.8</td>\n",
       "      <td>72.0</td>\n",
       "      <td>1.0</td>\n",
       "      <td>...</td>\n",
       "      <td>0.0</td>\n",
       "      <td>0.0</td>\n",
       "      <td>0.0</td>\n",
       "      <td>0.0</td>\n",
       "      <td>0.0</td>\n",
       "      <td>0.0</td>\n",
       "      <td>0.0</td>\n",
       "      <td>NaN</td>\n",
       "      <td>140.000000</td>\n",
       "      <td>86.000000</td>\n",
       "    </tr>\n",
       "    <tr>\n",
       "      <th>1</th>\n",
       "      <td>2</td>\n",
       "      <td>229.0</td>\n",
       "      <td>1.0</td>\n",
       "      <td>3.0</td>\n",
       "      <td>78.0</td>\n",
       "      <td>83.4</td>\n",
       "      <td>170.1</td>\n",
       "      <td>28.8</td>\n",
       "      <td>56.0</td>\n",
       "      <td>1.0</td>\n",
       "      <td>...</td>\n",
       "      <td>0.0</td>\n",
       "      <td>4.0</td>\n",
       "      <td>240.0</td>\n",
       "      <td>0.0</td>\n",
       "      <td>0.0</td>\n",
       "      <td>0.0</td>\n",
       "      <td>0.0</td>\n",
       "      <td>NaN</td>\n",
       "      <td>135.333333</td>\n",
       "      <td>45.333333</td>\n",
       "    </tr>\n",
       "    <tr>\n",
       "      <th>2</th>\n",
       "      <td>4</td>\n",
       "      <td>204.0</td>\n",
       "      <td>2.0</td>\n",
       "      <td>4.0</td>\n",
       "      <td>42.0</td>\n",
       "      <td>55.2</td>\n",
       "      <td>164.9</td>\n",
       "      <td>20.3</td>\n",
       "      <td>76.0</td>\n",
       "      <td>1.0</td>\n",
       "      <td>...</td>\n",
       "      <td>0.0</td>\n",
       "      <td>7.0</td>\n",
       "      <td>480.0</td>\n",
       "      <td>0.0</td>\n",
       "      <td>0.0</td>\n",
       "      <td>0.0</td>\n",
       "      <td>0.0</td>\n",
       "      <td>NaN</td>\n",
       "      <td>104.000000</td>\n",
       "      <td>60.000000</td>\n",
       "    </tr>\n",
       "    <tr>\n",
       "      <th>3</th>\n",
       "      <td>5</td>\n",
       "      <td>190.0</td>\n",
       "      <td>2.0</td>\n",
       "      <td>1.0</td>\n",
       "      <td>72.0</td>\n",
       "      <td>64.4</td>\n",
       "      <td>150.0</td>\n",
       "      <td>28.6</td>\n",
       "      <td>64.0</td>\n",
       "      <td>1.0</td>\n",
       "      <td>...</td>\n",
       "      <td>0.0</td>\n",
       "      <td>0.0</td>\n",
       "      <td>0.0</td>\n",
       "      <td>0.0</td>\n",
       "      <td>0.0</td>\n",
       "      <td>0.0</td>\n",
       "      <td>0.0</td>\n",
       "      <td>NaN</td>\n",
       "      <td>119.333333</td>\n",
       "      <td>58.666667</td>\n",
       "    </tr>\n",
       "    <tr>\n",
       "      <th>4</th>\n",
       "      <td>7</td>\n",
       "      <td>164.0</td>\n",
       "      <td>1.0</td>\n",
       "      <td>4.0</td>\n",
       "      <td>22.0</td>\n",
       "      <td>76.6</td>\n",
       "      <td>165.4</td>\n",
       "      <td>28.0</td>\n",
       "      <td>66.0</td>\n",
       "      <td>1.0</td>\n",
       "      <td>...</td>\n",
       "      <td>0.0</td>\n",
       "      <td>0.0</td>\n",
       "      <td>0.0</td>\n",
       "      <td>2.0</td>\n",
       "      <td>60.0</td>\n",
       "      <td>0.0</td>\n",
       "      <td>0.0</td>\n",
       "      <td>NaN</td>\n",
       "      <td>111.333333</td>\n",
       "      <td>72.666667</td>\n",
       "    </tr>\n",
       "  </tbody>\n",
       "</table>\n",
       "<p>5 rows × 47 columns</p>\n",
       "</div>"
      ],
      "text/plain": [
       "   Unnamed: 0  LBXTC  RIAGENDR  RIDRETH3  RIDAGEYR  BMXWT  BMXHT  BMXBMI  \\\n",
       "0           1  265.0       1.0       3.0      53.0   90.4  171.4    30.8   \n",
       "1           2  229.0       1.0       3.0      78.0   83.4  170.1    28.8   \n",
       "2           4  204.0       2.0       4.0      42.0   55.2  164.9    20.3   \n",
       "3           5  190.0       2.0       1.0      72.0   64.4  150.0    28.6   \n",
       "4           7  164.0       1.0       4.0      22.0   76.6  165.4    28.0   \n",
       "\n",
       "   BPXPLS  BPXPULS  ...  PAD615  PAQ625  PAD630  PAQ655  PAD660  PAQ670  \\\n",
       "0    72.0      1.0  ...     0.0     0.0     0.0     0.0     0.0     0.0   \n",
       "1    56.0      1.0  ...     0.0     4.0   240.0     0.0     0.0     0.0   \n",
       "2    76.0      1.0  ...     0.0     7.0   480.0     0.0     0.0     0.0   \n",
       "3    64.0      1.0  ...     0.0     0.0     0.0     0.0     0.0     0.0   \n",
       "4    66.0      1.0  ...     0.0     0.0     0.0     2.0    60.0     0.0   \n",
       "\n",
       "   PAD675  KIQ022    Systolic  Diastolic  \n",
       "0     0.0     NaN  140.000000  86.000000  \n",
       "1     0.0     NaN  135.333333  45.333333  \n",
       "2     0.0     NaN  104.000000  60.000000  \n",
       "3     0.0     NaN  119.333333  58.666667  \n",
       "4     0.0     NaN  111.333333  72.666667  \n",
       "\n",
       "[5 rows x 47 columns]"
      ]
     },
     "execution_count": 2,
     "metadata": {},
     "output_type": "execute_result"
    }
   ],
   "source": [
    "df = pd.read_csv('../Data/df_processed.csv')\n",
    "df.head()"
   ]
  },
  {
   "cell_type": "code",
   "execution_count": 3,
   "id": "88f7d287",
   "metadata": {},
   "outputs": [
    {
     "data": {
      "text/plain": [
       "Index(['Unnamed: 0', 'LBXTC', 'RIAGENDR', 'RIDRETH3', 'RIDAGEYR', 'BMXWT',\n",
       "       'BMXHT', 'BMXBMI', 'BPXPLS', 'BPXPULS', 'DR1TKCAL', 'DR1TPROT',\n",
       "       'DR1TCARB', 'DR1TSUGR', 'DR1TFIBE', 'DR1TTFAT', 'DR1TSFAT', 'DR1TMFAT',\n",
       "       'DR1TPFAT', 'DR1TCHOL', 'DR1TSODI', 'DR1TVD', 'DR1TCALC', 'DR1TIRON',\n",
       "       'DR1TPOTA', 'DR1_300', 'ALQ120Q', 'ALQ120U', 'ALQ130', 'BPQ020',\n",
       "       'BPQ050A', 'BPQ080', 'BPQ100D', 'DIQ010', 'MCQ170M', 'SMQ681', 'PAQ610',\n",
       "       'PAD615', 'PAQ625', 'PAD630', 'PAQ655', 'PAD660', 'PAQ670', 'PAD675',\n",
       "       'KIQ022', 'Systolic', 'Diastolic'],\n",
       "      dtype='object')"
      ]
     },
     "execution_count": 3,
     "metadata": {},
     "output_type": "execute_result"
    }
   ],
   "source": [
    "df.columns"
   ]
  },
  {
   "cell_type": "code",
   "execution_count": 4,
   "id": "2008c9d1",
   "metadata": {},
   "outputs": [],
   "source": [
    "df.drop('Unnamed: 0',axis=1,inplace=True)"
   ]
  },
  {
   "cell_type": "code",
   "execution_count": 5,
   "id": "23bc145c",
   "metadata": {},
   "outputs": [
    {
     "data": {
      "text/plain": [
       "Int64Index([ 743,  535,  895,   37,  379,  141,  982, 2092,   65, 1248,\n",
       "            ...\n",
       "            4840, 4257, 3265, 4727, 4692, 2581, 4524, 3044, 3206, 1230],\n",
       "           dtype='int64', length=345)"
      ]
     },
     "execution_count": 5,
     "metadata": {},
     "output_type": "execute_result"
    }
   ],
   "source": [
    "null_rows = (100*df.isnull().sum(axis=1)/df.shape[1]).sort_values(ascending=False)\n",
    "null_rows[null_rows > 25].index"
   ]
  },
  {
   "cell_type": "code",
   "execution_count": 6,
   "id": "8541a069",
   "metadata": {},
   "outputs": [],
   "source": [
    "df.drop(null_rows[null_rows>25].index,axis=0,inplace=True)"
   ]
  },
  {
   "cell_type": "code",
   "execution_count": 7,
   "id": "fc59e5e2",
   "metadata": {},
   "outputs": [
    {
     "data": {
      "text/plain": [
       "KIQ022    49.098325\n",
       "dtype: float64"
      ]
     },
     "execution_count": 7,
     "metadata": {},
     "output_type": "execute_result"
    }
   ],
   "source": [
    "null_cols = (100*df.isnull().sum(axis=0)/df.shape[0]).sort_values(ascending=False)\n",
    "null_cols[null_cols>25]"
   ]
  },
  {
   "cell_type": "markdown",
   "id": "d392a29a",
   "metadata": {},
   "source": [
    "As the variable regarding Kidney conditions is the only variable with more than a quarter of the data missing, that will be dropped.\n",
    "\n",
    "note to self - go back through the docs and see if the result of a prior question skips over this"
   ]
  },
  {
   "cell_type": "code",
   "execution_count": 8,
   "id": "495982fa",
   "metadata": {},
   "outputs": [],
   "source": [
    "df.drop('KIQ022',axis=1,inplace=True)"
   ]
  },
  {
   "cell_type": "markdown",
   "id": "2fbc4764",
   "metadata": {},
   "source": [
    "## Looking for erroneous data"
   ]
  },
  {
   "cell_type": "code",
   "execution_count": 9,
   "id": "b4a17f8d",
   "metadata": {},
   "outputs": [
    {
     "data": {
      "text/plain": [
       "Index(['LBXTC', 'RIAGENDR', 'RIDRETH3', 'RIDAGEYR', 'BMXWT', 'BMXHT', 'BMXBMI',\n",
       "       'BPXPLS', 'BPXPULS', 'DR1TKCAL', 'DR1TPROT', 'DR1TCARB', 'DR1TSUGR',\n",
       "       'DR1TFIBE', 'DR1TTFAT', 'DR1TSFAT', 'DR1TMFAT', 'DR1TPFAT', 'DR1TCHOL',\n",
       "       'DR1TSODI', 'DR1TVD', 'DR1TCALC', 'DR1TIRON', 'DR1TPOTA', 'DR1_300',\n",
       "       'ALQ120Q', 'ALQ120U', 'ALQ130', 'BPQ020', 'BPQ050A', 'BPQ080',\n",
       "       'BPQ100D', 'DIQ010', 'MCQ170M', 'SMQ681', 'PAQ610', 'PAD615', 'PAQ625',\n",
       "       'PAD630', 'PAQ655', 'PAD660', 'PAQ670', 'PAD675', 'Systolic',\n",
       "       'Diastolic'],\n",
       "      dtype='object')"
      ]
     },
     "execution_count": 9,
     "metadata": {},
     "output_type": "execute_result"
    }
   ],
   "source": [
    "df.columns"
   ]
  },
  {
   "cell_type": "code",
   "execution_count": 10,
   "id": "86d04fd0",
   "metadata": {},
   "outputs": [
    {
     "data": {
      "text/plain": [
       "count    4658.000000\n",
       "mean      189.365608\n",
       "std        41.900601\n",
       "min        69.000000\n",
       "25%       160.000000\n",
       "50%       186.000000\n",
       "75%       213.000000\n",
       "max       612.000000\n",
       "Name: LBXTC, dtype: float64"
      ]
     },
     "execution_count": 10,
     "metadata": {},
     "output_type": "execute_result"
    }
   ],
   "source": [
    "df.LBXTC.describe()"
   ]
  },
  {
   "cell_type": "markdown",
   "id": "c9abe425",
   "metadata": {},
   "source": [
    "Although the max is large, there doesn't appear to be an errors.  I'll have to figure out what I want to do with outliers."
   ]
  },
  {
   "cell_type": "code",
   "execution_count": 11,
   "id": "15287ac4",
   "metadata": {},
   "outputs": [
    {
     "data": {
      "text/plain": [
       "array([1., 2.])"
      ]
     },
     "execution_count": 11,
     "metadata": {},
     "output_type": "execute_result"
    }
   ],
   "source": [
    "df.RIAGENDR.unique()"
   ]
  },
  {
   "cell_type": "code",
   "execution_count": 12,
   "id": "63a6a13e",
   "metadata": {},
   "outputs": [
    {
     "data": {
      "text/plain": [
       "array([3., 4., 1., 7., 2., 6.])"
      ]
     },
     "execution_count": 12,
     "metadata": {},
     "output_type": "execute_result"
    }
   ],
   "source": [
    "df.RIDRETH3.unique()"
   ]
  },
  {
   "cell_type": "code",
   "execution_count": 13,
   "id": "4de895d6",
   "metadata": {},
   "outputs": [
    {
     "data": {
      "text/plain": [
       "count    4658.000000\n",
       "mean       49.384714\n",
       "std        17.424684\n",
       "min        20.000000\n",
       "25%        34.250000\n",
       "50%        49.000000\n",
       "75%        63.000000\n",
       "max        80.000000\n",
       "Name: RIDAGEYR, dtype: float64"
      ]
     },
     "execution_count": 13,
     "metadata": {},
     "output_type": "execute_result"
    }
   ],
   "source": [
    "df.RIDAGEYR.describe()"
   ]
  },
  {
   "cell_type": "code",
   "execution_count": 14,
   "id": "45fe7f2f",
   "metadata": {},
   "outputs": [
    {
     "data": {
      "text/plain": [
       "count    4635.000000\n",
       "mean       82.320820\n",
       "std        22.088128\n",
       "min        32.300000\n",
       "25%        66.800000\n",
       "50%        78.900000\n",
       "75%        93.850000\n",
       "max       198.900000\n",
       "Name: BMXWT, dtype: float64"
      ]
     },
     "execution_count": 14,
     "metadata": {},
     "output_type": "execute_result"
    }
   ],
   "source": [
    "df.BMXWT.describe()"
   ]
  },
  {
   "cell_type": "code",
   "execution_count": 15,
   "id": "8372d379",
   "metadata": {},
   "outputs": [
    {
     "data": {
      "text/plain": [
       "count    4633.000000\n",
       "mean      167.099426\n",
       "std         9.986096\n",
       "min       137.600000\n",
       "25%       159.800000\n",
       "50%       166.800000\n",
       "75%       174.300000\n",
       "max       202.700000\n",
       "Name: BMXHT, dtype: float64"
      ]
     },
     "execution_count": 15,
     "metadata": {},
     "output_type": "execute_result"
    }
   ],
   "source": [
    "df.BMXHT.describe()"
   ]
  },
  {
   "cell_type": "code",
   "execution_count": 16,
   "id": "171d70ed",
   "metadata": {},
   "outputs": [
    {
     "data": {
      "text/plain": [
       "count    4627.000000\n",
       "mean       29.398617\n",
       "std         7.164954\n",
       "min        14.500000\n",
       "25%        24.300000\n",
       "50%        28.200000\n",
       "75%        33.000000\n",
       "max        70.100000\n",
       "Name: BMXBMI, dtype: float64"
      ]
     },
     "execution_count": 16,
     "metadata": {},
     "output_type": "execute_result"
    }
   ],
   "source": [
    "df.BMXBMI.describe()"
   ]
  },
  {
   "cell_type": "code",
   "execution_count": 17,
   "id": "e0888090",
   "metadata": {},
   "outputs": [
    {
     "data": {
      "text/plain": [
       "count    4581.000000\n",
       "mean       71.765990\n",
       "std        11.594054\n",
       "min        36.000000\n",
       "25%        64.000000\n",
       "50%        70.000000\n",
       "75%        78.000000\n",
       "max       160.000000\n",
       "Name: BPXPLS, dtype: float64"
      ]
     },
     "execution_count": 17,
     "metadata": {},
     "output_type": "execute_result"
    }
   ],
   "source": [
    "df.BPXPLS.describe()"
   ]
  },
  {
   "cell_type": "code",
   "execution_count": 18,
   "id": "75bfdeab",
   "metadata": {},
   "outputs": [
    {
     "data": {
      "text/plain": [
       "array([ 1.,  2., nan])"
      ]
     },
     "execution_count": 18,
     "metadata": {},
     "output_type": "execute_result"
    }
   ],
   "source": [
    "df.BPXPULS.unique()"
   ]
  },
  {
   "cell_type": "code",
   "execution_count": 19,
   "id": "e4a7d8ea",
   "metadata": {},
   "outputs": [
    {
     "data": {
      "text/plain": [
       "count     4658.000000\n",
       "mean      2091.592744\n",
       "std        986.841250\n",
       "min        117.000000\n",
       "25%       1435.000000\n",
       "50%       1935.500000\n",
       "75%       2555.750000\n",
       "max      12108.000000\n",
       "Name: DR1TKCAL, dtype: float64"
      ]
     },
     "execution_count": 19,
     "metadata": {},
     "output_type": "execute_result"
    }
   ],
   "source": [
    "df.DR1TKCAL.describe()"
   ]
  },
  {
   "cell_type": "code",
   "execution_count": 20,
   "id": "622c879f",
   "metadata": {},
   "outputs": [
    {
     "data": {
      "text/plain": [
       "count    4.658000e+03\n",
       "mean     8.192210e+01\n",
       "std      4.403831e+01\n",
       "min      5.397605e-79\n",
       "25%      5.233250e+01\n",
       "50%      7.386500e+01\n",
       "75%      1.013775e+02\n",
       "max      5.131000e+02\n",
       "Name: DR1TPROT, dtype: float64"
      ]
     },
     "execution_count": 20,
     "metadata": {},
     "output_type": "execute_result"
    }
   ],
   "source": [
    "df.DR1TPROT.describe()"
   ]
  },
  {
   "cell_type": "markdown",
   "id": "3c9fc314",
   "metadata": {},
   "source": [
    "For protein amount, a value of 5.397e-79 seems to be a mistake.  I'm replacing all values less than 1 with 0"
   ]
  },
  {
   "cell_type": "code",
   "execution_count": 21,
   "id": "694808c0",
   "metadata": {},
   "outputs": [
    {
     "data": {
      "text/plain": [
       "count    4658.000000\n",
       "mean       81.922102\n",
       "std        44.038307\n",
       "min         0.000000\n",
       "25%        52.332500\n",
       "50%        73.865000\n",
       "75%       101.377500\n",
       "max       513.100000\n",
       "Name: DR1TPROT, dtype: float64"
      ]
     },
     "execution_count": 21,
     "metadata": {},
     "output_type": "execute_result"
    }
   ],
   "source": [
    "df.loc[df.DR1TPROT<1,'DR1TPROT']=0\n",
    "df.DR1TPROT.describe()"
   ]
  },
  {
   "cell_type": "code",
   "execution_count": 22,
   "id": "91afefc7",
   "metadata": {},
   "outputs": [
    {
     "data": {
      "text/plain": [
       "count    4658.000000\n",
       "mean      247.133828\n",
       "std       123.387580\n",
       "min         8.670000\n",
       "25%       162.582500\n",
       "50%       227.485000\n",
       "75%       308.275000\n",
       "max      1423.870000\n",
       "Name: DR1TCARB, dtype: float64"
      ]
     },
     "execution_count": 22,
     "metadata": {},
     "output_type": "execute_result"
    }
   ],
   "source": [
    "df.DR1TCARB.describe()"
   ]
  },
  {
   "cell_type": "code",
   "execution_count": 23,
   "id": "527ac340",
   "metadata": {},
   "outputs": [
    {
     "data": {
      "text/plain": [
       "count    4658.000000\n",
       "mean      105.321627\n",
       "std        74.766506\n",
       "min         0.130000\n",
       "25%        55.112500\n",
       "50%        90.615000\n",
       "75%       138.465000\n",
       "max      1115.500000\n",
       "Name: DR1TSUGR, dtype: float64"
      ]
     },
     "execution_count": 23,
     "metadata": {},
     "output_type": "execute_result"
    }
   ],
   "source": [
    "df.DR1TSUGR.describe()"
   ]
  },
  {
   "cell_type": "code",
   "execution_count": 24,
   "id": "435e889f",
   "metadata": {},
   "outputs": [
    {
     "data": {
      "text/plain": [
       "count    4.658000e+03\n",
       "mean     1.687106e+01\n",
       "std      1.082425e+01\n",
       "min      5.397605e-79\n",
       "25%      9.500000e+00\n",
       "50%      1.450000e+01\n",
       "75%      2.160000e+01\n",
       "max      1.363000e+02\n",
       "Name: DR1TFIBE, dtype: float64"
      ]
     },
     "execution_count": 24,
     "metadata": {},
     "output_type": "execute_result"
    }
   ],
   "source": [
    "df.DR1TFIBE.describe()"
   ]
  },
  {
   "cell_type": "markdown",
   "id": "666ec79a",
   "metadata": {},
   "source": [
    "Again, extremely small min values"
   ]
  },
  {
   "cell_type": "code",
   "execution_count": 25,
   "id": "75182c35",
   "metadata": {},
   "outputs": [
    {
     "data": {
      "text/plain": [
       "17"
      ]
     },
     "execution_count": 25,
     "metadata": {},
     "output_type": "execute_result"
    }
   ],
   "source": [
    "sum(df.DR1TFIBE<1)"
   ]
  },
  {
   "cell_type": "markdown",
   "id": "901ab3df",
   "metadata": {},
   "source": [
    "This time there appears to be more small values, taking a look at these"
   ]
  },
  {
   "cell_type": "code",
   "execution_count": 26,
   "id": "09ed2494",
   "metadata": {},
   "outputs": [
    {
     "data": {
      "text/plain": [
       "261     3.000000e-01\n",
       "359     7.000000e-01\n",
       "737     4.000000e-01\n",
       "835     7.000000e-01\n",
       "963     5.397605e-79\n",
       "1406    1.000000e-01\n",
       "1952    4.000000e-01\n",
       "2483    8.000000e-01\n",
       "2490    5.000000e-01\n",
       "2890    5.397605e-79\n",
       "3168    2.000000e-01\n",
       "3316    4.000000e-01\n",
       "3584    8.000000e-01\n",
       "3724    5.397605e-79\n",
       "3979    5.397605e-79\n",
       "4053    3.000000e-01\n",
       "4853    4.000000e-01\n",
       "Name: DR1TFIBE, dtype: float64"
      ]
     },
     "execution_count": 26,
     "metadata": {},
     "output_type": "execute_result"
    }
   ],
   "source": [
    "df[df.DR1TFIBE<1]['DR1TFIBE']"
   ]
  },
  {
   "cell_type": "markdown",
   "id": "5cb7a7e1",
   "metadata": {},
   "source": [
    "Values of 0.2 may be reasonable, but anything less than 0.01 is probably an error."
   ]
  },
  {
   "cell_type": "code",
   "execution_count": 27,
   "id": "359ec54e",
   "metadata": {},
   "outputs": [
    {
     "data": {
      "text/plain": [
       "963     5.397605e-79\n",
       "2890    5.397605e-79\n",
       "3724    5.397605e-79\n",
       "3979    5.397605e-79\n",
       "Name: DR1TFIBE, dtype: float64"
      ]
     },
     "execution_count": 27,
     "metadata": {},
     "output_type": "execute_result"
    }
   ],
   "source": [
    "df[df.DR1TFIBE<0.05]['DR1TFIBE']"
   ]
  },
  {
   "cell_type": "code",
   "execution_count": 28,
   "id": "ae950ed0",
   "metadata": {},
   "outputs": [],
   "source": [
    "df.loc[df.DR1TFIBE<0.05,'DR1TFIBE']=0"
   ]
  },
  {
   "cell_type": "code",
   "execution_count": 29,
   "id": "873ab580",
   "metadata": {},
   "outputs": [
    {
     "data": {
      "text/plain": [
       "count    4658.000000\n",
       "mean       16.871061\n",
       "std        10.824250\n",
       "min         0.000000\n",
       "25%         9.500000\n",
       "50%        14.500000\n",
       "75%        21.600000\n",
       "max       136.300000\n",
       "Name: DR1TFIBE, dtype: float64"
      ]
     },
     "execution_count": 29,
     "metadata": {},
     "output_type": "execute_result"
    }
   ],
   "source": [
    "df.DR1TFIBE.describe()"
   ]
  },
  {
   "cell_type": "code",
   "execution_count": 30,
   "id": "0ce57c37",
   "metadata": {},
   "outputs": [
    {
     "data": {
      "text/plain": [
       "count    4.658000e+03\n",
       "mean     8.172349e+01\n",
       "std      4.746392e+01\n",
       "min      5.397605e-79\n",
       "25%      4.997000e+01\n",
       "50%      7.378500e+01\n",
       "75%      1.030075e+02\n",
       "max      5.483800e+02\n",
       "Name: DR1TTFAT, dtype: float64"
      ]
     },
     "execution_count": 30,
     "metadata": {},
     "output_type": "execute_result"
    }
   ],
   "source": [
    "df.DR1TTFAT.describe()"
   ]
  },
  {
   "cell_type": "markdown",
   "id": "9b357968",
   "metadata": {},
   "source": [
    "Again very small values that may be errors"
   ]
  },
  {
   "cell_type": "code",
   "execution_count": 31,
   "id": "0cb1b308",
   "metadata": {},
   "outputs": [
    {
     "data": {
      "text/plain": [
       "3979    5.397605e-79\n",
       "Name: DR1TTFAT, dtype: float64"
      ]
     },
     "execution_count": 31,
     "metadata": {},
     "output_type": "execute_result"
    }
   ],
   "source": [
    "df[df.DR1TTFAT<0.1]['DR1TTFAT']"
   ]
  },
  {
   "cell_type": "code",
   "execution_count": 32,
   "id": "3b63ff08",
   "metadata": {},
   "outputs": [
    {
     "data": {
      "text/plain": [
       "count    4658.000000\n",
       "mean       81.723486\n",
       "std        47.463920\n",
       "min         0.000000\n",
       "25%        49.970000\n",
       "50%        73.785000\n",
       "75%       103.007500\n",
       "max       548.380000\n",
       "Name: DR1TTFAT, dtype: float64"
      ]
     },
     "execution_count": 32,
     "metadata": {},
     "output_type": "execute_result"
    }
   ],
   "source": [
    "df.loc[df.DR1TTFAT<0.1,'DR1TTFAT']=0\n",
    "df.DR1TTFAT.describe()"
   ]
  },
  {
   "cell_type": "code",
   "execution_count": 33,
   "id": "e0f70651",
   "metadata": {},
   "outputs": [
    {
     "data": {
      "text/plain": [
       "count    4.658000e+03\n",
       "mean     2.621632e+01\n",
       "std      1.654159e+01\n",
       "min      5.397605e-79\n",
       "25%      1.497900e+01\n",
       "50%      2.292800e+01\n",
       "75%      3.379300e+01\n",
       "max      1.774670e+02\n",
       "Name: DR1TSFAT, dtype: float64"
      ]
     },
     "execution_count": 33,
     "metadata": {},
     "output_type": "execute_result"
    }
   ],
   "source": [
    "df.DR1TSFAT.describe()"
   ]
  },
  {
   "cell_type": "markdown",
   "id": "04cb8834",
   "metadata": {},
   "source": [
    "For the rest of the nutrient information, I'm going to go through the values and anything less than 0.01 I'm replacing with 0"
   ]
  },
  {
   "cell_type": "code",
   "execution_count": 34,
   "id": "254d3571",
   "metadata": {},
   "outputs": [],
   "source": [
    "for x in ['DR1TSFAT','DR1TMFAT', 'DR1TPFAT', 'DR1TCHOL','DR1TSODI', 'DR1TVD', 'DR1TCALC', 'DR1TIRON', 'DR1TPOTA']:\n",
    "    df.loc[df[x]<0.01,x]=0"
   ]
  },
  {
   "cell_type": "code",
   "execution_count": 35,
   "id": "15b84f5b",
   "metadata": {},
   "outputs": [
    {
     "data": {
      "text/plain": [
       "count    4658.000000\n",
       "mean       26.216316\n",
       "std        16.541587\n",
       "min         0.000000\n",
       "25%        14.979000\n",
       "50%        22.928000\n",
       "75%        33.793000\n",
       "max       177.467000\n",
       "Name: DR1TSFAT, dtype: float64"
      ]
     },
     "execution_count": 35,
     "metadata": {},
     "output_type": "execute_result"
    }
   ],
   "source": [
    "df.DR1TSFAT.describe()"
   ]
  },
  {
   "cell_type": "code",
   "execution_count": 36,
   "id": "79d06aed",
   "metadata": {},
   "outputs": [
    {
     "data": {
      "text/plain": [
       "count    4658.000000\n",
       "mean       28.809978\n",
       "std        17.783049\n",
       "min         0.000000\n",
       "25%        16.993000\n",
       "50%        25.572000\n",
       "75%        36.558000\n",
       "max       221.673000\n",
       "Name: DR1TMFAT, dtype: float64"
      ]
     },
     "execution_count": 36,
     "metadata": {},
     "output_type": "execute_result"
    }
   ],
   "source": [
    "df.DR1TMFAT.describe()"
   ]
  },
  {
   "cell_type": "code",
   "execution_count": 37,
   "id": "61c387a3",
   "metadata": {},
   "outputs": [
    {
     "data": {
      "text/plain": [
       "count    4658.000000\n",
       "mean       19.096201\n",
       "std        13.221963\n",
       "min         0.000000\n",
       "25%        10.207000\n",
       "50%        16.409000\n",
       "75%        24.555250\n",
       "max       182.462000\n",
       "Name: DR1TPFAT, dtype: float64"
      ]
     },
     "execution_count": 37,
     "metadata": {},
     "output_type": "execute_result"
    }
   ],
   "source": [
    "df.DR1TPFAT.describe()"
   ]
  },
  {
   "cell_type": "code",
   "execution_count": 38,
   "id": "d64bfddf",
   "metadata": {},
   "outputs": [
    {
     "data": {
      "text/plain": [
       "count    4658.000000\n",
       "mean      300.318592\n",
       "std       239.314287\n",
       "min         0.000000\n",
       "25%       134.000000\n",
       "50%       232.500000\n",
       "75%       408.000000\n",
       "max      2352.000000\n",
       "Name: DR1TCHOL, dtype: float64"
      ]
     },
     "execution_count": 38,
     "metadata": {},
     "output_type": "execute_result"
    }
   ],
   "source": [
    "df.DR1TCHOL.describe()"
   ]
  },
  {
   "cell_type": "code",
   "execution_count": 39,
   "id": "f1c5da55",
   "metadata": {},
   "outputs": [
    {
     "data": {
      "text/plain": [
       "count     4658.000000\n",
       "mean      3504.799699\n",
       "std       1846.270129\n",
       "min         29.000000\n",
       "25%       2249.250000\n",
       "50%       3175.500000\n",
       "75%       4354.000000\n",
       "max      21399.000000\n",
       "Name: DR1TSODI, dtype: float64"
      ]
     },
     "execution_count": 39,
     "metadata": {},
     "output_type": "execute_result"
    }
   ],
   "source": [
    "df.DR1TSODI.describe()"
   ]
  },
  {
   "cell_type": "code",
   "execution_count": 40,
   "id": "ea469ee0",
   "metadata": {},
   "outputs": [
    {
     "data": {
      "text/plain": [
       "count    4658.000000\n",
       "mean        4.512774\n",
       "std         6.117031\n",
       "min         0.000000\n",
       "25%         1.000000\n",
       "50%         2.800000\n",
       "75%         5.700000\n",
       "max        78.100000\n",
       "Name: DR1TVD, dtype: float64"
      ]
     },
     "execution_count": 40,
     "metadata": {},
     "output_type": "execute_result"
    }
   ],
   "source": [
    "df.DR1TVD.describe()"
   ]
  },
  {
   "cell_type": "code",
   "execution_count": 41,
   "id": "e4448c81",
   "metadata": {},
   "outputs": [
    {
     "data": {
      "text/plain": [
       "count    4658.000000\n",
       "mean      905.994418\n",
       "std       583.691597\n",
       "min        18.000000\n",
       "25%       502.250000\n",
       "50%       787.000000\n",
       "75%      1152.000000\n",
       "max      7337.000000\n",
       "Name: DR1TCALC, dtype: float64"
      ]
     },
     "execution_count": 41,
     "metadata": {},
     "output_type": "execute_result"
    }
   ],
   "source": [
    "df.DR1TCALC.describe()"
   ]
  },
  {
   "cell_type": "code",
   "execution_count": 42,
   "id": "2ab265fb",
   "metadata": {},
   "outputs": [
    {
     "data": {
      "text/plain": [
       "count    4658.000000\n",
       "mean       13.845676\n",
       "std         8.008605\n",
       "min         0.050000\n",
       "25%         8.400000\n",
       "50%        12.140000\n",
       "75%        17.617500\n",
       "max        89.550000\n",
       "Name: DR1TIRON, dtype: float64"
      ]
     },
     "execution_count": 42,
     "metadata": {},
     "output_type": "execute_result"
    }
   ],
   "source": [
    "df.DR1TIRON.describe()"
   ]
  },
  {
   "cell_type": "code",
   "execution_count": 43,
   "id": "313d9bbb",
   "metadata": {},
   "outputs": [
    {
     "data": {
      "text/plain": [
       "count     4658.000000\n",
       "mean      2554.786818\n",
       "std       1217.403526\n",
       "min         68.000000\n",
       "25%       1695.250000\n",
       "50%       2384.000000\n",
       "75%       3218.750000\n",
       "max      14072.000000\n",
       "Name: DR1TPOTA, dtype: float64"
      ]
     },
     "execution_count": 43,
     "metadata": {},
     "output_type": "execute_result"
    }
   ],
   "source": [
    "df.DR1TPOTA.describe()"
   ]
  },
  {
   "cell_type": "code",
   "execution_count": 44,
   "id": "a944345d",
   "metadata": {},
   "outputs": [
    {
     "data": {
      "text/plain": [
       "array([2., 1., 3., 9.])"
      ]
     },
     "execution_count": 44,
     "metadata": {},
     "output_type": "execute_result"
    }
   ],
   "source": [
    "df.DR1_300.unique()\n",
    "# I do need to adjust for those with values of 9, don't know"
   ]
  },
  {
   "cell_type": "code",
   "execution_count": 45,
   "id": "65fab193",
   "metadata": {},
   "outputs": [],
   "source": [
    "df.loc[df.DR1_300==9,'DR1_300']=np.nan"
   ]
  },
  {
   "cell_type": "code",
   "execution_count": 46,
   "id": "b2dd9105",
   "metadata": {},
   "outputs": [
    {
     "data": {
      "text/plain": [
       "count    4.456000e+03\n",
       "mean     2.847172e+00\n",
       "std      1.246271e+01\n",
       "min      0.000000e+00\n",
       "25%      5.397605e-79\n",
       "50%      1.000000e+00\n",
       "75%      3.000000e+00\n",
       "max      3.650000e+02\n",
       "Name: ALQ120Q, dtype: float64"
      ]
     },
     "execution_count": 46,
     "metadata": {},
     "output_type": "execute_result"
    }
   ],
   "source": [
    "df.ALQ120Q.describe()"
   ]
  },
  {
   "cell_type": "markdown",
   "id": "d7e41a0d",
   "metadata": {},
   "source": [
    "Again there are many with very small values, replacing them with 0s"
   ]
  },
  {
   "cell_type": "code",
   "execution_count": 47,
   "id": "e0ae2052",
   "metadata": {},
   "outputs": [
    {
     "data": {
      "text/plain": [
       "count    4456.000000\n",
       "mean        2.847172\n",
       "std        12.462711\n",
       "min         0.000000\n",
       "25%         0.000000\n",
       "50%         1.000000\n",
       "75%         3.000000\n",
       "max       365.000000\n",
       "Name: ALQ120Q, dtype: float64"
      ]
     },
     "execution_count": 47,
     "metadata": {},
     "output_type": "execute_result"
    }
   ],
   "source": [
    "df.loc[df.ALQ120Q<0.01,'ALQ120Q']=0\n",
    "df.ALQ120Q.describe()"
   ]
  },
  {
   "cell_type": "code",
   "execution_count": 48,
   "id": "9e5e05ce",
   "metadata": {},
   "outputs": [
    {
     "data": {
      "text/plain": [
       "array([ 1., nan,  3.,  2.])"
      ]
     },
     "execution_count": 48,
     "metadata": {},
     "output_type": "execute_result"
    }
   ],
   "source": [
    "df.ALQ120U.unique()"
   ]
  },
  {
   "cell_type": "code",
   "execution_count": 49,
   "id": "f09f05bf",
   "metadata": {},
   "outputs": [
    {
     "data": {
      "text/plain": [
       "count    3700.00000\n",
       "mean        2.20000\n",
       "std         2.40943\n",
       "min         0.00000\n",
       "25%         1.00000\n",
       "50%         2.00000\n",
       "75%         3.00000\n",
       "max        25.00000\n",
       "Name: ALQ130, dtype: float64"
      ]
     },
     "execution_count": 49,
     "metadata": {},
     "output_type": "execute_result"
    }
   ],
   "source": [
    "df.ALQ130.describe()"
   ]
  },
  {
   "cell_type": "markdown",
   "id": "80dbb8df",
   "metadata": {},
   "source": [
    "Since the min is 0, checking to see if there are any less than 0.01 but greater than 0..."
   ]
  },
  {
   "cell_type": "code",
   "execution_count": 50,
   "id": "59f26276",
   "metadata": {},
   "outputs": [
    {
     "data": {
      "text/plain": [
       "(0, 45)"
      ]
     },
     "execution_count": 50,
     "metadata": {},
     "output_type": "execute_result"
    }
   ],
   "source": [
    "df[(df.ALQ130>0)&(df.ALQ130<0.01)].shape"
   ]
  },
  {
   "cell_type": "markdown",
   "id": "5a95182d",
   "metadata": {},
   "source": [
    "Apparently not"
   ]
  },
  {
   "cell_type": "code",
   "execution_count": 51,
   "id": "a2ddae82",
   "metadata": {},
   "outputs": [
    {
     "data": {
      "text/plain": [
       "array([ 2.,  1., nan])"
      ]
     },
     "execution_count": 51,
     "metadata": {},
     "output_type": "execute_result"
    }
   ],
   "source": [
    "df.BPQ020.unique()"
   ]
  },
  {
   "cell_type": "code",
   "execution_count": 52,
   "id": "4d3a2038",
   "metadata": {},
   "outputs": [
    {
     "data": {
      "text/plain": [
       "array([ 2.,  1., nan,  9.])"
      ]
     },
     "execution_count": 52,
     "metadata": {},
     "output_type": "execute_result"
    }
   ],
   "source": [
    "df.BPQ050A.unique()"
   ]
  },
  {
   "cell_type": "code",
   "execution_count": 53,
   "id": "9a5f5fc4",
   "metadata": {},
   "outputs": [],
   "source": [
    "# I thought I took care of this, need to look at my code\n",
    "df.loc[df.BPQ050A==9,'BPQ050A']=np.nan\n",
    "# ok, from my code I did not change this, will need to fix that later."
   ]
  },
  {
   "cell_type": "code",
   "execution_count": 54,
   "id": "207e6339",
   "metadata": {},
   "outputs": [
    {
     "data": {
      "text/plain": [
       "Index(['ALQ120Q', 'ALQ120U', 'ALQ130', 'BPQ020', 'BPQ050A', 'BPQ080',\n",
       "       'BPQ100D', 'DIQ010', 'MCQ170M', 'SMQ681', 'PAQ610', 'PAD615', 'PAQ625',\n",
       "       'PAD630', 'PAQ655', 'PAD660', 'PAQ670', 'PAD675', 'Systolic',\n",
       "       'Diastolic'],\n",
       "      dtype='object')"
      ]
     },
     "execution_count": 54,
     "metadata": {},
     "output_type": "execute_result"
    }
   ],
   "source": [
    "df.columns[-20:]"
   ]
  },
  {
   "cell_type": "code",
   "execution_count": 55,
   "id": "d0a4f7a6",
   "metadata": {},
   "outputs": [
    {
     "data": {
      "text/plain": [
       "array([ 2.,  1., nan])"
      ]
     },
     "execution_count": 55,
     "metadata": {},
     "output_type": "execute_result"
    }
   ],
   "source": [
    "df.BPQ080.unique()"
   ]
  },
  {
   "cell_type": "code",
   "execution_count": 56,
   "id": "934c751d",
   "metadata": {},
   "outputs": [
    {
     "data": {
      "text/plain": [
       "array([ 2.,  1., nan,  9.])"
      ]
     },
     "execution_count": 56,
     "metadata": {},
     "output_type": "execute_result"
    }
   ],
   "source": [
    "df.BPQ100D.unique()"
   ]
  },
  {
   "cell_type": "code",
   "execution_count": 57,
   "id": "eb039d61",
   "metadata": {},
   "outputs": [],
   "source": [
    "df.loc[df.BPQ100D==9,'BPQ100D']=np.nan"
   ]
  },
  {
   "cell_type": "code",
   "execution_count": 58,
   "id": "982235b7",
   "metadata": {},
   "outputs": [
    {
     "data": {
      "text/plain": [
       "array([ 2.,  1.,  3., nan])"
      ]
     },
     "execution_count": 58,
     "metadata": {},
     "output_type": "execute_result"
    }
   ],
   "source": [
    "df.DIQ010.unique()"
   ]
  },
  {
   "cell_type": "code",
   "execution_count": 59,
   "id": "da1df3df",
   "metadata": {},
   "outputs": [
    {
     "data": {
      "text/plain": [
       "array([ 2.,  1., nan])"
      ]
     },
     "execution_count": 59,
     "metadata": {},
     "output_type": "execute_result"
    }
   ],
   "source": [
    "df.MCQ170M.unique()"
   ]
  },
  {
   "cell_type": "code",
   "execution_count": 60,
   "id": "d6bbd48a",
   "metadata": {},
   "outputs": [
    {
     "data": {
      "text/plain": [
       "array([ 1.,  2., nan])"
      ]
     },
     "execution_count": 60,
     "metadata": {},
     "output_type": "execute_result"
    }
   ],
   "source": [
    "df.SMQ681.unique()"
   ]
  },
  {
   "cell_type": "code",
   "execution_count": 61,
   "id": "8e6f8af2",
   "metadata": {},
   "outputs": [
    {
     "data": {
      "text/plain": [
       "array([ 0.,  1.,  3.,  2.,  5.,  7.,  4.,  6., nan])"
      ]
     },
     "execution_count": 61,
     "metadata": {},
     "output_type": "execute_result"
    }
   ],
   "source": [
    "df.PAQ610.unique()"
   ]
  },
  {
   "cell_type": "code",
   "execution_count": 62,
   "id": "9073d2a5",
   "metadata": {},
   "outputs": [
    {
     "data": {
      "text/plain": [
       "count    4644.000000\n",
       "mean       37.182386\n",
       "std        99.961609\n",
       "min         0.000000\n",
       "25%         0.000000\n",
       "50%         0.000000\n",
       "75%         0.000000\n",
       "max       840.000000\n",
       "Name: PAD615, dtype: float64"
      ]
     },
     "execution_count": 62,
     "metadata": {},
     "output_type": "execute_result"
    }
   ],
   "source": [
    "df.PAD615.describe()"
   ]
  },
  {
   "cell_type": "code",
   "execution_count": 63,
   "id": "ce80f420",
   "metadata": {},
   "outputs": [
    {
     "data": {
      "text/plain": [
       "(0, 45)"
      ]
     },
     "execution_count": 63,
     "metadata": {},
     "output_type": "execute_result"
    }
   ],
   "source": [
    "#checking for those with really small values\n",
    "df[(df.PAD615>0)&(df.PAD615<0.01)].shape"
   ]
  },
  {
   "cell_type": "code",
   "execution_count": 64,
   "id": "329a0e3d",
   "metadata": {},
   "outputs": [
    {
     "data": {
      "text/plain": [
       "array([ 0.,  4.,  7.,  2.,  3.,  5.,  6.,  1., nan])"
      ]
     },
     "execution_count": 64,
     "metadata": {},
     "output_type": "execute_result"
    }
   ],
   "source": [
    "df.PAQ625.unique()"
   ]
  },
  {
   "cell_type": "code",
   "execution_count": 65,
   "id": "d0552f2f",
   "metadata": {},
   "outputs": [
    {
     "data": {
      "text/plain": [
       "count    4642.000000\n",
       "mean       58.912107\n",
       "std       115.500455\n",
       "min         0.000000\n",
       "25%         0.000000\n",
       "50%         0.000000\n",
       "75%        60.000000\n",
       "max       990.000000\n",
       "Name: PAD630, dtype: float64"
      ]
     },
     "execution_count": 65,
     "metadata": {},
     "output_type": "execute_result"
    }
   ],
   "source": [
    "df.PAD630.describe()"
   ]
  },
  {
   "cell_type": "code",
   "execution_count": 66,
   "id": "3cf09b28",
   "metadata": {},
   "outputs": [
    {
     "data": {
      "text/plain": [
       "(0, 45)"
      ]
     },
     "execution_count": 66,
     "metadata": {},
     "output_type": "execute_result"
    }
   ],
   "source": [
    "#checking for those with really small values\n",
    "df[(df.PAD630>0)&(df.PAD630<0.01)].shape"
   ]
  },
  {
   "cell_type": "code",
   "execution_count": 67,
   "id": "8b3cffa5",
   "metadata": {},
   "outputs": [
    {
     "data": {
      "text/plain": [
       "array([ 0.,  2.,  6.,  5.,  3.,  1.,  4.,  7., nan])"
      ]
     },
     "execution_count": 67,
     "metadata": {},
     "output_type": "execute_result"
    }
   ],
   "source": [
    "df.PAQ655.unique()"
   ]
  },
  {
   "cell_type": "code",
   "execution_count": 68,
   "id": "733b2d6c",
   "metadata": {},
   "outputs": [
    {
     "data": {
      "text/plain": [
       "count    4654.000000\n",
       "mean       17.461753\n",
       "std        42.799350\n",
       "min         0.000000\n",
       "25%         0.000000\n",
       "50%         0.000000\n",
       "75%         0.000000\n",
       "max       480.000000\n",
       "Name: PAD660, dtype: float64"
      ]
     },
     "execution_count": 68,
     "metadata": {},
     "output_type": "execute_result"
    }
   ],
   "source": [
    "df.PAD660.describe()"
   ]
  },
  {
   "cell_type": "code",
   "execution_count": 69,
   "id": "ea6b313c",
   "metadata": {},
   "outputs": [
    {
     "data": {
      "text/plain": [
       "(0, 45)"
      ]
     },
     "execution_count": 69,
     "metadata": {},
     "output_type": "execute_result"
    }
   ],
   "source": [
    "#checking for those with really small values\n",
    "df[(df.PAD660>0)&(df.PAD660<0.01)].shape"
   ]
  },
  {
   "cell_type": "code",
   "execution_count": 70,
   "id": "5a690639",
   "metadata": {},
   "outputs": [
    {
     "data": {
      "text/plain": [
       "array([ 0.,  4.,  5.,  2.,  7.,  1.,  3.,  6., nan])"
      ]
     },
     "execution_count": 70,
     "metadata": {},
     "output_type": "execute_result"
    }
   ],
   "source": [
    "df.PAQ670.unique()"
   ]
  },
  {
   "cell_type": "code",
   "execution_count": 71,
   "id": "9dd69ff8",
   "metadata": {},
   "outputs": [
    {
     "data": {
      "text/plain": [
       "count    4652.000000\n",
       "mean       25.812984\n",
       "std        48.430493\n",
       "min         0.000000\n",
       "25%         0.000000\n",
       "50%         0.000000\n",
       "75%        30.000000\n",
       "max       600.000000\n",
       "Name: PAD675, dtype: float64"
      ]
     },
     "execution_count": 71,
     "metadata": {},
     "output_type": "execute_result"
    }
   ],
   "source": [
    "df.PAD675.describe()"
   ]
  },
  {
   "cell_type": "code",
   "execution_count": 72,
   "id": "f70963c9",
   "metadata": {},
   "outputs": [
    {
     "data": {
      "text/plain": [
       "(0, 45)"
      ]
     },
     "execution_count": 72,
     "metadata": {},
     "output_type": "execute_result"
    }
   ],
   "source": [
    "#checking for those with really small values\n",
    "df[(df.PAD675>0)&(df.PAD675<0.01)].shape"
   ]
  },
  {
   "cell_type": "code",
   "execution_count": 73,
   "id": "275cd7ba",
   "metadata": {},
   "outputs": [
    {
     "data": {
      "text/plain": [
       "count    4580.000000\n",
       "mean      124.016157\n",
       "std        18.258561\n",
       "min        64.666667\n",
       "25%       111.333333\n",
       "50%       120.666667\n",
       "75%       134.000000\n",
       "max       228.666667\n",
       "Name: Systolic, dtype: float64"
      ]
     },
     "execution_count": 73,
     "metadata": {},
     "output_type": "execute_result"
    }
   ],
   "source": [
    "df.Systolic.describe()"
   ]
  },
  {
   "cell_type": "code",
   "execution_count": 74,
   "id": "659bbe0d",
   "metadata": {},
   "outputs": [
    {
     "data": {
      "text/plain": [
       "count    4.580000e+03\n",
       "mean     6.877052e+01\n",
       "std      1.270026e+01\n",
       "min      5.397605e-79\n",
       "25%      6.200000e+01\n",
       "50%      6.933333e+01\n",
       "75%      7.600000e+01\n",
       "max      1.280000e+02\n",
       "Name: Diastolic, dtype: float64"
      ]
     },
     "execution_count": 74,
     "metadata": {},
     "output_type": "execute_result"
    }
   ],
   "source": [
    "df.Diastolic.describe()"
   ]
  },
  {
   "cell_type": "markdown",
   "id": "d0338e4c",
   "metadata": {},
   "source": [
    "Again there looks to be some error.  For those with very small diastolic readings, they will be dropped"
   ]
  },
  {
   "cell_type": "code",
   "execution_count": 75,
   "id": "e4e797e0",
   "metadata": {},
   "outputs": [
    {
     "data": {
      "text/plain": [
       "2423    5.397605e-79\n",
       "1951    5.397605e-79\n",
       "4824    5.397605e-79\n",
       "4408    5.397605e-79\n",
       "2709    5.397605e-79\n",
       "            ...     \n",
       "4867             NaN\n",
       "4875             NaN\n",
       "4909             NaN\n",
       "4920             NaN\n",
       "4984             NaN\n",
       "Name: Diastolic, Length: 4658, dtype: float64"
      ]
     },
     "execution_count": 75,
     "metadata": {},
     "output_type": "execute_result"
    }
   ],
   "source": [
    "df.Diastolic.sort_values()"
   ]
  },
  {
   "cell_type": "code",
   "execution_count": 76,
   "id": "d5cc6712",
   "metadata": {},
   "outputs": [
    {
     "data": {
      "text/plain": [
       "Int64Index([ 674, 1353, 1361, 1402, 1793, 1951, 2423, 2709, 3741, 3856, 3868,\n",
       "            4408, 4819, 4824],\n",
       "           dtype='int64')"
      ]
     },
     "execution_count": 76,
     "metadata": {},
     "output_type": "execute_result"
    }
   ],
   "source": [
    "df[df.Diastolic<1].index"
   ]
  },
  {
   "cell_type": "code",
   "execution_count": 77,
   "id": "0e61de87",
   "metadata": {},
   "outputs": [],
   "source": [
    "df.drop(df[df.Diastolic<1].index,axis=0,inplace=True)"
   ]
  },
  {
   "cell_type": "code",
   "execution_count": 78,
   "id": "241c93cf",
   "metadata": {},
   "outputs": [
    {
     "name": "stdout",
     "output_type": "stream",
     "text": [
      "<class 'pandas.core.frame.DataFrame'>\n",
      "Int64Index: 4644 entries, 0 to 5002\n",
      "Data columns (total 45 columns):\n",
      " #   Column     Non-Null Count  Dtype  \n",
      "---  ------     --------------  -----  \n",
      " 0   LBXTC      4644 non-null   float64\n",
      " 1   RIAGENDR   4644 non-null   float64\n",
      " 2   RIDRETH3   4644 non-null   float64\n",
      " 3   RIDAGEYR   4644 non-null   float64\n",
      " 4   BMXWT      4622 non-null   float64\n",
      " 5   BMXHT      4619 non-null   float64\n",
      " 6   BMXBMI     4614 non-null   float64\n",
      " 7   BPXPLS     4567 non-null   float64\n",
      " 8   BPXPULS    4568 non-null   float64\n",
      " 9   DR1TKCAL   4644 non-null   float64\n",
      " 10  DR1TPROT   4644 non-null   float64\n",
      " 11  DR1TCARB   4644 non-null   float64\n",
      " 12  DR1TSUGR   4644 non-null   float64\n",
      " 13  DR1TFIBE   4644 non-null   float64\n",
      " 14  DR1TTFAT   4644 non-null   float64\n",
      " 15  DR1TSFAT   4644 non-null   float64\n",
      " 16  DR1TMFAT   4644 non-null   float64\n",
      " 17  DR1TPFAT   4644 non-null   float64\n",
      " 18  DR1TCHOL   4644 non-null   float64\n",
      " 19  DR1TSODI   4644 non-null   float64\n",
      " 20  DR1TVD     4644 non-null   float64\n",
      " 21  DR1TCALC   4644 non-null   float64\n",
      " 22  DR1TIRON   4644 non-null   float64\n",
      " 23  DR1TPOTA   4644 non-null   float64\n",
      " 24  DR1_300    4624 non-null   float64\n",
      " 25  ALQ120Q    4442 non-null   float64\n",
      " 26  ALQ120U    3692 non-null   float64\n",
      " 27  ALQ130     3691 non-null   float64\n",
      " 28  BPQ020     4639 non-null   float64\n",
      " 29  BPQ050A    4637 non-null   float64\n",
      " 30  BPQ080     4612 non-null   float64\n",
      " 31  BPQ100D    4619 non-null   float64\n",
      " 32  DIQ010     4643 non-null   float64\n",
      " 33  MCQ170M    4617 non-null   float64\n",
      " 34  SMQ681     4445 non-null   float64\n",
      " 35  PAQ610     4640 non-null   float64\n",
      " 36  PAD615     4630 non-null   float64\n",
      " 37  PAQ625     4639 non-null   float64\n",
      " 38  PAD630     4628 non-null   float64\n",
      " 39  PAQ655     4643 non-null   float64\n",
      " 40  PAD660     4640 non-null   float64\n",
      " 41  PAQ670     4641 non-null   float64\n",
      " 42  PAD675     4638 non-null   float64\n",
      " 43  Systolic   4566 non-null   float64\n",
      " 44  Diastolic  4566 non-null   float64\n",
      "dtypes: float64(45)\n",
      "memory usage: 1.6 MB\n"
     ]
    }
   ],
   "source": [
    "df.info()"
   ]
  },
  {
   "cell_type": "code",
   "execution_count": 84,
   "id": "bcf5226b",
   "metadata": {},
   "outputs": [],
   "source": [
    "#writing the cleaned file so it can be used for modeling\n",
    "df.to_csv('../Data/df_cleaned.csv')"
   ]
  },
  {
   "cell_type": "code",
   "execution_count": null,
   "id": "0724cbee",
   "metadata": {},
   "outputs": [],
   "source": []
  }
 ],
 "metadata": {
  "kernelspec": {
   "display_name": "Python 3",
   "language": "python",
   "name": "python3"
  },
  "language_info": {
   "codemirror_mode": {
    "name": "ipython",
    "version": 3
   },
   "file_extension": ".py",
   "mimetype": "text/x-python",
   "name": "python",
   "nbconvert_exporter": "python",
   "pygments_lexer": "ipython3",
   "version": "3.9.5"
  }
 },
 "nbformat": 4,
 "nbformat_minor": 5
}
