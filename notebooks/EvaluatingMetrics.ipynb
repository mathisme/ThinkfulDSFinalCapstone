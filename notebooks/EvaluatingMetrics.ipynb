{
 "cells": [
  {
   "cell_type": "code",
   "execution_count": 1,
   "id": "86588466",
   "metadata": {},
   "outputs": [],
   "source": [
    "import numpy as np\n",
    "import pandas as pd"
   ]
  },
  {
   "cell_type": "code",
   "execution_count": 2,
   "id": "c276024b",
   "metadata": {},
   "outputs": [],
   "source": [
    "df=pd.read_csv('../Data/df_cleaned.csv')"
   ]
  },
  {
   "cell_type": "markdown",
   "id": "133f1452",
   "metadata": {},
   "source": [
    "For evaluating my models, I plan to use Mean Absolute Error and Root Mean Squared Error.  However it is good to know what a baseline value will be.  I haven't decided yet if I am going to log transform my y values or remove the y values that are extreme so i will compute MAE and RMSE for both with predicted values just being the mean to get a baseline for metrics."
   ]
  },
  {
   "cell_type": "code",
   "execution_count": 3,
   "id": "d7e15a31",
   "metadata": {},
   "outputs": [
    {
     "data": {
      "text/plain": [
       "Index(['Unnamed: 0', 'LBXTC', 'RIAGENDR', 'RIDRETH3', 'RIDAGEYR', 'BMXWT',\n",
       "       'BMXHT', 'BMXBMI', 'BPXPLS', 'BPXPULS', 'DR1TKCAL', 'DR1TPROT',\n",
       "       'DR1TCARB', 'DR1TSUGR', 'DR1TFIBE', 'DR1TTFAT', 'DR1TSFAT', 'DR1TMFAT',\n",
       "       'DR1TPFAT', 'DR1TCHOL', 'DR1TSODI', 'DR1TVD', 'DR1TCALC', 'DR1TIRON',\n",
       "       'DR1TPOTA', 'DR1_300', 'ALQ120Q', 'ALQ120U', 'ALQ130', 'BPQ020',\n",
       "       'BPQ050A', 'BPQ080', 'BPQ100D', 'DIQ010', 'MCQ170M', 'SMQ681', 'PAQ610',\n",
       "       'PAD615', 'PAQ625', 'PAD630', 'PAQ655', 'PAD660', 'PAQ670', 'PAD675',\n",
       "       'Systolic', 'Diastolic'],\n",
       "      dtype='object')"
      ]
     },
     "execution_count": 3,
     "metadata": {},
     "output_type": "execute_result"
    }
   ],
   "source": [
    "df.columns"
   ]
  },
  {
   "cell_type": "markdown",
   "id": "5f8a0de6",
   "metadata": {},
   "source": [
    "First taking the log transform of y"
   ]
  },
  {
   "cell_type": "code",
   "execution_count": 4,
   "id": "dd7ad3d6",
   "metadata": {},
   "outputs": [],
   "source": [
    "df['log_LBXTC'] = np.log(df.LBXTC)"
   ]
  },
  {
   "cell_type": "code",
   "execution_count": 6,
   "id": "3dacf917",
   "metadata": {},
   "outputs": [],
   "source": [
    "df['log_mean'] = np.mean(df.log_LBXTC)"
   ]
  },
  {
   "cell_type": "code",
   "execution_count": 8,
   "id": "c9e16e1d",
   "metadata": {},
   "outputs": [
    {
     "name": "stdout",
     "output_type": "stream",
     "text": [
      "Mean Absolute Error\n",
      "0.17309992461150026\n"
     ]
    }
   ],
   "source": [
    "print('Mean Absolute Error')\n",
    "print(np.sum(np.abs(df.log_LBXTC-df.log_mean))/df.shape[0])"
   ]
  },
  {
   "cell_type": "code",
   "execution_count": 9,
   "id": "f9631469",
   "metadata": {},
   "outputs": [
    {
     "name": "stdout",
     "output_type": "stream",
     "text": [
      "RMSE\n",
      "0.21962869150252753\n"
     ]
    }
   ],
   "source": [
    "print('RMSE')\n",
    "print(np.sqrt(np.sum((df.log_LBXTC-df.log_mean)**2)/df.shape[0]))"
   ]
  },
  {
   "cell_type": "markdown",
   "id": "92a9ab5b",
   "metadata": {},
   "source": [
    "Now dropping the large y values"
   ]
  },
  {
   "cell_type": "code",
   "execution_count": 10,
   "id": "1959b95c",
   "metadata": {},
   "outputs": [],
   "source": [
    "df2 = df[df.LBXTC<500].copy()"
   ]
  },
  {
   "cell_type": "code",
   "execution_count": 11,
   "id": "b18152d7",
   "metadata": {},
   "outputs": [],
   "source": [
    "df2['ymean']=np.mean(df.LBXTC)"
   ]
  },
  {
   "cell_type": "code",
   "execution_count": 12,
   "id": "98efb491",
   "metadata": {},
   "outputs": [
    {
     "name": "stdout",
     "output_type": "stream",
     "text": [
      "Mean Absolute Error\n",
      "32.320793630118\n"
     ]
    }
   ],
   "source": [
    "print('Mean Absolute Error')\n",
    "print(np.sum(np.abs(df2.LBXTC-df2.ymean))/df2.shape[0])"
   ]
  },
  {
   "cell_type": "code",
   "execution_count": 13,
   "id": "2373e3fb",
   "metadata": {},
   "outputs": [
    {
     "name": "stdout",
     "output_type": "stream",
     "text": [
      "RMSE\n",
      "41.12235546139013\n"
     ]
    }
   ],
   "source": [
    "print('RMSE')\n",
    "print(np.sqrt(np.sum((df2.LBXTC-df2.ymean)**2)/df2.shape[0]))"
   ]
  }
 ],
 "metadata": {
  "kernelspec": {
   "display_name": "Python 3",
   "language": "python",
   "name": "python3"
  },
  "language_info": {
   "codemirror_mode": {
    "name": "ipython",
    "version": 3
   },
   "file_extension": ".py",
   "mimetype": "text/x-python",
   "name": "python",
   "nbconvert_exporter": "python",
   "pygments_lexer": "ipython3",
   "version": "3.9.5"
  }
 },
 "nbformat": 4,
 "nbformat_minor": 5
}
