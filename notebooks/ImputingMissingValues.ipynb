{
 "cells": [
  {
   "cell_type": "code",
   "execution_count": 1,
   "id": "9bff05fb",
   "metadata": {},
   "outputs": [],
   "source": [
    "import pandas as pd\n",
    "import numpy as np\n",
    "from sklearn.impute import KNNImputer"
   ]
  },
  {
   "cell_type": "code",
   "execution_count": 2,
   "id": "26516cf1",
   "metadata": {},
   "outputs": [
    {
     "data": {
      "text/plain": [
       "Index(['LBXTC', 'RIAGENDR', 'RIDRETH3', 'RIDAGEYR', 'BMXWT', 'BMXHT', 'BMXBMI',\n",
       "       'BPXPLS', 'BPXPULS', 'DR1TKCAL', 'DR1TPROT', 'DR1TCARB', 'DR1TSUGR',\n",
       "       'DR1TFIBE', 'DR1TTFAT', 'DR1TSFAT', 'DR1TMFAT', 'DR1TPFAT', 'DR1TCHOL',\n",
       "       'DR1TSODI', 'DR1TVD', 'DR1TCALC', 'DR1TIRON', 'DR1TPOTA', 'DR1_300',\n",
       "       'ALQ120Q', 'ALQ120U', 'ALQ130', 'BPQ020', 'BPQ050A', 'BPQ080',\n",
       "       'BPQ100D', 'DIQ010', 'MCQ170M', 'SMQ681', 'PAQ610', 'PAD615', 'PAQ625',\n",
       "       'PAD630', 'PAQ655', 'PAD660', 'PAQ670', 'PAD675', 'Systolic',\n",
       "       'Diastolic', 'outlier'],\n",
       "      dtype='object')"
      ]
     },
     "execution_count": 2,
     "metadata": {},
     "output_type": "execute_result"
    }
   ],
   "source": [
    "df = pd.read_csv('../Data/df_cleaned2.csv')\n",
    "df.drop('Unnamed: 0',axis=1,inplace=True)\n",
    "df.columns"
   ]
  },
  {
   "cell_type": "markdown",
   "id": "2fd34353",
   "metadata": {},
   "source": [
    "What I plan to do is impute missing values using KNNImputer.  I will create columns that denote wether or not the value was imputed.  Then I need to go through categorical variables and make sure the imputed values make sense."
   ]
  },
  {
   "cell_type": "code",
   "execution_count": 3,
   "id": "77393ddf",
   "metadata": {},
   "outputs": [],
   "source": [
    "imputer = KNNImputer()"
   ]
  },
  {
   "cell_type": "code",
   "execution_count": 4,
   "id": "12b46440",
   "metadata": {},
   "outputs": [],
   "source": [
    "imputed_values = imputer.fit_transform(df)"
   ]
  },
  {
   "cell_type": "code",
   "execution_count": 5,
   "id": "b519671f",
   "metadata": {},
   "outputs": [
    {
     "data": {
      "text/html": [
       "<div>\n",
       "<style scoped>\n",
       "    .dataframe tbody tr th:only-of-type {\n",
       "        vertical-align: middle;\n",
       "    }\n",
       "\n",
       "    .dataframe tbody tr th {\n",
       "        vertical-align: top;\n",
       "    }\n",
       "\n",
       "    .dataframe thead th {\n",
       "        text-align: right;\n",
       "    }\n",
       "</style>\n",
       "<table border=\"1\" class=\"dataframe\">\n",
       "  <thead>\n",
       "    <tr style=\"text-align: right;\">\n",
       "      <th></th>\n",
       "      <th>LBXTC</th>\n",
       "      <th>RIAGENDR</th>\n",
       "      <th>RIDRETH3</th>\n",
       "      <th>RIDAGEYR</th>\n",
       "      <th>BMXWT</th>\n",
       "      <th>BMXHT</th>\n",
       "      <th>BMXBMI</th>\n",
       "      <th>BPXPLS</th>\n",
       "      <th>BPXPULS</th>\n",
       "      <th>DR1TKCAL</th>\n",
       "      <th>...</th>\n",
       "      <th>PAD615</th>\n",
       "      <th>PAQ625</th>\n",
       "      <th>PAD630</th>\n",
       "      <th>PAQ655</th>\n",
       "      <th>PAD660</th>\n",
       "      <th>PAQ670</th>\n",
       "      <th>PAD675</th>\n",
       "      <th>Systolic</th>\n",
       "      <th>Diastolic</th>\n",
       "      <th>outlier</th>\n",
       "    </tr>\n",
       "  </thead>\n",
       "  <tbody>\n",
       "    <tr>\n",
       "      <th>0</th>\n",
       "      <td>265.0</td>\n",
       "      <td>1.0</td>\n",
       "      <td>3.0</td>\n",
       "      <td>53.0</td>\n",
       "      <td>90.4</td>\n",
       "      <td>171.4</td>\n",
       "      <td>30.8</td>\n",
       "      <td>72.0</td>\n",
       "      <td>1.0</td>\n",
       "      <td>2964.0</td>\n",
       "      <td>...</td>\n",
       "      <td>0.0</td>\n",
       "      <td>0.0</td>\n",
       "      <td>0.0</td>\n",
       "      <td>0.0</td>\n",
       "      <td>0.0</td>\n",
       "      <td>0.0</td>\n",
       "      <td>0.0</td>\n",
       "      <td>140.000000</td>\n",
       "      <td>86.000000</td>\n",
       "      <td>0.0</td>\n",
       "    </tr>\n",
       "    <tr>\n",
       "      <th>1</th>\n",
       "      <td>229.0</td>\n",
       "      <td>1.0</td>\n",
       "      <td>3.0</td>\n",
       "      <td>78.0</td>\n",
       "      <td>83.4</td>\n",
       "      <td>170.1</td>\n",
       "      <td>28.8</td>\n",
       "      <td>56.0</td>\n",
       "      <td>1.0</td>\n",
       "      <td>2482.0</td>\n",
       "      <td>...</td>\n",
       "      <td>0.0</td>\n",
       "      <td>4.0</td>\n",
       "      <td>240.0</td>\n",
       "      <td>0.0</td>\n",
       "      <td>0.0</td>\n",
       "      <td>0.0</td>\n",
       "      <td>0.0</td>\n",
       "      <td>135.333333</td>\n",
       "      <td>45.333333</td>\n",
       "      <td>0.0</td>\n",
       "    </tr>\n",
       "    <tr>\n",
       "      <th>2</th>\n",
       "      <td>204.0</td>\n",
       "      <td>2.0</td>\n",
       "      <td>4.0</td>\n",
       "      <td>42.0</td>\n",
       "      <td>55.2</td>\n",
       "      <td>164.9</td>\n",
       "      <td>20.3</td>\n",
       "      <td>76.0</td>\n",
       "      <td>1.0</td>\n",
       "      <td>604.0</td>\n",
       "      <td>...</td>\n",
       "      <td>0.0</td>\n",
       "      <td>7.0</td>\n",
       "      <td>480.0</td>\n",
       "      <td>0.0</td>\n",
       "      <td>0.0</td>\n",
       "      <td>0.0</td>\n",
       "      <td>0.0</td>\n",
       "      <td>104.000000</td>\n",
       "      <td>60.000000</td>\n",
       "      <td>0.0</td>\n",
       "    </tr>\n",
       "    <tr>\n",
       "      <th>3</th>\n",
       "      <td>190.0</td>\n",
       "      <td>2.0</td>\n",
       "      <td>1.0</td>\n",
       "      <td>72.0</td>\n",
       "      <td>64.4</td>\n",
       "      <td>150.0</td>\n",
       "      <td>28.6</td>\n",
       "      <td>64.0</td>\n",
       "      <td>1.0</td>\n",
       "      <td>1304.0</td>\n",
       "      <td>...</td>\n",
       "      <td>0.0</td>\n",
       "      <td>0.0</td>\n",
       "      <td>0.0</td>\n",
       "      <td>0.0</td>\n",
       "      <td>0.0</td>\n",
       "      <td>0.0</td>\n",
       "      <td>0.0</td>\n",
       "      <td>119.333333</td>\n",
       "      <td>58.666667</td>\n",
       "      <td>0.0</td>\n",
       "    </tr>\n",
       "    <tr>\n",
       "      <th>4</th>\n",
       "      <td>164.0</td>\n",
       "      <td>1.0</td>\n",
       "      <td>4.0</td>\n",
       "      <td>22.0</td>\n",
       "      <td>76.6</td>\n",
       "      <td>165.4</td>\n",
       "      <td>28.0</td>\n",
       "      <td>66.0</td>\n",
       "      <td>1.0</td>\n",
       "      <td>2338.0</td>\n",
       "      <td>...</td>\n",
       "      <td>0.0</td>\n",
       "      <td>0.0</td>\n",
       "      <td>0.0</td>\n",
       "      <td>2.0</td>\n",
       "      <td>60.0</td>\n",
       "      <td>0.0</td>\n",
       "      <td>0.0</td>\n",
       "      <td>111.333333</td>\n",
       "      <td>72.666667</td>\n",
       "      <td>0.0</td>\n",
       "    </tr>\n",
       "  </tbody>\n",
       "</table>\n",
       "<p>5 rows × 46 columns</p>\n",
       "</div>"
      ],
      "text/plain": [
       "   LBXTC  RIAGENDR  RIDRETH3  RIDAGEYR  BMXWT  BMXHT  BMXBMI  BPXPLS  BPXPULS  \\\n",
       "0  265.0       1.0       3.0      53.0   90.4  171.4    30.8    72.0      1.0   \n",
       "1  229.0       1.0       3.0      78.0   83.4  170.1    28.8    56.0      1.0   \n",
       "2  204.0       2.0       4.0      42.0   55.2  164.9    20.3    76.0      1.0   \n",
       "3  190.0       2.0       1.0      72.0   64.4  150.0    28.6    64.0      1.0   \n",
       "4  164.0       1.0       4.0      22.0   76.6  165.4    28.0    66.0      1.0   \n",
       "\n",
       "   DR1TKCAL  ...  PAD615  PAQ625  PAD630  PAQ655  PAD660  PAQ670  PAD675  \\\n",
       "0    2964.0  ...     0.0     0.0     0.0     0.0     0.0     0.0     0.0   \n",
       "1    2482.0  ...     0.0     4.0   240.0     0.0     0.0     0.0     0.0   \n",
       "2     604.0  ...     0.0     7.0   480.0     0.0     0.0     0.0     0.0   \n",
       "3    1304.0  ...     0.0     0.0     0.0     0.0     0.0     0.0     0.0   \n",
       "4    2338.0  ...     0.0     0.0     0.0     2.0    60.0     0.0     0.0   \n",
       "\n",
       "     Systolic  Diastolic  outlier  \n",
       "0  140.000000  86.000000      0.0  \n",
       "1  135.333333  45.333333      0.0  \n",
       "2  104.000000  60.000000      0.0  \n",
       "3  119.333333  58.666667      0.0  \n",
       "4  111.333333  72.666667      0.0  \n",
       "\n",
       "[5 rows x 46 columns]"
      ]
     },
     "execution_count": 5,
     "metadata": {},
     "output_type": "execute_result"
    }
   ],
   "source": [
    "df2 = pd.DataFrame(imputed_values, columns=df.columns)\n",
    "df2.head()"
   ]
  },
  {
   "cell_type": "code",
   "execution_count": 6,
   "id": "b7589c37",
   "metadata": {},
   "outputs": [
    {
     "data": {
      "text/html": [
       "<div>\n",
       "<style scoped>\n",
       "    .dataframe tbody tr th:only-of-type {\n",
       "        vertical-align: middle;\n",
       "    }\n",
       "\n",
       "    .dataframe tbody tr th {\n",
       "        vertical-align: top;\n",
       "    }\n",
       "\n",
       "    .dataframe thead th {\n",
       "        text-align: right;\n",
       "    }\n",
       "</style>\n",
       "<table border=\"1\" class=\"dataframe\">\n",
       "  <thead>\n",
       "    <tr style=\"text-align: right;\">\n",
       "      <th></th>\n",
       "      <th>LBXTC</th>\n",
       "      <th>RIAGENDR</th>\n",
       "      <th>RIDRETH3</th>\n",
       "      <th>RIDAGEYR</th>\n",
       "      <th>BMXWT</th>\n",
       "      <th>BMXHT</th>\n",
       "      <th>BMXBMI</th>\n",
       "      <th>BPXPLS</th>\n",
       "      <th>BPXPULS</th>\n",
       "      <th>DR1TKCAL</th>\n",
       "      <th>...</th>\n",
       "      <th>PAD615</th>\n",
       "      <th>PAQ625</th>\n",
       "      <th>PAD630</th>\n",
       "      <th>PAQ655</th>\n",
       "      <th>PAD660</th>\n",
       "      <th>PAQ670</th>\n",
       "      <th>PAD675</th>\n",
       "      <th>Systolic</th>\n",
       "      <th>Diastolic</th>\n",
       "      <th>outlier</th>\n",
       "    </tr>\n",
       "  </thead>\n",
       "  <tbody>\n",
       "    <tr>\n",
       "      <th>0</th>\n",
       "      <td>265.0</td>\n",
       "      <td>1.0</td>\n",
       "      <td>3.0</td>\n",
       "      <td>53.0</td>\n",
       "      <td>90.4</td>\n",
       "      <td>171.4</td>\n",
       "      <td>30.8</td>\n",
       "      <td>72.0</td>\n",
       "      <td>1.0</td>\n",
       "      <td>2964.0</td>\n",
       "      <td>...</td>\n",
       "      <td>0.0</td>\n",
       "      <td>0.0</td>\n",
       "      <td>0.0</td>\n",
       "      <td>0.0</td>\n",
       "      <td>0.0</td>\n",
       "      <td>0.0</td>\n",
       "      <td>0.0</td>\n",
       "      <td>140.000000</td>\n",
       "      <td>86.000000</td>\n",
       "      <td>0</td>\n",
       "    </tr>\n",
       "    <tr>\n",
       "      <th>1</th>\n",
       "      <td>229.0</td>\n",
       "      <td>1.0</td>\n",
       "      <td>3.0</td>\n",
       "      <td>78.0</td>\n",
       "      <td>83.4</td>\n",
       "      <td>170.1</td>\n",
       "      <td>28.8</td>\n",
       "      <td>56.0</td>\n",
       "      <td>1.0</td>\n",
       "      <td>2482.0</td>\n",
       "      <td>...</td>\n",
       "      <td>0.0</td>\n",
       "      <td>4.0</td>\n",
       "      <td>240.0</td>\n",
       "      <td>0.0</td>\n",
       "      <td>0.0</td>\n",
       "      <td>0.0</td>\n",
       "      <td>0.0</td>\n",
       "      <td>135.333333</td>\n",
       "      <td>45.333333</td>\n",
       "      <td>0</td>\n",
       "    </tr>\n",
       "    <tr>\n",
       "      <th>2</th>\n",
       "      <td>204.0</td>\n",
       "      <td>2.0</td>\n",
       "      <td>4.0</td>\n",
       "      <td>42.0</td>\n",
       "      <td>55.2</td>\n",
       "      <td>164.9</td>\n",
       "      <td>20.3</td>\n",
       "      <td>76.0</td>\n",
       "      <td>1.0</td>\n",
       "      <td>604.0</td>\n",
       "      <td>...</td>\n",
       "      <td>0.0</td>\n",
       "      <td>7.0</td>\n",
       "      <td>480.0</td>\n",
       "      <td>0.0</td>\n",
       "      <td>0.0</td>\n",
       "      <td>0.0</td>\n",
       "      <td>0.0</td>\n",
       "      <td>104.000000</td>\n",
       "      <td>60.000000</td>\n",
       "      <td>0</td>\n",
       "    </tr>\n",
       "    <tr>\n",
       "      <th>3</th>\n",
       "      <td>190.0</td>\n",
       "      <td>2.0</td>\n",
       "      <td>1.0</td>\n",
       "      <td>72.0</td>\n",
       "      <td>64.4</td>\n",
       "      <td>150.0</td>\n",
       "      <td>28.6</td>\n",
       "      <td>64.0</td>\n",
       "      <td>1.0</td>\n",
       "      <td>1304.0</td>\n",
       "      <td>...</td>\n",
       "      <td>0.0</td>\n",
       "      <td>0.0</td>\n",
       "      <td>0.0</td>\n",
       "      <td>0.0</td>\n",
       "      <td>0.0</td>\n",
       "      <td>0.0</td>\n",
       "      <td>0.0</td>\n",
       "      <td>119.333333</td>\n",
       "      <td>58.666667</td>\n",
       "      <td>0</td>\n",
       "    </tr>\n",
       "    <tr>\n",
       "      <th>4</th>\n",
       "      <td>164.0</td>\n",
       "      <td>1.0</td>\n",
       "      <td>4.0</td>\n",
       "      <td>22.0</td>\n",
       "      <td>76.6</td>\n",
       "      <td>165.4</td>\n",
       "      <td>28.0</td>\n",
       "      <td>66.0</td>\n",
       "      <td>1.0</td>\n",
       "      <td>2338.0</td>\n",
       "      <td>...</td>\n",
       "      <td>0.0</td>\n",
       "      <td>0.0</td>\n",
       "      <td>0.0</td>\n",
       "      <td>2.0</td>\n",
       "      <td>60.0</td>\n",
       "      <td>0.0</td>\n",
       "      <td>0.0</td>\n",
       "      <td>111.333333</td>\n",
       "      <td>72.666667</td>\n",
       "      <td>0</td>\n",
       "    </tr>\n",
       "  </tbody>\n",
       "</table>\n",
       "<p>5 rows × 46 columns</p>\n",
       "</div>"
      ],
      "text/plain": [
       "   LBXTC  RIAGENDR  RIDRETH3  RIDAGEYR  BMXWT  BMXHT  BMXBMI  BPXPLS  BPXPULS  \\\n",
       "0  265.0       1.0       3.0      53.0   90.4  171.4    30.8    72.0      1.0   \n",
       "1  229.0       1.0       3.0      78.0   83.4  170.1    28.8    56.0      1.0   \n",
       "2  204.0       2.0       4.0      42.0   55.2  164.9    20.3    76.0      1.0   \n",
       "3  190.0       2.0       1.0      72.0   64.4  150.0    28.6    64.0      1.0   \n",
       "4  164.0       1.0       4.0      22.0   76.6  165.4    28.0    66.0      1.0   \n",
       "\n",
       "   DR1TKCAL  ...  PAD615  PAQ625  PAD630  PAQ655  PAD660  PAQ670  PAD675  \\\n",
       "0    2964.0  ...     0.0     0.0     0.0     0.0     0.0     0.0     0.0   \n",
       "1    2482.0  ...     0.0     4.0   240.0     0.0     0.0     0.0     0.0   \n",
       "2     604.0  ...     0.0     7.0   480.0     0.0     0.0     0.0     0.0   \n",
       "3    1304.0  ...     0.0     0.0     0.0     0.0     0.0     0.0     0.0   \n",
       "4    2338.0  ...     0.0     0.0     0.0     2.0    60.0     0.0     0.0   \n",
       "\n",
       "     Systolic  Diastolic  outlier  \n",
       "0  140.000000  86.000000        0  \n",
       "1  135.333333  45.333333        0  \n",
       "2  104.000000  60.000000        0  \n",
       "3  119.333333  58.666667        0  \n",
       "4  111.333333  72.666667        0  \n",
       "\n",
       "[5 rows x 46 columns]"
      ]
     },
     "execution_count": 6,
     "metadata": {},
     "output_type": "execute_result"
    }
   ],
   "source": [
    "df.head()"
   ]
  },
  {
   "cell_type": "code",
   "execution_count": 7,
   "id": "6e3ab6bb",
   "metadata": {},
   "outputs": [],
   "source": [
    "for column in df.columns:\n",
    "    if (df[column].isna().sum()>0):\n",
    "        df2[\"{}_i\".format(column)]=1*df[column].isna()\n"
   ]
  },
  {
   "cell_type": "code",
   "execution_count": 8,
   "id": "ac92d64c",
   "metadata": {},
   "outputs": [
    {
     "name": "stdout",
     "output_type": "stream",
     "text": [
      "<class 'pandas.core.frame.DataFrame'>\n",
      "RangeIndex: 4644 entries, 0 to 4643\n",
      "Data columns (total 72 columns):\n",
      " #   Column       Non-Null Count  Dtype  \n",
      "---  ------       --------------  -----  \n",
      " 0   LBXTC        4644 non-null   float64\n",
      " 1   RIAGENDR     4644 non-null   float64\n",
      " 2   RIDRETH3     4644 non-null   float64\n",
      " 3   RIDAGEYR     4644 non-null   float64\n",
      " 4   BMXWT        4644 non-null   float64\n",
      " 5   BMXHT        4644 non-null   float64\n",
      " 6   BMXBMI       4644 non-null   float64\n",
      " 7   BPXPLS       4644 non-null   float64\n",
      " 8   BPXPULS      4644 non-null   float64\n",
      " 9   DR1TKCAL     4644 non-null   float64\n",
      " 10  DR1TPROT     4644 non-null   float64\n",
      " 11  DR1TCARB     4644 non-null   float64\n",
      " 12  DR1TSUGR     4644 non-null   float64\n",
      " 13  DR1TFIBE     4644 non-null   float64\n",
      " 14  DR1TTFAT     4644 non-null   float64\n",
      " 15  DR1TSFAT     4644 non-null   float64\n",
      " 16  DR1TMFAT     4644 non-null   float64\n",
      " 17  DR1TPFAT     4644 non-null   float64\n",
      " 18  DR1TCHOL     4644 non-null   float64\n",
      " 19  DR1TSODI     4644 non-null   float64\n",
      " 20  DR1TVD       4644 non-null   float64\n",
      " 21  DR1TCALC     4644 non-null   float64\n",
      " 22  DR1TIRON     4644 non-null   float64\n",
      " 23  DR1TPOTA     4644 non-null   float64\n",
      " 24  DR1_300      4644 non-null   float64\n",
      " 25  ALQ120Q      4644 non-null   float64\n",
      " 26  ALQ120U      4644 non-null   float64\n",
      " 27  ALQ130       4644 non-null   float64\n",
      " 28  BPQ020       4644 non-null   float64\n",
      " 29  BPQ050A      4644 non-null   float64\n",
      " 30  BPQ080       4644 non-null   float64\n",
      " 31  BPQ100D      4644 non-null   float64\n",
      " 32  DIQ010       4644 non-null   float64\n",
      " 33  MCQ170M      4644 non-null   float64\n",
      " 34  SMQ681       4644 non-null   float64\n",
      " 35  PAQ610       4644 non-null   float64\n",
      " 36  PAD615       4644 non-null   float64\n",
      " 37  PAQ625       4644 non-null   float64\n",
      " 38  PAD630       4644 non-null   float64\n",
      " 39  PAQ655       4644 non-null   float64\n",
      " 40  PAD660       4644 non-null   float64\n",
      " 41  PAQ670       4644 non-null   float64\n",
      " 42  PAD675       4644 non-null   float64\n",
      " 43  Systolic     4644 non-null   float64\n",
      " 44  Diastolic    4644 non-null   float64\n",
      " 45  outlier      4644 non-null   float64\n",
      " 46  BMXWT_i      4644 non-null   int32  \n",
      " 47  BMXHT_i      4644 non-null   int32  \n",
      " 48  BMXBMI_i     4644 non-null   int32  \n",
      " 49  BPXPLS_i     4644 non-null   int32  \n",
      " 50  BPXPULS_i    4644 non-null   int32  \n",
      " 51  DR1_300_i    4644 non-null   int32  \n",
      " 52  ALQ120Q_i    4644 non-null   int32  \n",
      " 53  ALQ120U_i    4644 non-null   int32  \n",
      " 54  ALQ130_i     4644 non-null   int32  \n",
      " 55  BPQ020_i     4644 non-null   int32  \n",
      " 56  BPQ050A_i    4644 non-null   int32  \n",
      " 57  BPQ080_i     4644 non-null   int32  \n",
      " 58  BPQ100D_i    4644 non-null   int32  \n",
      " 59  DIQ010_i     4644 non-null   int32  \n",
      " 60  MCQ170M_i    4644 non-null   int32  \n",
      " 61  SMQ681_i     4644 non-null   int32  \n",
      " 62  PAQ610_i     4644 non-null   int32  \n",
      " 63  PAD615_i     4644 non-null   int32  \n",
      " 64  PAQ625_i     4644 non-null   int32  \n",
      " 65  PAD630_i     4644 non-null   int32  \n",
      " 66  PAQ655_i     4644 non-null   int32  \n",
      " 67  PAD660_i     4644 non-null   int32  \n",
      " 68  PAQ670_i     4644 non-null   int32  \n",
      " 69  PAD675_i     4644 non-null   int32  \n",
      " 70  Systolic_i   4644 non-null   int32  \n",
      " 71  Diastolic_i  4644 non-null   int32  \n",
      "dtypes: float64(46), int32(26)\n",
      "memory usage: 2.1 MB\n"
     ]
    }
   ],
   "source": [
    "df2.info()"
   ]
  },
  {
   "cell_type": "markdown",
   "id": "1b8d0802",
   "metadata": {},
   "source": [
    "Now I need to go through the categorical values and make sure the values make sense"
   ]
  },
  {
   "cell_type": "code",
   "execution_count": 10,
   "id": "b3dab799",
   "metadata": {},
   "outputs": [
    {
     "data": {
      "text/plain": [
       "array([1. , 2. , 1.2])"
      ]
     },
     "execution_count": 10,
     "metadata": {},
     "output_type": "execute_result"
    }
   ],
   "source": [
    "df2.BPXPULS.unique()"
   ]
  },
  {
   "cell_type": "code",
   "execution_count": 11,
   "id": "a3e15fae",
   "metadata": {},
   "outputs": [],
   "source": [
    "df2.loc[df2.BPXPULS==1.2,'BPXPULS']=1"
   ]
  },
  {
   "cell_type": "code",
   "execution_count": 12,
   "id": "3136f7f5",
   "metadata": {},
   "outputs": [
    {
     "data": {
      "text/plain": [
       "array([1., 2.])"
      ]
     },
     "execution_count": 12,
     "metadata": {},
     "output_type": "execute_result"
    }
   ],
   "source": [
    "df2.BPXPULS.unique()"
   ]
  },
  {
   "cell_type": "code",
   "execution_count": 13,
   "id": "22971daf",
   "metadata": {},
   "outputs": [
    {
     "data": {
      "text/plain": [
       "array([2. , 1. , 3. , 2.4, 2.2, 2.8, 1.8])"
      ]
     },
     "execution_count": 13,
     "metadata": {},
     "output_type": "execute_result"
    }
   ],
   "source": [
    "df2.DR1_300.unique()"
   ]
  },
  {
   "cell_type": "code",
   "execution_count": 14,
   "id": "1f0bce44",
   "metadata": {},
   "outputs": [
    {
     "data": {
      "text/plain": [
       "array([2., 1., 3.])"
      ]
     },
     "execution_count": 14,
     "metadata": {},
     "output_type": "execute_result"
    }
   ],
   "source": [
    "df2.loc[df2.DR1_300==1.8,'DR1_300']=2\n",
    "df2.loc[df2.DR1_300==2.2,'DR1_300']=2\n",
    "df2.loc[df2.DR1_300==2.4,'DR1_300']=2\n",
    "df2.loc[df2.DR1_300==2.8,'DR1_300']=3\n",
    "df2.DR1_300.unique()"
   ]
  },
  {
   "cell_type": "code",
   "execution_count": 15,
   "id": "1325ca27",
   "metadata": {},
   "outputs": [
    {
     "data": {
      "text/plain": [
       "array([1. , 2.2, 3. , 2. , 1.6, 1.8, 1.4, 2.4, 1.2, 2.6, 2.8])"
      ]
     },
     "execution_count": 15,
     "metadata": {},
     "output_type": "execute_result"
    }
   ],
   "source": [
    "df2.ALQ120U.unique()"
   ]
  },
  {
   "cell_type": "code",
   "execution_count": 16,
   "id": "925c0259",
   "metadata": {},
   "outputs": [
    {
     "data": {
      "text/plain": [
       "array([1., 2., 3.])"
      ]
     },
     "execution_count": 16,
     "metadata": {},
     "output_type": "execute_result"
    }
   ],
   "source": [
    "df2.loc[df2.ALQ120U==2.2,'ALQ120U']=2\n",
    "df2.loc[df2.ALQ120U==1.6,'ALQ120U']=2\n",
    "df2.loc[df2.ALQ120U==1.8,'ALQ120U']=2\n",
    "df2.loc[df2.ALQ120U==1.4,'ALQ120U']=1\n",
    "df2.loc[df2.ALQ120U==2.4,'ALQ120U']=2\n",
    "df2.loc[df2.ALQ120U==1.2,'ALQ120U']=1\n",
    "df2.loc[df2.ALQ120U==2.6,'ALQ120U']=3\n",
    "df2.loc[df2.ALQ120U==2.8,'ALQ120U']=3\n",
    "df2.ALQ120U.unique()"
   ]
  },
  {
   "cell_type": "code",
   "execution_count": 17,
   "id": "bbf1cc11",
   "metadata": {},
   "outputs": [
    {
     "data": {
      "text/plain": [
       "array([2. , 1. , 1.6, 1.2, 1.4, 1.8])"
      ]
     },
     "execution_count": 17,
     "metadata": {},
     "output_type": "execute_result"
    }
   ],
   "source": [
    "df2.BPQ020.unique()"
   ]
  },
  {
   "cell_type": "code",
   "execution_count": 18,
   "id": "fc31e78b",
   "metadata": {},
   "outputs": [
    {
     "data": {
      "text/plain": [
       "array([2., 1.])"
      ]
     },
     "execution_count": 18,
     "metadata": {},
     "output_type": "execute_result"
    }
   ],
   "source": [
    "df2.loc[df2.BPQ020==1.6,'BPQ020']=2\n",
    "df2.loc[df2.BPQ020==1.2,'BPQ020']=1\n",
    "df2.loc[df2.BPQ020==1.4,'BPQ020']=1\n",
    "df2.loc[df2.BPQ020==1.8,'BPQ020']=2\n",
    "df2.BPQ020.unique()\n",
    "\n"
   ]
  },
  {
   "cell_type": "code",
   "execution_count": 20,
   "id": "91ccf7ac",
   "metadata": {},
   "outputs": [
    {
     "data": {
      "text/plain": [
       "array([2. , 1. , 1.6, 1.2, 1.8])"
      ]
     },
     "execution_count": 20,
     "metadata": {},
     "output_type": "execute_result"
    }
   ],
   "source": [
    "df2.BPQ050A.unique()"
   ]
  },
  {
   "cell_type": "code",
   "execution_count": 21,
   "id": "1c68b074",
   "metadata": {},
   "outputs": [
    {
     "data": {
      "text/plain": [
       "array([2., 1.])"
      ]
     },
     "execution_count": 21,
     "metadata": {},
     "output_type": "execute_result"
    }
   ],
   "source": [
    "df2.loc[df2.BPQ050A==1.6,'BPQ050A']=2\n",
    "df2.loc[df2.BPQ050A==1.2,'BPQ050A']=1\n",
    "df2.loc[df2.BPQ050A==1.8,'BPQ050A']=2\n",
    "df2.BPQ050A.unique()\n"
   ]
  },
  {
   "cell_type": "code",
   "execution_count": 22,
   "id": "facc68ba",
   "metadata": {},
   "outputs": [
    {
     "data": {
      "text/plain": [
       "array([2. , 1. , 1.6, 1.4, 1.8, 1.2])"
      ]
     },
     "execution_count": 22,
     "metadata": {},
     "output_type": "execute_result"
    }
   ],
   "source": [
    "df2.BPQ080.unique()"
   ]
  },
  {
   "cell_type": "code",
   "execution_count": 24,
   "id": "95caed44",
   "metadata": {},
   "outputs": [],
   "source": [
    "df2['BPQ080'] = df2.BPQ080.round()"
   ]
  },
  {
   "cell_type": "code",
   "execution_count": 27,
   "id": "085d521d",
   "metadata": {},
   "outputs": [],
   "source": [
    "df2['BPQ100D']=df2.BPQ100D.round()"
   ]
  },
  {
   "cell_type": "code",
   "execution_count": 29,
   "id": "04d1e044",
   "metadata": {},
   "outputs": [],
   "source": [
    "df2['DIQ010']=df2.DIQ010.round()"
   ]
  },
  {
   "cell_type": "code",
   "execution_count": 31,
   "id": "77e438c6",
   "metadata": {},
   "outputs": [],
   "source": [
    "df2['MCQ170M']=df2.MCQ170M.round()"
   ]
  },
  {
   "cell_type": "code",
   "execution_count": 33,
   "id": "9a790994",
   "metadata": {},
   "outputs": [],
   "source": [
    "df2['SMQ681']=df2.SMQ681.round()"
   ]
  },
  {
   "cell_type": "code",
   "execution_count": 34,
   "id": "89a4431a",
   "metadata": {},
   "outputs": [],
   "source": [
    "df2['PAQ610']=df2.PAQ610.round()"
   ]
  },
  {
   "cell_type": "code",
   "execution_count": 35,
   "id": "4ce449fe",
   "metadata": {},
   "outputs": [],
   "source": [
    "df2['PAQ625']=df2.PAQ625.round()"
   ]
  },
  {
   "cell_type": "code",
   "execution_count": 36,
   "id": "c436f6c4",
   "metadata": {},
   "outputs": [],
   "source": [
    "df2['PAQ655']=df2.PAQ655.round()"
   ]
  },
  {
   "cell_type": "code",
   "execution_count": 37,
   "id": "323381ed",
   "metadata": {},
   "outputs": [],
   "source": [
    "df2['PAQ670']=df2.PAQ670.round()"
   ]
  },
  {
   "cell_type": "code",
   "execution_count": 38,
   "id": "64df1a94",
   "metadata": {},
   "outputs": [],
   "source": [
    "df2.to_csv('../Data/imputed.csv')"
   ]
  },
  {
   "cell_type": "code",
   "execution_count": null,
   "id": "4e81e00d",
   "metadata": {},
   "outputs": [],
   "source": []
  }
 ],
 "metadata": {
  "kernelspec": {
   "display_name": "Python 3",
   "language": "python",
   "name": "python3"
  },
  "language_info": {
   "codemirror_mode": {
    "name": "ipython",
    "version": 3
   },
   "file_extension": ".py",
   "mimetype": "text/x-python",
   "name": "python",
   "nbconvert_exporter": "python",
   "pygments_lexer": "ipython3",
   "version": "3.9.5"
  }
 },
 "nbformat": 4,
 "nbformat_minor": 5
}
