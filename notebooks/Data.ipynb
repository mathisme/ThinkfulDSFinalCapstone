{
 "cells": [
  {
   "cell_type": "code",
   "execution_count": 1,
   "id": "673feb45",
   "metadata": {},
   "outputs": [],
   "source": [
    "import numpy as np\n",
    "import pandas as pd\n",
    "import matplotlib.pyplot as plt\n",
    "import seaborn as sns\n"
   ]
  },
  {
   "cell_type": "markdown",
   "id": "f920ca2c",
   "metadata": {},
   "source": [
    "# Importing Data\n",
    "\n",
    "## Cholesterol data\n",
    "Reading in cholesterol data for 2017-2018"
   ]
  },
  {
   "cell_type": "code",
   "execution_count": 2,
   "id": "6bdf36e7",
   "metadata": {},
   "outputs": [],
   "source": [
    "df = pd.read_sas('https://wwwn.cdc.gov/Nchs/Nhanes/2017-2018/TCHOL_J.XPT')"
   ]
  },
  {
   "cell_type": "code",
   "execution_count": 3,
   "id": "cdc62caa",
   "metadata": {},
   "outputs": [
    {
     "data": {
      "text/html": [
       "<div>\n",
       "<style scoped>\n",
       "    .dataframe tbody tr th:only-of-type {\n",
       "        vertical-align: middle;\n",
       "    }\n",
       "\n",
       "    .dataframe tbody tr th {\n",
       "        vertical-align: top;\n",
       "    }\n",
       "\n",
       "    .dataframe thead th {\n",
       "        text-align: right;\n",
       "    }\n",
       "</style>\n",
       "<table border=\"1\" class=\"dataframe\">\n",
       "  <thead>\n",
       "    <tr style=\"text-align: right;\">\n",
       "      <th></th>\n",
       "      <th>SEQN</th>\n",
       "      <th>LBXTC</th>\n",
       "      <th>LBDTCSI</th>\n",
       "    </tr>\n",
       "  </thead>\n",
       "  <tbody>\n",
       "    <tr>\n",
       "      <th>0</th>\n",
       "      <td>93705.0</td>\n",
       "      <td>157.0</td>\n",
       "      <td>4.06</td>\n",
       "    </tr>\n",
       "    <tr>\n",
       "      <th>1</th>\n",
       "      <td>93706.0</td>\n",
       "      <td>148.0</td>\n",
       "      <td>3.83</td>\n",
       "    </tr>\n",
       "    <tr>\n",
       "      <th>2</th>\n",
       "      <td>93707.0</td>\n",
       "      <td>189.0</td>\n",
       "      <td>4.89</td>\n",
       "    </tr>\n",
       "    <tr>\n",
       "      <th>3</th>\n",
       "      <td>93708.0</td>\n",
       "      <td>209.0</td>\n",
       "      <td>5.40</td>\n",
       "    </tr>\n",
       "    <tr>\n",
       "      <th>4</th>\n",
       "      <td>93709.0</td>\n",
       "      <td>176.0</td>\n",
       "      <td>4.55</td>\n",
       "    </tr>\n",
       "  </tbody>\n",
       "</table>\n",
       "</div>"
      ],
      "text/plain": [
       "      SEQN  LBXTC  LBDTCSI\n",
       "0  93705.0  157.0     4.06\n",
       "1  93706.0  148.0     3.83\n",
       "2  93707.0  189.0     4.89\n",
       "3  93708.0  209.0     5.40\n",
       "4  93709.0  176.0     4.55"
      ]
     },
     "execution_count": 3,
     "metadata": {},
     "output_type": "execute_result"
    }
   ],
   "source": [
    "df.head()"
   ]
  },
  {
   "cell_type": "markdown",
   "id": "2f9560cd",
   "metadata": {},
   "source": [
    "SEQN is the particpant sequence number.  This will be used to join tables.  LBTXC is our taget variable, total cholesterol measured in mg/dL.  LBDTCSI is total cholecterol measured in mmol/L.\n",
    "\n",
    "Dropping LBDTSCI then dropping any rows with null values as both values are needed."
   ]
  },
  {
   "cell_type": "code",
   "execution_count": 4,
   "id": "e6d28913",
   "metadata": {},
   "outputs": [
    {
     "name": "stdout",
     "output_type": "stream",
     "text": [
      "<class 'pandas.core.frame.DataFrame'>\n",
      "Int64Index: 6738 entries, 0 to 7434\n",
      "Data columns (total 2 columns):\n",
      " #   Column  Non-Null Count  Dtype  \n",
      "---  ------  --------------  -----  \n",
      " 0   SEQN    6738 non-null   float64\n",
      " 1   LBXTC   6738 non-null   float64\n",
      "dtypes: float64(2)\n",
      "memory usage: 157.9 KB\n"
     ]
    }
   ],
   "source": [
    "df.drop('LBDTCSI',axis=1,inplace=True)\n",
    "df.dropna(inplace=True)\n",
    "df.info()"
   ]
  },
  {
   "cell_type": "markdown",
   "id": "8fda38ce",
   "metadata": {},
   "source": [
    "With less than 7000 observations we may want to gather data from the previos year, especially since we are planning to use nueral networks.  For now, continue importing the data.\n",
    "\n",
    "## Demographic data"
   ]
  },
  {
   "cell_type": "code",
   "execution_count": null,
   "id": "a955470d",
   "metadata": {},
   "outputs": [],
   "source": [
    "demo = pd.read_sas('https://wwwn.cdc.gov/Nchs/Nhanes/2017-2018/DEMO_J.XPT')"
   ]
  }
 ],
 "metadata": {
  "kernelspec": {
   "display_name": "Python 3",
   "language": "python",
   "name": "python3"
  },
  "language_info": {
   "codemirror_mode": {
    "name": "ipython",
    "version": 3
   },
   "file_extension": ".py",
   "mimetype": "text/x-python",
   "name": "python",
   "nbconvert_exporter": "python",
   "pygments_lexer": "ipython3",
   "version": "3.9.5"
  }
 },
 "nbformat": 4,
 "nbformat_minor": 5
}
