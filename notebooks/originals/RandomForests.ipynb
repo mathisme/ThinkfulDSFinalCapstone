{
 "cells": [
  {
   "cell_type": "code",
   "execution_count": 1,
   "id": "75cbea7a",
   "metadata": {},
   "outputs": [],
   "source": [
    "import numpy as np\n",
    "import pandas as pd\n",
    "import matplotlib.pyplot as plt\n",
    "import seaborn as sns\n",
    "from sklearn.ensemble import RandomForestRegressor\n",
    "from sklearn.model_selection import train_test_split\n",
    "from sklearn.pipeline import Pipeline\n",
    "from sklearn.model_selection import GridSearchCV, cross_val_score\n",
    "from sklearn.compose import ColumnTransformer\n",
    "from sklearn.preprocessing import OneHotEncoder, MinMaxScaler\n",
    "from sklearn.decomposition import PCA\n",
    "from sklearn.metrics import mean_absolute_error, mean_squared_error\n",
    "from sklearn.impute import KNNImputer"
   ]
  },
  {
   "cell_type": "code",
   "execution_count": 2,
   "id": "6dade04d",
   "metadata": {},
   "outputs": [],
   "source": [
    "df = pd.read_csv('../Data/df_transformed.csv')"
   ]
  },
  {
   "cell_type": "code",
   "execution_count": 3,
   "id": "6fbdc421",
   "metadata": {},
   "outputs": [],
   "source": [
    "df.drop('Unnamed: 0',axis=1,inplace=True)"
   ]
  },
  {
   "cell_type": "markdown",
   "id": "7d42f590",
   "metadata": {},
   "source": [
    "# First just looking at demographic variables, original nutrition variables, physical activity and blood pressure and pulse"
   ]
  },
  {
   "cell_type": "code",
   "execution_count": 4,
   "id": "e4229b0c",
   "metadata": {},
   "outputs": [],
   "source": [
    "numerical_variables = ['RIAGENDR','RIDAGEYR','BMXBMI','BPXPLS','DR1TKCAL', 'DR1TPROT', 'DR1TCARB', 'DR1TSUGR',\n",
    "       'DR1TFIBE', 'DR1TTFAT', 'DR1TSFAT', 'DR1TMFAT', 'DR1TPFAT', 'DR1TCHOL',\n",
    "       'DR1TSODI', 'DR1TVD', 'DR1TCALC', 'DR1TIRON', 'DR1TPOTA','MET_rec','Systolic','Diastolic']\n",
    "categorical_variables = ['RIDRETH3','DR1_300']"
   ]
  },
  {
   "cell_type": "code",
   "execution_count": 5,
   "id": "61941849",
   "metadata": {},
   "outputs": [],
   "source": [
    "df1 = df[numerical_variables+categorical_variables+['LBXTC']].copy()"
   ]
  },
  {
   "cell_type": "code",
   "execution_count": 6,
   "id": "4f25d35f",
   "metadata": {},
   "outputs": [],
   "source": [
    "df1.dropna(inplace=True)"
   ]
  },
  {
   "cell_type": "code",
   "execution_count": 7,
   "id": "cc892738",
   "metadata": {},
   "outputs": [],
   "source": [
    "y = df1.LBXTC\n",
    "X = df1.drop('LBXTC', axis=1)"
   ]
  },
  {
   "cell_type": "code",
   "execution_count": 8,
   "id": "5fd67711",
   "metadata": {},
   "outputs": [],
   "source": [
    "X_train, X_test, y_train, y_test = train_test_split(X,y,test_size=0.2,random_state=625)"
   ]
  },
  {
   "cell_type": "code",
   "execution_count": 9,
   "id": "dc7fb568",
   "metadata": {},
   "outputs": [],
   "source": [
    "rf1 = RandomForestRegressor()"
   ]
  },
  {
   "cell_type": "code",
   "execution_count": 10,
   "id": "4aadce49",
   "metadata": {},
   "outputs": [
    {
     "data": {
      "text/plain": [
       "RandomForestRegressor()"
      ]
     },
     "execution_count": 10,
     "metadata": {},
     "output_type": "execute_result"
    }
   ],
   "source": [
    "rf1.fit(X_train,y_train)"
   ]
  },
  {
   "cell_type": "code",
   "execution_count": 11,
   "id": "fbac2ab7",
   "metadata": {},
   "outputs": [
    {
     "data": {
      "text/html": [
       "<div>\n",
       "<style scoped>\n",
       "    .dataframe tbody tr th:only-of-type {\n",
       "        vertical-align: middle;\n",
       "    }\n",
       "\n",
       "    .dataframe tbody tr th {\n",
       "        vertical-align: top;\n",
       "    }\n",
       "\n",
       "    .dataframe thead th {\n",
       "        text-align: right;\n",
       "    }\n",
       "</style>\n",
       "<table border=\"1\" class=\"dataframe\">\n",
       "  <thead>\n",
       "    <tr style=\"text-align: right;\">\n",
       "      <th></th>\n",
       "      <th>features</th>\n",
       "      <th>importance</th>\n",
       "    </tr>\n",
       "  </thead>\n",
       "  <tbody>\n",
       "    <tr>\n",
       "      <th>1</th>\n",
       "      <td>RIDAGEYR</td>\n",
       "      <td>0.107407</td>\n",
       "    </tr>\n",
       "    <tr>\n",
       "      <th>2</th>\n",
       "      <td>BMXBMI</td>\n",
       "      <td>0.059856</td>\n",
       "    </tr>\n",
       "    <tr>\n",
       "      <th>21</th>\n",
       "      <td>Diastolic</td>\n",
       "      <td>0.057445</td>\n",
       "    </tr>\n",
       "    <tr>\n",
       "      <th>3</th>\n",
       "      <td>BPXPLS</td>\n",
       "      <td>0.049519</td>\n",
       "    </tr>\n",
       "    <tr>\n",
       "      <th>20</th>\n",
       "      <td>Systolic</td>\n",
       "      <td>0.047369</td>\n",
       "    </tr>\n",
       "    <tr>\n",
       "      <th>18</th>\n",
       "      <td>DR1TPOTA</td>\n",
       "      <td>0.047147</td>\n",
       "    </tr>\n",
       "    <tr>\n",
       "      <th>16</th>\n",
       "      <td>DR1TCALC</td>\n",
       "      <td>0.047122</td>\n",
       "    </tr>\n",
       "    <tr>\n",
       "      <th>12</th>\n",
       "      <td>DR1TPFAT</td>\n",
       "      <td>0.046190</td>\n",
       "    </tr>\n",
       "    <tr>\n",
       "      <th>17</th>\n",
       "      <td>DR1TIRON</td>\n",
       "      <td>0.043593</td>\n",
       "    </tr>\n",
       "    <tr>\n",
       "      <th>14</th>\n",
       "      <td>DR1TSODI</td>\n",
       "      <td>0.043473</td>\n",
       "    </tr>\n",
       "    <tr>\n",
       "      <th>6</th>\n",
       "      <td>DR1TCARB</td>\n",
       "      <td>0.042482</td>\n",
       "    </tr>\n",
       "    <tr>\n",
       "      <th>15</th>\n",
       "      <td>DR1TVD</td>\n",
       "      <td>0.042381</td>\n",
       "    </tr>\n",
       "    <tr>\n",
       "      <th>7</th>\n",
       "      <td>DR1TSUGR</td>\n",
       "      <td>0.041463</td>\n",
       "    </tr>\n",
       "    <tr>\n",
       "      <th>13</th>\n",
       "      <td>DR1TCHOL</td>\n",
       "      <td>0.040716</td>\n",
       "    </tr>\n",
       "    <tr>\n",
       "      <th>8</th>\n",
       "      <td>DR1TFIBE</td>\n",
       "      <td>0.040124</td>\n",
       "    </tr>\n",
       "    <tr>\n",
       "      <th>10</th>\n",
       "      <td>DR1TSFAT</td>\n",
       "      <td>0.039762</td>\n",
       "    </tr>\n",
       "    <tr>\n",
       "      <th>11</th>\n",
       "      <td>DR1TMFAT</td>\n",
       "      <td>0.038634</td>\n",
       "    </tr>\n",
       "    <tr>\n",
       "      <th>5</th>\n",
       "      <td>DR1TPROT</td>\n",
       "      <td>0.036056</td>\n",
       "    </tr>\n",
       "    <tr>\n",
       "      <th>4</th>\n",
       "      <td>DR1TKCAL</td>\n",
       "      <td>0.030434</td>\n",
       "    </tr>\n",
       "    <tr>\n",
       "      <th>19</th>\n",
       "      <td>MET_rec</td>\n",
       "      <td>0.027134</td>\n",
       "    </tr>\n",
       "    <tr>\n",
       "      <th>9</th>\n",
       "      <td>DR1TTFAT</td>\n",
       "      <td>0.026113</td>\n",
       "    </tr>\n",
       "    <tr>\n",
       "      <th>0</th>\n",
       "      <td>RIAGENDR</td>\n",
       "      <td>0.023248</td>\n",
       "    </tr>\n",
       "    <tr>\n",
       "      <th>22</th>\n",
       "      <td>RIDRETH3</td>\n",
       "      <td>0.015443</td>\n",
       "    </tr>\n",
       "    <tr>\n",
       "      <th>23</th>\n",
       "      <td>DR1_300</td>\n",
       "      <td>0.006888</td>\n",
       "    </tr>\n",
       "  </tbody>\n",
       "</table>\n",
       "</div>"
      ],
      "text/plain": [
       "     features  importance\n",
       "1    RIDAGEYR    0.107407\n",
       "2      BMXBMI    0.059856\n",
       "21  Diastolic    0.057445\n",
       "3      BPXPLS    0.049519\n",
       "20   Systolic    0.047369\n",
       "18   DR1TPOTA    0.047147\n",
       "16   DR1TCALC    0.047122\n",
       "12   DR1TPFAT    0.046190\n",
       "17   DR1TIRON    0.043593\n",
       "14   DR1TSODI    0.043473\n",
       "6    DR1TCARB    0.042482\n",
       "15     DR1TVD    0.042381\n",
       "7    DR1TSUGR    0.041463\n",
       "13   DR1TCHOL    0.040716\n",
       "8    DR1TFIBE    0.040124\n",
       "10   DR1TSFAT    0.039762\n",
       "11   DR1TMFAT    0.038634\n",
       "5    DR1TPROT    0.036056\n",
       "4    DR1TKCAL    0.030434\n",
       "19    MET_rec    0.027134\n",
       "9    DR1TTFAT    0.026113\n",
       "0    RIAGENDR    0.023248\n",
       "22   RIDRETH3    0.015443\n",
       "23    DR1_300    0.006888"
      ]
     },
     "execution_count": 11,
     "metadata": {},
     "output_type": "execute_result"
    }
   ],
   "source": [
    "pd.DataFrame({'features':X.columns, 'importance':rf1.feature_importances_}).sort_values(by='importance',ascending=False)"
   ]
  },
  {
   "cell_type": "code",
   "execution_count": 12,
   "id": "592a6b2d",
   "metadata": {},
   "outputs": [
    {
     "name": "stdout",
     "output_type": "stream",
     "text": [
      "RMSE 14.989533734740602\n",
      "MAE 11.463358270989191\n"
     ]
    }
   ],
   "source": [
    "ypreds = rf1.predict(X_train)\n",
    "print(\"RMSE\",mean_squared_error(y_train,ypreds,squared=False))\n",
    "print(\"MAE\",mean_absolute_error(y_train,ypreds))"
   ]
  },
  {
   "cell_type": "code",
   "execution_count": 13,
   "id": "608b3574",
   "metadata": {},
   "outputs": [
    {
     "data": {
      "text/plain": [
       "<matplotlib.collections.PathCollection at 0x1705e23d070>"
      ]
     },
     "execution_count": 13,
     "metadata": {},
     "output_type": "execute_result"
    },
    {
     "data": {
      "image/png": "[encoded data removed]",
      "text/plain": [
       "<Figure size 432x288 with 1 Axes>"
      ]
     },
     "metadata": {
      "needs_background": "light"
     },
     "output_type": "display_data"
    }
   ],
   "source": [
    "plt.scatter(ypreds,ypreds-y_train)"
   ]
  },
  {
   "cell_type": "markdown",
   "id": "7fa13b76",
   "metadata": {},
   "source": [
    "Removing outliers in the y"
   ]
  },
  {
   "cell_type": "code",
   "execution_count": 14,
   "id": "0452dc78",
   "metadata": {},
   "outputs": [],
   "source": [
    "df2 = df1[df1.LBXTC<400].copy()\n",
    "y = df2.LBXTC\n",
    "X = df2.drop('LBXTC', axis=1)"
   ]
  },
  {
   "cell_type": "code",
   "execution_count": 15,
   "id": "a892b19f",
   "metadata": {},
   "outputs": [],
   "source": [
    "X_train, X_test, y_train, y_test = train_test_split(X,y,test_size=0.2,random_state=625)"
   ]
  },
  {
   "cell_type": "code",
   "execution_count": 16,
   "id": "2ca5dcec",
   "metadata": {},
   "outputs": [
    {
     "data": {
      "text/plain": [
       "RandomForestRegressor()"
      ]
     },
     "execution_count": 16,
     "metadata": {},
     "output_type": "execute_result"
    }
   ],
   "source": [
    "rf1.fit(X_train,y_train)"
   ]
  },
  {
   "cell_type": "code",
   "execution_count": 17,
   "id": "88ff8473",
   "metadata": {},
   "outputs": [
    {
     "name": "stdout",
     "output_type": "stream",
     "text": [
      "RMSE 14.613771659971414\n",
      "MAE 11.331003882418193\n"
     ]
    }
   ],
   "source": [
    "ypreds = rf1.predict(X_train)\n",
    "print(\"RMSE\",mean_squared_error(y_train,ypreds,squared=False))\n",
    "print(\"MAE\",mean_absolute_error(y_train,ypreds))"
   ]
  },
  {
   "cell_type": "code",
   "execution_count": 18,
   "id": "0409ec72",
   "metadata": {},
   "outputs": [
    {
     "data": {
      "text/plain": [
       "<matplotlib.collections.PathCollection at 0x1705e393160>"
      ]
     },
     "execution_count": 18,
     "metadata": {},
     "output_type": "execute_result"
    },
    {
     "data": {
      "image/png": "[encoded data removed]",
      "text/plain": [
       "<Figure size 432x288 with 1 Axes>"
      ]
     },
     "metadata": {
      "needs_background": "light"
     },
     "output_type": "display_data"
    }
   ],
   "source": [
    "plt.scatter(ypreds,ypreds-y_train)"
   ]
  },
  {
   "cell_type": "markdown",
   "id": "961b4cf3",
   "metadata": {},
   "source": [
    "Removing the heavy outliers still gets a bad model.  Going to first switch to modified nutrition values, then will add chronic conditions, alcohol use, and smoking."
   ]
  },
  {
   "cell_type": "code",
   "execution_count": 19,
   "id": "4b1e91c7",
   "metadata": {},
   "outputs": [],
   "source": [
    "numerical_variables = ['RIAGENDR','RIDAGEYR','BMXBMI','BPXPLS','DR1TKCAL_t', 'DR1TPROT_t',\n",
    "       'DR1TCARB_t', 'DR1TSUGR_t', 'DR1TFIBE_t', 'DR1TTFAT_t', 'DR1TSFAT_t',\n",
    "       'DR1TMFAT_t', 'DR1TPFAT_t', 'DR1TCHOL_t', 'DR1TSODI_t', 'DR1TVD_t',\n",
    "       'DR1TCALC_t', 'DR1TIRON_t', 'DR1TPOTA_t','MET_rec','Systolic','Diastolic']\n",
    "categorical_variables = ['RIDRETH3']"
   ]
  },
  {
   "cell_type": "code",
   "execution_count": 20,
   "id": "d8fe43ff",
   "metadata": {},
   "outputs": [],
   "source": [
    "df3 = df[numerical_variables+categorical_variables+['LBXTC']].copy()"
   ]
  },
  {
   "cell_type": "code",
   "execution_count": 21,
   "id": "7c10fdf1",
   "metadata": {},
   "outputs": [],
   "source": [
    "df3.dropna(inplace=True)"
   ]
  },
  {
   "cell_type": "code",
   "execution_count": 22,
   "id": "222fa4dc",
   "metadata": {},
   "outputs": [
    {
     "name": "stdout",
     "output_type": "stream",
     "text": [
      "RMSE 15.052521791210546\n",
      "MAE 11.437021335550014\n"
     ]
    }
   ],
   "source": [
    "y = df3.LBXTC\n",
    "X = df3.drop('LBXTC', axis=1)\n",
    "X_train, X_test, y_train, y_test = train_test_split(X,y,test_size=0.2,random_state=625)\n",
    "rf1.fit(X_train,y_train)\n",
    "ypreds = rf1.predict(X_train)\n",
    "print(\"RMSE\",mean_squared_error(y_train,ypreds,squared=False))\n",
    "print(\"MAE\",mean_absolute_error(y_train,ypreds))"
   ]
  },
  {
   "cell_type": "code",
   "execution_count": 23,
   "id": "2a2a2393",
   "metadata": {},
   "outputs": [
    {
     "data": {
      "text/plain": [
       "<matplotlib.collections.PathCollection at 0x1705e330130>"
      ]
     },
     "execution_count": 23,
     "metadata": {},
     "output_type": "execute_result"
    },
    {
     "data": {
      "image/png": "[encoded data removed]",
      "text/plain": [
       "<Figure size 432x288 with 1 Axes>"
      ]
     },
     "metadata": {
      "needs_background": "light"
     },
     "output_type": "display_data"
    }
   ],
   "source": [
    "plt.scatter(ypreds,ypreds-y_train)"
   ]
  },
  {
   "cell_type": "markdown",
   "id": "eacc8e8d",
   "metadata": {},
   "source": [
    "Capping the y values, like before and trying again"
   ]
  },
  {
   "cell_type": "code",
   "execution_count": 24,
   "id": "df934f10",
   "metadata": {},
   "outputs": [
    {
     "name": "stdout",
     "output_type": "stream",
     "text": [
      "RMSE 14.627983076903902\n",
      "MAE 11.427835425383543\n"
     ]
    }
   ],
   "source": [
    "df4 = df3[(df3.LBXTC>100)&(df3.LBXTC<400)].copy()\n",
    "y = df4.LBXTC\n",
    "X = df4.drop('LBXTC', axis=1)\n",
    "X_train, X_test, y_train, y_test = train_test_split(X,y,test_size=0.2,random_state=625)\n",
    "rf1.fit(X_train,y_train)\n",
    "ypreds = rf1.predict(X_train)\n",
    "print(\"RMSE\",mean_squared_error(y_train,ypreds,squared=False))\n",
    "print(\"MAE\",mean_absolute_error(y_train,ypreds))"
   ]
  },
  {
   "cell_type": "code",
   "execution_count": 25,
   "id": "ca419c82",
   "metadata": {},
   "outputs": [
    {
     "data": {
      "text/plain": [
       "<matplotlib.collections.PathCollection at 0x1705e1e9e20>"
      ]
     },
     "execution_count": 25,
     "metadata": {},
     "output_type": "execute_result"
    },
    {
     "data": {
      "image/png": "[encoded data removed]",
      "text/plain": [
       "<Figure size 432x288 with 1 Axes>"
      ]
     },
     "metadata": {
      "needs_background": "light"
     },
     "output_type": "display_data"
    }
   ],
   "source": [
    "plt.scatter(ypreds,ypreds-y_train)"
   ]
  },
  {
   "cell_type": "markdown",
   "id": "e4beded9",
   "metadata": {},
   "source": [
    "Going to try with all variables.. "
   ]
  },
  {
   "cell_type": "code",
   "execution_count": 26,
   "id": "ecff6567",
   "metadata": {},
   "outputs": [
    {
     "data": {
      "text/plain": [
       "Index(['LBXTC', 'RIAGENDR', 'RIDRETH3', 'RIDAGEYR', 'BMXWT', 'BMXHT', 'BMXBMI',\n",
       "       'BPXPLS', 'BPXPULS', 'DR1TKCAL', 'DR1TPROT', 'DR1TCARB', 'DR1TSUGR',\n",
       "       'DR1TFIBE', 'DR1TTFAT', 'DR1TSFAT', 'DR1TMFAT', 'DR1TPFAT', 'DR1TCHOL',\n",
       "       'DR1TSODI', 'DR1TVD', 'DR1TCALC', 'DR1TIRON', 'DR1TPOTA', 'DR1_300',\n",
       "       'ALQ120Q', 'ALQ120U', 'ALQ130', 'BPQ020', 'BPQ050A', 'BPQ080',\n",
       "       'BPQ100D', 'DIQ010', 'MCQ170M', 'SMQ681', 'PAQ610', 'PAD615', 'PAQ625',\n",
       "       'PAD630', 'PAQ655', 'PAD660', 'PAQ670', 'PAD675', 'Systolic',\n",
       "       'Diastolic', 'MET_work', 'MET_rec', 'DR1TKCAL_t', 'DR1TPROT_t',\n",
       "       'DR1TCARB_t', 'DR1TSUGR_t', 'DR1TFIBE_t', 'DR1TTFAT_t', 'DR1TSFAT_t',\n",
       "       'DR1TMFAT_t', 'DR1TPFAT_t', 'DR1TCHOL_t', 'DR1TSODI_t', 'DR1TVD_t',\n",
       "       'DR1TCALC_t', 'DR1TIRON_t', 'DR1TPOTA_t', 'avgALC', 'log_LBXTC'],\n",
       "      dtype='object')"
      ]
     },
     "execution_count": 26,
     "metadata": {},
     "output_type": "execute_result"
    }
   ],
   "source": [
    "df.columns"
   ]
  },
  {
   "cell_type": "code",
   "execution_count": 27,
   "id": "d7177d23",
   "metadata": {},
   "outputs": [
    {
     "name": "stdout",
     "output_type": "stream",
     "text": [
      "RMSE 0.07382295437197409\n",
      "MAE 0.05711697788234305\n"
     ]
    }
   ],
   "source": [
    "df5 = df.copy()\n",
    "df5.dropna(inplace=True)\n",
    "y = df5.log_LBXTC\n",
    "X = df5.drop(['LBXTC','log_LBXTC'], axis=1)\n",
    "X_train, X_test, y_train, y_test = train_test_split(X,y,test_size=0.2,random_state=625)\n",
    "rf1.fit(X_train,y_train)\n",
    "ypreds = rf1.predict(X_train)\n",
    "print(\"RMSE\",mean_squared_error(y_train,ypreds,squared=False))\n",
    "print(\"MAE\",mean_absolute_error(y_train,ypreds))"
   ]
  },
  {
   "cell_type": "code",
   "execution_count": 28,
   "id": "61ce54c4",
   "metadata": {},
   "outputs": [
    {
     "data": {
      "text/plain": [
       "<matplotlib.collections.PathCollection at 0x1706144cbe0>"
      ]
     },
     "execution_count": 28,
     "metadata": {},
     "output_type": "execute_result"
    },
    {
     "data": {
      "image/png": "[encoded data removed]",
      "text/plain": [
       "<Figure size 432x288 with 1 Axes>"
      ]
     },
     "metadata": {
      "needs_background": "light"
     },
     "output_type": "display_data"
    }
   ],
   "source": [
    "plt.scatter(ypreds,ypreds-y_train)"
   ]
  },
  {
   "cell_type": "code",
   "execution_count": 29,
   "id": "274dd741",
   "metadata": {},
   "outputs": [
    {
     "name": "stdout",
     "output_type": "stream",
     "text": [
      "RMSE 0.20384465896209822\n",
      "MAE 0.15728800735017606\n"
     ]
    }
   ],
   "source": [
    "ypreds = rf1.predict(X_test)\n",
    "print(\"RMSE\",mean_squared_error(y_test,ypreds,squared=False))\n",
    "print(\"MAE\",mean_absolute_error(y_test,ypreds))"
   ]
  },
  {
   "cell_type": "code",
   "execution_count": 30,
   "id": "d125679f",
   "metadata": {
    "scrolled": true
   },
   "outputs": [
    {
     "data": {
      "text/plain": [
       "<matplotlib.collections.PathCollection at 0x1706166f400>"
      ]
     },
     "execution_count": 30,
     "metadata": {},
     "output_type": "execute_result"
    },
    {
     "data": {
      "image/png": "[encoded data removed]",
      "text/plain": [
       "<Figure size 432x288 with 1 Axes>"
      ]
     },
     "metadata": {
      "needs_background": "light"
     },
     "output_type": "display_data"
    }
   ],
   "source": [
    "plt.scatter(ypreds,ypreds-y_test)"
   ]
  },
  {
   "cell_type": "code",
   "execution_count": null,
   "id": "ec0dc212",
   "metadata": {},
   "outputs": [],
   "source": []
  }
 ],
 "metadata": {
  "kernelspec": {
   "display_name": "Python 3",
   "language": "python",
   "name": "python3"
  },
  "language_info": {
   "codemirror_mode": {
    "name": "ipython",
    "version": 3
   },
   "file_extension": ".py",
   "mimetype": "text/x-python",
   "name": "python",
   "nbconvert_exporter": "python",
   "pygments_lexer": "ipython3",
   "version": "3.9.5"
  }
 },
 "nbformat": 4,
 "nbformat_minor": 5
}
