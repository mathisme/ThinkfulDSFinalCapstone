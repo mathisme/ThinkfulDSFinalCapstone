{
 "cells": [
  {
   "cell_type": "code",
   "execution_count": 1,
   "id": "40fcebe0",
   "metadata": {},
   "outputs": [],
   "source": [
    "import pandas as pd\n",
    "import numpy as np\n",
    "import matplotlib.pyplot as plt\n",
    "import seaborn as sns\n",
    "from sklearn.linear_model import LinearRegression\n",
    "from sklearn.model_selection import train_test_split\n",
    "from sklearn.pipeline import Pipeline\n",
    "from sklearn.model_selection import GridSearchCV\n",
    "from sklearn.compose import ColumnTransformer\n",
    "from sklearn.preprocessing import OneHotEncoder, MinMaxScaler\n",
    "from sklearn.decomposition import PCA\n",
    "from feature_engine.outliers import Winsorizer\n",
    "from sklearn.metrics import mean_absolute_error, mean_squared_error\n",
    "from sklearn.impute import KNNImputer"
   ]
  },
  {
   "cell_type": "code",
   "execution_count": 2,
   "id": "1f592772",
   "metadata": {},
   "outputs": [
    {
     "data": {
      "text/plain": [
       "Index(['LBXTC', 'RIAGENDR', 'RIDRETH3', 'RIDAGEYR', 'BMXWT', 'BMXHT', 'BMXBMI',\n",
       "       'BPXPLS', 'BPXPULS', 'DR1TKCAL', 'DR1TPROT', 'DR1TCARB', 'DR1TSUGR',\n",
       "       'DR1TFIBE', 'DR1TTFAT', 'DR1TSFAT', 'DR1TMFAT', 'DR1TPFAT', 'DR1TCHOL',\n",
       "       'DR1TSODI', 'DR1TVD', 'DR1TCALC', 'DR1TIRON', 'DR1TPOTA', 'DR1_300',\n",
       "       'ALQ120Q', 'ALQ120U', 'ALQ130', 'BPQ020', 'BPQ050A', 'BPQ080',\n",
       "       'BPQ100D', 'DIQ010', 'MCQ170M', 'SMQ681', 'PAQ610', 'PAD615', 'PAQ625',\n",
       "       'PAD630', 'PAQ655', 'PAD660', 'PAQ670', 'PAD675', 'Systolic',\n",
       "       'Diastolic', 'MET_work', 'MET_rec', 'DR1TKCAL_t', 'DR1TPROT_t',\n",
       "       'DR1TCARB_t', 'DR1TSUGR_t', 'DR1TFIBE_t', 'DR1TTFAT_t', 'DR1TSFAT_t',\n",
       "       'DR1TMFAT_t', 'DR1TPFAT_t', 'DR1TCHOL_t', 'DR1TSODI_t', 'DR1TVD_t',\n",
       "       'DR1TCALC_t', 'DR1TIRON_t', 'DR1TPOTA_t', 'avgALC', 'log_LBXTC'],\n",
       "      dtype='object')"
      ]
     },
     "execution_count": 2,
     "metadata": {},
     "output_type": "execute_result"
    }
   ],
   "source": [
    "df = pd.read_csv('../Data/df_transformed.csv')\n",
    "df.drop('Unnamed: 0',axis=1,inplace=True)\n",
    "df.columns"
   ]
  },
  {
   "cell_type": "code",
   "execution_count": 3,
   "id": "86174551",
   "metadata": {},
   "outputs": [],
   "source": [
    "numerical_variables = ['RIAGENDR','RIDAGEYR','BMXBMI','BPXPLS','DR1TKCAL', 'DR1TPROT', 'DR1TCARB', 'DR1TSUGR',\n",
    "       'DR1TFIBE', 'DR1TTFAT', 'DR1TSFAT', 'DR1TMFAT', 'DR1TPFAT', 'DR1TCHOL',\n",
    "       'DR1TSODI', 'DR1TVD', 'DR1TCALC', 'DR1TIRON', 'DR1TPOTA','MET_rec','Systolic','Diastolic']\n",
    "categorical_variables = ['RIDRETH3','DR1_300']"
   ]
  },
  {
   "cell_type": "code",
   "execution_count": 4,
   "id": "7751bae3",
   "metadata": {},
   "outputs": [],
   "source": [
    "df1 = df[numerical_variables+categorical_variables+['LBXTC']].copy()"
   ]
  },
  {
   "cell_type": "code",
   "execution_count": 5,
   "id": "fa81bda6",
   "metadata": {},
   "outputs": [],
   "source": [
    "df1.dropna(inplace=True)"
   ]
  },
  {
   "cell_type": "code",
   "execution_count": 6,
   "id": "1eeea7a2",
   "metadata": {},
   "outputs": [],
   "source": [
    "y = df1.LBXTC\n",
    "X = df1.drop('LBXTC', axis=1)"
   ]
  },
  {
   "cell_type": "code",
   "execution_count": 7,
   "id": "d9503dd7",
   "metadata": {},
   "outputs": [],
   "source": [
    "X_train, X_test, y_train, y_test = train_test_split(X,y,test_size=0.25,random_state=625)"
   ]
  },
  {
   "cell_type": "code",
   "execution_count": 11,
   "id": "64256ab2",
   "metadata": {},
   "outputs": [],
   "source": [
    "numeric_transformer = Pipeline(steps=[('winsorizer',Winsorizer(capping_method='iqr'))])\n",
    "cat_transformer = Pipeline(steps=[('one_hot',OneHotEncoder(handle_unknown='error',drop='first'))])\n",
    "\n",
    "preprocessor = ColumnTransformer(transformers=[\n",
    "    ('num',numeric_transformer,numerical_variables),\n",
    "    ('cat',cat_transformer,categorical_variables)])"
   ]
  },
  {
   "cell_type": "code",
   "execution_count": 12,
   "id": "60e298c6",
   "metadata": {},
   "outputs": [],
   "source": [
    "lr1 = Pipeline(steps =[\n",
    "    ('preprocessor',preprocessor),\n",
    "    ('ols', LinearRegression())])"
   ]
  },
  {
   "cell_type": "code",
   "execution_count": 13,
   "id": "aefbe635",
   "metadata": {},
   "outputs": [
    {
     "data": {
      "text/plain": [
       "Pipeline(steps=[('preprocessor',\n",
       "                 ColumnTransformer(transformers=[('num',\n",
       "                                                  Pipeline(steps=[('winsorizer',\n",
       "                                                                   Winsorizer(capping_method='iqr'))]),\n",
       "                                                  ['RIAGENDR', 'RIDAGEYR',\n",
       "                                                   'BMXBMI', 'BPXPLS',\n",
       "                                                   'DR1TKCAL', 'DR1TPROT',\n",
       "                                                   'DR1TCARB', 'DR1TSUGR',\n",
       "                                                   'DR1TFIBE', 'DR1TTFAT',\n",
       "                                                   'DR1TSFAT', 'DR1TMFAT',\n",
       "                                                   'DR1TPFAT', 'DR1TCHOL',\n",
       "                                                   'DR1TSODI', 'DR1TVD',\n",
       "                                                   'DR1TCALC', 'DR1TIRON',\n",
       "                                                   'DR1TPOTA', 'MET_rec',\n",
       "                                                   'Systolic', 'Diastolic']),\n",
       "                                                 ('cat',\n",
       "                                                  Pipeline(steps=[('one_hot',\n",
       "                                                                   OneHotEncoder(drop='first'))]),\n",
       "                                                  ['RIDRETH3', 'DR1_300'])])),\n",
       "                ('ols', LinearRegression())])"
      ]
     },
     "execution_count": 13,
     "metadata": {},
     "output_type": "execute_result"
    }
   ],
   "source": [
    "lr1.fit(X_train,y_train)"
   ]
  },
  {
   "cell_type": "code",
   "execution_count": 15,
   "id": "8a6364f2",
   "metadata": {},
   "outputs": [
    {
     "name": "stdout",
     "output_type": "stream",
     "text": [
      "RMSE training score: 40.78223847611773\n",
      "RMSE test score: 41.16847205187039\n"
     ]
    }
   ],
   "source": [
    "y_preds_training = lr1.predict(X_train)\n",
    "y_preds = lr1.predict(X_test)\n",
    "print('RMSE training score:',mean_squared_error(y_train,y_preds_training,squared=False))\n",
    "print('RMSE test score:',mean_squared_error(y_test,y_preds,squared=False))"
   ]
  },
  {
   "cell_type": "code",
   "execution_count": 16,
   "id": "e7cb4037",
   "metadata": {},
   "outputs": [
    {
     "data": {
      "text/plain": [
       "<matplotlib.collections.PathCollection at 0x2b9320f1040>"
      ]
     },
     "execution_count": 16,
     "metadata": {},
     "output_type": "execute_result"
    },
    {
     "data": {
      "image/png": "[encoded data removed]",
      "text/plain": [
       "<Figure size 432x288 with 1 Axes>"
      ]
     },
     "metadata": {
      "needs_background": "light"
     },
     "output_type": "display_data"
    }
   ],
   "source": [
    "residuals=y_test - y_preds\n",
    "plt.scatter(x=y_test,y=residuals)"
   ]
  },
  {
   "cell_type": "markdown",
   "id": "89ce93de",
   "metadata": {},
   "source": [
    "Not a very good estimator, trying with the adjusted nutrition variables."
   ]
  },
  {
   "cell_type": "code",
   "execution_count": 19,
   "id": "f08d07e2",
   "metadata": {},
   "outputs": [
    {
     "name": "stdout",
     "output_type": "stream",
     "text": [
      "RMSE training score: 40.77522201130576\n",
      "RMSE test score: 41.25160737965031\n"
     ]
    }
   ],
   "source": [
    "numerical_variables = ['RIAGENDR','RIDAGEYR','BMXBMI','BPXPLS','DR1TKCAL_t', 'DR1TPROT_t',\n",
    "       'DR1TCARB_t', 'DR1TSUGR_t', 'DR1TFIBE_t', 'DR1TTFAT_t', 'DR1TSFAT_t',\n",
    "       'DR1TMFAT_t', 'DR1TPFAT_t', 'DR1TCHOL_t', 'DR1TSODI_t', 'DR1TVD_t',\n",
    "       'DR1TCALC_t', 'DR1TIRON_t', 'DR1TPOTA_t','MET_rec','Systolic','Diastolic']\n",
    "categorical_variables = ['RIDRETH3']\n",
    "df2 = df[numerical_variables+categorical_variables+['LBXTC']].copy()\n",
    "df2.dropna(inplace=True)\n",
    "y = df2.LBXTC\n",
    "X = df2.drop('LBXTC', axis=1)\n",
    "X_train, X_test, y_train, y_test = train_test_split(X,y,test_size=0.25,random_state=625)\n",
    "preprocessor = ColumnTransformer(transformers=[\n",
    "    ('num',numeric_transformer,numerical_variables),\n",
    "    ('cat',cat_transformer,categorical_variables)])\n",
    "lr2 = Pipeline(steps =[\n",
    "    ('preprocessor',preprocessor),\n",
    "    ('ols', LinearRegression())])\n",
    "lr2.fit(X_train,y_train)\n",
    "y_preds_training = lr2.predict(X_train)\n",
    "y_preds = lr2.predict(X_test)\n",
    "print('RMSE training score:',mean_squared_error(y_train,y_preds_training,squared=False))\n",
    "print('RMSE test score:',mean_squared_error(y_test,y_preds,squared=False))"
   ]
  },
  {
   "cell_type": "code",
   "execution_count": 20,
   "id": "495e053d",
   "metadata": {},
   "outputs": [
    {
     "data": {
      "text/plain": [
       "<matplotlib.collections.PathCollection at 0x2b934275790>"
      ]
     },
     "execution_count": 20,
     "metadata": {},
     "output_type": "execute_result"
    },
    {
     "data": {
      "image/png": "[encoded data removed]",
      "text/plain": [
       "<Figure size 432x288 with 1 Axes>"
      ]
     },
     "metadata": {
      "needs_background": "light"
     },
     "output_type": "display_data"
    }
   ],
   "source": [
    "residuals=y_test - y_preds\n",
    "plt.scatter(x=y_test,y=residuals)"
   ]
  },
  {
   "cell_type": "code",
   "execution_count": null,
   "id": "d67140b2",
   "metadata": {},
   "outputs": [],
   "source": []
  }
 ],
 "metadata": {
  "kernelspec": {
   "display_name": "Python 3",
   "language": "python",
   "name": "python3"
  },
  "language_info": {
   "codemirror_mode": {
    "name": "ipython",
    "version": 3
   },
   "file_extension": ".py",
   "mimetype": "text/x-python",
   "name": "python",
   "nbconvert_exporter": "python",
   "pygments_lexer": "ipython3",
   "version": "3.9.5"
  }
 },
 "nbformat": 4,
 "nbformat_minor": 5
}
