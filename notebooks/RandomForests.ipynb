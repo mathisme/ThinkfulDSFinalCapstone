{
 "cells": [
  {
   "cell_type": "code",
   "execution_count": 12,
   "id": "75cbea7a",
   "metadata": {},
   "outputs": [],
   "source": [
    "import numpy as np\n",
    "import pandas as pd\n",
    "import matplotlib.pyplot as plt\n",
    "import seaborn as sns\n",
    "from sklearn.ensemble import RandomForestRegressor\n",
    "from sklearn.model_selection import train_test_split\n",
    "from sklearn.pipeline import Pipeline\n",
    "from sklearn.model_selection import GridSearchCV, cross_val_score\n",
    "from sklearn.compose import ColumnTransformer\n",
    "from sklearn.preprocessing import OneHotEncoder, MinMaxScaler\n",
    "from sklearn.decomposition import PCA\n",
    "from sklearn.metrics import mean_absolute_error, mean_squared_error\n",
    "from sklearn.impute import KNNImputer"
   ]
  },
  {
   "cell_type": "code",
   "execution_count": 13,
   "id": "6dade04d",
   "metadata": {},
   "outputs": [],
   "source": [
    "df = pd.read_csv('../Data/df_transformed.csv')"
   ]
  },
  {
   "cell_type": "code",
   "execution_count": 14,
   "id": "6fbdc421",
   "metadata": {},
   "outputs": [],
   "source": [
    "df.drop('Unnamed: 0',axis=1,inplace=True)"
   ]
  },
  {
   "cell_type": "markdown",
   "id": "7d42f590",
   "metadata": {},
   "source": [
    "# First just looking at demographic variables, original nutrition variables, physical activity and blood pressure and pulse"
   ]
  },
  {
   "cell_type": "code",
   "execution_count": 15,
   "id": "e4229b0c",
   "metadata": {},
   "outputs": [],
   "source": [
    "numerical_variables = ['RIAGENDR','RIDAGEYR','BMXBMI','BPXPLS','DR1TKCAL', 'DR1TPROT', 'DR1TCARB', 'DR1TSUGR',\n",
    "       'DR1TFIBE', 'DR1TTFAT', 'DR1TSFAT', 'DR1TMFAT', 'DR1TPFAT', 'DR1TCHOL',\n",
    "       'DR1TSODI', 'DR1TVD', 'DR1TCALC', 'DR1TIRON', 'DR1TPOTA','MET_rec','Systolic','Diastolic']\n",
    "categorical_variables = ['RIDRETH3','DR1_300']"
   ]
  },
  {
   "cell_type": "code",
   "execution_count": 16,
   "id": "61941849",
   "metadata": {},
   "outputs": [],
   "source": [
    "df1 = df[numerical_variables+categorical_variables+['LBXTC']].copy()"
   ]
  },
  {
   "cell_type": "code",
   "execution_count": 17,
   "id": "4f25d35f",
   "metadata": {},
   "outputs": [],
   "source": [
    "df1.dropna(inplace=True)"
   ]
  },
  {
   "cell_type": "code",
   "execution_count": 18,
   "id": "cc892738",
   "metadata": {},
   "outputs": [],
   "source": [
    "y = df1.LBXTC\n",
    "X = df1.drop('LBXTC', axis=1)"
   ]
  },
  {
   "cell_type": "code",
   "execution_count": 19,
   "id": "5fd67711",
   "metadata": {},
   "outputs": [],
   "source": [
    "X_train, X_test, y_train, y_test = train_test_split(X,y,test_size=0.2,random_state=625)"
   ]
  },
  {
   "cell_type": "code",
   "execution_count": 20,
   "id": "dc7fb568",
   "metadata": {},
   "outputs": [],
   "source": [
    "# maybe train a regular random forest then add info and keep training a regular randome forest until you get one that is \n",
    "# ok, then do hyperparameter tuning."
   ]
  },
  {
   "cell_type": "code",
   "execution_count": null,
   "id": "4aadce49",
   "metadata": {},
   "outputs": [],
   "source": []
  }
 ],
 "metadata": {
  "kernelspec": {
   "display_name": "Python 3",
   "language": "python",
   "name": "python3"
  },
  "language_info": {
   "codemirror_mode": {
    "name": "ipython",
    "version": 3
   },
   "file_extension": ".py",
   "mimetype": "text/x-python",
   "name": "python",
   "nbconvert_exporter": "python",
   "pygments_lexer": "ipython3",
   "version": "3.9.5"
  }
 },
 "nbformat": 4,
 "nbformat_minor": 5
}
