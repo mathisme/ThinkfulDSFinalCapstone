{
 "cells": [
  {
   "cell_type": "code",
   "execution_count": 1,
   "id": "75cbea7a",
   "metadata": {},
   "outputs": [],
   "source": [
    "import numpy as np\n",
    "import pandas as pd\n",
    "import matplotlib.pyplot as plt\n",
    "import seaborn as sns\n",
    "from sklearn.ensemble import RandomForestRegressor\n",
    "from sklearn.model_selection import train_test_split\n",
    "from sklearn.pipeline import Pipeline\n",
    "from sklearn.model_selection import GridSearchCV, cross_val_score\n",
    "from sklearn.compose import ColumnTransformer\n",
    "from sklearn.preprocessing import OneHotEncoder, MinMaxScaler\n",
    "from sklearn.decomposition import PCA\n",
    "from sklearn.metrics import mean_absolute_error, mean_squared_error\n",
    "from sklearn.impute import KNNImputer"
   ]
  },
  {
   "cell_type": "code",
   "execution_count": 2,
   "id": "6dade04d",
   "metadata": {},
   "outputs": [],
   "source": [
    "df = pd.read_csv('../Data/df_transformed.csv')"
   ]
  },
  {
   "cell_type": "code",
   "execution_count": 3,
   "id": "6fbdc421",
   "metadata": {},
   "outputs": [],
   "source": [
    "df.drop('Unnamed: 0',axis=1,inplace=True)"
   ]
  },
  {
   "cell_type": "markdown",
   "id": "7d42f590",
   "metadata": {},
   "source": [
    "# First just looking at demographic variables, original nutrition variables, physical activity and blood pressure and pulse"
   ]
  },
  {
   "cell_type": "code",
   "execution_count": 4,
   "id": "e4229b0c",
   "metadata": {},
   "outputs": [],
   "source": [
    "numerical_variables = ['RIAGENDR','RIDAGEYR','BMXBMI','BPXPLS','DR1TKCAL', 'DR1TPROT', 'DR1TCARB', 'DR1TSUGR',\n",
    "       'DR1TFIBE', 'DR1TTFAT', 'DR1TSFAT', 'DR1TMFAT', 'DR1TPFAT', 'DR1TCHOL',\n",
    "       'DR1TSODI', 'DR1TVD', 'DR1TCALC', 'DR1TIRON', 'DR1TPOTA','MET_rec','Systolic','Diastolic']\n",
    "categorical_variables = ['RIDRETH3','DR1_300']"
   ]
  },
  {
   "cell_type": "code",
   "execution_count": 5,
   "id": "61941849",
   "metadata": {},
   "outputs": [],
   "source": [
    "df1 = df[numerical_variables+categorical_variables+['LBXTC']].copy()"
   ]
  },
  {
   "cell_type": "code",
   "execution_count": 6,
   "id": "4f25d35f",
   "metadata": {},
   "outputs": [],
   "source": [
    "df1.dropna(inplace=True)"
   ]
  },
  {
   "cell_type": "code",
   "execution_count": 7,
   "id": "cc892738",
   "metadata": {},
   "outputs": [],
   "source": [
    "y = df1.LBXTC\n",
    "X = df1.drop('LBXTC', axis=1)"
   ]
  },
  {
   "cell_type": "code",
   "execution_count": 8,
   "id": "5fd67711",
   "metadata": {},
   "outputs": [],
   "source": [
    "X_train, X_test, y_train, y_test = train_test_split(X,y,test_size=0.2,random_state=625)"
   ]
  },
  {
   "cell_type": "code",
   "execution_count": 10,
   "id": "dc7fb568",
   "metadata": {},
   "outputs": [],
   "source": [
    "rf1 = RandomForestRegressor()"
   ]
  },
  {
   "cell_type": "code",
   "execution_count": 11,
   "id": "4aadce49",
   "metadata": {},
   "outputs": [
    {
     "data": {
      "text/plain": [
       "RandomForestRegressor()"
      ]
     },
     "execution_count": 11,
     "metadata": {},
     "output_type": "execute_result"
    }
   ],
   "source": [
    "rf1.fit(X_train,y_train)"
   ]
  },
  {
   "cell_type": "code",
   "execution_count": 15,
   "id": "fbac2ab7",
   "metadata": {},
   "outputs": [
    {
     "data": {
      "text/html": [
       "<div>\n",
       "<style scoped>\n",
       "    .dataframe tbody tr th:only-of-type {\n",
       "        vertical-align: middle;\n",
       "    }\n",
       "\n",
       "    .dataframe tbody tr th {\n",
       "        vertical-align: top;\n",
       "    }\n",
       "\n",
       "    .dataframe thead th {\n",
       "        text-align: right;\n",
       "    }\n",
       "</style>\n",
       "<table border=\"1\" class=\"dataframe\">\n",
       "  <thead>\n",
       "    <tr style=\"text-align: right;\">\n",
       "      <th></th>\n",
       "      <th>features</th>\n",
       "      <th>importance</th>\n",
       "    </tr>\n",
       "  </thead>\n",
       "  <tbody>\n",
       "    <tr>\n",
       "      <th>1</th>\n",
       "      <td>RIDAGEYR</td>\n",
       "      <td>0.104923</td>\n",
       "    </tr>\n",
       "    <tr>\n",
       "      <th>2</th>\n",
       "      <td>BMXBMI</td>\n",
       "      <td>0.061222</td>\n",
       "    </tr>\n",
       "    <tr>\n",
       "      <th>21</th>\n",
       "      <td>Diastolic</td>\n",
       "      <td>0.056164</td>\n",
       "    </tr>\n",
       "    <tr>\n",
       "      <th>12</th>\n",
       "      <td>DR1TPFAT</td>\n",
       "      <td>0.048678</td>\n",
       "    </tr>\n",
       "    <tr>\n",
       "      <th>20</th>\n",
       "      <td>Systolic</td>\n",
       "      <td>0.048668</td>\n",
       "    </tr>\n",
       "    <tr>\n",
       "      <th>3</th>\n",
       "      <td>BPXPLS</td>\n",
       "      <td>0.047864</td>\n",
       "    </tr>\n",
       "    <tr>\n",
       "      <th>16</th>\n",
       "      <td>DR1TCALC</td>\n",
       "      <td>0.047094</td>\n",
       "    </tr>\n",
       "    <tr>\n",
       "      <th>18</th>\n",
       "      <td>DR1TPOTA</td>\n",
       "      <td>0.046885</td>\n",
       "    </tr>\n",
       "    <tr>\n",
       "      <th>17</th>\n",
       "      <td>DR1TIRON</td>\n",
       "      <td>0.045707</td>\n",
       "    </tr>\n",
       "    <tr>\n",
       "      <th>14</th>\n",
       "      <td>DR1TSODI</td>\n",
       "      <td>0.042909</td>\n",
       "    </tr>\n",
       "    <tr>\n",
       "      <th>8</th>\n",
       "      <td>DR1TFIBE</td>\n",
       "      <td>0.042563</td>\n",
       "    </tr>\n",
       "    <tr>\n",
       "      <th>13</th>\n",
       "      <td>DR1TCHOL</td>\n",
       "      <td>0.042557</td>\n",
       "    </tr>\n",
       "    <tr>\n",
       "      <th>15</th>\n",
       "      <td>DR1TVD</td>\n",
       "      <td>0.041690</td>\n",
       "    </tr>\n",
       "    <tr>\n",
       "      <th>7</th>\n",
       "      <td>DR1TSUGR</td>\n",
       "      <td>0.041533</td>\n",
       "    </tr>\n",
       "    <tr>\n",
       "      <th>6</th>\n",
       "      <td>DR1TCARB</td>\n",
       "      <td>0.041048</td>\n",
       "    </tr>\n",
       "    <tr>\n",
       "      <th>11</th>\n",
       "      <td>DR1TMFAT</td>\n",
       "      <td>0.038889</td>\n",
       "    </tr>\n",
       "    <tr>\n",
       "      <th>10</th>\n",
       "      <td>DR1TSFAT</td>\n",
       "      <td>0.037073</td>\n",
       "    </tr>\n",
       "    <tr>\n",
       "      <th>5</th>\n",
       "      <td>DR1TPROT</td>\n",
       "      <td>0.036397</td>\n",
       "    </tr>\n",
       "    <tr>\n",
       "      <th>4</th>\n",
       "      <td>DR1TKCAL</td>\n",
       "      <td>0.029553</td>\n",
       "    </tr>\n",
       "    <tr>\n",
       "      <th>9</th>\n",
       "      <td>DR1TTFAT</td>\n",
       "      <td>0.027463</td>\n",
       "    </tr>\n",
       "    <tr>\n",
       "      <th>19</th>\n",
       "      <td>MET_rec</td>\n",
       "      <td>0.025082</td>\n",
       "    </tr>\n",
       "    <tr>\n",
       "      <th>0</th>\n",
       "      <td>RIAGENDR</td>\n",
       "      <td>0.022562</td>\n",
       "    </tr>\n",
       "    <tr>\n",
       "      <th>22</th>\n",
       "      <td>RIDRETH3</td>\n",
       "      <td>0.016068</td>\n",
       "    </tr>\n",
       "    <tr>\n",
       "      <th>23</th>\n",
       "      <td>DR1_300</td>\n",
       "      <td>0.007407</td>\n",
       "    </tr>\n",
       "  </tbody>\n",
       "</table>\n",
       "</div>"
      ],
      "text/plain": [
       "     features  importance\n",
       "1    RIDAGEYR    0.104923\n",
       "2      BMXBMI    0.061222\n",
       "21  Diastolic    0.056164\n",
       "12   DR1TPFAT    0.048678\n",
       "20   Systolic    0.048668\n",
       "3      BPXPLS    0.047864\n",
       "16   DR1TCALC    0.047094\n",
       "18   DR1TPOTA    0.046885\n",
       "17   DR1TIRON    0.045707\n",
       "14   DR1TSODI    0.042909\n",
       "8    DR1TFIBE    0.042563\n",
       "13   DR1TCHOL    0.042557\n",
       "15     DR1TVD    0.041690\n",
       "7    DR1TSUGR    0.041533\n",
       "6    DR1TCARB    0.041048\n",
       "11   DR1TMFAT    0.038889\n",
       "10   DR1TSFAT    0.037073\n",
       "5    DR1TPROT    0.036397\n",
       "4    DR1TKCAL    0.029553\n",
       "9    DR1TTFAT    0.027463\n",
       "19    MET_rec    0.025082\n",
       "0    RIAGENDR    0.022562\n",
       "22   RIDRETH3    0.016068\n",
       "23    DR1_300    0.007407"
      ]
     },
     "execution_count": 15,
     "metadata": {},
     "output_type": "execute_result"
    }
   ],
   "source": [
    "pd.DataFrame({'features':X.columns, 'importance':rf1.feature_importances_}).sort_values(by='importance',ascending=False)"
   ]
  },
  {
   "cell_type": "code",
   "execution_count": 20,
   "id": "592a6b2d",
   "metadata": {},
   "outputs": [
    {
     "name": "stdout",
     "output_type": "stream",
     "text": [
      "RMSE 14.936507674583254\n",
      "MAE 11.460543086727627\n"
     ]
    }
   ],
   "source": [
    "ypreds = rf1.predict(X_train)\n",
    "print(\"RMSE\",mean_squared_error(y_train,ypreds,squared=False))\n",
    "print(\"MAE\",mean_absolute_error(y_train,ypreds))"
   ]
  },
  {
   "cell_type": "code",
   "execution_count": 22,
   "id": "608b3574",
   "metadata": {},
   "outputs": [
    {
     "data": {
      "text/plain": [
       "<matplotlib.collections.PathCollection at 0x184b4b3e520>"
      ]
     },
     "execution_count": 22,
     "metadata": {},
     "output_type": "execute_result"
    },
    {
     "data": {
      "image/png": "[encoded data removed]",
      "text/plain": [
       "<Figure size 432x288 with 1 Axes>"
      ]
     },
     "metadata": {
      "needs_background": "light"
     },
     "output_type": "display_data"
    }
   ],
   "source": [
    "plt.scatter(y_train,ypreds-y_train)"
   ]
  },
  {
   "cell_type": "markdown",
   "id": "7fa13b76",
   "metadata": {},
   "source": [
    "Removing outliers in the y"
   ]
  },
  {
   "cell_type": "code",
   "execution_count": 23,
   "id": "0452dc78",
   "metadata": {},
   "outputs": [],
   "source": [
    "df2 = df1[df1.LBXTC<400].copy()\n",
    "y = df2.LBXTC\n",
    "X = df2.drop('LBXTC', axis=1)"
   ]
  },
  {
   "cell_type": "code",
   "execution_count": 24,
   "id": "a892b19f",
   "metadata": {},
   "outputs": [],
   "source": [
    "X_train, X_test, y_train, y_test = train_test_split(X,y,test_size=0.2,random_state=625)"
   ]
  },
  {
   "cell_type": "code",
   "execution_count": 25,
   "id": "2ca5dcec",
   "metadata": {},
   "outputs": [
    {
     "data": {
      "text/plain": [
       "RandomForestRegressor()"
      ]
     },
     "execution_count": 25,
     "metadata": {},
     "output_type": "execute_result"
    }
   ],
   "source": [
    "rf1.fit(X_train,y_train)"
   ]
  },
  {
   "cell_type": "code",
   "execution_count": 26,
   "id": "88ff8473",
   "metadata": {},
   "outputs": [
    {
     "name": "stdout",
     "output_type": "stream",
     "text": [
      "RMSE 14.628350086793311\n",
      "MAE 11.312149195784803\n"
     ]
    }
   ],
   "source": [
    "ypreds = rf1.predict(X_train)\n",
    "print(\"RMSE\",mean_squared_error(y_train,ypreds,squared=False))\n",
    "print(\"MAE\",mean_absolute_error(y_train,ypreds))"
   ]
  },
  {
   "cell_type": "code",
   "execution_count": 27,
   "id": "0409ec72",
   "metadata": {},
   "outputs": [
    {
     "data": {
      "text/plain": [
       "<matplotlib.collections.PathCollection at 0x184b4b80a30>"
      ]
     },
     "execution_count": 27,
     "metadata": {},
     "output_type": "execute_result"
    },
    {
     "data": {
      "image/png": "[encoded data removed]",
      "text/plain": [
       "<Figure size 432x288 with 1 Axes>"
      ]
     },
     "metadata": {
      "needs_background": "light"
     },
     "output_type": "display_data"
    }
   ],
   "source": [
    "plt.scatter(y_train,ypreds-y_train)"
   ]
  },
  {
   "cell_type": "markdown",
   "id": "961b4cf3",
   "metadata": {},
   "source": [
    "Removing the heavy outliers still gets a bad model.  Going to first switch to modified nutrition values, then will add chronic conditions, alcohol use, and smoking."
   ]
  },
  {
   "cell_type": "code",
   "execution_count": 28,
   "id": "4b1e91c7",
   "metadata": {},
   "outputs": [],
   "source": [
    "numerical_variables = ['RIAGENDR','RIDAGEYR','BMXBMI','BPXPLS','DR1TKCAL_t', 'DR1TPROT_t',\n",
    "       'DR1TCARB_t', 'DR1TSUGR_t', 'DR1TFIBE_t', 'DR1TTFAT_t', 'DR1TSFAT_t',\n",
    "       'DR1TMFAT_t', 'DR1TPFAT_t', 'DR1TCHOL_t', 'DR1TSODI_t', 'DR1TVD_t',\n",
    "       'DR1TCALC_t', 'DR1TIRON_t', 'DR1TPOTA_t','MET_rec','Systolic','Diastolic']\n",
    "categorical_variables = ['RIDRETH3']"
   ]
  },
  {
   "cell_type": "code",
   "execution_count": 29,
   "id": "d8fe43ff",
   "metadata": {},
   "outputs": [],
   "source": [
    "df3 = df[numerical_variables+categorical_variables+['LBXTC']].copy()"
   ]
  },
  {
   "cell_type": "code",
   "execution_count": 30,
   "id": "7c10fdf1",
   "metadata": {},
   "outputs": [],
   "source": [
    "df3.dropna(inplace=True)"
   ]
  },
  {
   "cell_type": "code",
   "execution_count": 31,
   "id": "222fa4dc",
   "metadata": {},
   "outputs": [
    {
     "name": "stdout",
     "output_type": "stream",
     "text": [
      "RMSE 14.997873346982038\n",
      "MAE 11.41475200886672\n"
     ]
    }
   ],
   "source": [
    "y = df3.LBXTC\n",
    "X = df3.drop('LBXTC', axis=1)\n",
    "X_train, X_test, y_train, y_test = train_test_split(X,y,test_size=0.2,random_state=625)\n",
    "rf1.fit(X_train,y_train)\n",
    "ypreds = rf1.predict(X_train)\n",
    "print(\"RMSE\",mean_squared_error(y_train,ypreds,squared=False))\n",
    "print(\"MAE\",mean_absolute_error(y_train,ypreds))"
   ]
  },
  {
   "cell_type": "code",
   "execution_count": 32,
   "id": "2a2a2393",
   "metadata": {},
   "outputs": [
    {
     "data": {
      "text/plain": [
       "<matplotlib.collections.PathCollection at 0x184b4cadd30>"
      ]
     },
     "execution_count": 32,
     "metadata": {},
     "output_type": "execute_result"
    },
    {
     "data": {
      "image/png": "[encoded data removed]",
      "text/plain": [
       "<Figure size 432x288 with 1 Axes>"
      ]
     },
     "metadata": {
      "needs_background": "light"
     },
     "output_type": "display_data"
    }
   ],
   "source": [
    "plt.scatter(y_train,ypreds-y_train)"
   ]
  },
  {
   "cell_type": "markdown",
   "id": "eacc8e8d",
   "metadata": {},
   "source": [
    "Capping the y values, like before and trying again"
   ]
  },
  {
   "cell_type": "code",
   "execution_count": 35,
   "id": "df934f10",
   "metadata": {},
   "outputs": [
    {
     "name": "stdout",
     "output_type": "stream",
     "text": [
      "RMSE 14.575180616855045\n",
      "MAE 11.349330543933053\n"
     ]
    }
   ],
   "source": [
    "df4 = df3[(df3.LBXTC>100)&(df3.LBXTC<400)].copy()\n",
    "y = df4.LBXTC\n",
    "X = df4.drop('LBXTC', axis=1)\n",
    "X_train, X_test, y_train, y_test = train_test_split(X,y,test_size=0.2,random_state=625)\n",
    "rf1.fit(X_train,y_train)\n",
    "ypreds = rf1.predict(X_train)\n",
    "print(\"RMSE\",mean_squared_error(y_train,ypreds,squared=False))\n",
    "print(\"MAE\",mean_absolute_error(y_train,ypreds))"
   ]
  },
  {
   "cell_type": "code",
   "execution_count": 36,
   "id": "ca419c82",
   "metadata": {},
   "outputs": [
    {
     "data": {
      "text/plain": [
       "<matplotlib.collections.PathCollection at 0x184b1aa66a0>"
      ]
     },
     "execution_count": 36,
     "metadata": {},
     "output_type": "execute_result"
    },
    {
     "data": {
      "image/png": "[encoded data removed]",
      "text/plain": [
       "<Figure size 432x288 with 1 Axes>"
      ]
     },
     "metadata": {
      "needs_background": "light"
     },
     "output_type": "display_data"
    }
   ],
   "source": [
    "plt.scatter(y_train,ypreds-y_train)"
   ]
  },
  {
   "cell_type": "markdown",
   "id": "e4beded9",
   "metadata": {},
   "source": [
    "Going to try with all variables.. "
   ]
  },
  {
   "cell_type": "code",
   "execution_count": 38,
   "id": "ecff6567",
   "metadata": {},
   "outputs": [
    {
     "data": {
      "text/plain": [
       "Index(['LBXTC', 'RIAGENDR', 'RIDRETH3', 'RIDAGEYR', 'BMXWT', 'BMXHT', 'BMXBMI',\n",
       "       'BPXPLS', 'BPXPULS', 'DR1TKCAL', 'DR1TPROT', 'DR1TCARB', 'DR1TSUGR',\n",
       "       'DR1TFIBE', 'DR1TTFAT', 'DR1TSFAT', 'DR1TMFAT', 'DR1TPFAT', 'DR1TCHOL',\n",
       "       'DR1TSODI', 'DR1TVD', 'DR1TCALC', 'DR1TIRON', 'DR1TPOTA', 'DR1_300',\n",
       "       'ALQ120Q', 'ALQ120U', 'ALQ130', 'BPQ020', 'BPQ050A', 'BPQ080',\n",
       "       'BPQ100D', 'DIQ010', 'MCQ170M', 'SMQ681', 'PAQ610', 'PAD615', 'PAQ625',\n",
       "       'PAD630', 'PAQ655', 'PAD660', 'PAQ670', 'PAD675', 'Systolic',\n",
       "       'Diastolic', 'MET_work', 'MET_rec', 'DR1TKCAL_t', 'DR1TPROT_t',\n",
       "       'DR1TCARB_t', 'DR1TSUGR_t', 'DR1TFIBE_t', 'DR1TTFAT_t', 'DR1TSFAT_t',\n",
       "       'DR1TMFAT_t', 'DR1TPFAT_t', 'DR1TCHOL_t', 'DR1TSODI_t', 'DR1TVD_t',\n",
       "       'DR1TCALC_t', 'DR1TIRON_t', 'DR1TPOTA_t', 'avgALC', 'log_LBXTC'],\n",
       "      dtype='object')"
      ]
     },
     "execution_count": 38,
     "metadata": {},
     "output_type": "execute_result"
    }
   ],
   "source": [
    "df.columns"
   ]
  },
  {
   "cell_type": "code",
   "execution_count": 41,
   "id": "d7177d23",
   "metadata": {},
   "outputs": [
    {
     "name": "stdout",
     "output_type": "stream",
     "text": [
      "RMSE 0.07355372519450347\n",
      "MAE 0.05718085079272513\n"
     ]
    }
   ],
   "source": [
    "df5 = df.copy()\n",
    "df5.dropna(inplace=True)\n",
    "y = df5.log_LBXTC\n",
    "X = df5.drop(['LBXTC','log_LBXTC'], axis=1)\n",
    "X_train, X_test, y_train, y_test = train_test_split(X,y,test_size=0.2,random_state=625)\n",
    "rf1.fit(X_train,y_train)\n",
    "ypreds = rf1.predict(X_train)\n",
    "print(\"RMSE\",mean_squared_error(y_train,ypreds,squared=False))\n",
    "print(\"MAE\",mean_absolute_error(y_train,ypreds))"
   ]
  },
  {
   "cell_type": "code",
   "execution_count": 42,
   "id": "61ce54c4",
   "metadata": {},
   "outputs": [
    {
     "data": {
      "text/plain": [
       "<matplotlib.collections.PathCollection at 0x184b50194c0>"
      ]
     },
     "execution_count": 42,
     "metadata": {},
     "output_type": "execute_result"
    },
    {
     "data": {
      "image/png": "[encoded data removed]",
      "text/plain": [
       "<Figure size 432x288 with 1 Axes>"
      ]
     },
     "metadata": {
      "needs_background": "light"
     },
     "output_type": "display_data"
    }
   ],
   "source": [
    "plt.scatter(y_train,ypreds-y_train)"
   ]
  },
  {
   "cell_type": "code",
   "execution_count": 43,
   "id": "274dd741",
   "metadata": {},
   "outputs": [
    {
     "name": "stdout",
     "output_type": "stream",
     "text": [
      "RMSE 0.20379905421950556\n",
      "MAE 0.15708134633872364\n"
     ]
    }
   ],
   "source": [
    "ypreds = rf1.predict(X_test)\n",
    "print(\"RMSE\",mean_squared_error(y_test,ypreds,squared=False))\n",
    "print(\"MAE\",mean_absolute_error(y_test,ypreds))"
   ]
  },
  {
   "cell_type": "code",
   "execution_count": 45,
   "id": "d125679f",
   "metadata": {
    "scrolled": true
   },
   "outputs": [
    {
     "data": {
      "text/plain": [
       "<matplotlib.collections.PathCollection at 0x184b5355e20>"
      ]
     },
     "execution_count": 45,
     "metadata": {},
     "output_type": "execute_result"
    },
    {
     "data": {
      "image/png": "[encoded data removed]",
      "text/plain": [
       "<Figure size 432x288 with 1 Axes>"
      ]
     },
     "metadata": {
      "needs_background": "light"
     },
     "output_type": "display_data"
    }
   ],
   "source": [
    "plt.scatter(y_test,ypreds-y_test)"
   ]
  },
  {
   "cell_type": "code",
   "execution_count": null,
   "id": "ec0dc212",
   "metadata": {},
   "outputs": [],
   "source": []
  }
 ],
 "metadata": {
  "kernelspec": {
   "display_name": "Python 3",
   "language": "python",
   "name": "python3"
  },
  "language_info": {
   "codemirror_mode": {
    "name": "ipython",
    "version": 3
   },
   "file_extension": ".py",
   "mimetype": "text/x-python",
   "name": "python",
   "nbconvert_exporter": "python",
   "pygments_lexer": "ipython3",
   "version": "3.9.5"
  }
 },
 "nbformat": 4,
 "nbformat_minor": 5
}
