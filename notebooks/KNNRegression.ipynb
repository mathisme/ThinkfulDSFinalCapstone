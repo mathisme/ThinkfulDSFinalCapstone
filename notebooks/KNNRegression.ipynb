{
 "cells": [
  {
   "cell_type": "code",
   "execution_count": 1,
   "id": "32f0598b",
   "metadata": {},
   "outputs": [],
   "source": [
    "import numpy as np\n",
    "import pandas as pd\n",
    "import matplotlib.pyplot as plt\n",
    "import seaborn as sns\n",
    "from sklearn.neighbors import KNeighborsRegressor\n",
    "from sklearn.model_selection import train_test_split\n",
    "from sklearn.pipeline import Pipeline\n",
    "from sklearn.model_selection import GridSearchCV\n",
    "from sklearn.compose import ColumnTransformer\n",
    "from sklearn.preprocessing import OneHotEncoder, MinMaxScaler\n",
    "from sklearn.decomposition import PCA\n",
    "from feature_engine.outliers import Winsorizer\n",
    "from sklearn.metrics import mean_absolute_error, mean_squared_error\n",
    "from sklearn.impute import KNNImputer"
   ]
  },
  {
   "cell_type": "code",
   "execution_count": 2,
   "id": "1ac655a1",
   "metadata": {},
   "outputs": [],
   "source": [
    "df = pd.read_csv('../Data/df_transformed.csv')"
   ]
  },
  {
   "cell_type": "code",
   "execution_count": 3,
   "id": "e3485453",
   "metadata": {},
   "outputs": [],
   "source": [
    "df.drop('Unnamed: 0',axis=1,inplace=True)"
   ]
  },
  {
   "cell_type": "code",
   "execution_count": 4,
   "id": "688206c7",
   "metadata": {},
   "outputs": [
    {
     "data": {
      "text/plain": [
       "Index(['LBXTC', 'RIAGENDR', 'RIDRETH3', 'RIDAGEYR', 'BMXWT', 'BMXHT', 'BMXBMI',\n",
       "       'BPXPLS', 'BPXPULS', 'DR1TKCAL', 'DR1TPROT', 'DR1TCARB', 'DR1TSUGR',\n",
       "       'DR1TFIBE', 'DR1TTFAT', 'DR1TSFAT', 'DR1TMFAT', 'DR1TPFAT', 'DR1TCHOL',\n",
       "       'DR1TSODI', 'DR1TVD', 'DR1TCALC', 'DR1TIRON', 'DR1TPOTA', 'DR1_300',\n",
       "       'ALQ120Q', 'ALQ120U', 'ALQ130', 'BPQ020', 'BPQ050A', 'BPQ080',\n",
       "       'BPQ100D', 'DIQ010', 'MCQ170M', 'SMQ681', 'PAQ610', 'PAD615', 'PAQ625',\n",
       "       'PAD630', 'PAQ655', 'PAD660', 'PAQ670', 'PAD675', 'Systolic',\n",
       "       'Diastolic', 'MET_work', 'MET_rec', 'DR1TKCAL_t', 'DR1TPROT_t',\n",
       "       'DR1TCARB_t', 'DR1TSUGR_t', 'DR1TFIBE_t', 'DR1TTFAT_t', 'DR1TSFAT_t',\n",
       "       'DR1TMFAT_t', 'DR1TPFAT_t', 'DR1TCHOL_t', 'DR1TSODI_t', 'DR1TVD_t',\n",
       "       'DR1TCALC_t', 'DR1TIRON_t', 'DR1TPOTA_t', 'log_LBXTC'],\n",
       "      dtype='object')"
      ]
     },
     "execution_count": 4,
     "metadata": {},
     "output_type": "execute_result"
    }
   ],
   "source": [
    "df.columns"
   ]
  },
  {
   "cell_type": "markdown",
   "id": "54bd6e36",
   "metadata": {},
   "source": [
    "First I'm going to try with demographic information, body mass index, blood pressure, pulse, nutrition info (not transformed) and MET recreational.  Because KNN uses distance, any categorical, non oridnal, values with more than two levels such as race, need to be one hot encoded because we want the distances to be the same between any two races.  I will also first try with y being LBXTC and not log transformed.\n",
    "I plan to first drop missing values then try it with imputed missing values"
   ]
  },
  {
   "cell_type": "code",
   "execution_count": 5,
   "id": "598bfc4a",
   "metadata": {},
   "outputs": [],
   "source": [
    "numerical_variables = ['RIAGENDR','RIDAGEYR','BMXBMI','BPXPLS','DR1TKCAL', 'DR1TPROT', 'DR1TCARB', 'DR1TSUGR',\n",
    "       'DR1TFIBE', 'DR1TTFAT', 'DR1TSFAT', 'DR1TMFAT', 'DR1TPFAT', 'DR1TCHOL',\n",
    "       'DR1TSODI', 'DR1TVD', 'DR1TCALC', 'DR1TIRON', 'DR1TPOTA','MET_rec']\n",
    "categorical_variables = ['RIDRETH3','DR1_300']"
   ]
  },
  {
   "cell_type": "code",
   "execution_count": 6,
   "id": "83a3ac7c",
   "metadata": {},
   "outputs": [],
   "source": [
    "df1 = df[numerical_variables+categorical_variables+['LBXTC']].copy()"
   ]
  },
  {
   "cell_type": "code",
   "execution_count": 7,
   "id": "9df4060c",
   "metadata": {},
   "outputs": [],
   "source": [
    "df1.dropna(inplace=True)"
   ]
  },
  {
   "cell_type": "code",
   "execution_count": 8,
   "id": "75d556cf",
   "metadata": {},
   "outputs": [],
   "source": [
    "y = df1.LBXTC\n",
    "X = df1.drop('LBXTC', axis=1)"
   ]
  },
  {
   "cell_type": "code",
   "execution_count": 9,
   "id": "b1666063",
   "metadata": {},
   "outputs": [],
   "source": [
    "X_train, X_test, y_train, y_test = train_test_split(X,y,test_size=0.2,random_state=625)"
   ]
  },
  {
   "cell_type": "code",
   "execution_count": 10,
   "id": "4c656fbd",
   "metadata": {},
   "outputs": [],
   "source": [
    "numeric_transformer = Pipeline(steps=[('scalar',MinMaxScaler())])\n",
    "cat_transformer = Pipeline(steps=[('one_hot',OneHotEncoder(handle_unknown='ignore'))])\n",
    "\n",
    "preprocessor = ColumnTransformer(transformers=[\n",
    "    ('num',numeric_transformer,numerical_variables),\n",
    "    ('cat',cat_transformer,categorical_variables)])"
   ]
  },
  {
   "cell_type": "code",
   "execution_count": 11,
   "id": "4547882f",
   "metadata": {},
   "outputs": [],
   "source": [
    "knn1 = Pipeline(steps =[\n",
    "    ('preprocessor',preprocessor),\n",
    "    ('knn_regression', KNeighborsRegressor())])"
   ]
  },
  {
   "cell_type": "code",
   "execution_count": 12,
   "id": "e3db3a8e",
   "metadata": {},
   "outputs": [],
   "source": [
    "params = {\n",
    "    'knn_regression__weights':['uniform', 'distance'],\n",
    "    'knn_regression__n_neighbors':[1, 2,5,10, 20,50,100]\n",
    "}"
   ]
  },
  {
   "cell_type": "code",
   "execution_count": 13,
   "id": "37837754",
   "metadata": {},
   "outputs": [
    {
     "data": {
      "text/plain": [
       "{'knn_regression__n_neighbors': 50, 'knn_regression__weights': 'distance'}"
      ]
     },
     "execution_count": 13,
     "metadata": {},
     "output_type": "execute_result"
    }
   ],
   "source": [
    "grid1 = GridSearchCV(knn1,params,scoring='neg_mean_absolute_error',verbose=0)\n",
    "grid1.fit(X_train,y_train)\n",
    "grid1.best_params_"
   ]
  },
  {
   "cell_type": "code",
   "execution_count": 14,
   "id": "2642d878",
   "metadata": {},
   "outputs": [
    {
     "data": {
      "text/plain": [
       "-31.634678286793154"
      ]
     },
     "execution_count": 14,
     "metadata": {},
     "output_type": "execute_result"
    }
   ],
   "source": [
    "grid1.best_score_"
   ]
  },
  {
   "cell_type": "code",
   "execution_count": 15,
   "id": "95083731",
   "metadata": {},
   "outputs": [
    {
     "name": "stdout",
     "output_type": "stream",
     "text": [
      "Mean Absolute error for test set: 31.994752241358416\n"
     ]
    }
   ],
   "source": [
    "y_preds = grid1.predict(X_test)\n",
    "print('Mean Absolute error for test set:',mean_absolute_error(y_test, y_preds))"
   ]
  },
  {
   "cell_type": "markdown",
   "id": "f703cb39",
   "metadata": {},
   "source": [
    "The test and train scores are similar. There doesn't appear to be underfitting.  However that is a large MAE.  In context someone with cholesterol level of 170 may in fact have high cholesterol.    Looking at the plot of residuals.."
   ]
  },
  {
   "cell_type": "code",
   "execution_count": 16,
   "id": "b81974ef",
   "metadata": {},
   "outputs": [
    {
     "data": {
      "text/plain": [
       "<matplotlib.collections.PathCollection at 0x1f704240d00>"
      ]
     },
     "execution_count": 16,
     "metadata": {},
     "output_type": "execute_result"
    },
    {
     "data": {
      "image/png": "[encoded data removed]",
      "text/plain": [
       "<Figure size 432x288 with 1 Axes>"
      ]
     },
     "metadata": {
      "needs_background": "light"
     },
     "output_type": "display_data"
    }
   ],
   "source": [
    "residuals = y_preds-y_test\n",
    "plt.scatter(y_test,residuals)"
   ]
  },
  {
   "cell_type": "markdown",
   "id": "430efe37",
   "metadata": {},
   "source": [
    "Notice this is not a good model.  The residuals should be randomly scattered centered at 0.  Here it shows very large residuals for extreme values of y.  "
   ]
  },
  {
   "cell_type": "code",
   "execution_count": 17,
   "id": "1408aba9",
   "metadata": {},
   "outputs": [
    {
     "data": {
      "text/plain": [
       "(array([  1.,   0.,   0.,   2.,   1.,   3.,   4.,  11.,  18.,  23.,  32.,\n",
       "         41.,  61.,  69., 119., 109., 119.,  93.,  74.,  63.,  28.,  19.,\n",
       "          7.,   3.,   3.]),\n",
       " array([-181.60941947, -169.59342372, -157.57742796, -145.56143221,\n",
       "        -133.54543645, -121.5294407 , -109.51344495,  -97.49744919,\n",
       "         -85.48145344,  -73.46545768,  -61.44946193,  -49.43346617,\n",
       "         -37.41747042,  -25.40147466,  -13.38547891,   -1.36948316,\n",
       "          10.6465126 ,   22.66250835,   34.67850411,   46.69449986,\n",
       "          58.71049562,   70.72649137,   82.74248713,   94.75848288,\n",
       "         106.77447863,  118.79047439]),\n",
       " <BarContainer object of 25 artists>)"
      ]
     },
     "execution_count": 17,
     "metadata": {},
     "output_type": "execute_result"
    },
    {
     "data": {
      "image/png": "[encoded data removed]",
      "text/plain": [
       "<Figure size 432x288 with 1 Axes>"
      ]
     },
     "metadata": {
      "needs_background": "light"
     },
     "output_type": "display_data"
    }
   ],
   "source": [
    "plt.hist(residuals,bins=25)"
   ]
  },
  {
   "cell_type": "markdown",
   "id": "95b8f8fa",
   "metadata": {},
   "source": [
    "The histogram of the residuals is left skewed.  "
   ]
  },
  {
   "cell_type": "markdown",
   "id": "f9ddaac9",
   "metadata": {},
   "source": [
    "Going to try now with the log transformed dependant variable."
   ]
  },
  {
   "cell_type": "code",
   "execution_count": 20,
   "id": "af4a8bc7",
   "metadata": {},
   "outputs": [],
   "source": [
    "df2 = df[numerical_variables+categorical_variables+['log_LBXTC']].copy()\n",
    "df2.dropna(inplace=True)\n",
    "y = df2.log_LBXTC\n",
    "X = df2.drop('log_LBXTC', axis=1)"
   ]
  },
  {
   "cell_type": "code",
   "execution_count": 21,
   "id": "2bedb8d6",
   "metadata": {},
   "outputs": [
    {
     "data": {
      "text/plain": [
       "{'knn_regression__n_neighbors': 50, 'knn_regression__weights': 'distance'}"
      ]
     },
     "execution_count": 21,
     "metadata": {},
     "output_type": "execute_result"
    }
   ],
   "source": [
    "X_train, X_test, y_train, y_test = train_test_split(X,y,test_size=0.2,random_state=625)\n",
    "grid2 = GridSearchCV(knn1,params,scoring='neg_mean_absolute_error',verbose=0)\n",
    "grid2.fit(X_train,y_train)\n",
    "grid2.best_params_"
   ]
  },
  {
   "cell_type": "code",
   "execution_count": 22,
   "id": "98c2e3ce",
   "metadata": {},
   "outputs": [
    {
     "data": {
      "text/plain": [
       "-0.16698473256222743"
      ]
     },
     "execution_count": 22,
     "metadata": {},
     "output_type": "execute_result"
    }
   ],
   "source": [
    "grid2.best_score_"
   ]
  },
  {
   "cell_type": "code",
   "execution_count": 23,
   "id": "7413aca3",
   "metadata": {},
   "outputs": [
    {
     "data": {
      "text/plain": [
       "1.4688746390730945"
      ]
     },
     "execution_count": 23,
     "metadata": {},
     "output_type": "execute_result"
    }
   ],
   "source": [
    "10**np.abs(grid2.best_score_)"
   ]
  },
  {
   "cell_type": "markdown",
   "id": "c45ca7e7",
   "metadata": {},
   "source": [
    "This MAE is much better.  Looking at residuals"
   ]
  },
  {
   "cell_type": "code",
   "execution_count": 24,
   "id": "eac5ab6f",
   "metadata": {},
   "outputs": [
    {
     "name": "stdout",
     "output_type": "stream",
     "text": [
      "Mean Absolute error for test set: 0.17015427232190067\n"
     ]
    }
   ],
   "source": [
    "y_preds = grid2.predict(X_test)\n",
    "print('Mean Absolute error for test set:',mean_absolute_error(y_test, y_preds))"
   ]
  },
  {
   "cell_type": "code",
   "execution_count": 25,
   "id": "6933f11a",
   "metadata": {},
   "outputs": [
    {
     "data": {
      "text/plain": [
       "<matplotlib.collections.PathCollection at 0x1f70460b610>"
      ]
     },
     "execution_count": 25,
     "metadata": {},
     "output_type": "execute_result"
    },
    {
     "data": {
      "image/png": "[encoded data removed]",
      "text/plain": [
       "<Figure size 432x288 with 1 Axes>"
      ]
     },
     "metadata": {
      "needs_background": "light"
     },
     "output_type": "display_data"
    }
   ],
   "source": [
    "residuals = y_preds-y_test\n",
    "plt.scatter(y_test,residuals)"
   ]
  },
  {
   "cell_type": "markdown",
   "id": "64521943",
   "metadata": {},
   "source": [
    "The residual plot still shows that the model struggles to capture extreme values.  More variables may be needed.  But before adding variables I want to try with the transformed nutrition information.  \n",
    "\n",
    "I still need to try imputing values as well\n",
    "and maybe cutting the outliers on y out"
   ]
  }
 ],
 "metadata": {
  "kernelspec": {
   "display_name": "Python 3",
   "language": "python",
   "name": "python3"
  },
  "language_info": {
   "codemirror_mode": {
    "name": "ipython",
    "version": 3
   },
   "file_extension": ".py",
   "mimetype": "text/x-python",
   "name": "python",
   "nbconvert_exporter": "python",
   "pygments_lexer": "ipython3",
   "version": "3.9.5"
  }
 },
 "nbformat": 4,
 "nbformat_minor": 5
}
