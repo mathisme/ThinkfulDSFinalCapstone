{
 "cells": [
  {
   "cell_type": "code",
   "execution_count": 5,
   "id": "2f974adb",
   "metadata": {},
   "outputs": [],
   "source": [
    "import numpy as np\n",
    "import pandas as pd\n",
    "import matplotlib.pyplot as plt\n",
    "import seaborn as sns\n",
    "from sklearn.neighbors import KNeighborsRegressor\n",
    "from sklearn.model_selection import train_test_split\n",
    "from sklearn.pipeline import Pipeline\n",
    "from sklearn.model_selection import GridSearchCV\n",
    "from sklearn.compose import ColumnTransformer\n",
    "from sklearn.preprocessing import OneHotEncoder, MinMaxScaler\n",
    "from sklearn.decomposition import PCA\n",
    "from feature_engine.outliers import Winsorizer\n",
    "from sklearn.metrics import mean_absolute_error, mean_squared_error\n",
    "from sklearn.impute import KNNImputer"
   ]
  },
  {
   "cell_type": "markdown",
   "id": "88496264",
   "metadata": {},
   "source": [
    "0.  impute missing values -- yes or no, if no drop -- done\n",
    "1.  drop persistent outliers -- yes, no -- done\n",
    "2.  use log transformed y -- yes or no\n",
    "3.  reduce y range -- yes or no -- done\n",
    "4.  include nutrients -- yes or no-- done\n",
    "5.  if so, which nutrients -- original, transformed, both  -- done\n",
    "6.  PCA -- yes or no\n",
    "7.  Winsorize X -- yes or no\n",
    "8.  include chronic conditions -- yes or no -- done\n",
    "9.  include alcohol and tobacco -- yes or no -- done\n",
    "10.  if alchohol included, which -- original, transformed, both -- done\n",
    "11. transformed physical activity -- yes or no -- done\n",
    "12. use height and weight -- yes or no, if no, bmi  -- done\n",
    "13.  include irregular pulse -- yes,no -- done\n",
    "14.  log transform all x numerical values -- yes, no\n",
    "\n",
    "Want to save model number, description,r2, adjusted r2, training mae, test mae, training rmse, test rmse\n"
   ]
  },
  {
   "cell_type": "code",
   "execution_count": 6,
   "id": "4395bb9a",
   "metadata": {},
   "outputs": [],
   "source": [
    "df_missing = pd.read_csv('../Data/df_transformed.csv')\n",
    "df_missing.drop('Unnamed: 0',axis=1,inplace=True)"
   ]
  },
  {
   "cell_type": "code",
   "execution_count": 7,
   "id": "d5958e07",
   "metadata": {},
   "outputs": [],
   "source": [
    "df_imputed = pd.read_csv('../Data/dfi_transformed.csv')\n",
    "df_imputed.drop('Unnamed: 0',axis=1,inplace=True)"
   ]
  },
  {
   "cell_type": "code",
   "execution_count": 8,
   "id": "a40b5b76",
   "metadata": {},
   "outputs": [
    {
     "data": {
      "text/plain": [
       "Index(['LBXTC', 'RIAGENDR', 'RIDRETH3', 'RIDAGEYR', 'BMXWT', 'BMXHT', 'BMXBMI',\n",
       "       'BPXPLS', 'BPXPULS', 'DR1TKCAL', 'DR1TPROT', 'DR1TCARB', 'DR1TSUGR',\n",
       "       'DR1TFIBE', 'DR1TTFAT', 'DR1TSFAT', 'DR1TMFAT', 'DR1TPFAT', 'DR1TCHOL',\n",
       "       'DR1TSODI', 'DR1TVD', 'DR1TCALC', 'DR1TIRON', 'DR1TPOTA', 'DR1_300',\n",
       "       'ALQ120Q', 'ALQ120U', 'ALQ130', 'BPQ020', 'BPQ050A', 'BPQ080',\n",
       "       'BPQ100D', 'DIQ010', 'MCQ170M', 'SMQ681', 'PAQ610', 'PAD615', 'PAQ625',\n",
       "       'PAD630', 'PAQ655', 'PAD660', 'PAQ670', 'PAD675', 'Systolic',\n",
       "       'Diastolic', 'outlier', 'MET_work', 'MET_rec', 'DR1TKCAL_t',\n",
       "       'DR1TPROT_t', 'DR1TCARB_t', 'DR1TSUGR_t', 'DR1TFIBE_t', 'DR1TTFAT_t',\n",
       "       'DR1TSFAT_t', 'DR1TMFAT_t', 'DR1TPFAT_t', 'DR1TCHOL_t', 'DR1TSODI_t',\n",
       "       'DR1TVD_t', 'DR1TCALC_t', 'DR1TIRON_t', 'DR1TPOTA_t', 'avgALC',\n",
       "       'log_LBXTC'],\n",
       "      dtype='object')"
      ]
     },
     "execution_count": 8,
     "metadata": {},
     "output_type": "execute_result"
    }
   ],
   "source": [
    "df_missing.columns"
   ]
  },
  {
   "cell_type": "code",
   "execution_count": 9,
   "id": "922d72b5",
   "metadata": {},
   "outputs": [
    {
     "data": {
      "text/plain": [
       "Index(['LBXTC', 'RIAGENDR', 'RIDRETH3', 'RIDAGEYR', 'BMXWT', 'BMXHT', 'BMXBMI',\n",
       "       'BPXPLS', 'BPXPULS', 'DR1TKCAL', 'DR1TPROT', 'DR1TCARB', 'DR1TSUGR',\n",
       "       'DR1TFIBE', 'DR1TTFAT', 'DR1TSFAT', 'DR1TMFAT', 'DR1TPFAT', 'DR1TCHOL',\n",
       "       'DR1TSODI', 'DR1TVD', 'DR1TCALC', 'DR1TIRON', 'DR1TPOTA', 'DR1_300',\n",
       "       'ALQ120Q', 'ALQ120U', 'ALQ130', 'BPQ020', 'BPQ050A', 'BPQ080',\n",
       "       'BPQ100D', 'DIQ010', 'MCQ170M', 'SMQ681', 'PAQ610', 'PAD615', 'PAQ625',\n",
       "       'PAD630', 'PAQ655', 'PAD660', 'PAQ670', 'PAD675', 'Systolic',\n",
       "       'Diastolic', 'outlier', 'BMXWT_i', 'BMXHT_i', 'BMXBMI_i', 'BPXPLS_i',\n",
       "       'BPXPULS_i', 'DR1_300_i', 'ALQ120Q_i', 'ALQ120U_i', 'ALQ130_i',\n",
       "       'BPQ020_i', 'BPQ050A_i', 'BPQ080_i', 'BPQ100D_i', 'DIQ010_i',\n",
       "       'MCQ170M_i', 'SMQ681_i', 'PAQ610_i', 'PAD615_i', 'PAQ625_i', 'PAD630_i',\n",
       "       'PAQ655_i', 'PAD660_i', 'PAQ670_i', 'PAD675_i', 'Systolic_i',\n",
       "       'Diastolic_i', 'MET_work', 'MET_rec', 'MET_work_i', 'MET_rec_i',\n",
       "       'DR1TKCAL_t', 'DR1TPROT_t', 'DR1TCARB_t', 'DR1TSUGR_t', 'DR1TFIBE_t',\n",
       "       'DR1TTFAT_t', 'DR1TSFAT_t', 'DR1TMFAT_t', 'DR1TPFAT_t', 'DR1TCHOL_t',\n",
       "       'DR1TSODI_t', 'DR1TVD_t', 'DR1TCALC_t', 'DR1TIRON_t', 'DR1TPOTA_t',\n",
       "       'avgALC', 'avgALC_i', 'log_LBXTC'],\n",
       "      dtype='object')"
      ]
     },
     "execution_count": 9,
     "metadata": {},
     "output_type": "execute_result"
    }
   ],
   "source": [
    "df_imputed.columns"
   ]
  },
  {
   "cell_type": "code",
   "execution_count": 10,
   "id": "71a5ba19",
   "metadata": {},
   "outputs": [],
   "source": [
    "Models = {\n",
    "    'number':[],\n",
    "    'description':[],\n",
    "    'r2':[],\n",
    "    'adjusted r2':[],\n",
    "    'training MAE':[],\n",
    "    'testing MAE':[],\n",
    "    'training RMSE':[],\n",
    "    'testing RMSE':[]\n",
    "}"
   ]
  },
  {
   "cell_type": "markdown",
   "id": "1057a109",
   "metadata": {},
   "source": [
    "Model 1\n",
    "Drop missing values, drop persistent outliers, log transform y, use transformed nutrients, PCA, no winsorization, no chronic conditions, include alcohol and tobacco, don't use transformed alcohol, use transformed physical activity"
   ]
  },
  {
   "cell_type": "code",
   "execution_count": 11,
   "id": "18e33139",
   "metadata": {},
   "outputs": [],
   "source": [
    "df = df_missing[df_missing.outlier==0].copy()\n",
    "\n",
    "nutrients = ['DR1TKCAL_t', 'DR1TPROT_t',\n",
    "       'DR1TCARB_t', 'DR1TSUGR_t', 'DR1TFIBE_t', 'DR1TTFAT_t', 'DR1TSFAT_t',\n",
    "       'DR1TMFAT_t', 'DR1TPFAT_t', 'DR1TCHOL_t', 'DR1TSODI_t', 'DR1TVD_t',\n",
    "       'DR1TCALC_t', 'DR1TIRON_t', 'DR1TPOTA_t']\n",
    "alc_tob = ['ALQ120Q', 'ALQ120U', 'ALQ130','SMQ681']\n",
    "variables = nutrients + alc_tob + ['MET_rec','log_LBXTC','RIAGENDR', 'RIDRETH3', 'RIDAGEYR','Systolic',\n",
    "       'Diastolic','BMXWT', 'BMXHT','BPXPLS']\n",
    "df = df[variables].dropna()\n",
    "y = df.log_LBXTC\n",
    "X = df.drop('log_LBXTC',axis=1)\n",
    "numerical_variables = ['DR1TKCAL_t', 'DR1TPROT_t',\n",
    "       'DR1TCARB_t', 'DR1TSUGR_t', 'DR1TFIBE_t', 'DR1TTFAT_t', 'DR1TSFAT_t',\n",
    "       'DR1TMFAT_t', 'DR1TPFAT_t', 'DR1TCHOL_t', 'DR1TSODI_t', 'DR1TVD_t',\n",
    "       'DR1TCALC_t', 'DR1TIRON_t', 'DR1TPOTA_t','ALQ120Q','ALQ130','MET_rec','RIDAGEYR','Systolic',\n",
    "       'Diastolic','BMXWT', 'BMXHT','BPXPLS']\n",
    "categorical_variables = ['ALQ120U','SMQ681','RIAGENDR', 'RIDRETH3']\n",
    "\n"
   ]
  },
  {
   "cell_type": "code",
   "execution_count": 12,
   "id": "b5ac3524",
   "metadata": {},
   "outputs": [],
   "source": [
    "X_train, X_test, y_train, y_test = train_test_split(X, y, random_state=675, test_size=0.2)"
   ]
  },
  {
   "cell_type": "code",
   "execution_count": 15,
   "id": "596a298c",
   "metadata": {},
   "outputs": [],
   "source": [
    "numeric_transformer = Pipeline(steps=[('scalar',MinMaxScaler())])\n",
    "cat_transformer = Pipeline(steps=[('one_hot',OneHotEncoder(handle_unknown='ignore'))])\n",
    "preprocessor = ColumnTransformer(transformers=[\n",
    "    ('num',numeric_transformer,numerical_variables),\n",
    "    ('cat',cat_transformer,categorical_variables)])\n",
    "knn1 = Pipeline(steps =[\n",
    "    ('preprocessor',preprocessor),\n",
    "    ('PCA',PCA(0.95)),\n",
    "    ('kneighbors', KNeighborsRegressor())])"
   ]
  },
  {
   "cell_type": "code",
   "execution_count": 17,
   "id": "bb039c94",
   "metadata": {},
   "outputs": [
    {
     "data": {
      "text/plain": [
       "Pipeline(steps=[('preprocessor',\n",
       "                 ColumnTransformer(transformers=[('num',\n",
       "                                                  Pipeline(steps=[('scalar',\n",
       "                                                                   MinMaxScaler())]),\n",
       "                                                  ['DR1TKCAL_t', 'DR1TPROT_t',\n",
       "                                                   'DR1TCARB_t', 'DR1TSUGR_t',\n",
       "                                                   'DR1TFIBE_t', 'DR1TTFAT_t',\n",
       "                                                   'DR1TSFAT_t', 'DR1TMFAT_t',\n",
       "                                                   'DR1TPFAT_t', 'DR1TCHOL_t',\n",
       "                                                   'DR1TSODI_t', 'DR1TVD_t',\n",
       "                                                   'DR1TCALC_t', 'DR1TIRON_t',\n",
       "                                                   'DR1TPOTA_t', 'ALQ120Q',\n",
       "                                                   'ALQ130', 'MET_rec',\n",
       "                                                   'RIDAGEYR', 'Systolic',\n",
       "                                                   'Diastolic', 'BMXWT',\n",
       "                                                   'BMXHT', 'BPXPLS']),\n",
       "                                                 ('cat',\n",
       "                                                  Pipeline(steps=[('one_hot',\n",
       "                                                                   OneHotEncoder(handle_unknown='ignore'))]),\n",
       "                                                  ['ALQ120U', 'SMQ681',\n",
       "                                                   'RIAGENDR', 'RIDRETH3'])])),\n",
       "                ('PCA', PCA(n_components=0.95)),\n",
       "                ('kneighbors', KNeighborsRegressor())])"
      ]
     },
     "execution_count": 17,
     "metadata": {},
     "output_type": "execute_result"
    }
   ],
   "source": [
    "knn1.fit(X_train,y_train)"
   ]
  },
  {
   "cell_type": "code",
   "execution_count": 21,
   "id": "5580f1cf",
   "metadata": {},
   "outputs": [],
   "source": [
    "Models['number'].append(-1)\n",
    "r2 = knn1.score(X_train,y_train)\n",
    "Models['r2'].append(r2)"
   ]
  },
  {
   "cell_type": "code",
   "execution_count": 24,
   "id": "fa3c002d",
   "metadata": {},
   "outputs": [],
   "source": [
    "Models['adjusted r2'].append(((1-r2)/(X_train.shape[0]-1))/(X_train.shape[0]-X_train.shape[1]-1))"
   ]
  },
  {
   "cell_type": "code",
   "execution_count": 25,
   "id": "43b9a0b2",
   "metadata": {},
   "outputs": [],
   "source": [
    "training_preds = knn1.predict(X_train)"
   ]
  },
  {
   "cell_type": "code",
   "execution_count": 26,
   "id": "1dbfc0dc",
   "metadata": {},
   "outputs": [],
   "source": [
    "ypreds = knn1.predict(X_test)"
   ]
  },
  {
   "cell_type": "code",
   "execution_count": 27,
   "id": "03ff6ce8",
   "metadata": {},
   "outputs": [],
   "source": [
    "Models['training MAE'].append(mean_absolute_error(y_train,training_preds))\n",
    "Models['testing MAE'].append(mean_absolute_error(y_test,ypreds))\n",
    "Models['training RMSE'].append(mean_squared_error(y_train,training_preds,squared=False))\n",
    "Models['testing RMSE'].append(mean_squared_error(y_test,ypreds,squared=False))"
   ]
  },
  {
   "cell_type": "code",
   "execution_count": 28,
   "id": "866648df",
   "metadata": {},
   "outputs": [
    {
     "data": {
      "text/plain": [
       "{'number': [1],\n",
       " 'r2': [0.27477294125010665],\n",
       " 'adjusted r2': [8.903822887199862e-08],\n",
       " 'training MAE': [0.14642303850119112],\n",
       " 'testing MAE': [0.17462034466022128],\n",
       " 'training RMSE': [0.18658239612019176],\n",
       " 'testing RMSE': [0.22191043832633375]}"
      ]
     },
     "execution_count": 28,
     "metadata": {},
     "output_type": "execute_result"
    }
   ],
   "source": [
    "Models"
   ]
  },
  {
   "cell_type": "code",
   "execution_count": 25,
   "id": "4566d517",
   "metadata": {},
   "outputs": [],
   "source": [
    "def model(number):\n",
    "    global Models,df_missing,df_imputed\n",
    "    Models['number'].append(number)\n",
    "    m = \"\"\n",
    "    imputed = False\n",
    "    num_variables=['RIDAGEYR','BPXPLS','Systolic','Diastolic']\n",
    "    cat_variables =['RIAGENDR','RIDRETH3']\n",
    "    if number % 2 == 0: # use imputed values (remember to drop na before train test split)\n",
    "        df = df_missing\n",
    "        m = \"drop missing, \"\n",
    "    else:\n",
    "        df = df_imputed\n",
    "        imputed = True\n",
    "        m = \"imputed, \"\n",
    "        cat_variables.extend(['BPXPLS_i','Systolic_i','Diastolic_i'])\n",
    "    number = (number - number%2)//2\n",
    "    if number%2==1: # drop outliers\n",
    "        m = m + \"drop outliers, \"\n",
    "        df = df[df.outlier==0].copy()\n",
    "    number = (number - number%2)//2\n",
    "    if number % 2 == 1: # reduce y range\n",
    "        m = m + \"reduce y range, \"\n",
    "        number -= 1\n",
    "        df = df[(df.LBXTC>=100)&(df.LBXTC<400)].copy()\n",
    "    number = number//2\n",
    "    if number % 2 == 1: # use height and weight\n",
    "        m = m + \"use height and weight, \"\n",
    "        number = number - 1\n",
    "        num_variables.extend([ 'BMXWT', 'BMXHT'])\n",
    "        if imputed:\n",
    "            cat_variables.extend(['BMXWT_i', 'BMXHT_i'])\n",
    "    else:\n",
    "        m = m + \"use bmi, \"\n",
    "        num_variables.append('BMXBMI')\n",
    "        if imputed:\n",
    "            cat_variables.append('BMXBMI_i')\n",
    "    number = number//2\n",
    "    if number%2==1: # include irregular pulse\n",
    "        m = m + \"include irregular pulse, \"\n",
    "        number -= 1\n",
    "        cat_variables.append('BPXPULS')\n",
    "        if imputed:\n",
    "            cat_variables.append('BPXPULS_i')\n",
    "    number = number//2\n",
    "    if number % 2 == 1: # include chronic conditions\n",
    "        number -= 1\n",
    "        m = m + \"include chronic conditions, \"\n",
    "        cat_variables.extend(['BPQ020', 'BPQ050A', 'BPQ080','BPQ100D', 'DIQ010', 'MCQ170M'])\n",
    "        if imputed:\n",
    "            cat_variables.extend(['BPQ020_i', 'BPQ050A_i', 'BPQ080_i', 'BPQ100D_i', 'DIQ010_i','MCQ170M_i'])\n",
    "    number = number//2\n",
    "    if number % 2 == 1: # use transformed physical activity\n",
    "        number -= 1\n",
    "        m = m + \"transformed physical activity,\"\n",
    "        num_variables.append('MET_rec')\n",
    "        if imputed:\n",
    "            cat_variables.append('MET_rec_i')\n",
    "    else:\n",
    "        num_variables.extend(['PAQ655','PAD660','PAQ670','PAD675'])\n",
    "        if imputed:\n",
    "            cat_variables.extend(['PAQ655_i','PAD660_i','PAQ670_i','PAD675_i'])\n",
    "    number = number // 2\n",
    "    if number%2 == 0: # don't include nutrients\n",
    "        number = (number - number%6)//6\n",
    "    else:\n",
    "        number = (number-1)//2\n",
    "        if number % 3 == 0: # include original nutrients\n",
    "            num_variables.extend(['DR1TKCAL', 'DR1TPROT', 'DR1TCARB', 'DR1TSUGR',\n",
    "       'DR1TFIBE', 'DR1TTFAT', 'DR1TSFAT', 'DR1TMFAT', 'DR1TPFAT', 'DR1TCHOL',\n",
    "       'DR1TSODI', 'DR1TVD', 'DR1TCALC', 'DR1TIRON', 'DR1TPOTA'])\n",
    "            cat_variables.append('DR1_300')\n",
    "            if imputed:\n",
    "                cat_variables.append('DR1_300_i')\n",
    "            m = m + \"original nutrients included, \"\n",
    "        elif number % 3 == 1: # include transformed nutrients\n",
    "            m = m + \"transformed nutrients included\"\n",
    "            num_variables.extend(['DR1TKCAL_t',\n",
    "       'DR1TPROT_t', 'DR1TCARB_t', 'DR1TSUGR_t', 'DR1TFIBE_t', 'DR1TTFAT_t',\n",
    "       'DR1TSFAT_t', 'DR1TMFAT_t', 'DR1TPFAT_t', 'DR1TCHOL_t', 'DR1TSODI_t',\n",
    "       'DR1TVD_t', 'DR1TCALC_t', 'DR1TIRON_t', 'DR1TPOTA_t'])\n",
    "            if imputed:\n",
    "                cat_variables.append('DR1_300_i')\n",
    "        else: # include both\n",
    "            m = m + \"both nutrients included, \"\n",
    "            num_variables.extend(['DR1TKCAL', 'DR1TPROT', 'DR1TCARB', 'DR1TSUGR',\n",
    "       'DR1TFIBE', 'DR1TTFAT', 'DR1TSFAT', 'DR1TMFAT', 'DR1TPFAT', 'DR1TCHOL',\n",
    "       'DR1TSODI', 'DR1TVD', 'DR1TCALC', 'DR1TIRON', 'DR1TPOTA','DR1TKCAL_t',\n",
    "       'DR1TPROT_t', 'DR1TCARB_t', 'DR1TSUGR_t', 'DR1TFIBE_t', 'DR1TTFAT_t',\n",
    "       'DR1TSFAT_t', 'DR1TMFAT_t', 'DR1TPFAT_t', 'DR1TCHOL_t', 'DR1TSODI_t',\n",
    "       'DR1TVD_t', 'DR1TCALC_t', 'DR1TIRON_t', 'DR1TPOTA_t'])\n",
    "            if imputed:\n",
    "                cat_variables.append('DR1_300_i')\n",
    "        number = (number - number%3)//3\n",
    "    if number % 2 == 0: # don't include alcohol and tobacco\n",
    "        number = (number - number % 6)//6\n",
    "    else: # include alcohol and tobacco\n",
    "        number = (number - 1)//2\n",
    "        # add tobacco here\n",
    "        cat_variables.append('SMQ681')\n",
    "        if imputed:\n",
    "            cat_variables.append('SMQ681_i')\n",
    "        if number % 3 == 0: # include original alcohol quantities\n",
    "            m = m + \"tobacco and alcohol questionairre variables\"\n",
    "            num_variables.extend([ 'ALQ120Q','ALQ130'])\n",
    "            cat_variables.append('ALQ120U')\n",
    "            if imputed:\n",
    "                cat_variables.extend(['ALQ120Q_i', 'ALQ120U_i', 'ALQ130_i'])\n",
    "        elif number % 3 == 1: # include transformed alcohol quantities\n",
    "            m = m + \"tobacco and average alcohol, \"\n",
    "            num_variables.append('avgALC')\n",
    "            if imputed:\n",
    "                cat_variables.append('avgALC_i')\n",
    "        else: # include both\n",
    "            m = m + \"tobacco and both alcohol variables\"\n",
    "            num_variables.extend([ 'ALQ120Q','ALQ130','avgALC'])\n",
    "            cat_variables.append('ALQ120U')\n",
    "            if imputed:\n",
    "                cat_variables.extend(['ALQ120Q_i', 'ALQ120U_i', 'ALQ130_i','avgALC_i'])\n",
    "        number = (number-number%3)//3\n",
    "    # here\n",
    "    df = df[num_variables+cat_variables+['LBXTC','log_LBXTC']].copy()\n",
    "    df.dropna(inplace=True)\n",
    "    if number % 2 == 1: # use log transformed x\n",
    "        number -= 1\n",
    "        # need to do\n",
    "    number = number//2\n",
    "    #this is just for testing\n",
    "    return df\n",
    "    \n",
    "            \n",
    "        \n",
    "# because of possible drop na, need to do use log transormed y after selecting all variables\n"
   ]
  },
  {
   "cell_type": "code",
   "execution_count": 27,
   "id": "a660a565",
   "metadata": {},
   "outputs": [
    {
     "data": {
      "text/plain": [
       "Index(['RIDAGEYR', 'BPXPLS', 'Systolic', 'Diastolic', 'BMXBMI', 'MET_rec',\n",
       "       'DR1TKCAL', 'DR1TPROT', 'DR1TCARB', 'DR1TSUGR', 'DR1TFIBE', 'DR1TTFAT',\n",
       "       'DR1TSFAT', 'DR1TMFAT', 'DR1TPFAT', 'DR1TCHOL', 'DR1TSODI', 'DR1TVD',\n",
       "       'DR1TCALC', 'DR1TIRON', 'DR1TPOTA', 'avgALC', 'RIAGENDR', 'RIDRETH3',\n",
       "       'DR1_300', 'SMQ681', 'LBXTC', 'log_LBXTC'],\n",
       "      dtype='object')"
      ]
     },
     "execution_count": 27,
     "metadata": {},
     "output_type": "execute_result"
    }
   ],
   "source": [
    "\n",
    "model(9315264).columns"
   ]
  },
  {
   "cell_type": "code",
   "execution_count": null,
   "id": "b0fdc4fe",
   "metadata": {},
   "outputs": [],
   "source": []
  }
 ],
 "metadata": {
  "kernelspec": {
   "display_name": "Python 3",
   "language": "python",
   "name": "python3"
  },
  "language_info": {
   "codemirror_mode": {
    "name": "ipython",
    "version": 3
   },
   "file_extension": ".py",
   "mimetype": "text/x-python",
   "name": "python",
   "nbconvert_exporter": "python",
   "pygments_lexer": "ipython3",
   "version": "3.9.5"
  }
 },
 "nbformat": 4,
 "nbformat_minor": 5
}
