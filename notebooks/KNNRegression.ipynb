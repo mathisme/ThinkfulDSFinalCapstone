{
 "cells": [
  {
   "cell_type": "code",
   "execution_count": 2,
   "id": "2f974adb",
   "metadata": {},
   "outputs": [],
   "source": [
    "import numpy as np\n",
    "import pandas as pd\n",
    "import matplotlib.pyplot as plt\n",
    "import seaborn as sns\n",
    "from sklearn.neighbors import KNeighborsRegressor\n",
    "from sklearn.model_selection import train_test_split\n",
    "from sklearn.pipeline import Pipeline\n",
    "from sklearn.model_selection import GridSearchCV\n",
    "from sklearn.compose import ColumnTransformer\n",
    "from sklearn.preprocessing import OneHotEncoder, MinMaxScaler\n",
    "from sklearn.decomposition import PCA\n",
    "from feature_engine.outliers import Winsorizer\n",
    "from sklearn.metrics import mean_absolute_error, mean_squared_error\n",
    "from sklearn.impute import KNNImputer"
   ]
  },
  {
   "cell_type": "markdown",
   "id": "88496264",
   "metadata": {},
   "source": [
    "0.  impute missing values -- yes or no, if no drop\n",
    "1.  drop persistent outliers -- yes, no\n",
    "2.  log transform y -- yes or no\n",
    "3.  reduce y range -- yes or no\n",
    "4.  use transformed nutrients -- yes or no\n",
    "5.  PCA -- yes or no\n",
    "6.  Winsorize X -- yes or no\n",
    "7.  include chronic conditions -- yes or no\n",
    "8.  include alcohol and tobacco -- yes or no\n",
    "9.  transformed alcohol -- yes or no\n",
    "10.  transformed physical activity -- yes or no\n",
    "\n",
    "Want to save model number, r2, adjusted r2, training mae, test mae, training rmse, test rmse\n",
    "\n",
    "\n",
    "To get an idea of what to do for the model, I'm training ten models picked randomly\n",
    "1.  Drop missing values, drop persistent outliers, log transform y, use transformed nutrients, PCA, no winsorization, no chronic conditions, include alcohol and tobacco, don't use transformed alcohol, use transformed physical activity\n",
    "2.  Drop missing values, don't drop outliers, don't log transform y, reduce y range, use transformed nutrients, no PCA, winsorize x values, include chronic conditions, dont include alcohol and tobacco, transformed physical activity.\n",
    "3.  drop missing values, drop outliers, don't log transform, reduce y range, use transformed nutrients, use PCA, no winsorizatiion, no chronic conditions, include alcohol and tobacco, include transformed alcohol, don't transform physical activity.\n",
    "4. impute missing values, don't drop outliers, don't log transform y, reduce y range, use transformed nutrients, no PCA, winsorize x, include chronic conditions, don't include alcohol and tobacco, don't transform physical activity\n",
    "5. impute missing values, drop outliers, log transform y, don't use transformed nutrients, no PCA, don't winsorize, include chronic conditions, include alcohol and tobacco, use transformed alcohol, don't transform physical activity\n",
    "6.  drop missing values, drop outliers, don't log transform y, reduce y range, don't use transformed nutrients, PCA, winsorize X, include chronic conditions, don't include alcohol and tobacco, don't use transformed activity\n",
    "7. impute missing values, drop persistent outliers, don't log transform y, reduce y range, use transformed nutrients, no PCA, no winsorization, don't include chronic conditions, include alcohol and tobacco, use transformed alcohol, don't transform physical activity\n",
    "8. drop missing values, drop persistent outliers, don't log transform y, don't reduce range, use transformed nutrients, use PCA, winsorize X, don't include chronic conditions, don't include alcohol and tobacco, don't transform physicial activity\n",
    "\n",
    "\n",
    "could add use height and weight instead of bmi\n",
    "include irregular pulse"
   ]
  },
  {
   "cell_type": "code",
   "execution_count": 7,
   "id": "4395bb9a",
   "metadata": {},
   "outputs": [],
   "source": [
    "df_missing = pd.read_csv('../Data/df_transformed.csv')\n",
    "df_missing.drop('Unnamed: 0',axis=1,inplace=True)"
   ]
  },
  {
   "cell_type": "code",
   "execution_count": 6,
   "id": "d5958e07",
   "metadata": {},
   "outputs": [],
   "source": [
    "df_imputed = pd.read_csv('../Data/dfi_transformed.csv')\n",
    "df_imputed.drop('Unnamed: 0',axis=1,inplace=True)"
   ]
  },
  {
   "cell_type": "code",
   "execution_count": 8,
   "id": "a40b5b76",
   "metadata": {},
   "outputs": [
    {
     "data": {
      "text/plain": [
       "Index(['LBXTC', 'RIAGENDR', 'RIDRETH3', 'RIDAGEYR', 'BMXWT', 'BMXHT', 'BMXBMI',\n",
       "       'BPXPLS', 'BPXPULS', 'DR1TKCAL', 'DR1TPROT', 'DR1TCARB', 'DR1TSUGR',\n",
       "       'DR1TFIBE', 'DR1TTFAT', 'DR1TSFAT', 'DR1TMFAT', 'DR1TPFAT', 'DR1TCHOL',\n",
       "       'DR1TSODI', 'DR1TVD', 'DR1TCALC', 'DR1TIRON', 'DR1TPOTA', 'DR1_300',\n",
       "       'ALQ120Q', 'ALQ120U', 'ALQ130', 'BPQ020', 'BPQ050A', 'BPQ080',\n",
       "       'BPQ100D', 'DIQ010', 'MCQ170M', 'SMQ681', 'PAQ610', 'PAD615', 'PAQ625',\n",
       "       'PAD630', 'PAQ655', 'PAD660', 'PAQ670', 'PAD675', 'Systolic',\n",
       "       'Diastolic', 'outlier', 'MET_work', 'MET_rec', 'DR1TKCAL_t',\n",
       "       'DR1TPROT_t', 'DR1TCARB_t', 'DR1TSUGR_t', 'DR1TFIBE_t', 'DR1TTFAT_t',\n",
       "       'DR1TSFAT_t', 'DR1TMFAT_t', 'DR1TPFAT_t', 'DR1TCHOL_t', 'DR1TSODI_t',\n",
       "       'DR1TVD_t', 'DR1TCALC_t', 'DR1TIRON_t', 'DR1TPOTA_t', 'avgALC',\n",
       "       'log_LBXTC'],\n",
       "      dtype='object')"
      ]
     },
     "execution_count": 8,
     "metadata": {},
     "output_type": "execute_result"
    }
   ],
   "source": [
    "df_missing.columns"
   ]
  },
  {
   "cell_type": "code",
   "execution_count": 9,
   "id": "922d72b5",
   "metadata": {},
   "outputs": [
    {
     "data": {
      "text/plain": [
       "Index(['LBXTC', 'RIAGENDR', 'RIDRETH3', 'RIDAGEYR', 'BMXWT', 'BMXHT', 'BMXBMI',\n",
       "       'BPXPLS', 'BPXPULS', 'DR1TKCAL', 'DR1TPROT', 'DR1TCARB', 'DR1TSUGR',\n",
       "       'DR1TFIBE', 'DR1TTFAT', 'DR1TSFAT', 'DR1TMFAT', 'DR1TPFAT', 'DR1TCHOL',\n",
       "       'DR1TSODI', 'DR1TVD', 'DR1TCALC', 'DR1TIRON', 'DR1TPOTA', 'DR1_300',\n",
       "       'ALQ120Q', 'ALQ120U', 'ALQ130', 'BPQ020', 'BPQ050A', 'BPQ080',\n",
       "       'BPQ100D', 'DIQ010', 'MCQ170M', 'SMQ681', 'PAQ610', 'PAD615', 'PAQ625',\n",
       "       'PAD630', 'PAQ655', 'PAD660', 'PAQ670', 'PAD675', 'Systolic',\n",
       "       'Diastolic', 'outlier', 'BMXWT_i', 'BMXHT_i', 'BMXBMI_i', 'BPXPLS_i',\n",
       "       'BPXPULS_i', 'DR1_300_i', 'ALQ120Q_i', 'ALQ120U_i', 'ALQ130_i',\n",
       "       'BPQ020_i', 'BPQ050A_i', 'BPQ080_i', 'BPQ100D_i', 'DIQ010_i',\n",
       "       'MCQ170M_i', 'SMQ681_i', 'PAQ610_i', 'PAD615_i', 'PAQ625_i', 'PAD630_i',\n",
       "       'PAQ655_i', 'PAD660_i', 'PAQ670_i', 'PAD675_i', 'Systolic_i',\n",
       "       'Diastolic_i', 'MET_work', 'MET_rec', 'DR1TKCAL_t', 'DR1TPROT_t',\n",
       "       'DR1TCARB_t', 'DR1TSUGR_t', 'DR1TFIBE_t', 'DR1TTFAT_t', 'DR1TSFAT_t',\n",
       "       'DR1TMFAT_t', 'DR1TPFAT_t', 'DR1TCHOL_t', 'DR1TSODI_t', 'DR1TVD_t',\n",
       "       'DR1TCALC_t', 'DR1TIRON_t', 'DR1TPOTA_t', 'avgALC', 'log_LBXTC'],\n",
       "      dtype='object')"
      ]
     },
     "execution_count": 9,
     "metadata": {},
     "output_type": "execute_result"
    }
   ],
   "source": [
    "df_imputed.columns"
   ]
  },
  {
   "cell_type": "code",
   "execution_count": 10,
   "id": "71a5ba19",
   "metadata": {},
   "outputs": [],
   "source": [
    "Models = {\n",
    "    'number':[],\n",
    "    'r2':[],\n",
    "    'adjusted r2':[],\n",
    "    'training MAE':[],\n",
    "    'testing MAE':[],\n",
    "    'training RMSE':[],\n",
    "    'testing RMSE':[]\n",
    "}"
   ]
  },
  {
   "cell_type": "markdown",
   "id": "1057a109",
   "metadata": {},
   "source": [
    "Model 1\n",
    "Drop missing values, drop persistent outliers, log transform y, use transformed nutrients, PCA, no winsorization, no chronic conditions, include alcohol and tobacco, don't use transformed alcohol, use transformed physical activity"
   ]
  },
  {
   "cell_type": "code",
   "execution_count": 11,
   "id": "18e33139",
   "metadata": {},
   "outputs": [],
   "source": [
    "df = df_missing[df_missing.outlier==0].copy()\n",
    "\n",
    "nutrients = ['DR1TKCAL_t', 'DR1TPROT_t',\n",
    "       'DR1TCARB_t', 'DR1TSUGR_t', 'DR1TFIBE_t', 'DR1TTFAT_t', 'DR1TSFAT_t',\n",
    "       'DR1TMFAT_t', 'DR1TPFAT_t', 'DR1TCHOL_t', 'DR1TSODI_t', 'DR1TVD_t',\n",
    "       'DR1TCALC_t', 'DR1TIRON_t', 'DR1TPOTA_t']\n",
    "alc_tob = ['ALQ120Q', 'ALQ120U', 'ALQ130','SMQ681']\n",
    "variables = nutrients + alc_tob + ['MET_rec','log_LBXTC','RIAGENDR', 'RIDRETH3', 'RIDAGEYR','Systolic',\n",
    "       'Diastolic','BMXWT', 'BMXHT','BPXPLS']\n",
    "df = df[variables].dropna()\n",
    "y = df.log_LBXTC\n",
    "X = df.drop('log_LBXTC',axis=1)\n",
    "numerical_variables = ['DR1TKCAL_t', 'DR1TPROT_t',\n",
    "       'DR1TCARB_t', 'DR1TSUGR_t', 'DR1TFIBE_t', 'DR1TTFAT_t', 'DR1TSFAT_t',\n",
    "       'DR1TMFAT_t', 'DR1TPFAT_t', 'DR1TCHOL_t', 'DR1TSODI_t', 'DR1TVD_t',\n",
    "       'DR1TCALC_t', 'DR1TIRON_t', 'DR1TPOTA_t','ALQ120Q','ALQ130','MET_rec','RIDAGEYR','Systolic',\n",
    "       'Diastolic','BMXWT', 'BMXHT','BPXPLS']\n",
    "categorical_variables = ['ALQ120U','SMQ681','RIAGENDR', 'RIDRETH3']\n",
    "\n"
   ]
  },
  {
   "cell_type": "code",
   "execution_count": 12,
   "id": "b5ac3524",
   "metadata": {},
   "outputs": [],
   "source": [
    "X_train, X_test, y_train, y_test = train_test_split(X, y, random_state=675, test_size=0.2)"
   ]
  },
  {
   "cell_type": "code",
   "execution_count": 15,
   "id": "596a298c",
   "metadata": {},
   "outputs": [],
   "source": [
    "numeric_transformer = Pipeline(steps=[('scalar',MinMaxScaler())])\n",
    "cat_transformer = Pipeline(steps=[('one_hot',OneHotEncoder(handle_unknown='ignore'))])\n",
    "preprocessor = ColumnTransformer(transformers=[\n",
    "    ('num',numeric_transformer,numerical_variables),\n",
    "    ('cat',cat_transformer,categorical_variables)])\n",
    "knn1 = Pipeline(steps =[\n",
    "    ('preprocessor',preprocessor),\n",
    "    ('PCA',PCA(0.95)),\n",
    "    ('kneighbors', KNeighborsRegressor())])"
   ]
  },
  {
   "cell_type": "code",
   "execution_count": 17,
   "id": "bb039c94",
   "metadata": {},
   "outputs": [
    {
     "data": {
      "text/plain": [
       "Pipeline(steps=[('preprocessor',\n",
       "                 ColumnTransformer(transformers=[('num',\n",
       "                                                  Pipeline(steps=[('scalar',\n",
       "                                                                   MinMaxScaler())]),\n",
       "                                                  ['DR1TKCAL_t', 'DR1TPROT_t',\n",
       "                                                   'DR1TCARB_t', 'DR1TSUGR_t',\n",
       "                                                   'DR1TFIBE_t', 'DR1TTFAT_t',\n",
       "                                                   'DR1TSFAT_t', 'DR1TMFAT_t',\n",
       "                                                   'DR1TPFAT_t', 'DR1TCHOL_t',\n",
       "                                                   'DR1TSODI_t', 'DR1TVD_t',\n",
       "                                                   'DR1TCALC_t', 'DR1TIRON_t',\n",
       "                                                   'DR1TPOTA_t', 'ALQ120Q',\n",
       "                                                   'ALQ130', 'MET_rec',\n",
       "                                                   'RIDAGEYR', 'Systolic',\n",
       "                                                   'Diastolic', 'BMXWT',\n",
       "                                                   'BMXHT', 'BPXPLS']),\n",
       "                                                 ('cat',\n",
       "                                                  Pipeline(steps=[('one_hot',\n",
       "                                                                   OneHotEncoder(handle_unknown='ignore'))]),\n",
       "                                                  ['ALQ120U', 'SMQ681',\n",
       "                                                   'RIAGENDR', 'RIDRETH3'])])),\n",
       "                ('PCA', PCA(n_components=0.95)),\n",
       "                ('kneighbors', KNeighborsRegressor())])"
      ]
     },
     "execution_count": 17,
     "metadata": {},
     "output_type": "execute_result"
    }
   ],
   "source": [
    "knn1.fit(X_train,y_train)"
   ]
  },
  {
   "cell_type": "code",
   "execution_count": 21,
   "id": "5580f1cf",
   "metadata": {},
   "outputs": [],
   "source": [
    "Models['number'].append(1)\n",
    "r2 = knn1.score(X_train,y_train)\n",
    "Models['r2'].append(r2)"
   ]
  },
  {
   "cell_type": "code",
   "execution_count": 24,
   "id": "fa3c002d",
   "metadata": {},
   "outputs": [],
   "source": [
    "Models['adjusted r2'].append(((1-r2)/(X_train.shape[0]-1))/(X_train.shape[0]-X_train.shape[1]-1))"
   ]
  },
  {
   "cell_type": "code",
   "execution_count": 25,
   "id": "43b9a0b2",
   "metadata": {},
   "outputs": [],
   "source": [
    "training_preds = knn1.predict(X_train)"
   ]
  },
  {
   "cell_type": "code",
   "execution_count": 26,
   "id": "1dbfc0dc",
   "metadata": {},
   "outputs": [],
   "source": [
    "ypreds = knn1.predict(X_test)"
   ]
  },
  {
   "cell_type": "code",
   "execution_count": 27,
   "id": "03ff6ce8",
   "metadata": {},
   "outputs": [],
   "source": [
    "Models['training MAE'].append(mean_absolute_error(y_train,training_preds))\n",
    "Models['testing MAE'].append(mean_absolute_error(y_test,ypreds))\n",
    "Models['training RMSE'].append(mean_squared_error(y_train,training_preds,squared=False))\n",
    "Models['testing RMSE'].append(mean_squared_error(y_test,ypreds,squared=False))"
   ]
  },
  {
   "cell_type": "code",
   "execution_count": 28,
   "id": "866648df",
   "metadata": {},
   "outputs": [
    {
     "data": {
      "text/plain": [
       "{'number': [1],\n",
       " 'r2': [0.27477294125010665],\n",
       " 'adjusted r2': [8.903822887199862e-08],\n",
       " 'training MAE': [0.14642303850119112],\n",
       " 'testing MAE': [0.17462034466022128],\n",
       " 'training RMSE': [0.18658239612019176],\n",
       " 'testing RMSE': [0.22191043832633375]}"
      ]
     },
     "execution_count": 28,
     "metadata": {},
     "output_type": "execute_result"
    }
   ],
   "source": [
    "Models"
   ]
  },
  {
   "cell_type": "code",
   "execution_count": null,
   "id": "4566d517",
   "metadata": {},
   "outputs": [],
   "source": []
  }
 ],
 "metadata": {
  "kernelspec": {
   "display_name": "Python 3",
   "language": "python",
   "name": "python3"
  },
  "language_info": {
   "codemirror_mode": {
    "name": "ipython",
    "version": 3
   },
   "file_extension": ".py",
   "mimetype": "text/x-python",
   "name": "python",
   "nbconvert_exporter": "python",
   "pygments_lexer": "ipython3",
   "version": "3.9.5"
  }
 },
 "nbformat": 4,
 "nbformat_minor": 5
}
