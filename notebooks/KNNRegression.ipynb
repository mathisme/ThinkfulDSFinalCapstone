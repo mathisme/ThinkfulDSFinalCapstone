{
 "cells": [
  {
   "cell_type": "code",
   "execution_count": 1,
   "id": "2f974adb",
   "metadata": {},
   "outputs": [],
   "source": [
    "import numpy as np\n",
    "import pandas as pd\n",
    "import matplotlib.pyplot as plt\n",
    "import seaborn as sns\n",
    "from sklearn.neighbors import KNeighborsRegressor\n",
    "from sklearn.model_selection import train_test_split\n",
    "from sklearn.pipeline import Pipeline\n",
    "from sklearn.model_selection import GridSearchCV\n",
    "from sklearn.compose import ColumnTransformer\n",
    "from sklearn.preprocessing import OneHotEncoder, MinMaxScaler\n",
    "from sklearn.decomposition import PCA\n",
    "from feature_engine.outliers import Winsorizer\n",
    "from sklearn.metrics import mean_absolute_error, mean_squared_error\n",
    "from sklearn.impute import KNNImputer"
   ]
  },
  {
   "cell_type": "markdown",
   "id": "88496264",
   "metadata": {},
   "source": [
    "missing values -- drop, impute\n",
    "persistent outliers -- drop, don't drop\n",
    "log transform y -- yes or no\n",
    "reduce y range -- yes or no\n",
    "use transformed nutrients -- yes or no\n",
    "PCA -- yes or no\n",
    "Winsorize X -- yes or no\n",
    "include chronic conditions -- yes or no\n",
    "include alcohol and tobacco -- yes or no\n",
    "transformed alcohol -- yes or no\n",
    "transformed physical activity -- yes or no\n",
    "\n",
    "Want to save model number, r2, adjusted r2, training mae, test mae, training rmse, test rmse\n",
    "\n",
    "\n",
    "To get an idea of what to do for the model, I'm training ten models picked randomly\n",
    "1.  Drop missing values, drop persistent outliers, log transform y, use transformed nutrients, PCA, no winsorization, no chronic conditions, include alcohol and tobacco, don't use transformed alcohol, use transformed physical activity\n",
    "2.  Drop missing values, don't drop outliers, don't log transform y, reduce y range, use transformed nutrients, no PCA, winsorize x values, include chronic conditions, dont include alcohol and tobacco, transformed physical activity.\n",
    "3.  drop missing values, drop outliers, don't log transform, reduce y range, use transformed nutrients, use PCA, no winsorizatiion, no chronic conditions, include alcohol and tobacco, include transformed alcohol, don't transform physical activity."
   ]
  }
 ],
 "metadata": {
  "kernelspec": {
   "display_name": "Python 3",
   "language": "python",
   "name": "python3"
  },
  "language_info": {
   "codemirror_mode": {
    "name": "ipython",
    "version": 3
   },
   "file_extension": ".py",
   "mimetype": "text/x-python",
   "name": "python",
   "nbconvert_exporter": "python",
   "pygments_lexer": "ipython3",
   "version": "3.9.5"
  }
 },
 "nbformat": 4,
 "nbformat_minor": 5
}
