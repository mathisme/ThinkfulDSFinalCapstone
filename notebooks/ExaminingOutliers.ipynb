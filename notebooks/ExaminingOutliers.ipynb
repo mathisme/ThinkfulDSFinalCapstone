{
 "cells": [
  {
   "cell_type": "code",
   "execution_count": 1,
   "id": "12d1219e",
   "metadata": {},
   "outputs": [],
   "source": [
    "import numpy as np\n",
    "import pandas as pd\n",
    "import matplotlib.pyplot as plt\n",
    "from sklearn.cluster import DBSCAN\n",
    "from sklearn.neighbors import NearestNeighbors\n",
    "from sklearn.neighbors import LocalOutlierFactor\n",
    "from kneed.knee_locator import KneeLocator"
   ]
  },
  {
   "cell_type": "code",
   "execution_count": 2,
   "id": "8fbcba17",
   "metadata": {},
   "outputs": [],
   "source": [
    "df = pd.read_csv('../Data/df_cleaned.csv')"
   ]
  },
  {
   "cell_type": "code",
   "execution_count": 3,
   "id": "4d09ef68",
   "metadata": {},
   "outputs": [
    {
     "data": {
      "text/plain": [
       "Index(['Unnamed: 0', 'LBXTC', 'RIAGENDR', 'RIDRETH3', 'RIDAGEYR', 'BMXWT',\n",
       "       'BMXHT', 'BMXBMI', 'BPXPLS', 'BPXPULS', 'DR1TKCAL', 'DR1TPROT',\n",
       "       'DR1TCARB', 'DR1TSUGR', 'DR1TFIBE', 'DR1TTFAT', 'DR1TSFAT', 'DR1TMFAT',\n",
       "       'DR1TPFAT', 'DR1TCHOL', 'DR1TSODI', 'DR1TVD', 'DR1TCALC', 'DR1TIRON',\n",
       "       'DR1TPOTA', 'DR1_300', 'ALQ120Q', 'ALQ120U', 'ALQ130', 'BPQ020',\n",
       "       'BPQ050A', 'BPQ080', 'BPQ100D', 'DIQ010', 'MCQ170M', 'SMQ681', 'PAQ610',\n",
       "       'PAD615', 'PAQ625', 'PAD630', 'PAQ655', 'PAD660', 'PAQ670', 'PAD675',\n",
       "       'Systolic', 'Diastolic'],\n",
       "      dtype='object')"
      ]
     },
     "execution_count": 3,
     "metadata": {},
     "output_type": "execute_result"
    }
   ],
   "source": [
    "df.columns"
   ]
  },
  {
   "cell_type": "code",
   "execution_count": 4,
   "id": "0253bb50",
   "metadata": {},
   "outputs": [],
   "source": [
    "df.drop('Unnamed: 0', axis=1, inplace=True)"
   ]
  },
  {
   "cell_type": "code",
   "execution_count": 5,
   "id": "8da675e7",
   "metadata": {},
   "outputs": [
    {
     "data": {
      "text/plain": [
       "(3538, 45)"
      ]
     },
     "execution_count": 5,
     "metadata": {},
     "output_type": "execute_result"
    }
   ],
   "source": [
    "df.dropna(inplace=True)\n",
    "df.shape"
   ]
  },
  {
   "cell_type": "markdown",
   "id": "fc5fd17c",
   "metadata": {},
   "source": [
    "# Using DBSCAN to look for outliers"
   ]
  },
  {
   "cell_type": "markdown",
   "id": "23bc72d3",
   "metadata": {},
   "source": [
    "Using the elbow method and a k_neighbors graph to find an epsilon. "
   ]
  },
  {
   "cell_type": "code",
   "execution_count": 6,
   "id": "f453db0e",
   "metadata": {},
   "outputs": [
    {
     "name": "stdout",
     "output_type": "stream",
     "text": [
      "The elbow occurs at 2705.126602700509\n"
     ]
    },
    {
     "data": {
      "image/png": "[encoded data removed]",
      "text/plain": [
       "<Figure size 432x288 with 1 Axes>"
      ]
     },
     "metadata": {
      "needs_background": "light"
     },
     "output_type": "display_data"
    }
   ],
   "source": [
    "neighbors = NearestNeighbors(n_neighbors=90)\n",
    "neighbors_fit = neighbors.fit(df)\n",
    "distances, _ = neighbors_fit.kneighbors(df)\n",
    "distances = np.sort(distances, axis=0)\n",
    "distances = distances[:,89]\n",
    "plt.plot(distances)\n",
    "kl = KneeLocator(x=range(df.shape[0]),y=distances,direction='increasing',curve='convex')\n",
    "elbow = kl.elbow\n",
    "plt.axvline(x=elbow, ymin=0, ymax = max(distances), color='red')\n",
    "print('The elbow occurs at',distances[elbow])\n"
   ]
  },
  {
   "cell_type": "markdown",
   "id": "e6f27c6f",
   "metadata": {},
   "source": [
    "The epsilon suggested by the curve is 2705"
   ]
  },
  {
   "cell_type": "code",
   "execution_count": 7,
   "id": "3709cbec",
   "metadata": {},
   "outputs": [],
   "source": [
    "db = DBSCAN(eps=2705, min_samples=46)"
   ]
  },
  {
   "cell_type": "code",
   "execution_count": 8,
   "id": "69354227",
   "metadata": {},
   "outputs": [],
   "source": [
    "preds = db.fit_predict(df)"
   ]
  },
  {
   "cell_type": "code",
   "execution_count": 9,
   "id": "56e10b76",
   "metadata": {},
   "outputs": [
    {
     "data": {
      "text/plain": [
       "16"
      ]
     },
     "execution_count": 9,
     "metadata": {},
     "output_type": "execute_result"
    }
   ],
   "source": [
    "sum(preds==-1)"
   ]
  },
  {
   "cell_type": "markdown",
   "id": "4ca1b42d",
   "metadata": {},
   "source": [
    "According to DBSCAN there are 16 outliers.  Note to self, I could add this to the dataframe as 1*(preds==-1) as outlier"
   ]
  },
  {
   "cell_type": "code",
   "execution_count": 10,
   "id": "a1cd89b9",
   "metadata": {},
   "outputs": [
    {
     "data": {
      "text/plain": [
       "Int64Index([ 152,  986, 1516, 1689, 2004, 2191, 2778, 2779, 2984, 3478, 3685,\n",
       "            4027, 4064, 4076, 4078, 4092],\n",
       "           dtype='int64')"
      ]
     },
     "execution_count": 10,
     "metadata": {},
     "output_type": "execute_result"
    }
   ],
   "source": [
    "outliers1 = df[preds==-1].index\n",
    "outliers1"
   ]
  },
  {
   "cell_type": "markdown",
   "id": "3af64bad",
   "metadata": {},
   "source": [
    "# Using Local Outling Factor to find outliers"
   ]
  },
  {
   "cell_type": "code",
   "execution_count": 11,
   "id": "37e4d176",
   "metadata": {},
   "outputs": [],
   "source": [
    "lof = LocalOutlierFactor()"
   ]
  },
  {
   "cell_type": "code",
   "execution_count": 12,
   "id": "69ed4294",
   "metadata": {},
   "outputs": [],
   "source": [
    "preds2 = lof.fit_predict(df)"
   ]
  },
  {
   "cell_type": "code",
   "execution_count": 13,
   "id": "eadf9273",
   "metadata": {},
   "outputs": [
    {
     "data": {
      "text/plain": [
       "Int64Index([ 102,  145,  147,  152,  174,  362,  374,  380,  418,  510,  558,\n",
       "             644,  745,  828,  854,  861,  930,  986, 1002, 1012, 1045, 1054,\n",
       "            1107, 1185, 1242, 1260, 1288, 1314, 1392, 1484, 1516, 1554, 1676,\n",
       "            1689, 1738, 1761, 2004, 2090, 2312, 2325, 2338, 2344, 2441, 2507,\n",
       "            2595, 2705, 2778, 2779, 2862, 2881, 2984, 3000, 3160, 3218, 3219,\n",
       "            3343, 3362, 3432, 3446, 3583, 3615, 3685, 3957, 4016, 4027, 4064,\n",
       "            4076, 4150, 4242, 4272, 4378, 4408, 4415, 4443, 4464, 4467, 4499,\n",
       "            4552],\n",
       "           dtype='int64')"
      ]
     },
     "execution_count": 13,
     "metadata": {},
     "output_type": "execute_result"
    }
   ],
   "source": [
    "outliers2 = df[preds2==-1].index\n",
    "outliers2"
   ]
  },
  {
   "cell_type": "markdown",
   "id": "85646e75",
   "metadata": {},
   "source": [
    "LOF predicts many more outliers, however I did not tune the hyperparameters of LOF"
   ]
  },
  {
   "cell_type": "markdown",
   "id": "6e18be72",
   "metadata": {},
   "source": [
    "# Looking for outliers using IQR"
   ]
  },
  {
   "cell_type": "code",
   "execution_count": 14,
   "id": "815a9abe",
   "metadata": {},
   "outputs": [],
   "source": [
    "outliers = {}\n",
    "for column in df.columns:\n",
    "    description = df[column].describe()\n",
    "    q1 = description['25%']\n",
    "    q3 = description['75%']\n",
    "    iqr15 = 3*(q3-q1)\n",
    "    indices = df[(df[column]<q1-iqr15)|(df[column]>q3+iqr15)].index\n",
    "    for x in indices:\n",
    "        outliers[x]=outliers.get(x,0)+1"
   ]
  },
  {
   "cell_type": "code",
   "execution_count": 15,
   "id": "e0edb5be",
   "metadata": {},
   "outputs": [
    {
     "data": {
      "text/plain": [
       "array([2779,  512, 1689, 4027, 4076, 4078,  858, 2984, 4064,  544,  986,\n",
       "       4512, 2004, 3478, 1136, 1241, 2595,  128, 1438, 2061])"
      ]
     },
     "execution_count": 15,
     "metadata": {},
     "output_type": "execute_result"
    }
   ],
   "source": [
    "outlier_df=pd.DataFrame({'index':outliers.keys(),'count':outliers.values()})\n",
    "outliers3 = (outlier_df.sort_values(by='count',ascending=False).head(20))['index']\n",
    "outliers3 = np.array(list(outliers3))\n",
    "outliers3"
   ]
  },
  {
   "cell_type": "code",
   "execution_count": 16,
   "id": "3a00d60b",
   "metadata": {},
   "outputs": [
    {
     "data": {
      "text/plain": [
       "array([ 986, 1689, 2004, 2779, 2984, 4027, 4064, 4076], dtype=int64)"
      ]
     },
     "execution_count": 16,
     "metadata": {},
     "output_type": "execute_result"
    }
   ],
   "source": [
    "np.intersect1d(outliers1,np.intersect1d(outliers2,outliers3))"
   ]
  },
  {
   "cell_type": "markdown",
   "id": "d5c951ad",
   "metadata": {},
   "source": [
    "There are 8 values which are outliers using all 3 methods.  In the dataframe, I'm going to mark outlliers from the intersection of DBSCAN and LOF."
   ]
  },
  {
   "cell_type": "code",
   "execution_count": 17,
   "id": "e613324b",
   "metadata": {},
   "outputs": [],
   "source": [
    "df['outlier']=0"
   ]
  },
  {
   "cell_type": "code",
   "execution_count": 23,
   "id": "95b1d62c",
   "metadata": {},
   "outputs": [],
   "source": [
    "df.loc[(preds==-1)&(preds2==-1),'outlier']=1"
   ]
  },
  {
   "cell_type": "code",
   "execution_count": 24,
   "id": "5cacff77",
   "metadata": {},
   "outputs": [],
   "source": [
    "df.to_csv('../Data/df_cleaned2.csv')"
   ]
  },
  {
   "cell_type": "code",
   "execution_count": null,
   "id": "b56ed1ec",
   "metadata": {},
   "outputs": [],
   "source": []
  }
 ],
 "metadata": {
  "kernelspec": {
   "display_name": "Python 3",
   "language": "python",
   "name": "python3"
  },
  "language_info": {
   "codemirror_mode": {
    "name": "ipython",
    "version": 3
   },
   "file_extension": ".py",
   "mimetype": "text/x-python",
   "name": "python",
   "nbconvert_exporter": "python",
   "pygments_lexer": "ipython3",
   "version": "3.9.5"
  }
 },
 "nbformat": 4,
 "nbformat_minor": 5
}
