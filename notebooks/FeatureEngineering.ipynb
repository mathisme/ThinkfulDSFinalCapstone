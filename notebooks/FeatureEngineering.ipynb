{
 "cells": [
  {
   "cell_type": "code",
   "execution_count": 1,
   "id": "d9c3d6c9",
   "metadata": {},
   "outputs": [],
   "source": [
    "import pandas as pd\n",
    "import numpy as np"
   ]
  },
  {
   "cell_type": "code",
   "execution_count": 2,
   "id": "87112027",
   "metadata": {},
   "outputs": [],
   "source": [
    "df = pd.read_csv('../Data/df_cleaned2.csv')"
   ]
  },
  {
   "cell_type": "code",
   "execution_count": 3,
   "id": "418a2123",
   "metadata": {},
   "outputs": [
    {
     "data": {
      "text/plain": [
       "Index(['Unnamed: 0', 'LBXTC', 'RIAGENDR', 'RIDRETH3', 'RIDAGEYR', 'BMXWT',\n",
       "       'BMXHT', 'BMXBMI', 'BPXPLS', 'BPXPULS', 'DR1TKCAL', 'DR1TPROT',\n",
       "       'DR1TCARB', 'DR1TSUGR', 'DR1TFIBE', 'DR1TTFAT', 'DR1TSFAT', 'DR1TMFAT',\n",
       "       'DR1TPFAT', 'DR1TCHOL', 'DR1TSODI', 'DR1TVD', 'DR1TCALC', 'DR1TIRON',\n",
       "       'DR1TPOTA', 'DR1_300', 'ALQ120Q', 'ALQ120U', 'ALQ130', 'BPQ020',\n",
       "       'BPQ050A', 'BPQ080', 'BPQ100D', 'DIQ010', 'MCQ170M', 'SMQ681', 'PAQ610',\n",
       "       'PAD615', 'PAQ625', 'PAD630', 'PAQ655', 'PAD660', 'PAQ670', 'PAD675',\n",
       "       'Systolic', 'Diastolic', 'outlier'],\n",
       "      dtype='object')"
      ]
     },
     "execution_count": 3,
     "metadata": {},
     "output_type": "execute_result"
    }
   ],
   "source": [
    "df.columns"
   ]
  },
  {
   "cell_type": "code",
   "execution_count": 4,
   "id": "e51ab971",
   "metadata": {},
   "outputs": [
    {
     "data": {
      "text/plain": [
       "Index(['LBXTC', 'RIAGENDR', 'RIDRETH3', 'RIDAGEYR', 'BMXWT', 'BMXHT', 'BMXBMI',\n",
       "       'BPXPLS', 'BPXPULS', 'DR1TKCAL', 'DR1TPROT', 'DR1TCARB', 'DR1TSUGR',\n",
       "       'DR1TFIBE', 'DR1TTFAT', 'DR1TSFAT', 'DR1TMFAT', 'DR1TPFAT', 'DR1TCHOL',\n",
       "       'DR1TSODI', 'DR1TVD', 'DR1TCALC', 'DR1TIRON', 'DR1TPOTA', 'DR1_300',\n",
       "       'ALQ120Q', 'ALQ120U', 'ALQ130', 'BPQ020', 'BPQ050A', 'BPQ080',\n",
       "       'BPQ100D', 'DIQ010', 'MCQ170M', 'SMQ681', 'PAQ610', 'PAD615', 'PAQ625',\n",
       "       'PAD630', 'PAQ655', 'PAD660', 'PAQ670', 'PAD675', 'Systolic',\n",
       "       'Diastolic', 'outlier'],\n",
       "      dtype='object')"
      ]
     },
     "execution_count": 4,
     "metadata": {},
     "output_type": "execute_result"
    }
   ],
   "source": [
    "df.drop('Unnamed: 0',axis=1,inplace=True)\n",
    "df.columns"
   ]
  },
  {
   "cell_type": "markdown",
   "id": "ae545071",
   "metadata": {},
   "source": [
    "# Engineering physicial activity data for work and recreation\n",
    "\n",
    "According to the codebook, the amount of physical activity comes with a MET score for weighing.  Vigorous activity gets a score of 8 while moderate activity gets a score of 4.  \n",
    "What I plan to do is calculate the daily average MET amount of minutes for physical activity for both work and rescreational activity by first multiplying the vigours time by 8, moderate amounts by 4, and adding them together.  Then I divide by 7 to get a daily average."
   ]
  },
  {
   "cell_type": "code",
   "execution_count": 5,
   "id": "07d38f1a",
   "metadata": {},
   "outputs": [],
   "source": [
    "df['MET_work'] = 8*df.PAQ610*df.PAD615/7 + 4*df.PAQ625*df.PAD630/7\n",
    "df['MET_rec'] = 8*df.PAQ655*df.PAD660/7 + 4*df.PAQ670*df.PAD675/7"
   ]
  },
  {
   "cell_type": "markdown",
   "id": "53baa407",
   "metadata": {},
   "source": [
    "# Weighed nutrition values\n",
    "\n"
   ]
  },
  {
   "cell_type": "code",
   "execution_count": 6,
   "id": "ea7be236",
   "metadata": {},
   "outputs": [
    {
     "data": {
      "text/plain": [
       "array([2., 3., 1.])"
      ]
     },
     "execution_count": 6,
     "metadata": {},
     "output_type": "execute_result"
    }
   ],
   "source": [
    "df.DR1_300.unique()"
   ]
  },
  {
   "cell_type": "code",
   "execution_count": 7,
   "id": "42b6a8f8",
   "metadata": {},
   "outputs": [
    {
     "data": {
      "text/plain": [
       "2.0    2530\n",
       "3.0     698\n",
       "1.0     310\n",
       "Name: DR1_300, dtype: int64"
      ]
     },
     "execution_count": 7,
     "metadata": {},
     "output_type": "execute_result"
    }
   ],
   "source": [
    "df.DR1_300.value_counts()"
   ]
  },
  {
   "cell_type": "markdown",
   "id": "7a555ba0",
   "metadata": {},
   "source": [
    "With DR1_300 1 means more than usual was consumed, 2 means usual amount was consumed and 3 means much less than usual was consumed.  \n",
    "For those where more than usuals was consumed.  I plan to create transformed nutrient information by multiplying the values by 0.5.  When less than usual was consumed, I plan to multiply the variables by 2."
   ]
  },
  {
   "cell_type": "code",
   "execution_count": 8,
   "id": "4d8ef2b1",
   "metadata": {},
   "outputs": [],
   "source": [
    "powers = df.DR1_300 - 2\n",
    "nutrtition_variables = ['DR1TKCAL', 'DR1TPROT', 'DR1TCARB', 'DR1TSUGR',\n",
    "       'DR1TFIBE', 'DR1TTFAT', 'DR1TSFAT', 'DR1TMFAT', 'DR1TPFAT', 'DR1TCHOL',\n",
    "       'DR1TSODI', 'DR1TVD', 'DR1TCALC', 'DR1TIRON', 'DR1TPOTA']"
   ]
  },
  {
   "cell_type": "code",
   "execution_count": 9,
   "id": "ac9bb893",
   "metadata": {},
   "outputs": [],
   "source": [
    "transformed_variables = []\n",
    "for var in nutrtition_variables:\n",
    "    name = \"{}_t\".format(var)\n",
    "    transformed_variables.append(name)\n",
    "    df[name] = df[var]*2**powers"
   ]
  },
  {
   "cell_type": "code",
   "execution_count": 10,
   "id": "8472527a",
   "metadata": {},
   "outputs": [
    {
     "data": {
      "text/html": [
       "<div>\n",
       "<style scoped>\n",
       "    .dataframe tbody tr th:only-of-type {\n",
       "        vertical-align: middle;\n",
       "    }\n",
       "\n",
       "    .dataframe tbody tr th {\n",
       "        vertical-align: top;\n",
       "    }\n",
       "\n",
       "    .dataframe thead th {\n",
       "        text-align: right;\n",
       "    }\n",
       "</style>\n",
       "<table border=\"1\" class=\"dataframe\">\n",
       "  <thead>\n",
       "    <tr style=\"text-align: right;\">\n",
       "      <th></th>\n",
       "      <th>DR1TKCAL</th>\n",
       "      <th>DR1TPROT</th>\n",
       "      <th>DR1TCARB</th>\n",
       "      <th>DR1_300</th>\n",
       "      <th>DR1TKCAL_t</th>\n",
       "      <th>DR1TPROT_t</th>\n",
       "      <th>DR1TCARB_t</th>\n",
       "    </tr>\n",
       "  </thead>\n",
       "  <tbody>\n",
       "    <tr>\n",
       "      <th>0</th>\n",
       "      <td>2964.0</td>\n",
       "      <td>62.36</td>\n",
       "      <td>356.85</td>\n",
       "      <td>2.0</td>\n",
       "      <td>2964.0</td>\n",
       "      <td>62.36</td>\n",
       "      <td>356.85</td>\n",
       "    </tr>\n",
       "    <tr>\n",
       "      <th>1</th>\n",
       "      <td>604.0</td>\n",
       "      <td>19.30</td>\n",
       "      <td>90.30</td>\n",
       "      <td>3.0</td>\n",
       "      <td>1208.0</td>\n",
       "      <td>38.60</td>\n",
       "      <td>180.60</td>\n",
       "    </tr>\n",
       "    <tr>\n",
       "      <th>2</th>\n",
       "      <td>1304.0</td>\n",
       "      <td>79.02</td>\n",
       "      <td>153.43</td>\n",
       "      <td>2.0</td>\n",
       "      <td>1304.0</td>\n",
       "      <td>79.02</td>\n",
       "      <td>153.43</td>\n",
       "    </tr>\n",
       "    <tr>\n",
       "      <th>3</th>\n",
       "      <td>2338.0</td>\n",
       "      <td>102.10</td>\n",
       "      <td>282.58</td>\n",
       "      <td>2.0</td>\n",
       "      <td>2338.0</td>\n",
       "      <td>102.10</td>\n",
       "      <td>282.58</td>\n",
       "    </tr>\n",
       "    <tr>\n",
       "      <th>4</th>\n",
       "      <td>3983.0</td>\n",
       "      <td>125.18</td>\n",
       "      <td>492.20</td>\n",
       "      <td>2.0</td>\n",
       "      <td>3983.0</td>\n",
       "      <td>125.18</td>\n",
       "      <td>492.20</td>\n",
       "    </tr>\n",
       "  </tbody>\n",
       "</table>\n",
       "</div>"
      ],
      "text/plain": [
       "   DR1TKCAL  DR1TPROT  DR1TCARB  DR1_300  DR1TKCAL_t  DR1TPROT_t  DR1TCARB_t\n",
       "0    2964.0     62.36    356.85      2.0      2964.0       62.36      356.85\n",
       "1     604.0     19.30     90.30      3.0      1208.0       38.60      180.60\n",
       "2    1304.0     79.02    153.43      2.0      1304.0       79.02      153.43\n",
       "3    2338.0    102.10    282.58      2.0      2338.0      102.10      282.58\n",
       "4    3983.0    125.18    492.20      2.0      3983.0      125.18      492.20"
      ]
     },
     "execution_count": 10,
     "metadata": {},
     "output_type": "execute_result"
    }
   ],
   "source": [
    "#just checking to make sure it worked\n",
    "df[nutrtition_variables[:3]+['DR1_300']+transformed_variables[:3]].head()"
   ]
  },
  {
   "cell_type": "code",
   "execution_count": 11,
   "id": "d5e34f86",
   "metadata": {},
   "outputs": [
    {
     "data": {
      "text/plain": [
       "Index(['LBXTC', 'RIAGENDR', 'RIDRETH3', 'RIDAGEYR', 'BMXWT', 'BMXHT', 'BMXBMI',\n",
       "       'BPXPLS', 'BPXPULS', 'DR1TKCAL', 'DR1TPROT', 'DR1TCARB', 'DR1TSUGR',\n",
       "       'DR1TFIBE', 'DR1TTFAT', 'DR1TSFAT', 'DR1TMFAT', 'DR1TPFAT', 'DR1TCHOL',\n",
       "       'DR1TSODI', 'DR1TVD', 'DR1TCALC', 'DR1TIRON', 'DR1TPOTA', 'DR1_300',\n",
       "       'ALQ120Q', 'ALQ120U', 'ALQ130', 'BPQ020', 'BPQ050A', 'BPQ080',\n",
       "       'BPQ100D', 'DIQ010', 'MCQ170M', 'SMQ681', 'PAQ610', 'PAD615', 'PAQ625',\n",
       "       'PAD630', 'PAQ655', 'PAD660', 'PAQ670', 'PAD675', 'Systolic',\n",
       "       'Diastolic', 'outlier', 'MET_work', 'MET_rec', 'DR1TKCAL_t',\n",
       "       'DR1TPROT_t', 'DR1TCARB_t', 'DR1TSUGR_t', 'DR1TFIBE_t', 'DR1TTFAT_t',\n",
       "       'DR1TSFAT_t', 'DR1TMFAT_t', 'DR1TPFAT_t', 'DR1TCHOL_t', 'DR1TSODI_t',\n",
       "       'DR1TVD_t', 'DR1TCALC_t', 'DR1TIRON_t', 'DR1TPOTA_t'],\n",
       "      dtype='object')"
      ]
     },
     "execution_count": 11,
     "metadata": {},
     "output_type": "execute_result"
    }
   ],
   "source": [
    "df.columns"
   ]
  },
  {
   "cell_type": "markdown",
   "id": "0c17a5c5",
   "metadata": {},
   "source": [
    "# Average daily alcohol consumption\n",
    "ALQ120Q asks how often do you drink alcohol in the past year\n",
    "ALQ120U asks the unit where\n",
    "1 means week\n",
    "2 means month\n",
    "3 means year\n",
    "\n",
    "I am going to replace week with 52, month with 12, year with 1 then multiiply these balues by ALQ120Q and the by ALQ130 (how many drinks on days you drink) then divide by 365 to get the daily average"
   ]
  },
  {
   "cell_type": "code",
   "execution_count": 12,
   "id": "3ed4c7f6",
   "metadata": {},
   "outputs": [],
   "source": [
    "df['avgALC'] = df.ALQ120Q*df.ALQ120U.replace({1:52,2:12,3:1})*df.ALQ130/365"
   ]
  },
  {
   "cell_type": "markdown",
   "id": "fb2f171c",
   "metadata": {},
   "source": [
    "## Log transform the dependant variable\n",
    "\n",
    "As I said in my eda, I may try with log of LBXTC"
   ]
  },
  {
   "cell_type": "code",
   "execution_count": 13,
   "id": "ab9e0cff",
   "metadata": {},
   "outputs": [],
   "source": [
    "df['log_LBXTC']=np.log(df.LBXTC)"
   ]
  },
  {
   "cell_type": "code",
   "execution_count": 14,
   "id": "56878073",
   "metadata": {},
   "outputs": [],
   "source": [
    "df.to_csv('../Data/df_transformed.csv')"
   ]
  }
 ],
 "metadata": {
  "kernelspec": {
   "display_name": "Python 3",
   "language": "python",
   "name": "python3"
  },
  "language_info": {
   "codemirror_mode": {
    "name": "ipython",
    "version": 3
   },
   "file_extension": ".py",
   "mimetype": "text/x-python",
   "name": "python",
   "nbconvert_exporter": "python",
   "pygments_lexer": "ipython3",
   "version": "3.9.5"
  }
 },
 "nbformat": 4,
 "nbformat_minor": 5
}
