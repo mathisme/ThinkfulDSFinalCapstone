{
 "cells": [
  {
   "cell_type": "code",
   "execution_count": 1,
   "id": "c5784968",
   "metadata": {},
   "outputs": [],
   "source": [
    "import pandas as pd\n",
    "import numpy as np\n",
    "import matplotlib.pyplot as plt\n",
    "import seaborn as sns"
   ]
  },
  {
   "cell_type": "markdown",
   "id": "1fbd863f",
   "metadata": {},
   "source": [
    "# Getting data\n"
   ]
  },
  {
   "cell_type": "code",
   "execution_count": 2,
   "id": "359af0e6",
   "metadata": {},
   "outputs": [],
   "source": [
    "df = pd.read_sas('https://wwwn.cdc.gov/Nchs/Nhanes/2017-2018/TCHOL_J.XPT')"
   ]
  },
  {
   "cell_type": "code",
   "execution_count": 3,
   "id": "b560b6d9",
   "metadata": {},
   "outputs": [
    {
     "name": "stdout",
     "output_type": "stream",
     "text": [
      "<class 'pandas.core.frame.DataFrame'>\n",
      "Int64Index: 6738 entries, 0 to 7434\n",
      "Data columns (total 2 columns):\n",
      " #   Column  Non-Null Count  Dtype  \n",
      "---  ------  --------------  -----  \n",
      " 0   SEQN    6738 non-null   float64\n",
      " 1   LBXTC   6738 non-null   float64\n",
      "dtypes: float64(2)\n",
      "memory usage: 157.9 KB\n"
     ]
    }
   ],
   "source": [
    "df.drop('LBDTCSI',axis=1,inplace=True)\n",
    "df.dropna(inplace=True)\n",
    "df.info()"
   ]
  },
  {
   "cell_type": "code",
   "execution_count": 4,
   "id": "a14928a1",
   "metadata": {},
   "outputs": [],
   "source": [
    "demo = pd.read_sas('https://wwwn.cdc.gov/Nchs/Nhanes/2017-2018/DEMO_J.XPT')"
   ]
  },
  {
   "cell_type": "code",
   "execution_count": 5,
   "id": "36576b6f",
   "metadata": {},
   "outputs": [],
   "source": [
    "demo_merged = demo.merge(df,on='SEQN',how='right')\n"
   ]
  },
  {
   "cell_type": "code",
   "execution_count": 6,
   "id": "661bd8d5",
   "metadata": {},
   "outputs": [
    {
     "data": {
      "text/html": [
       "<div>\n",
       "<style scoped>\n",
       "    .dataframe tbody tr th:only-of-type {\n",
       "        vertical-align: middle;\n",
       "    }\n",
       "\n",
       "    .dataframe tbody tr th {\n",
       "        vertical-align: top;\n",
       "    }\n",
       "\n",
       "    .dataframe thead th {\n",
       "        text-align: right;\n",
       "    }\n",
       "</style>\n",
       "<table border=\"1\" class=\"dataframe\">\n",
       "  <thead>\n",
       "    <tr style=\"text-align: right;\">\n",
       "      <th></th>\n",
       "      <th>SEQN</th>\n",
       "      <th>SDDSRVYR</th>\n",
       "      <th>RIDSTATR</th>\n",
       "      <th>RIAGENDR</th>\n",
       "      <th>RIDAGEYR</th>\n",
       "      <th>RIDAGEMN</th>\n",
       "      <th>RIDRETH1</th>\n",
       "      <th>RIDRETH3</th>\n",
       "      <th>RIDEXMON</th>\n",
       "      <th>RIDEXAGM</th>\n",
       "      <th>...</th>\n",
       "      <th>DMDHRMAZ</th>\n",
       "      <th>DMDHSEDZ</th>\n",
       "      <th>WTINT2YR</th>\n",
       "      <th>WTMEC2YR</th>\n",
       "      <th>SDMVPSU</th>\n",
       "      <th>SDMVSTRA</th>\n",
       "      <th>INDHHIN2</th>\n",
       "      <th>INDFMIN2</th>\n",
       "      <th>INDFMPIR</th>\n",
       "      <th>LBXTC</th>\n",
       "    </tr>\n",
       "  </thead>\n",
       "  <tbody>\n",
       "    <tr>\n",
       "      <th>0</th>\n",
       "      <td>93705.0</td>\n",
       "      <td>10.0</td>\n",
       "      <td>2.0</td>\n",
       "      <td>2.0</td>\n",
       "      <td>66.0</td>\n",
       "      <td>NaN</td>\n",
       "      <td>4.0</td>\n",
       "      <td>4.0</td>\n",
       "      <td>2.0</td>\n",
       "      <td>NaN</td>\n",
       "      <td>...</td>\n",
       "      <td>2.0</td>\n",
       "      <td>NaN</td>\n",
       "      <td>8614.571172</td>\n",
       "      <td>8338.419786</td>\n",
       "      <td>2.0</td>\n",
       "      <td>145.0</td>\n",
       "      <td>3.0</td>\n",
       "      <td>3.0</td>\n",
       "      <td>0.82</td>\n",
       "      <td>157.0</td>\n",
       "    </tr>\n",
       "    <tr>\n",
       "      <th>3</th>\n",
       "      <td>93708.0</td>\n",
       "      <td>10.0</td>\n",
       "      <td>2.0</td>\n",
       "      <td>2.0</td>\n",
       "      <td>66.0</td>\n",
       "      <td>NaN</td>\n",
       "      <td>5.0</td>\n",
       "      <td>6.0</td>\n",
       "      <td>2.0</td>\n",
       "      <td>NaN</td>\n",
       "      <td>...</td>\n",
       "      <td>1.0</td>\n",
       "      <td>1.0</td>\n",
       "      <td>13329.450589</td>\n",
       "      <td>14372.488765</td>\n",
       "      <td>2.0</td>\n",
       "      <td>138.0</td>\n",
       "      <td>6.0</td>\n",
       "      <td>6.0</td>\n",
       "      <td>1.63</td>\n",
       "      <td>209.0</td>\n",
       "    </tr>\n",
       "    <tr>\n",
       "      <th>4</th>\n",
       "      <td>93709.0</td>\n",
       "      <td>10.0</td>\n",
       "      <td>2.0</td>\n",
       "      <td>2.0</td>\n",
       "      <td>75.0</td>\n",
       "      <td>NaN</td>\n",
       "      <td>4.0</td>\n",
       "      <td>4.0</td>\n",
       "      <td>1.0</td>\n",
       "      <td>NaN</td>\n",
       "      <td>...</td>\n",
       "      <td>2.0</td>\n",
       "      <td>NaN</td>\n",
       "      <td>12043.388271</td>\n",
       "      <td>12277.556662</td>\n",
       "      <td>1.0</td>\n",
       "      <td>136.0</td>\n",
       "      <td>2.0</td>\n",
       "      <td>2.0</td>\n",
       "      <td>0.41</td>\n",
       "      <td>176.0</td>\n",
       "    </tr>\n",
       "    <tr>\n",
       "      <th>5</th>\n",
       "      <td>93711.0</td>\n",
       "      <td>10.0</td>\n",
       "      <td>2.0</td>\n",
       "      <td>1.0</td>\n",
       "      <td>56.0</td>\n",
       "      <td>NaN</td>\n",
       "      <td>5.0</td>\n",
       "      <td>6.0</td>\n",
       "      <td>2.0</td>\n",
       "      <td>NaN</td>\n",
       "      <td>...</td>\n",
       "      <td>1.0</td>\n",
       "      <td>3.0</td>\n",
       "      <td>11178.260106</td>\n",
       "      <td>12390.919724</td>\n",
       "      <td>2.0</td>\n",
       "      <td>134.0</td>\n",
       "      <td>15.0</td>\n",
       "      <td>15.0</td>\n",
       "      <td>5.00</td>\n",
       "      <td>238.0</td>\n",
       "    </tr>\n",
       "    <tr>\n",
       "      <th>7</th>\n",
       "      <td>93713.0</td>\n",
       "      <td>10.0</td>\n",
       "      <td>2.0</td>\n",
       "      <td>1.0</td>\n",
       "      <td>67.0</td>\n",
       "      <td>NaN</td>\n",
       "      <td>3.0</td>\n",
       "      <td>3.0</td>\n",
       "      <td>1.0</td>\n",
       "      <td>NaN</td>\n",
       "      <td>...</td>\n",
       "      <td>2.0</td>\n",
       "      <td>NaN</td>\n",
       "      <td>174806.575152</td>\n",
       "      <td>166841.660681</td>\n",
       "      <td>1.0</td>\n",
       "      <td>140.0</td>\n",
       "      <td>6.0</td>\n",
       "      <td>6.0</td>\n",
       "      <td>2.65</td>\n",
       "      <td>184.0</td>\n",
       "    </tr>\n",
       "  </tbody>\n",
       "</table>\n",
       "<p>5 rows × 47 columns</p>\n",
       "</div>"
      ],
      "text/plain": [
       "      SEQN  SDDSRVYR  RIDSTATR  RIAGENDR  RIDAGEYR  RIDAGEMN  RIDRETH1  \\\n",
       "0  93705.0      10.0       2.0       2.0      66.0       NaN       4.0   \n",
       "3  93708.0      10.0       2.0       2.0      66.0       NaN       5.0   \n",
       "4  93709.0      10.0       2.0       2.0      75.0       NaN       4.0   \n",
       "5  93711.0      10.0       2.0       1.0      56.0       NaN       5.0   \n",
       "7  93713.0      10.0       2.0       1.0      67.0       NaN       3.0   \n",
       "\n",
       "   RIDRETH3  RIDEXMON  RIDEXAGM  ...  DMDHRMAZ  DMDHSEDZ       WTINT2YR  \\\n",
       "0       4.0       2.0       NaN  ...       2.0       NaN    8614.571172   \n",
       "3       6.0       2.0       NaN  ...       1.0       1.0   13329.450589   \n",
       "4       4.0       1.0       NaN  ...       2.0       NaN   12043.388271   \n",
       "5       6.0       2.0       NaN  ...       1.0       3.0   11178.260106   \n",
       "7       3.0       1.0       NaN  ...       2.0       NaN  174806.575152   \n",
       "\n",
       "        WTMEC2YR  SDMVPSU  SDMVSTRA  INDHHIN2  INDFMIN2  INDFMPIR  LBXTC  \n",
       "0    8338.419786      2.0     145.0       3.0       3.0      0.82  157.0  \n",
       "3   14372.488765      2.0     138.0       6.0       6.0      1.63  209.0  \n",
       "4   12277.556662      1.0     136.0       2.0       2.0      0.41  176.0  \n",
       "5   12390.919724      2.0     134.0      15.0      15.0      5.00  238.0  \n",
       "7  166841.660681      1.0     140.0       6.0       6.0      2.65  184.0  \n",
       "\n",
       "[5 rows x 47 columns]"
      ]
     },
     "execution_count": 6,
     "metadata": {},
     "output_type": "execute_result"
    }
   ],
   "source": [
    "demo_merged= demo_merged[demo_merged.RIDAGEYR>=20].copy()\n",
    "demo_merged.head()"
   ]
  },
  {
   "cell_type": "code",
   "execution_count": 7,
   "id": "5ab89db0",
   "metadata": {},
   "outputs": [
    {
     "data": {
      "text/html": [
       "<div>\n",
       "<style scoped>\n",
       "    .dataframe tbody tr th:only-of-type {\n",
       "        vertical-align: middle;\n",
       "    }\n",
       "\n",
       "    .dataframe tbody tr th {\n",
       "        vertical-align: top;\n",
       "    }\n",
       "\n",
       "    .dataframe thead th {\n",
       "        text-align: right;\n",
       "    }\n",
       "</style>\n",
       "<table border=\"1\" class=\"dataframe\">\n",
       "  <thead>\n",
       "    <tr style=\"text-align: right;\">\n",
       "      <th></th>\n",
       "      <th>SEQN</th>\n",
       "      <th>LBXTC</th>\n",
       "    </tr>\n",
       "  </thead>\n",
       "  <tbody>\n",
       "    <tr>\n",
       "      <th>0</th>\n",
       "      <td>93705.0</td>\n",
       "      <td>157.0</td>\n",
       "    </tr>\n",
       "    <tr>\n",
       "      <th>3</th>\n",
       "      <td>93708.0</td>\n",
       "      <td>209.0</td>\n",
       "    </tr>\n",
       "    <tr>\n",
       "      <th>4</th>\n",
       "      <td>93709.0</td>\n",
       "      <td>176.0</td>\n",
       "    </tr>\n",
       "    <tr>\n",
       "      <th>5</th>\n",
       "      <td>93711.0</td>\n",
       "      <td>238.0</td>\n",
       "    </tr>\n",
       "    <tr>\n",
       "      <th>7</th>\n",
       "      <td>93713.0</td>\n",
       "      <td>184.0</td>\n",
       "    </tr>\n",
       "  </tbody>\n",
       "</table>\n",
       "</div>"
      ],
      "text/plain": [
       "      SEQN  LBXTC\n",
       "0  93705.0  157.0\n",
       "3  93708.0  209.0\n",
       "4  93709.0  176.0\n",
       "5  93711.0  238.0\n",
       "7  93713.0  184.0"
      ]
     },
     "execution_count": 7,
     "metadata": {},
     "output_type": "execute_result"
    }
   ],
   "source": [
    "df = demo_merged[['SEQN','LBXTC']].copy()\n",
    "df.head()"
   ]
  },
  {
   "cell_type": "markdown",
   "id": "cde8d004",
   "metadata": {},
   "source": [
    "# EDA\n",
    "\n",
    "## Distribution of total cholesterol"
   ]
  },
  {
   "cell_type": "code",
   "execution_count": 8,
   "id": "d7a9bee9",
   "metadata": {},
   "outputs": [
    {
     "data": {
      "text/plain": [
       "<AxesSubplot:>"
      ]
     },
     "execution_count": 8,
     "metadata": {},
     "output_type": "execute_result"
    },
    {
     "data": {
      "image/png": "[encoded data removed]",
      "text/plain": [
       "<Figure size 432x288 with 1 Axes>"
      ]
     },
     "metadata": {
      "needs_background": "light"
     },
     "output_type": "display_data"
    }
   ],
   "source": [
    "df.LBXTC.hist(bins=25)"
   ]
  },
  {
   "cell_type": "markdown",
   "id": "279f8040",
   "metadata": {},
   "source": [
    "The distribution of total cholesterol looks normal but right skewed.  There are some extreme values above 400."
   ]
  },
  {
   "cell_type": "markdown",
   "id": "75ebe815",
   "metadata": {},
   "source": [
    "# Exploring demographic data in relation to total cholesterol"
   ]
  },
  {
   "cell_type": "code",
   "execution_count": 9,
   "id": "d809503a",
   "metadata": {},
   "outputs": [
    {
     "data": {
      "text/plain": [
       "RIDEXPRG   -0.097854\n",
       "SDMVPSU    -0.086771\n",
       "DMDHHSZA   -0.043433\n",
       "RIDEXMON   -0.041857\n",
       "DMDHHSZE   -0.031607\n",
       "MIAINTRP   -0.020787\n",
       "DMDHRMAZ   -0.020375\n",
       "SIAINTRP   -0.017760\n",
       "DMDMARTL   -0.016780\n",
       "DMDHHSIZ   -0.016450\n",
       "DMDFMSIZ   -0.007298\n",
       "SDMVSTRA   -0.005437\n",
       "SEQN       -0.002398\n",
       "INDHHIN2   -0.001406\n",
       "DMQADFC     0.000745\n",
       "INDFMIN2    0.001280\n",
       "FIAINTRP    0.003044\n",
       "DMDYRSUS    0.006794\n",
       "DMDHHSZB    0.010582\n",
       "DMDHREDZ    0.011015\n",
       "DMDHRAGZ    0.012087\n",
       "RIDRETH1    0.012357\n",
       "RIDRETH3    0.019720\n",
       "WTMEC2YR    0.019866\n",
       "FIALANG     0.020708\n",
       "DMDEDUC2    0.024758\n",
       "WTINT2YR    0.025337\n",
       "DMDCITZN    0.025884\n",
       "DMDHRGND    0.026441\n",
       "FIAPROXY    0.030869\n",
       "SIAPROXY    0.033639\n",
       "MIAPROXY    0.035220\n",
       "MIALANG     0.037110\n",
       "SIALANG     0.038495\n",
       "INDFMPIR    0.042540\n",
       "DMDBORN4    0.043806\n",
       "AIALANGA    0.046639\n",
       "RIDAGEYR    0.052039\n",
       "DMDHSEDZ    0.056316\n",
       "DMQMILIZ    0.064595\n",
       "RIAGENDR    0.090433\n",
       "LBXTC       1.000000\n",
       "SDDSRVYR         NaN\n",
       "RIDSTATR         NaN\n",
       "RIDAGEMN         NaN\n",
       "RIDEXAGM         NaN\n",
       "DMDEDUC3         NaN\n",
       "Name: LBXTC, dtype: float64"
      ]
     },
     "execution_count": 9,
     "metadata": {},
     "output_type": "execute_result"
    }
   ],
   "source": [
    "demo_merged.corr()['LBXTC'].sort_values()"
   ]
  },
  {
   "cell_type": "markdown",
   "id": "054f089a",
   "metadata": {},
   "source": [
    "There is not much correlation between any of the demographic variables and total cholesterol"
   ]
  },
  {
   "cell_type": "markdown",
   "id": "91458197",
   "metadata": {},
   "source": [
    "## Gender"
   ]
  },
  {
   "cell_type": "code",
   "execution_count": 10,
   "id": "4af7ff67",
   "metadata": {},
   "outputs": [
    {
     "data": {
      "text/plain": [
       "<AxesSubplot:xlabel='RIAGENDR', ylabel='LBXTC'>"
      ]
     },
     "execution_count": 10,
     "metadata": {},
     "output_type": "execute_result"
    },
    {
     "data": {
      "image/png": "[encoded data removed]",
      "text/plain": [
       "<Figure size 432x288 with 1 Axes>"
      ]
     },
     "metadata": {
      "needs_background": "light"
     },
     "output_type": "display_data"
    }
   ],
   "source": [
    "sns.boxplot(x='RIAGENDR', y='LBXTC', data=demo_merged)"
   ]
  },
  {
   "cell_type": "markdown",
   "id": "ecd9f9c6",
   "metadata": {},
   "source": [
    "The boxplots are relatively similar with respect to gender.  "
   ]
  },
  {
   "cell_type": "markdown",
   "id": "8fa4a466",
   "metadata": {},
   "source": [
    "## Race"
   ]
  },
  {
   "cell_type": "code",
   "execution_count": 11,
   "id": "b510c8b7",
   "metadata": {},
   "outputs": [
    {
     "data": {
      "text/plain": [
       "<AxesSubplot:xlabel='RIDRETH3', ylabel='LBXTC'>"
      ]
     },
     "execution_count": 11,
     "metadata": {},
     "output_type": "execute_result"
    },
    {
     "data": {
      "image/png": "[encoded data removed]",
      "text/plain": [
       "<Figure size 432x288 with 1 Axes>"
      ]
     },
     "metadata": {
      "needs_background": "light"
     },
     "output_type": "display_data"
    }
   ],
   "source": [
    "sns.boxplot(x='RIDRETH3', y='LBXTC', data=demo_merged)\n"
   ]
  },
  {
   "cell_type": "markdown",
   "id": "021a34c3",
   "metadata": {},
   "source": [
    "The boxplots again are relatively similar.  However non-Hispanic whites (3.0) have many outliers at a higher total cholesterol level."
   ]
  },
  {
   "cell_type": "markdown",
   "id": "ab7f17b3",
   "metadata": {},
   "source": [
    "## Age"
   ]
  },
  {
   "cell_type": "code",
   "execution_count": 13,
   "id": "a6deccec",
   "metadata": {},
   "outputs": [
    {
     "data": {
      "text/plain": [
       "<AxesSubplot:xlabel='RIDAGEYR', ylabel='LBXTC'>"
      ]
     },
     "execution_count": 13,
     "metadata": {},
     "output_type": "execute_result"
    },
    {
     "data": {
      "image/png": "[encoded data removed]",
      "text/plain": [
       "<Figure size 432x288 with 1 Axes>"
      ]
     },
     "metadata": {
      "needs_background": "light"
     },
     "output_type": "display_data"
    }
   ],
   "source": [
    "sns.regplot(x='RIDAGEYR',  y='LBXTC', data=demo_merged, scatter_kws={\"color\": \"blue\"}, line_kws={\"color\": \"red\"})"
   ]
  },
  {
   "cell_type": "markdown",
   "id": "0d5009f9",
   "metadata": {},
   "source": [
    "As you can see there is not much of a linear relationship between age and total cholesterol.  \n",
    "\n",
    "The demographic data included more variables involving information such as educational level and military status.  These are not going to be explored.  To see a complete list of all the data in the demographics file see https://wwwn.cdc.gov/Nchs/Nhanes/2017-2018/DEMO_J.htm"
   ]
  },
  {
   "cell_type": "markdown",
   "id": "7fcacae4",
   "metadata": {},
   "source": [
    "## BMI and cholesterol and other body measures"
   ]
  },
  {
   "cell_type": "code",
   "execution_count": 15,
   "id": "6055f7f0",
   "metadata": {},
   "outputs": [
    {
     "data": {
      "text/html": [
       "<div>\n",
       "<style scoped>\n",
       "    .dataframe tbody tr th:only-of-type {\n",
       "        vertical-align: middle;\n",
       "    }\n",
       "\n",
       "    .dataframe tbody tr th {\n",
       "        vertical-align: top;\n",
       "    }\n",
       "\n",
       "    .dataframe thead th {\n",
       "        text-align: right;\n",
       "    }\n",
       "</style>\n",
       "<table border=\"1\" class=\"dataframe\">\n",
       "  <thead>\n",
       "    <tr style=\"text-align: right;\">\n",
       "      <th></th>\n",
       "      <th>SEQN</th>\n",
       "      <th>BMDSTATS</th>\n",
       "      <th>BMXWT</th>\n",
       "      <th>BMIWT</th>\n",
       "      <th>BMXRECUM</th>\n",
       "      <th>BMIRECUM</th>\n",
       "      <th>BMXHEAD</th>\n",
       "      <th>BMIHEAD</th>\n",
       "      <th>BMXHT</th>\n",
       "      <th>BMIHT</th>\n",
       "      <th>...</th>\n",
       "      <th>BMILEG</th>\n",
       "      <th>BMXARML</th>\n",
       "      <th>BMIARML</th>\n",
       "      <th>BMXARMC</th>\n",
       "      <th>BMIARMC</th>\n",
       "      <th>BMXWAIST</th>\n",
       "      <th>BMIWAIST</th>\n",
       "      <th>BMXHIP</th>\n",
       "      <th>BMIHIP</th>\n",
       "      <th>LBXTC</th>\n",
       "    </tr>\n",
       "  </thead>\n",
       "  <tbody>\n",
       "    <tr>\n",
       "      <th>0</th>\n",
       "      <td>93705.0</td>\n",
       "      <td>1.0</td>\n",
       "      <td>79.5</td>\n",
       "      <td>NaN</td>\n",
       "      <td>NaN</td>\n",
       "      <td>NaN</td>\n",
       "      <td>NaN</td>\n",
       "      <td>NaN</td>\n",
       "      <td>158.3</td>\n",
       "      <td>NaN</td>\n",
       "      <td>...</td>\n",
       "      <td>NaN</td>\n",
       "      <td>36.0</td>\n",
       "      <td>NaN</td>\n",
       "      <td>32.0</td>\n",
       "      <td>NaN</td>\n",
       "      <td>101.8</td>\n",
       "      <td>NaN</td>\n",
       "      <td>110.0</td>\n",
       "      <td>NaN</td>\n",
       "      <td>157.0</td>\n",
       "    </tr>\n",
       "    <tr>\n",
       "      <th>1</th>\n",
       "      <td>93708.0</td>\n",
       "      <td>1.0</td>\n",
       "      <td>53.5</td>\n",
       "      <td>NaN</td>\n",
       "      <td>NaN</td>\n",
       "      <td>NaN</td>\n",
       "      <td>NaN</td>\n",
       "      <td>NaN</td>\n",
       "      <td>150.2</td>\n",
       "      <td>NaN</td>\n",
       "      <td>...</td>\n",
       "      <td>NaN</td>\n",
       "      <td>30.6</td>\n",
       "      <td>NaN</td>\n",
       "      <td>27.4</td>\n",
       "      <td>NaN</td>\n",
       "      <td>88.2</td>\n",
       "      <td>NaN</td>\n",
       "      <td>90.1</td>\n",
       "      <td>NaN</td>\n",
       "      <td>209.0</td>\n",
       "    </tr>\n",
       "    <tr>\n",
       "      <th>2</th>\n",
       "      <td>93709.0</td>\n",
       "      <td>1.0</td>\n",
       "      <td>88.8</td>\n",
       "      <td>NaN</td>\n",
       "      <td>NaN</td>\n",
       "      <td>NaN</td>\n",
       "      <td>NaN</td>\n",
       "      <td>NaN</td>\n",
       "      <td>151.1</td>\n",
       "      <td>NaN</td>\n",
       "      <td>...</td>\n",
       "      <td>NaN</td>\n",
       "      <td>36.0</td>\n",
       "      <td>NaN</td>\n",
       "      <td>38.1</td>\n",
       "      <td>NaN</td>\n",
       "      <td>113.0</td>\n",
       "      <td>NaN</td>\n",
       "      <td>131.3</td>\n",
       "      <td>NaN</td>\n",
       "      <td>176.0</td>\n",
       "    </tr>\n",
       "    <tr>\n",
       "      <th>3</th>\n",
       "      <td>93711.0</td>\n",
       "      <td>1.0</td>\n",
       "      <td>62.1</td>\n",
       "      <td>NaN</td>\n",
       "      <td>NaN</td>\n",
       "      <td>NaN</td>\n",
       "      <td>NaN</td>\n",
       "      <td>NaN</td>\n",
       "      <td>170.6</td>\n",
       "      <td>NaN</td>\n",
       "      <td>...</td>\n",
       "      <td>NaN</td>\n",
       "      <td>37.2</td>\n",
       "      <td>NaN</td>\n",
       "      <td>30.8</td>\n",
       "      <td>NaN</td>\n",
       "      <td>86.6</td>\n",
       "      <td>NaN</td>\n",
       "      <td>90.7</td>\n",
       "      <td>NaN</td>\n",
       "      <td>238.0</td>\n",
       "    </tr>\n",
       "    <tr>\n",
       "      <th>4</th>\n",
       "      <td>93713.0</td>\n",
       "      <td>1.0</td>\n",
       "      <td>74.9</td>\n",
       "      <td>NaN</td>\n",
       "      <td>NaN</td>\n",
       "      <td>NaN</td>\n",
       "      <td>NaN</td>\n",
       "      <td>NaN</td>\n",
       "      <td>178.6</td>\n",
       "      <td>NaN</td>\n",
       "      <td>...</td>\n",
       "      <td>NaN</td>\n",
       "      <td>41.4</td>\n",
       "      <td>NaN</td>\n",
       "      <td>30.6</td>\n",
       "      <td>NaN</td>\n",
       "      <td>99.7</td>\n",
       "      <td>NaN</td>\n",
       "      <td>91.0</td>\n",
       "      <td>NaN</td>\n",
       "      <td>184.0</td>\n",
       "    </tr>\n",
       "  </tbody>\n",
       "</table>\n",
       "<p>5 rows × 22 columns</p>\n",
       "</div>"
      ],
      "text/plain": [
       "      SEQN  BMDSTATS  BMXWT  BMIWT  BMXRECUM  BMIRECUM  BMXHEAD  BMIHEAD  \\\n",
       "0  93705.0       1.0   79.5    NaN       NaN       NaN      NaN      NaN   \n",
       "1  93708.0       1.0   53.5    NaN       NaN       NaN      NaN      NaN   \n",
       "2  93709.0       1.0   88.8    NaN       NaN       NaN      NaN      NaN   \n",
       "3  93711.0       1.0   62.1    NaN       NaN       NaN      NaN      NaN   \n",
       "4  93713.0       1.0   74.9    NaN       NaN       NaN      NaN      NaN   \n",
       "\n",
       "   BMXHT  BMIHT  ...  BMILEG  BMXARML  BMIARML  BMXARMC  BMIARMC  BMXWAIST  \\\n",
       "0  158.3    NaN  ...     NaN     36.0      NaN     32.0      NaN     101.8   \n",
       "1  150.2    NaN  ...     NaN     30.6      NaN     27.4      NaN      88.2   \n",
       "2  151.1    NaN  ...     NaN     36.0      NaN     38.1      NaN     113.0   \n",
       "3  170.6    NaN  ...     NaN     37.2      NaN     30.8      NaN      86.6   \n",
       "4  178.6    NaN  ...     NaN     41.4      NaN     30.6      NaN      99.7   \n",
       "\n",
       "   BMIWAIST  BMXHIP  BMIHIP  LBXTC  \n",
       "0       NaN   110.0     NaN  157.0  \n",
       "1       NaN    90.1     NaN  209.0  \n",
       "2       NaN   131.3     NaN  176.0  \n",
       "3       NaN    90.7     NaN  238.0  \n",
       "4       NaN    91.0     NaN  184.0  \n",
       "\n",
       "[5 rows x 22 columns]"
      ]
     },
     "execution_count": 15,
     "metadata": {},
     "output_type": "execute_result"
    }
   ],
   "source": [
    "body_df = pd.read_sas('https://wwwn.cdc.gov/Nchs/Nhanes/2017-2018/BMX_J.XPT')\n",
    "body_df = body_df.merge(df,on='SEQN',how='right')\n",
    "body_df.head()"
   ]
  },
  {
   "cell_type": "code",
   "execution_count": 16,
   "id": "2b550d3a",
   "metadata": {},
   "outputs": [
    {
     "data": {
      "text/plain": [
       "BMIWT      -0.077661\n",
       "BMXHT      -0.074784\n",
       "BMXLEG     -0.067784\n",
       "BMXARML    -0.063120\n",
       "BMDSTATS   -0.049500\n",
       "BMXWT      -0.037072\n",
       "BMXHIP     -0.012850\n",
       "BMXARMC    -0.010300\n",
       "BMXBMI     -0.008350\n",
       "BMXWAIST   -0.004853\n",
       "SEQN       -0.002398\n",
       "BMIHT       0.209798\n",
       "LBXTC       1.000000\n",
       "BMXRECUM         NaN\n",
       "BMIRECUM         NaN\n",
       "BMXHEAD          NaN\n",
       "BMIHEAD          NaN\n",
       "BMILEG           NaN\n",
       "BMIARML          NaN\n",
       "BMIARMC          NaN\n",
       "BMIWAIST         NaN\n",
       "BMIHIP           NaN\n",
       "Name: LBXTC, dtype: float64"
      ]
     },
     "execution_count": 16,
     "metadata": {},
     "output_type": "execute_result"
    }
   ],
   "source": [
    "body_df.corr()['LBXTC'].sort_values()"
   ]
  },
  {
   "cell_type": "markdown",
   "id": "fb2be288",
   "metadata": {},
   "source": [
    "As with demographic data there appears to be no strong correlation with body measures and total cholesterol."
   ]
  },
  {
   "cell_type": "markdown",
   "id": "eb231d13",
   "metadata": {},
   "source": [
    "##  Compairing height, weight, bmi, and total cholesterol"
   ]
  },
  {
   "cell_type": "code",
   "execution_count": 17,
   "id": "15708d73",
   "metadata": {},
   "outputs": [
    {
     "data": {
      "text/plain": [
       "<AxesSubplot:xlabel='BMXWT', ylabel='LBXTC'>"
      ]
     },
     "execution_count": 17,
     "metadata": {},
     "output_type": "execute_result"
    },
    {
     "data": {
      "image/png": "[encoded data removed]",
      "text/plain": [
       "<Figure size 432x288 with 1 Axes>"
      ]
     },
     "metadata": {
      "needs_background": "light"
     },
     "output_type": "display_data"
    }
   ],
   "source": [
    "sns.regplot(x='BMXWT',  y='LBXTC', data=body_df, scatter_kws={\"color\": \"blue\"}, line_kws={\"color\": \"red\"})"
   ]
  },
  {
   "cell_type": "markdown",
   "id": "5b8c6edd",
   "metadata": {},
   "source": [
    "As can be seen there is not much correlation between weight and cholesterol level."
   ]
  },
  {
   "cell_type": "code",
   "execution_count": 18,
   "id": "5b01a699",
   "metadata": {},
   "outputs": [
    {
     "data": {
      "text/plain": [
       "<AxesSubplot:xlabel='BMXHT', ylabel='LBXTC'>"
      ]
     },
     "execution_count": 18,
     "metadata": {},
     "output_type": "execute_result"
    },
    {
     "data": {
      "image/png": "[encoded data removed]",
      "text/plain": [
       "<Figure size 432x288 with 1 Axes>"
      ]
     },
     "metadata": {
      "needs_background": "light"
     },
     "output_type": "display_data"
    }
   ],
   "source": [
    "sns.regplot(x='BMXHT',  y='LBXTC', data=body_df, scatter_kws={\"color\": \"blue\"}, line_kws={\"color\": \"red\"})"
   ]
  },
  {
   "cell_type": "markdown",
   "id": "aa08ec9c",
   "metadata": {},
   "source": [
    "As height increases, total cholesterol slightly decreases."
   ]
  },
  {
   "cell_type": "code",
   "execution_count": 19,
   "id": "fe7b35db",
   "metadata": {},
   "outputs": [
    {
     "data": {
      "text/plain": [
       "<AxesSubplot:xlabel='BMXBMI', ylabel='LBXTC'>"
      ]
     },
     "execution_count": 19,
     "metadata": {},
     "output_type": "execute_result"
    },
    {
     "data": {
      "image/png": "[encoded data removed]",
      "text/plain": [
       "<Figure size 432x288 with 1 Axes>"
      ]
     },
     "metadata": {
      "needs_background": "light"
     },
     "output_type": "display_data"
    }
   ],
   "source": [
    "sns.regplot(x='BMXBMI',  y='LBXTC', data=body_df, scatter_kws={\"color\": \"blue\"}, line_kws={\"color\": \"red\"})"
   ]
  },
  {
   "cell_type": "markdown",
   "id": "bad2bc8a",
   "metadata": {},
   "source": [
    "There doesn't appear to be much correlation between body mass index and total cholesterol.  All three replots do show outliers."
   ]
  },
  {
   "cell_type": "code",
   "execution_count": 20,
   "id": "2d006560",
   "metadata": {},
   "outputs": [
    {
     "data": {
      "text/plain": [
       "<AxesSubplot:xlabel='BMXWAIST', ylabel='LBXTC'>"
      ]
     },
     "execution_count": 20,
     "metadata": {},
     "output_type": "execute_result"
    },
    {
     "data": {
      "image/png": "[encoded data removed]",
      "text/plain": [
       "<Figure size 432x288 with 1 Axes>"
      ]
     },
     "metadata": {
      "needs_background": "light"
     },
     "output_type": "display_data"
    }
   ],
   "source": [
    "sns.regplot(x='BMXWAIST',  y='LBXTC', data=body_df, scatter_kws={\"color\": \"blue\"}, line_kws={\"color\": \"red\"})"
   ]
  },
  {
   "cell_type": "markdown",
   "id": "8996469b",
   "metadata": {},
   "source": [
    "Again there isn't much correlation between waist circumference and total cholesterol level."
   ]
  },
  {
   "cell_type": "markdown",
   "id": "1991e358",
   "metadata": {},
   "source": [
    "## Examining blood pressure and pulse with respect to total cholesterol"
   ]
  },
  {
   "cell_type": "code",
   "execution_count": 21,
   "id": "db0d89e7",
   "metadata": {},
   "outputs": [
    {
     "data": {
      "text/html": [
       "<div>\n",
       "<style scoped>\n",
       "    .dataframe tbody tr th:only-of-type {\n",
       "        vertical-align: middle;\n",
       "    }\n",
       "\n",
       "    .dataframe tbody tr th {\n",
       "        vertical-align: top;\n",
       "    }\n",
       "\n",
       "    .dataframe thead th {\n",
       "        text-align: right;\n",
       "    }\n",
       "</style>\n",
       "<table border=\"1\" class=\"dataframe\">\n",
       "  <thead>\n",
       "    <tr style=\"text-align: right;\">\n",
       "      <th></th>\n",
       "      <th>SEQN</th>\n",
       "      <th>PEASCCT1</th>\n",
       "      <th>BPXCHR</th>\n",
       "      <th>BPAARM</th>\n",
       "      <th>BPACSZ</th>\n",
       "      <th>BPXPLS</th>\n",
       "      <th>BPXPULS</th>\n",
       "      <th>BPXPTY</th>\n",
       "      <th>BPXML1</th>\n",
       "      <th>BPXSY1</th>\n",
       "      <th>...</th>\n",
       "      <th>BPXSY2</th>\n",
       "      <th>BPXDI2</th>\n",
       "      <th>BPAEN2</th>\n",
       "      <th>BPXSY3</th>\n",
       "      <th>BPXDI3</th>\n",
       "      <th>BPAEN3</th>\n",
       "      <th>BPXSY4</th>\n",
       "      <th>BPXDI4</th>\n",
       "      <th>BPAEN4</th>\n",
       "      <th>LBXTC</th>\n",
       "    </tr>\n",
       "  </thead>\n",
       "  <tbody>\n",
       "    <tr>\n",
       "      <th>0</th>\n",
       "      <td>93705.0</td>\n",
       "      <td>NaN</td>\n",
       "      <td>NaN</td>\n",
       "      <td>1.0</td>\n",
       "      <td>4.0</td>\n",
       "      <td>52.0</td>\n",
       "      <td>1.0</td>\n",
       "      <td>1.0</td>\n",
       "      <td>220.0</td>\n",
       "      <td>NaN</td>\n",
       "      <td>...</td>\n",
       "      <td>NaN</td>\n",
       "      <td>NaN</td>\n",
       "      <td>NaN</td>\n",
       "      <td>202.0</td>\n",
       "      <td>62.0</td>\n",
       "      <td>2.0</td>\n",
       "      <td>198.0</td>\n",
       "      <td>74.0</td>\n",
       "      <td>2.0</td>\n",
       "      <td>157.0</td>\n",
       "    </tr>\n",
       "    <tr>\n",
       "      <th>1</th>\n",
       "      <td>93708.0</td>\n",
       "      <td>NaN</td>\n",
       "      <td>NaN</td>\n",
       "      <td>1.0</td>\n",
       "      <td>3.0</td>\n",
       "      <td>68.0</td>\n",
       "      <td>1.0</td>\n",
       "      <td>1.0</td>\n",
       "      <td>170.0</td>\n",
       "      <td>NaN</td>\n",
       "      <td>...</td>\n",
       "      <td>138.0</td>\n",
       "      <td>78.0</td>\n",
       "      <td>2.0</td>\n",
       "      <td>144.0</td>\n",
       "      <td>76.0</td>\n",
       "      <td>2.0</td>\n",
       "      <td>144.0</td>\n",
       "      <td>74.0</td>\n",
       "      <td>2.0</td>\n",
       "      <td>209.0</td>\n",
       "    </tr>\n",
       "    <tr>\n",
       "      <th>2</th>\n",
       "      <td>93709.0</td>\n",
       "      <td>NaN</td>\n",
       "      <td>NaN</td>\n",
       "      <td>1.0</td>\n",
       "      <td>5.0</td>\n",
       "      <td>74.0</td>\n",
       "      <td>1.0</td>\n",
       "      <td>1.0</td>\n",
       "      <td>140.0</td>\n",
       "      <td>120.0</td>\n",
       "      <td>...</td>\n",
       "      <td>118.0</td>\n",
       "      <td>66.0</td>\n",
       "      <td>2.0</td>\n",
       "      <td>118.0</td>\n",
       "      <td>68.0</td>\n",
       "      <td>2.0</td>\n",
       "      <td>NaN</td>\n",
       "      <td>NaN</td>\n",
       "      <td>NaN</td>\n",
       "      <td>176.0</td>\n",
       "    </tr>\n",
       "    <tr>\n",
       "      <th>3</th>\n",
       "      <td>93711.0</td>\n",
       "      <td>NaN</td>\n",
       "      <td>NaN</td>\n",
       "      <td>1.0</td>\n",
       "      <td>4.0</td>\n",
       "      <td>62.0</td>\n",
       "      <td>1.0</td>\n",
       "      <td>1.0</td>\n",
       "      <td>130.0</td>\n",
       "      <td>108.0</td>\n",
       "      <td>...</td>\n",
       "      <td>94.0</td>\n",
       "      <td>68.0</td>\n",
       "      <td>2.0</td>\n",
       "      <td>102.0</td>\n",
       "      <td>64.0</td>\n",
       "      <td>2.0</td>\n",
       "      <td>NaN</td>\n",
       "      <td>NaN</td>\n",
       "      <td>NaN</td>\n",
       "      <td>238.0</td>\n",
       "    </tr>\n",
       "    <tr>\n",
       "      <th>4</th>\n",
       "      <td>93713.0</td>\n",
       "      <td>NaN</td>\n",
       "      <td>NaN</td>\n",
       "      <td>1.0</td>\n",
       "      <td>4.0</td>\n",
       "      <td>90.0</td>\n",
       "      <td>1.0</td>\n",
       "      <td>1.0</td>\n",
       "      <td>130.0</td>\n",
       "      <td>104.0</td>\n",
       "      <td>...</td>\n",
       "      <td>104.0</td>\n",
       "      <td>74.0</td>\n",
       "      <td>2.0</td>\n",
       "      <td>106.0</td>\n",
       "      <td>72.0</td>\n",
       "      <td>2.0</td>\n",
       "      <td>NaN</td>\n",
       "      <td>NaN</td>\n",
       "      <td>NaN</td>\n",
       "      <td>184.0</td>\n",
       "    </tr>\n",
       "  </tbody>\n",
       "</table>\n",
       "<p>5 rows × 22 columns</p>\n",
       "</div>"
      ],
      "text/plain": [
       "      SEQN  PEASCCT1  BPXCHR  BPAARM  BPACSZ  BPXPLS  BPXPULS  BPXPTY  BPXML1  \\\n",
       "0  93705.0       NaN     NaN     1.0     4.0    52.0      1.0     1.0   220.0   \n",
       "1  93708.0       NaN     NaN     1.0     3.0    68.0      1.0     1.0   170.0   \n",
       "2  93709.0       NaN     NaN     1.0     5.0    74.0      1.0     1.0   140.0   \n",
       "3  93711.0       NaN     NaN     1.0     4.0    62.0      1.0     1.0   130.0   \n",
       "4  93713.0       NaN     NaN     1.0     4.0    90.0      1.0     1.0   130.0   \n",
       "\n",
       "   BPXSY1  ...  BPXSY2  BPXDI2  BPAEN2  BPXSY3  BPXDI3  BPAEN3  BPXSY4  \\\n",
       "0     NaN  ...     NaN     NaN     NaN   202.0    62.0     2.0   198.0   \n",
       "1     NaN  ...   138.0    78.0     2.0   144.0    76.0     2.0   144.0   \n",
       "2   120.0  ...   118.0    66.0     2.0   118.0    68.0     2.0     NaN   \n",
       "3   108.0  ...    94.0    68.0     2.0   102.0    64.0     2.0     NaN   \n",
       "4   104.0  ...   104.0    74.0     2.0   106.0    72.0     2.0     NaN   \n",
       "\n",
       "   BPXDI4  BPAEN4  LBXTC  \n",
       "0    74.0     2.0  157.0  \n",
       "1    74.0     2.0  209.0  \n",
       "2     NaN     NaN  176.0  \n",
       "3     NaN     NaN  238.0  \n",
       "4     NaN     NaN  184.0  \n",
       "\n",
       "[5 rows x 22 columns]"
      ]
     },
     "execution_count": 21,
     "metadata": {},
     "output_type": "execute_result"
    }
   ],
   "source": [
    "bp_df = pd.read_sas('https://wwwn.cdc.gov/Nchs/Nhanes/2017-2018/BPX_J.XPT')\n",
    "bp_df = bp_df.merge(df,on='SEQN',how='right')\n",
    "bp_df.head()"
   ]
  },
  {
   "cell_type": "code",
   "execution_count": 22,
   "id": "afafa46b",
   "metadata": {},
   "outputs": [
    {
     "data": {
      "text/plain": [
       "BPAEN4     -0.075192\n",
       "BPXPULS    -0.052294\n",
       "BPAEN3     -0.028860\n",
       "BPAEN2     -0.027757\n",
       "BPXPTY     -0.027446\n",
       "PEASCCT1   -0.025016\n",
       "BPAARM     -0.013855\n",
       "BPACSZ     -0.004530\n",
       "SEQN       -0.002398\n",
       "BPXPLS      0.052216\n",
       "BPXSY4      0.068941\n",
       "BPXML1      0.090942\n",
       "BPXSY3      0.101216\n",
       "BPXSY2      0.105505\n",
       "BPXSY1      0.113346\n",
       "BPXDI2      0.124571\n",
       "BPXDI1      0.125118\n",
       "BPXDI3      0.130414\n",
       "BPXDI4      0.170820\n",
       "LBXTC       1.000000\n",
       "BPXCHR           NaN\n",
       "BPAEN1           NaN\n",
       "Name: LBXTC, dtype: float64"
      ]
     },
     "execution_count": 22,
     "metadata": {},
     "output_type": "execute_result"
    }
   ],
   "source": [
    "bp_df.corr()['LBXTC'].sort_values()"
   ]
  },
  {
   "cell_type": "markdown",
   "id": "e3c907f8",
   "metadata": {},
   "source": [
    "No large correlation can be seen\n",
    "\n",
    "For systolic and diastolic readings there were up to 4 readings taken.  I am going to average all 4 into 1 systolic and 1 diastolic reading."
   ]
  },
  {
   "cell_type": "code",
   "execution_count": 26,
   "id": "342bb273",
   "metadata": {},
   "outputs": [],
   "source": [
    "bp_df['Systolic'] = bp_df[['BPXSY1','BPXSY2','BPXSY3','BPXSY4']].mean(axis=1)\n",
    "bp_df[\"Diastolic\"] = bp_df[['BPXDI1','BPXDI2','BPXDI3','BPXDI4']].mean(axis=1)"
   ]
  },
  {
   "cell_type": "code",
   "execution_count": 27,
   "id": "863fb991",
   "metadata": {},
   "outputs": [
    {
     "data": {
      "text/plain": [
       "<AxesSubplot:xlabel='Systolic', ylabel='LBXTC'>"
      ]
     },
     "execution_count": 27,
     "metadata": {},
     "output_type": "execute_result"
    },
    {
     "data": {
      "image/png": "[encoded data removed]",
      "text/plain": [
       "<Figure size 432x288 with 1 Axes>"
      ]
     },
     "metadata": {
      "needs_background": "light"
     },
     "output_type": "display_data"
    }
   ],
   "source": [
    "sns.regplot(x='Systolic',  y='LBXTC', data=bp_df, scatter_kws={\"color\": \"blue\"}, line_kws={\"color\": \"red\"})"
   ]
  },
  {
   "cell_type": "markdown",
   "id": "f47bf2e3",
   "metadata": {},
   "source": [
    "As systolic levels rise, total cholesterol slightly rises."
   ]
  },
  {
   "cell_type": "code",
   "execution_count": 28,
   "id": "f2132e3b",
   "metadata": {},
   "outputs": [
    {
     "data": {
      "text/plain": [
       "<AxesSubplot:xlabel='Diastolic', ylabel='LBXTC'>"
      ]
     },
     "execution_count": 28,
     "metadata": {},
     "output_type": "execute_result"
    },
    {
     "data": {
      "image/png": "[encoded data removed]",
      "text/plain": [
       "<Figure size 432x288 with 1 Axes>"
      ]
     },
     "metadata": {
      "needs_background": "light"
     },
     "output_type": "display_data"
    }
   ],
   "source": [
    "sns.regplot(x='Diastolic',  y='LBXTC', data=bp_df, scatter_kws={\"color\": \"blue\"}, line_kws={\"color\": \"red\"})"
   ]
  },
  {
   "cell_type": "markdown",
   "id": "fa45b20e",
   "metadata": {},
   "source": [
    "The same can be seen with diastolic levels, as the levels rise, total cholesterol slightly rises.  Looking at the distributions of systolic and diastolic variables..."
   ]
  },
  {
   "cell_type": "code",
   "execution_count": 29,
   "id": "b8e73e61",
   "metadata": {},
   "outputs": [
    {
     "data": {
      "text/plain": [
       "<AxesSubplot:>"
      ]
     },
     "execution_count": 29,
     "metadata": {},
     "output_type": "execute_result"
    },
    {
     "data": {
      "image/png": "[encoded data removed]",
      "text/plain": [
       "<Figure size 432x288 with 1 Axes>"
      ]
     },
     "metadata": {
      "needs_background": "light"
     },
     "output_type": "display_data"
    }
   ],
   "source": [
    "bp_df.Systolic.hist(bins=25)"
   ]
  },
  {
   "cell_type": "markdown",
   "id": "b8896292",
   "metadata": {},
   "source": [
    "The distribution is right skewed with some extreme outliers above 225."
   ]
  },
  {
   "cell_type": "code",
   "execution_count": 30,
   "id": "6c4f9b0f",
   "metadata": {},
   "outputs": [
    {
     "data": {
      "text/plain": [
       "<AxesSubplot:>"
      ]
     },
     "execution_count": 30,
     "metadata": {},
     "output_type": "execute_result"
    },
    {
     "data": {
      "image/png": "[encoded data removed]",
      "text/plain": [
       "<Figure size 432x288 with 1 Axes>"
      ]
     },
     "metadata": {
      "needs_background": "light"
     },
     "output_type": "display_data"
    }
   ],
   "source": [
    "bp_df.Diastolic.hist(bins=25)"
   ]
  },
  {
   "cell_type": "markdown",
   "id": "3d9a26aa",
   "metadata": {},
   "source": [
    "The diastolic distribution appears more normal.  Values of 0 are more than likely missing values."
   ]
  },
  {
   "cell_type": "code",
   "execution_count": null,
   "id": "d1c60f45",
   "metadata": {},
   "outputs": [],
   "source": []
  }
 ],
 "metadata": {
  "kernelspec": {
   "display_name": "Python 3",
   "language": "python",
   "name": "python3"
  },
  "language_info": {
   "codemirror_mode": {
    "name": "ipython",
    "version": 3
   },
   "file_extension": ".py",
   "mimetype": "text/x-python",
   "name": "python",
   "nbconvert_exporter": "python",
   "pygments_lexer": "ipython3",
   "version": "3.9.5"
  }
 },
 "nbformat": 4,
 "nbformat_minor": 5
}
