{
 "cells": [
  {
   "cell_type": "code",
   "execution_count": 1,
   "id": "a7ea5e39",
   "metadata": {},
   "outputs": [],
   "source": [
    "import numpy as np\n",
    "import pandas as pd\n",
    "import matplotlib.pyplot as plt\n",
    "import seaborn as sns\n",
    "from tensorflow.keras.models import Sequential \n",
    "from tensorflow.keras.layers import Dense, LeakyReLU, Dropout, BatchNormalization\n",
    "from tensorflow.keras import optimizers\n",
    "from sklearn.model_selection import train_test_split\n",
    "from keras.wrappers.scikit_learn import KerasRegressor\n",
    "from sklearn.model_selection import cross_val_score\n",
    "from sklearn.pipeline import Pipeline\n",
    "from sklearn.compose import ColumnTransformer\n",
    "from sklearn.preprocessing import OneHotEncoder, StandardScaler\n",
    "from sklearn.metrics import mean_absolute_error, mean_squared_error, r2_score"
   ]
  },
  {
   "cell_type": "code",
   "execution_count": 2,
   "id": "c74bb0d7",
   "metadata": {},
   "outputs": [],
   "source": [
    "df = pd.read_csv('../Data/df_transformed.csv')\n",
    "df.drop('Unnamed: 0',axis=1,inplace=True)"
   ]
  },
  {
   "cell_type": "code",
   "execution_count": 3,
   "id": "3448215b",
   "metadata": {},
   "outputs": [
    {
     "data": {
      "text/plain": [
       "Index(['LBXTC', 'RIAGENDR', 'RIDRETH3', 'RIDAGEYR', 'BMXWT', 'BMXHT', 'BMXBMI',\n",
       "       'BPXPLS', 'BPXPULS', 'DR1TKCAL', 'DR1TPROT', 'DR1TCARB', 'DR1TSUGR',\n",
       "       'DR1TFIBE', 'DR1TTFAT', 'DR1TSFAT', 'DR1TMFAT', 'DR1TPFAT', 'DR1TCHOL',\n",
       "       'DR1TSODI', 'DR1TVD', 'DR1TCALC', 'DR1TIRON', 'DR1TPOTA', 'DR1_300',\n",
       "       'ALQ120Q', 'ALQ120U', 'ALQ130', 'BPQ020', 'BPQ050A', 'BPQ080',\n",
       "       'BPQ100D', 'DIQ010', 'MCQ170M', 'SMQ681', 'PAQ610', 'PAD615', 'PAQ625',\n",
       "       'PAD630', 'PAQ655', 'PAD660', 'PAQ670', 'PAD675', 'Systolic',\n",
       "       'Diastolic', 'outlier', 'MET_work', 'MET_rec', 'DR1TKCAL_t',\n",
       "       'DR1TPROT_t', 'DR1TCARB_t', 'DR1TSUGR_t', 'DR1TFIBE_t', 'DR1TTFAT_t',\n",
       "       'DR1TSFAT_t', 'DR1TMFAT_t', 'DR1TPFAT_t', 'DR1TCHOL_t', 'DR1TSODI_t',\n",
       "       'DR1TVD_t', 'DR1TCALC_t', 'DR1TIRON_t', 'DR1TPOTA_t', 'avgALC',\n",
       "       'log_LBXTC'],\n",
       "      dtype='object')"
      ]
     },
     "execution_count": 3,
     "metadata": {},
     "output_type": "execute_result"
    }
   ],
   "source": [
    "df.columns"
   ]
  },
  {
   "cell_type": "code",
   "execution_count": 4,
   "id": "7f1acfa0",
   "metadata": {},
   "outputs": [
    {
     "data": {
      "text/plain": [
       "(3551, 35)"
      ]
     },
     "execution_count": 4,
     "metadata": {},
     "output_type": "execute_result"
    }
   ],
   "source": [
    "\n",
    "cat_variables = ['RIAGENDR','RIDRETH3','ALQ120U','BPQ020', 'BPQ050A', 'BPQ080',\n",
    "       'BPQ100D', 'DIQ010', 'MCQ170M', 'SMQ681']\n",
    "numeric_variables = ['RIDAGEYR','BMXWT', 'BMXHT','BPXPLS','Systolic',\n",
    "       'Diastolic', 'ALQ120Q','ALQ130', 'MET_rec', 'DR1TKCAL_t',\n",
    "       'DR1TPROT_t', 'DR1TCARB_t', 'DR1TSUGR_t', 'DR1TFIBE_t', 'DR1TTFAT_t',\n",
    "       'DR1TSFAT_t', 'DR1TMFAT_t', 'DR1TPFAT_t', 'DR1TCHOL_t', 'DR1TSODI_t',\n",
    "       'DR1TVD_t', 'DR1TCALC_t', 'DR1TIRON_t', 'DR1TPOTA_t']\n",
    "df2 = df[cat_variables+numeric_variables+['LBXTC']].copy()\n",
    "df2.dropna(inplace=True)\n",
    "df2.shape"
   ]
  },
  {
   "cell_type": "code",
   "execution_count": 5,
   "id": "528202b1",
   "metadata": {},
   "outputs": [],
   "source": [
    "y = df2['LBXTC']\n",
    "X = df2.drop('LBXTC',axis=1)"
   ]
  },
  {
   "cell_type": "code",
   "execution_count": 6,
   "id": "9e237bf7",
   "metadata": {},
   "outputs": [],
   "source": [
    "X_train, X_test, y_train, y_test = train_test_split(X, y, random_state=675, test_size=0.2)"
   ]
  },
  {
   "cell_type": "code",
   "execution_count": 7,
   "id": "06def33f",
   "metadata": {},
   "outputs": [],
   "source": [
    "def build_model():\n",
    "    model = Sequential([\n",
    "        Dense(1024, activation='relu'),\n",
    "        Dropout(0.3),\n",
    "        BatchNormalization(),\n",
    "        Dense(1024, activation='relu'),\n",
    "        Dropout(0.3),\n",
    "        BatchNormalization(),\n",
    "        Dense(1024, activation='relu'),\n",
    "        Dropout(0.3),\n",
    "        BatchNormalization(),\n",
    "        Dense(1),\n",
    "    ])\n",
    "    model.compile(loss='mean_squared_error', optimizer='adam')\n",
    "    return model"
   ]
  },
  {
   "cell_type": "code",
   "execution_count": 8,
   "id": "165867a1",
   "metadata": {},
   "outputs": [],
   "source": [
    "numeric_transformer = Pipeline(steps=[('scalar',StandardScaler())])\n",
    "cat_transformer = Pipeline(steps=[('one_hot',OneHotEncoder(handle_unknown='ignore'))])\n",
    "preprocessor = ColumnTransformer(transformers=[\n",
    "    ('num',numeric_transformer,numeric_variables),\n",
    "    ('cat',cat_transformer,cat_variables)])\n",
    "pipeline = Pipeline(steps=[('preprocessor',preprocessor),\n",
    "                          ('mlp', KerasRegressor(build_fn=build_model, epochs=25, batch_size=5, verbose=2))])"
   ]
  },
  {
   "cell_type": "code",
   "execution_count": 9,
   "id": "6d83b02a",
   "metadata": {},
   "outputs": [
    {
     "name": "stdout",
     "output_type": "stream",
     "text": [
      "Epoch 1/25\n",
      "568/568 - 5s - loss: 15128.2207\n",
      "Epoch 2/25\n",
      "568/568 - 4s - loss: 1799.6810\n",
      "Epoch 3/25\n",
      "568/568 - 4s - loss: 1729.1978\n",
      "Epoch 4/25\n",
      "568/568 - 4s - loss: 1694.2507\n",
      "Epoch 5/25\n",
      "568/568 - 4s - loss: 1649.7734\n",
      "Epoch 6/25\n",
      "568/568 - 4s - loss: 1666.9081\n",
      "Epoch 7/25\n",
      "568/568 - 4s - loss: 1630.9271\n",
      "Epoch 8/25\n",
      "568/568 - 4s - loss: 1664.0159\n",
      "Epoch 9/25\n",
      "568/568 - 4s - loss: 1647.9727\n",
      "Epoch 10/25\n",
      "568/568 - 4s - loss: 1605.2579\n",
      "Epoch 11/25\n",
      "568/568 - 4s - loss: 1592.0917\n",
      "Epoch 12/25\n",
      "568/568 - 4s - loss: 1613.2173\n",
      "Epoch 13/25\n",
      "568/568 - 5s - loss: 1574.5139\n",
      "Epoch 14/25\n",
      "568/568 - 5s - loss: 1571.1738\n",
      "Epoch 15/25\n",
      "568/568 - 6s - loss: 1527.2898\n",
      "Epoch 16/25\n",
      "568/568 - 4s - loss: 1571.2850\n",
      "Epoch 17/25\n",
      "568/568 - 4s - loss: 1568.2225\n",
      "Epoch 18/25\n",
      "568/568 - 5s - loss: 1561.6769\n",
      "Epoch 19/25\n",
      "568/568 - 5s - loss: 1557.8893\n",
      "Epoch 20/25\n",
      "568/568 - 5s - loss: 1569.9408\n",
      "Epoch 21/25\n",
      "568/568 - 5s - loss: 1540.2230\n",
      "Epoch 22/25\n",
      "568/568 - 5s - loss: 1572.1735\n",
      "Epoch 23/25\n",
      "568/568 - 5s - loss: 1552.4351\n",
      "Epoch 24/25\n",
      "568/568 - 5s - loss: 1537.4390\n",
      "Epoch 25/25\n",
      "568/568 - 5s - loss: 1538.6870\n"
     ]
    },
    {
     "data": {
      "text/plain": [
       "Pipeline(steps=[('preprocessor',\n",
       "                 ColumnTransformer(transformers=[('num',\n",
       "                                                  Pipeline(steps=[('scalar',\n",
       "                                                                   StandardScaler())]),\n",
       "                                                  ['RIDAGEYR', 'BMXWT', 'BMXHT',\n",
       "                                                   'BPXPLS', 'Systolic',\n",
       "                                                   'Diastolic', 'ALQ120Q',\n",
       "                                                   'ALQ130', 'MET_rec',\n",
       "                                                   'DR1TKCAL_t', 'DR1TPROT_t',\n",
       "                                                   'DR1TCARB_t', 'DR1TSUGR_t',\n",
       "                                                   'DR1TFIBE_t', 'DR1TTFAT_t',\n",
       "                                                   'DR1TSFAT_t', 'DR1TMFAT_t',\n",
       "                                                   'DR1TPFAT_t', 'DR1TCHOL_t',\n",
       "                                                   'DR1TSODI_t', 'DR1TVD_t',\n",
       "                                                   'DR1TCALC_t', 'DR1TIRON_t',\n",
       "                                                   'DR1TPOTA_t']),\n",
       "                                                 ('cat',\n",
       "                                                  Pipeline(steps=[('one_hot',\n",
       "                                                                   OneHotEncoder(handle_unknown='ignore'))]),\n",
       "                                                  ['RIAGENDR', 'RIDRETH3',\n",
       "                                                   'ALQ120U', 'BPQ020',\n",
       "                                                   'BPQ050A', 'BPQ080',\n",
       "                                                   'BPQ100D', 'DIQ010',\n",
       "                                                   'MCQ170M', 'SMQ681'])])),\n",
       "                ('mlp',\n",
       "                 <keras.wrappers.scikit_learn.KerasRegressor object at 0x0000022009B86280>)])"
      ]
     },
     "execution_count": 9,
     "metadata": {},
     "output_type": "execute_result"
    }
   ],
   "source": [
    "pipeline.fit(X_train,y_train)"
   ]
  },
  {
   "cell_type": "code",
   "execution_count": 10,
   "id": "72069f32",
   "metadata": {},
   "outputs": [
    {
     "name": "stdout",
     "output_type": "stream",
     "text": [
      "568/568 - 1s\n"
     ]
    }
   ],
   "source": [
    "y_preds = pipeline.predict(X_train)"
   ]
  },
  {
   "cell_type": "code",
   "execution_count": 11,
   "id": "87fdb9fd",
   "metadata": {},
   "outputs": [
    {
     "data": {
      "text/plain": [
       "-0.10581282888256327"
      ]
     },
     "execution_count": 11,
     "metadata": {},
     "output_type": "execute_result"
    }
   ],
   "source": [
    " r2_score(y_train,y_preds)"
   ]
  },
  {
   "cell_type": "code",
   "execution_count": 12,
   "id": "672ebf47",
   "metadata": {},
   "outputs": [
    {
     "data": {
      "text/plain": [
       "[<matplotlib.lines.Line2D at 0x22011628160>]"
      ]
     },
     "execution_count": 12,
     "metadata": {},
     "output_type": "execute_result"
    },
    {
     "data": {
      "image/png": "[encoded data removed]",
      "text/plain": [
       "<Figure size 432x288 with 1 Axes>"
      ]
     },
     "metadata": {
      "needs_background": "light"
     },
     "output_type": "display_data"
    }
   ],
   "source": [
    "plt.scatter(y_train, y_preds)\n",
    "plt.plot(y_train, y_train, color=\"red\")"
   ]
  },
  {
   "cell_type": "code",
   "execution_count": null,
   "id": "f9eec8db",
   "metadata": {},
   "outputs": [],
   "source": []
  }
 ],
 "metadata": {
  "kernelspec": {
   "display_name": "Python 3",
   "language": "python",
   "name": "python3"
  },
  "language_info": {
   "codemirror_mode": {
    "name": "ipython",
    "version": 3
   },
   "file_extension": ".py",
   "mimetype": "text/x-python",
   "name": "python",
   "nbconvert_exporter": "python",
   "pygments_lexer": "ipython3",
   "version": "3.9.5"
  }
 },
 "nbformat": 4,
 "nbformat_minor": 5
}
