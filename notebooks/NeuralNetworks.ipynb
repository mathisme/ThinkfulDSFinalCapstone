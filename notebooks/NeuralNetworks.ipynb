{
 "cells": [
  {
   "cell_type": "code",
   "execution_count": 1,
   "id": "a7ea5e39",
   "metadata": {},
   "outputs": [],
   "source": [
    "import numpy as np\n",
    "import pandas as pd\n",
    "import matplotlib.pyplot as plt\n",
    "import seaborn as sns\n",
    "from tensorflow.keras.models import Sequential \n",
    "from tensorflow.keras.layers import Dense, LeakyReLU, Dropout, BatchNormalization\n",
    "from tensorflow.keras import optimizers\n",
    "from sklearn.model_selection import train_test_split\n",
    "from keras.wrappers.scikit_learn import KerasRegressor\n",
    "from sklearn.model_selection import cross_val_score\n",
    "from sklearn.pipeline import Pipeline\n",
    "from sklearn.compose import ColumnTransformer\n",
    "from sklearn.preprocessing import OneHotEncoder, StandardScaler\n",
    "from sklearn.metrics import mean_absolute_error, mean_squared_error"
   ]
  },
  {
   "cell_type": "code",
   "execution_count": 2,
   "id": "c74bb0d7",
   "metadata": {},
   "outputs": [],
   "source": [
    "df = pd.read_csv('../Data/df_transformed.csv')\n",
    "df.drop('Unnamed: 0',axis=1,inplace=True)"
   ]
  },
  {
   "cell_type": "code",
   "execution_count": 3,
   "id": "3448215b",
   "metadata": {},
   "outputs": [
    {
     "data": {
      "text/plain": [
       "Index(['LBXTC', 'RIAGENDR', 'RIDRETH3', 'RIDAGEYR', 'BMXWT', 'BMXHT', 'BMXBMI',\n",
       "       'BPXPLS', 'BPXPULS', 'DR1TKCAL', 'DR1TPROT', 'DR1TCARB', 'DR1TSUGR',\n",
       "       'DR1TFIBE', 'DR1TTFAT', 'DR1TSFAT', 'DR1TMFAT', 'DR1TPFAT', 'DR1TCHOL',\n",
       "       'DR1TSODI', 'DR1TVD', 'DR1TCALC', 'DR1TIRON', 'DR1TPOTA', 'DR1_300',\n",
       "       'ALQ120Q', 'ALQ120U', 'ALQ130', 'BPQ020', 'BPQ050A', 'BPQ080',\n",
       "       'BPQ100D', 'DIQ010', 'MCQ170M', 'SMQ681', 'PAQ610', 'PAD615', 'PAQ625',\n",
       "       'PAD630', 'PAQ655', 'PAD660', 'PAQ670', 'PAD675', 'Systolic',\n",
       "       'Diastolic', 'outlier', 'MET_work', 'MET_rec', 'DR1TKCAL_t',\n",
       "       'DR1TPROT_t', 'DR1TCARB_t', 'DR1TSUGR_t', 'DR1TFIBE_t', 'DR1TTFAT_t',\n",
       "       'DR1TSFAT_t', 'DR1TMFAT_t', 'DR1TPFAT_t', 'DR1TCHOL_t', 'DR1TSODI_t',\n",
       "       'DR1TVD_t', 'DR1TCALC_t', 'DR1TIRON_t', 'DR1TPOTA_t', 'avgALC',\n",
       "       'log_LBXTC'],\n",
       "      dtype='object')"
      ]
     },
     "execution_count": 3,
     "metadata": {},
     "output_type": "execute_result"
    }
   ],
   "source": [
    "df.columns"
   ]
  },
  {
   "cell_type": "code",
   "execution_count": 4,
   "id": "7f1acfa0",
   "metadata": {},
   "outputs": [
    {
     "data": {
      "text/plain": [
       "(3551, 35)"
      ]
     },
     "execution_count": 4,
     "metadata": {},
     "output_type": "execute_result"
    }
   ],
   "source": [
    "\n",
    "cat_variables = ['RIAGENDR','RIDRETH3','ALQ120U','BPQ020', 'BPQ050A', 'BPQ080',\n",
    "       'BPQ100D', 'DIQ010', 'MCQ170M', 'SMQ681']\n",
    "numeric_variables = ['RIDAGEYR','BMXWT', 'BMXHT','BPXPLS','Systolic',\n",
    "       'Diastolic', 'ALQ120Q','ALQ130', 'MET_rec', 'DR1TKCAL_t',\n",
    "       'DR1TPROT_t', 'DR1TCARB_t', 'DR1TSUGR_t', 'DR1TFIBE_t', 'DR1TTFAT_t',\n",
    "       'DR1TSFAT_t', 'DR1TMFAT_t', 'DR1TPFAT_t', 'DR1TCHOL_t', 'DR1TSODI_t',\n",
    "       'DR1TVD_t', 'DR1TCALC_t', 'DR1TIRON_t', 'DR1TPOTA_t']\n",
    "df2 = df[cat_variables+numeric_variables+['LBXTC']].copy()\n",
    "df2.dropna(inplace=True)\n",
    "df2.shape"
   ]
  },
  {
   "cell_type": "code",
   "execution_count": 5,
   "id": "528202b1",
   "metadata": {},
   "outputs": [],
   "source": [
    "y = df2['LBXTC']\n",
    "X = df2.drop('LBXTC',axis=1)"
   ]
  },
  {
   "cell_type": "code",
   "execution_count": 6,
   "id": "9e237bf7",
   "metadata": {},
   "outputs": [],
   "source": [
    "X_train, X_test, y_train, y_test = train_test_split(X, y, random_state=675, test_size=0.2)"
   ]
  },
  {
   "cell_type": "code",
   "execution_count": 7,
   "id": "06def33f",
   "metadata": {},
   "outputs": [],
   "source": [
    "def build_model():\n",
    "    model = Sequential([\n",
    "        Dense(1024, activation='relu'),\n",
    "        Dropout(0.3),\n",
    "        BatchNormalization(),\n",
    "        Dense(1024, activation='relu'),\n",
    "        Dropout(0.3),\n",
    "        BatchNormalization(),\n",
    "        Dense(1024, activation='relu'),\n",
    "        Dropout(0.3),\n",
    "        BatchNormalization(),\n",
    "        Dense(1),\n",
    "    ])\n",
    "    model.compile(loss='mean_squared_error', optimizer='adam')\n",
    "    return model"
   ]
  },
  {
   "cell_type": "code",
   "execution_count": 8,
   "id": "165867a1",
   "metadata": {},
   "outputs": [],
   "source": [
    "numeric_transformer = Pipeline(steps=[('scalar',StandardScaler())])\n",
    "cat_transformer = Pipeline(steps=[('one_hot',OneHotEncoder(handle_unknown='ignore'))])\n",
    "preprocessor = ColumnTransformer(transformers=[\n",
    "    ('num',numeric_transformer,numeric_variables),\n",
    "    ('cat',cat_transformer,cat_variables)])\n",
    "pipeline = Pipeline(steps=[('preprocessor',preprocessor),\n",
    "                          ('mlp', KerasRegressor(build_fn=build_model, epochs=25, batch_size=5, verbose=2))])"
   ]
  },
  {
   "cell_type": "code",
   "execution_count": 9,
   "id": "ff5a4141",
   "metadata": {},
   "outputs": [
    {
     "name": "stdout",
     "output_type": "stream",
     "text": [
      "Epoch 1/25\n",
      "455/455 - 4s - loss: 18552.1074\n",
      "Epoch 2/25\n",
      "455/455 - 4s - loss: 1818.9943\n",
      "Epoch 3/25\n",
      "455/455 - 4s - loss: 1748.8116\n",
      "Epoch 4/25\n",
      "455/455 - 4s - loss: 1790.6599\n",
      "Epoch 5/25\n",
      "455/455 - 4s - loss: 1698.1521\n",
      "Epoch 6/25\n",
      "455/455 - 4s - loss: 1718.2839\n",
      "Epoch 7/25\n",
      "455/455 - 4s - loss: 1693.8547\n",
      "Epoch 8/25\n",
      "455/455 - 4s - loss: 1677.3573\n",
      "Epoch 9/25\n",
      "455/455 - 4s - loss: 1688.6307\n",
      "Epoch 10/25\n",
      "455/455 - 4s - loss: 1642.0258\n",
      "Epoch 11/25\n",
      "455/455 - 4s - loss: 1672.3744\n",
      "Epoch 12/25\n",
      "455/455 - 4s - loss: 1675.6200\n",
      "Epoch 13/25\n",
      "455/455 - 4s - loss: 1658.1377\n",
      "Epoch 14/25\n",
      "455/455 - 4s - loss: 1632.1000\n",
      "Epoch 15/25\n",
      "455/455 - 4s - loss: 1627.8499\n",
      "Epoch 16/25\n",
      "455/455 - 4s - loss: 1609.5050\n",
      "Epoch 17/25\n",
      "455/455 - 4s - loss: 1655.6965\n",
      "Epoch 18/25\n",
      "455/455 - 4s - loss: 1631.1537\n",
      "Epoch 19/25\n",
      "455/455 - 4s - loss: 1608.7417\n",
      "Epoch 20/25\n",
      "455/455 - 4s - loss: 1618.0637\n",
      "Epoch 21/25\n",
      "455/455 - 4s - loss: 1627.2108\n",
      "Epoch 22/25\n",
      "455/455 - 4s - loss: 1572.5149\n",
      "Epoch 23/25\n",
      "455/455 - 4s - loss: 1583.9478\n",
      "Epoch 24/25\n",
      "455/455 - 4s - loss: 1573.9816\n",
      "Epoch 25/25\n",
      "455/455 - 4s - loss: 1608.1267\n",
      "114/114 - 0s\n",
      "Epoch 1/25\n",
      "455/455 - 5s - loss: 18969.6152\n",
      "Epoch 2/25\n",
      "455/455 - 4s - loss: 1799.1556\n",
      "Epoch 3/25\n",
      "455/455 - 4s - loss: 1712.6986\n",
      "Epoch 4/25\n",
      "455/455 - 4s - loss: 1703.8500\n",
      "Epoch 5/25\n",
      "455/455 - 4s - loss: 1628.8879\n",
      "Epoch 6/25\n",
      "455/455 - 4s - loss: 1640.0643\n",
      "Epoch 7/25\n",
      "455/455 - 4s - loss: 1637.3875\n",
      "Epoch 8/25\n",
      "455/455 - 4s - loss: 1616.2570\n",
      "Epoch 9/25\n",
      "455/455 - 4s - loss: 1609.6422\n",
      "Epoch 10/25\n",
      "455/455 - 4s - loss: 1571.8444\n",
      "Epoch 11/25\n",
      "455/455 - 4s - loss: 1594.3689\n",
      "Epoch 12/25\n",
      "455/455 - 4s - loss: 1573.4615\n",
      "Epoch 13/25\n",
      "455/455 - 4s - loss: 1574.7521\n",
      "Epoch 14/25\n",
      "455/455 - 4s - loss: 1556.2386\n",
      "Epoch 15/25\n",
      "455/455 - 4s - loss: 1535.5916\n",
      "Epoch 16/25\n",
      "455/455 - 4s - loss: 1567.8710\n",
      "Epoch 17/25\n",
      "455/455 - 4s - loss: 1585.4941\n",
      "Epoch 18/25\n",
      "455/455 - 4s - loss: 1555.1245\n",
      "Epoch 19/25\n",
      "455/455 - 4s - loss: 1524.6434\n",
      "Epoch 20/25\n",
      "455/455 - 4s - loss: 1511.5527\n",
      "Epoch 21/25\n",
      "455/455 - 4s - loss: 1515.6503\n",
      "Epoch 22/25\n",
      "455/455 - 4s - loss: 1499.4122\n",
      "Epoch 23/25\n",
      "455/455 - 4s - loss: 1505.6378\n",
      "Epoch 24/25\n",
      "455/455 - 4s - loss: 1494.9137\n",
      "Epoch 25/25\n",
      "455/455 - 4s - loss: 1444.7742\n",
      "114/114 - 0s\n",
      "Epoch 1/25\n",
      "455/455 - 5s - loss: 18613.2734\n",
      "Epoch 2/25\n",
      "455/455 - 4s - loss: 1793.1873\n",
      "Epoch 3/25\n",
      "455/455 - 4s - loss: 1711.2585\n",
      "Epoch 4/25\n",
      "455/455 - 4s - loss: 1680.9309\n",
      "Epoch 5/25\n",
      "455/455 - 4s - loss: 1663.9180\n",
      "Epoch 6/25\n",
      "455/455 - 4s - loss: 1619.6023\n",
      "Epoch 7/25\n",
      "455/455 - 4s - loss: 1676.9357\n",
      "Epoch 8/25\n",
      "455/455 - 4s - loss: 1698.0426\n",
      "Epoch 9/25\n",
      "455/455 - 4s - loss: 1630.9537\n",
      "Epoch 10/25\n",
      "455/455 - 4s - loss: 1627.0093\n",
      "Epoch 11/25\n",
      "455/455 - 4s - loss: 1604.7164\n",
      "Epoch 12/25\n",
      "455/455 - 4s - loss: 1584.3119\n",
      "Epoch 13/25\n",
      "455/455 - 4s - loss: 1588.7587\n",
      "Epoch 14/25\n",
      "455/455 - 4s - loss: 1588.5582\n",
      "Epoch 15/25\n",
      "455/455 - 4s - loss: 1597.7794\n",
      "Epoch 16/25\n",
      "455/455 - 4s - loss: 1619.0137\n",
      "Epoch 17/25\n",
      "455/455 - 4s - loss: 1616.8395\n",
      "Epoch 18/25\n",
      "455/455 - 4s - loss: 1575.4825\n",
      "Epoch 19/25\n",
      "455/455 - 4s - loss: 1581.9539\n",
      "Epoch 20/25\n",
      "455/455 - 4s - loss: 1554.5759\n",
      "Epoch 21/25\n",
      "455/455 - 4s - loss: 1522.4672\n",
      "Epoch 22/25\n",
      "455/455 - 4s - loss: 1549.3557\n",
      "Epoch 23/25\n",
      "455/455 - 4s - loss: 1546.0094\n",
      "Epoch 24/25\n",
      "455/455 - 4s - loss: 1532.8160\n",
      "Epoch 25/25\n",
      "455/455 - 4s - loss: 1486.5284\n",
      "114/114 - 0s\n",
      "Epoch 1/25\n",
      "455/455 - 5s - loss: 18507.6680\n",
      "Epoch 2/25\n",
      "455/455 - 4s - loss: 1753.9716\n",
      "Epoch 3/25\n",
      "455/455 - 5s - loss: 1732.8135\n",
      "Epoch 4/25\n",
      "455/455 - 4s - loss: 1700.7400\n",
      "Epoch 5/25\n",
      "455/455 - 4s - loss: 1670.2916\n",
      "Epoch 6/25\n",
      "455/455 - 4s - loss: 1665.5514\n",
      "Epoch 7/25\n",
      "455/455 - 4s - loss: 1656.8267\n",
      "Epoch 8/25\n",
      "455/455 - 4s - loss: 1639.6698\n",
      "Epoch 9/25\n",
      "455/455 - 4s - loss: 1636.9305\n",
      "Epoch 10/25\n",
      "455/455 - 4s - loss: 1615.2722\n",
      "Epoch 11/25\n",
      "455/455 - 4s - loss: 1595.0255\n",
      "Epoch 12/25\n",
      "455/455 - 4s - loss: 1583.8628\n",
      "Epoch 13/25\n",
      "455/455 - 4s - loss: 1585.4768\n",
      "Epoch 14/25\n",
      "455/455 - 4s - loss: 1563.1973\n",
      "Epoch 15/25\n",
      "455/455 - 4s - loss: 1567.5474\n",
      "Epoch 16/25\n",
      "455/455 - 4s - loss: 1542.3932\n",
      "Epoch 17/25\n",
      "455/455 - 4s - loss: 1556.9707\n",
      "Epoch 18/25\n",
      "455/455 - 4s - loss: 1523.0150\n",
      "Epoch 19/25\n",
      "455/455 - 4s - loss: 1552.9423\n",
      "Epoch 20/25\n",
      "455/455 - 4s - loss: 1582.8075\n",
      "Epoch 21/25\n",
      "455/455 - 4s - loss: 1526.0366\n",
      "Epoch 22/25\n",
      "455/455 - 4s - loss: 1520.2777\n",
      "Epoch 23/25\n",
      "455/455 - 4s - loss: 1478.7859\n",
      "Epoch 24/25\n",
      "455/455 - 4s - loss: 1505.5250\n",
      "Epoch 25/25\n",
      "455/455 - 4s - loss: 1506.0173\n",
      "114/114 - 0s\n",
      "Epoch 1/25\n",
      "455/455 - 5s - loss: 19102.6348\n",
      "Epoch 2/25\n",
      "455/455 - 4s - loss: 1887.9965\n",
      "Epoch 3/25\n",
      "455/455 - 4s - loss: 1780.6233\n",
      "Epoch 4/25\n",
      "455/455 - 4s - loss: 1760.3494\n",
      "Epoch 5/25\n",
      "455/455 - 4s - loss: 1692.1361\n",
      "Epoch 6/25\n",
      "455/455 - 4s - loss: 1763.5311\n",
      "Epoch 7/25\n",
      "455/455 - 4s - loss: 1725.4075\n",
      "Epoch 8/25\n",
      "455/455 - 4s - loss: 1679.2992\n",
      "Epoch 9/25\n",
      "455/455 - 4s - loss: 1693.0217\n",
      "Epoch 10/25\n",
      "455/455 - 4s - loss: 1686.8333\n",
      "Epoch 11/25\n",
      "455/455 - 4s - loss: 1647.2490\n",
      "Epoch 12/25\n",
      "455/455 - 4s - loss: 1670.8448\n",
      "Epoch 13/25\n",
      "455/455 - 4s - loss: 1675.9832\n",
      "Epoch 14/25\n",
      "455/455 - 4s - loss: 1633.2506\n",
      "Epoch 15/25\n",
      "455/455 - 4s - loss: 1678.9482\n",
      "Epoch 16/25\n",
      "455/455 - 4s - loss: 1607.8402\n",
      "Epoch 17/25\n",
      "455/455 - 4s - loss: 1628.9210\n",
      "Epoch 18/25\n",
      "455/455 - 4s - loss: 1625.2839\n",
      "Epoch 19/25\n",
      "455/455 - 4s - loss: 1608.0782\n",
      "Epoch 20/25\n",
      "455/455 - 4s - loss: 1602.8889\n",
      "Epoch 21/25\n",
      "455/455 - 4s - loss: 1628.9984\n",
      "Epoch 22/25\n",
      "455/455 - 4s - loss: 1606.6570\n",
      "Epoch 23/25\n",
      "455/455 - 4s - loss: 1564.6674\n",
      "Epoch 24/25\n",
      "455/455 - 4s - loss: 1587.5861\n",
      "Epoch 25/25\n",
      "455/455 - 5s - loss: 1581.0848\n",
      "114/114 - 0s\n"
     ]
    }
   ],
   "source": [
    "results = cross_val_score(pipeline, X_train, y_train, scoring='neg_mean_absolute_error')"
   ]
  },
  {
   "cell_type": "code",
   "execution_count": 10,
   "id": "fecf6a41",
   "metadata": {},
   "outputs": [
    {
     "name": "stdout",
     "output_type": "stream",
     "text": [
      "-35.140458541352984 3.392359774114834\n"
     ]
    }
   ],
   "source": [
    "print(results.mean(),results.std())"
   ]
  },
  {
   "cell_type": "code",
   "execution_count": 11,
   "id": "6d83b02a",
   "metadata": {},
   "outputs": [
    {
     "name": "stdout",
     "output_type": "stream",
     "text": [
      "Epoch 1/25\n",
      "568/568 - 6s - loss: 14932.9902\n",
      "Epoch 2/25\n",
      "568/568 - 5s - loss: 1774.8647\n",
      "Epoch 3/25\n",
      "568/568 - 5s - loss: 1709.6311\n",
      "Epoch 4/25\n",
      "568/568 - 5s - loss: 1737.3495\n",
      "Epoch 5/25\n",
      "568/568 - 5s - loss: 1681.1997\n",
      "Epoch 6/25\n",
      "568/568 - 5s - loss: 1679.2644\n",
      "Epoch 7/25\n",
      "568/568 - 5s - loss: 1669.3114\n",
      "Epoch 8/25\n",
      "568/568 - 5s - loss: 1625.9613\n",
      "Epoch 9/25\n",
      "568/568 - 6s - loss: 1643.1769\n",
      "Epoch 10/25\n",
      "568/568 - 5s - loss: 1622.9630\n",
      "Epoch 11/25\n",
      "568/568 - 5s - loss: 1616.8022\n",
      "Epoch 12/25\n",
      "568/568 - 5s - loss: 1636.3607\n",
      "Epoch 13/25\n",
      "568/568 - 5s - loss: 1596.3256\n",
      "Epoch 14/25\n",
      "568/568 - 5s - loss: 1614.8556\n",
      "Epoch 15/25\n",
      "568/568 - 5s - loss: 1596.6655\n",
      "Epoch 16/25\n",
      "568/568 - 5s - loss: 1625.9697\n",
      "Epoch 17/25\n",
      "568/568 - 5s - loss: 1587.7891\n",
      "Epoch 18/25\n",
      "568/568 - 5s - loss: 1587.0688\n",
      "Epoch 19/25\n",
      "568/568 - 5s - loss: 1586.4379\n",
      "Epoch 20/25\n",
      "568/568 - 5s - loss: 1587.8749\n",
      "Epoch 21/25\n",
      "568/568 - 5s - loss: 1579.6738\n",
      "Epoch 22/25\n",
      "568/568 - 5s - loss: 1581.9380\n",
      "Epoch 23/25\n",
      "568/568 - 5s - loss: 1572.5021\n",
      "Epoch 24/25\n",
      "568/568 - 5s - loss: 1569.0150\n",
      "Epoch 25/25\n",
      "568/568 - 5s - loss: 1523.9794\n"
     ]
    },
    {
     "data": {
      "text/plain": [
       "Pipeline(steps=[('preprocessor',\n",
       "                 ColumnTransformer(transformers=[('num',\n",
       "                                                  Pipeline(steps=[('scalar',\n",
       "                                                                   StandardScaler())]),\n",
       "                                                  ['RIDAGEYR', 'BMXWT', 'BMXHT',\n",
       "                                                   'BPXPLS', 'Systolic',\n",
       "                                                   'Diastolic', 'ALQ120Q',\n",
       "                                                   'ALQ130', 'MET_rec',\n",
       "                                                   'DR1TKCAL_t', 'DR1TPROT_t',\n",
       "                                                   'DR1TCARB_t', 'DR1TSUGR_t',\n",
       "                                                   'DR1TFIBE_t', 'DR1TTFAT_t',\n",
       "                                                   'DR1TSFAT_t', 'DR1TMFAT_t',\n",
       "                                                   'DR1TPFAT_t', 'DR1TCHOL_t',\n",
       "                                                   'DR1TSODI_t', 'DR1TVD_t',\n",
       "                                                   'DR1TCALC_t', 'DR1TIRON_t',\n",
       "                                                   'DR1TPOTA_t']),\n",
       "                                                 ('cat',\n",
       "                                                  Pipeline(steps=[('one_hot',\n",
       "                                                                   OneHotEncoder(handle_unknown='ignore'))]),\n",
       "                                                  ['RIAGENDR', 'RIDRETH3',\n",
       "                                                   'ALQ120U', 'BPQ020',\n",
       "                                                   'BPQ050A', 'BPQ080',\n",
       "                                                   'BPQ100D', 'DIQ010',\n",
       "                                                   'MCQ170M', 'SMQ681'])])),\n",
       "                ('mlp',\n",
       "                 <keras.wrappers.scikit_learn.KerasRegressor object at 0x000001934674F970>)])"
      ]
     },
     "execution_count": 11,
     "metadata": {},
     "output_type": "execute_result"
    }
   ],
   "source": [
    "pipeline.fit(X_train,y_train)"
   ]
  },
  {
   "cell_type": "code",
   "execution_count": 12,
   "id": "72069f32",
   "metadata": {},
   "outputs": [
    {
     "name": "stdout",
     "output_type": "stream",
     "text": [
      "568/568 - 1s\n"
     ]
    }
   ],
   "source": [
    "y_preds = pipeline.predict(X_train)"
   ]
  },
  {
   "cell_type": "code",
   "execution_count": 13,
   "id": "87fdb9fd",
   "metadata": {},
   "outputs": [
    {
     "data": {
      "text/plain": [
       "34.3886186828076"
      ]
     },
     "execution_count": 13,
     "metadata": {},
     "output_type": "execute_result"
    }
   ],
   "source": [
    "mean_absolute_error(y_train,y_preds)"
   ]
  },
  {
   "cell_type": "code",
   "execution_count": 14,
   "id": "672ebf47",
   "metadata": {},
   "outputs": [
    {
     "data": {
      "text/plain": [
       "[<matplotlib.lines.Line2D at 0x19346ccff70>]"
      ]
     },
     "execution_count": 14,
     "metadata": {},
     "output_type": "execute_result"
    },
    {
     "data": {
      "image/png": "[encoded data removed]",
      "text/plain": [
       "<Figure size 432x288 with 1 Axes>"
      ]
     },
     "metadata": {
      "needs_background": "light"
     },
     "output_type": "display_data"
    }
   ],
   "source": [
    "plt.scatter(y_train, y_preds)\n",
    "plt.plot(y_train, y_train, color=\"red\")"
   ]
  }
 ],
 "metadata": {
  "kernelspec": {
   "display_name": "Python 3",
   "language": "python",
   "name": "python3"
  },
  "language_info": {
   "codemirror_mode": {
    "name": "ipython",
    "version": 3
   },
   "file_extension": ".py",
   "mimetype": "text/x-python",
   "name": "python",
   "nbconvert_exporter": "python",
   "pygments_lexer": "ipython3",
   "version": "3.9.5"
  }
 },
 "nbformat": 4,
 "nbformat_minor": 5
}
