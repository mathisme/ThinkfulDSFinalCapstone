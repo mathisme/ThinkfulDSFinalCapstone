{
 "cells": [
  {
   "cell_type": "code",
   "execution_count": 1,
   "id": "e0485b45",
   "metadata": {},
   "outputs": [],
   "source": [
    "import pandas as pd\n",
    "import numpy as np\n",
    "from pathlib import Path\n",
    "import matplotlib.pyplot as plt\n",
    "import seaborn as sns\n",
    "from sklearn.cluster import DBSCAN\n",
    "from sklearn.neighbors import NearestNeighbors\n",
    "from sklearn.neighbors import LocalOutlierFactor, KNeighborsRegressor\n",
    "from kneed.knee_locator import KneeLocator\n",
    "from tensorflow.keras.models import Sequential \n",
    "from tensorflow.keras.layers import Dense, LeakyReLU, Dropout, BatchNormalization\n",
    "from tensorflow.keras import optimizers\n",
    "from sklearn.model_selection import train_test_split, GridSearchCV\n",
    "from keras.wrappers.scikit_learn import KerasRegressor\n",
    "from sklearn.model_selection import cross_val_score\n",
    "from sklearn.pipeline import Pipeline\n",
    "from sklearn.compose import ColumnTransformer\n",
    "from sklearn.decomposition import PCA\n",
    "from feature_engine.outliers import Winsorizer\n",
    "from sklearn.preprocessing import OneHotEncoder, MinMaxScaler, FunctionTransformer\n",
    "from sklearn.metrics import mean_absolute_error, mean_squared_error, r2_score\n",
    "from sklearn.linear_model import LinearRegression\n",
    "from feature_engine.outliers import Winsorizer\n",
    "from sklearn.ensemble import RandomForestRegressor\n",
    "from sklearn.svm import SVR\n",
    "from sklearn.tree import DecisionTreeRegressor\n",
    "from sklearn.impute import KNNImputer, SimpleImputer"
   ]
  },
  {
   "cell_type": "markdown",
   "id": "d8c1391a",
   "metadata": {},
   "source": [
    "# Table of Contents"
   ]
  },
  {
   "cell_type": "markdown",
   "id": "8448b0b9",
   "metadata": {},
   "source": [
    "# References\n",
    "\n",
    "move this later\n",
    "\n",
    "1.  https://www.webmd.com/heart-disease/default.htm\n",
    "2.  https://www.webmd.com/cholesterol-management/default.htm"
   ]
  },
  {
   "cell_type": "markdown",
   "id": "12f725c3",
   "metadata": {},
   "source": [
    "# Using NHANES data what is the best predictive model for predicting total cholesterol level?\n"
   ]
  },
  {
   "cell_type": "markdown",
   "id": "e5c74e4c",
   "metadata": {},
   "source": [
    "# Background\n",
    "\n",
    "Heart disease is \"is the leading cause of death for men and women in the U.S.\"1  And, having high cholesterol is a major risk factor for heart disease.2  The goal of my project is to try to use NHANES survey data to predict total cholesterol level.  There are fitness trackers that can track physical activity, pulse, and blood pressure, nutrition apps that can monitor nutrion based on foods eaten.  Combine this along with personal information such as age, weight, and chronic conditions to create a model to predict total cholesterol.  A model that predicts total cholesterol level from health information would be benificial to health apps.  If a fittness/health app can predict total cholesterol level, they can notify the user if their cholesterol level is high, promoting they see a doctor and hence reduce heart disease risk.\n",
    "As someone who has high cholesterol, this is of personal interest to me.\n",
    "\n"
   ]
  },
  {
   "cell_type": "markdown",
   "id": "1e8a56ae",
   "metadata": {},
   "source": [
    "# Data\n",
    "\n",
    "The National Health and Nutrition Examination Survey is a yearly health exam and survey conducted by the CDC to gauge the overall health status of US citizens.  Each survey consists of multiple datasets in SAS format.\n",
    "\n",
    "Each year's dataset contains over 100 files and over 1500 variables.  An example of one years dataset can be found on Kaggle here [https://www.kaggle.com/cdc/national-health-and-nutrition-examination-survey]\n",
    "\n",
    "The data I chose to use comes from the 2013-2016 surveys.  Prior and posterior to those years, some variables changed which would make it difficult to combine the data.\n",
    "\n",
    "The list of vaariables I chose to include for modeling can be seen below."
   ]
  },
  {
   "cell_type": "code",
   "execution_count": 2,
   "id": "1601911c",
   "metadata": {},
   "outputs": [
    {
     "data": {
      "text/html": [
       "<div>\n",
       "<style scoped>\n",
       "    .dataframe tbody tr th:only-of-type {\n",
       "        vertical-align: middle;\n",
       "    }\n",
       "\n",
       "    .dataframe tbody tr th {\n",
       "        vertical-align: top;\n",
       "    }\n",
       "\n",
       "    .dataframe thead th {\n",
       "        text-align: right;\n",
       "    }\n",
       "</style>\n",
       "<table border=\"1\" class=\"dataframe\">\n",
       "  <thead>\n",
       "    <tr style=\"text-align: right;\">\n",
       "      <th></th>\n",
       "      <th>Dataset_Description</th>\n",
       "      <th>Variable_Name</th>\n",
       "      <th>Variable_Description</th>\n",
       "    </tr>\n",
       "  </thead>\n",
       "  <tbody>\n",
       "    <tr>\n",
       "      <th>0</th>\n",
       "      <td>LabCholesterolTotal</td>\n",
       "      <td>SEQN</td>\n",
       "      <td>Participant Identification Number</td>\n",
       "    </tr>\n",
       "    <tr>\n",
       "      <th>1</th>\n",
       "      <td>LabCholesterolTotal</td>\n",
       "      <td>LBXTC</td>\n",
       "      <td>Total Cholesterol Level</td>\n",
       "    </tr>\n",
       "    <tr>\n",
       "      <th>2</th>\n",
       "      <td>FastingQuestionairre</td>\n",
       "      <td>PHAFSTHR</td>\n",
       "      <td>Hours Fasted for labs</td>\n",
       "    </tr>\n",
       "    <tr>\n",
       "      <th>3</th>\n",
       "      <td>Demographics</td>\n",
       "      <td>RIAGENDR</td>\n",
       "      <td>Gender</td>\n",
       "    </tr>\n",
       "    <tr>\n",
       "      <th>4</th>\n",
       "      <td>Demographics</td>\n",
       "      <td>RIDRETH3</td>\n",
       "      <td>Race</td>\n",
       "    </tr>\n",
       "    <tr>\n",
       "      <th>...</th>\n",
       "      <td>...</td>\n",
       "      <td>...</td>\n",
       "      <td>...</td>\n",
       "    </tr>\n",
       "    <tr>\n",
       "      <th>58</th>\n",
       "      <td>AlcoholUse</td>\n",
       "      <td>ALQ101</td>\n",
       "      <td>Had at least 12 drinks in the past year</td>\n",
       "    </tr>\n",
       "    <tr>\n",
       "      <th>59</th>\n",
       "      <td>AlcoholUse</td>\n",
       "      <td>ALQ110</td>\n",
       "      <td>Had at least 12 drinks in your lifetime</td>\n",
       "    </tr>\n",
       "    <tr>\n",
       "      <th>60</th>\n",
       "      <td>AlcoholUse</td>\n",
       "      <td>ALQ120Q</td>\n",
       "      <td>Number of drinks in the past twelve months</td>\n",
       "    </tr>\n",
       "    <tr>\n",
       "      <th>61</th>\n",
       "      <td>AlcoholUse</td>\n",
       "      <td>ALQ120U</td>\n",
       "      <td>Unit for number of drinks</td>\n",
       "    </tr>\n",
       "    <tr>\n",
       "      <th>62</th>\n",
       "      <td>AlcoholUse</td>\n",
       "      <td>ALQ130</td>\n",
       "      <td>How many drinks per day</td>\n",
       "    </tr>\n",
       "  </tbody>\n",
       "</table>\n",
       "<p>63 rows × 3 columns</p>\n",
       "</div>"
      ],
      "text/plain": [
       "     Dataset_Description Variable_Name  \\\n",
       "0    LabCholesterolTotal          SEQN   \n",
       "1    LabCholesterolTotal         LBXTC   \n",
       "2   FastingQuestionairre      PHAFSTHR   \n",
       "3           Demographics      RIAGENDR   \n",
       "4           Demographics      RIDRETH3   \n",
       "..                   ...           ...   \n",
       "58            AlcoholUse        ALQ101   \n",
       "59            AlcoholUse        ALQ110   \n",
       "60            AlcoholUse       ALQ120Q   \n",
       "61            AlcoholUse       ALQ120U   \n",
       "62            AlcoholUse        ALQ130   \n",
       "\n",
       "                          Variable_Description  \n",
       "0            Participant Identification Number  \n",
       "1                      Total Cholesterol Level  \n",
       "2                        Hours Fasted for labs  \n",
       "3                                       Gender  \n",
       "4                                         Race  \n",
       "..                                         ...  \n",
       "58     Had at least 12 drinks in the past year  \n",
       "59     Had at least 12 drinks in your lifetime  \n",
       "60  Number of drinks in the past twelve months  \n",
       "61                   Unit for number of drinks  \n",
       "62                     How many drinks per day  \n",
       "\n",
       "[63 rows x 3 columns]"
      ]
     },
     "execution_count": 2,
     "metadata": {},
     "output_type": "execute_result"
    }
   ],
   "source": [
    "variables = pd.read_csv('variables.csv')\n",
    "variables"
   ]
  },
  {
   "cell_type": "markdown",
   "id": "3cdd3a64",
   "metadata": {},
   "source": [
    "\n",
    "\n",
    "The reasons for chosing these variables are...\n",
    "\n",
    "## notes\n",
    "later want to say you only used first day nutrition\n",
    "may want to change variables to only include recreation info and say why you only used recreational activity info"
   ]
  },
  {
   "cell_type": "code",
   "execution_count": 3,
   "id": "d0f383d3",
   "metadata": {},
   "outputs": [
    {
     "data": {
      "text/html": [
       "<div>\n",
       "<style scoped>\n",
       "    .dataframe tbody tr th:only-of-type {\n",
       "        vertical-align: middle;\n",
       "    }\n",
       "\n",
       "    .dataframe tbody tr th {\n",
       "        vertical-align: top;\n",
       "    }\n",
       "\n",
       "    .dataframe thead th {\n",
       "        text-align: right;\n",
       "    }\n",
       "</style>\n",
       "<table border=\"1\" class=\"dataframe\">\n",
       "  <thead>\n",
       "    <tr style=\"text-align: right;\">\n",
       "      <th></th>\n",
       "      <th>LBXTC</th>\n",
       "      <th>PHAFSTHR</th>\n",
       "      <th>RIAGENDR</th>\n",
       "      <th>RIDRETH3</th>\n",
       "      <th>RIDAGEYR</th>\n",
       "      <th>BMXWT</th>\n",
       "      <th>BMXHT</th>\n",
       "      <th>BMXBMI</th>\n",
       "      <th>BPXSY1</th>\n",
       "      <th>BPXSY2</th>\n",
       "      <th>...</th>\n",
       "      <th>PAQ620</th>\n",
       "      <th>PAQ625</th>\n",
       "      <th>PAD630</th>\n",
       "      <th>PAQ650</th>\n",
       "      <th>PAQ655</th>\n",
       "      <th>PAD660</th>\n",
       "      <th>PAQ665</th>\n",
       "      <th>PAQ670</th>\n",
       "      <th>PAD675</th>\n",
       "      <th>KIQ022</th>\n",
       "    </tr>\n",
       "  </thead>\n",
       "  <tbody>\n",
       "    <tr>\n",
       "      <th>0</th>\n",
       "      <td>173.0</td>\n",
       "      <td>3.0</td>\n",
       "      <td>1.0</td>\n",
       "      <td>3.0</td>\n",
       "      <td>62.0</td>\n",
       "      <td>94.8</td>\n",
       "      <td>184.5</td>\n",
       "      <td>27.8</td>\n",
       "      <td>128.0</td>\n",
       "      <td>124.0</td>\n",
       "      <td>...</td>\n",
       "      <td>1.0</td>\n",
       "      <td>5.0</td>\n",
       "      <td>10.0</td>\n",
       "      <td>2.0</td>\n",
       "      <td>NaN</td>\n",
       "      <td>NaN</td>\n",
       "      <td>1.0</td>\n",
       "      <td>6.0</td>\n",
       "      <td>30.0</td>\n",
       "      <td>NaN</td>\n",
       "    </tr>\n",
       "    <tr>\n",
       "      <th>1</th>\n",
       "      <td>265.0</td>\n",
       "      <td>12.0</td>\n",
       "      <td>1.0</td>\n",
       "      <td>3.0</td>\n",
       "      <td>53.0</td>\n",
       "      <td>90.4</td>\n",
       "      <td>171.4</td>\n",
       "      <td>30.8</td>\n",
       "      <td>146.0</td>\n",
       "      <td>140.0</td>\n",
       "      <td>...</td>\n",
       "      <td>2.0</td>\n",
       "      <td>NaN</td>\n",
       "      <td>NaN</td>\n",
       "      <td>2.0</td>\n",
       "      <td>NaN</td>\n",
       "      <td>NaN</td>\n",
       "      <td>2.0</td>\n",
       "      <td>NaN</td>\n",
       "      <td>NaN</td>\n",
       "      <td>NaN</td>\n",
       "    </tr>\n",
       "    <tr>\n",
       "      <th>2</th>\n",
       "      <td>229.0</td>\n",
       "      <td>10.0</td>\n",
       "      <td>1.0</td>\n",
       "      <td>3.0</td>\n",
       "      <td>78.0</td>\n",
       "      <td>83.4</td>\n",
       "      <td>170.1</td>\n",
       "      <td>28.8</td>\n",
       "      <td>138.0</td>\n",
       "      <td>132.0</td>\n",
       "      <td>...</td>\n",
       "      <td>1.0</td>\n",
       "      <td>4.0</td>\n",
       "      <td>240.0</td>\n",
       "      <td>2.0</td>\n",
       "      <td>NaN</td>\n",
       "      <td>NaN</td>\n",
       "      <td>2.0</td>\n",
       "      <td>NaN</td>\n",
       "      <td>NaN</td>\n",
       "      <td>NaN</td>\n",
       "    </tr>\n",
       "    <tr>\n",
       "      <th>3</th>\n",
       "      <td>174.0</td>\n",
       "      <td>2.0</td>\n",
       "      <td>2.0</td>\n",
       "      <td>3.0</td>\n",
       "      <td>56.0</td>\n",
       "      <td>109.8</td>\n",
       "      <td>160.9</td>\n",
       "      <td>42.4</td>\n",
       "      <td>132.0</td>\n",
       "      <td>134.0</td>\n",
       "      <td>...</td>\n",
       "      <td>1.0</td>\n",
       "      <td>5.0</td>\n",
       "      <td>90.0</td>\n",
       "      <td>2.0</td>\n",
       "      <td>NaN</td>\n",
       "      <td>NaN</td>\n",
       "      <td>2.0</td>\n",
       "      <td>NaN</td>\n",
       "      <td>NaN</td>\n",
       "      <td>NaN</td>\n",
       "    </tr>\n",
       "    <tr>\n",
       "      <th>4</th>\n",
       "      <td>204.0</td>\n",
       "      <td>10.0</td>\n",
       "      <td>2.0</td>\n",
       "      <td>4.0</td>\n",
       "      <td>42.0</td>\n",
       "      <td>55.2</td>\n",
       "      <td>164.9</td>\n",
       "      <td>20.3</td>\n",
       "      <td>100.0</td>\n",
       "      <td>114.0</td>\n",
       "      <td>...</td>\n",
       "      <td>1.0</td>\n",
       "      <td>7.0</td>\n",
       "      <td>480.0</td>\n",
       "      <td>2.0</td>\n",
       "      <td>NaN</td>\n",
       "      <td>NaN</td>\n",
       "      <td>2.0</td>\n",
       "      <td>NaN</td>\n",
       "      <td>NaN</td>\n",
       "      <td>NaN</td>\n",
       "    </tr>\n",
       "  </tbody>\n",
       "</table>\n",
       "<p>5 rows × 62 columns</p>\n",
       "</div>"
      ],
      "text/plain": [
       "   LBXTC  PHAFSTHR  RIAGENDR  RIDRETH3  RIDAGEYR  BMXWT  BMXHT  BMXBMI  \\\n",
       "0  173.0       3.0       1.0       3.0      62.0   94.8  184.5    27.8   \n",
       "1  265.0      12.0       1.0       3.0      53.0   90.4  171.4    30.8   \n",
       "2  229.0      10.0       1.0       3.0      78.0   83.4  170.1    28.8   \n",
       "3  174.0       2.0       2.0       3.0      56.0  109.8  160.9    42.4   \n",
       "4  204.0      10.0       2.0       4.0      42.0   55.2  164.9    20.3   \n",
       "\n",
       "   BPXSY1  BPXSY2  ...  PAQ620  PAQ625  PAD630  PAQ650  PAQ655  PAD660  \\\n",
       "0   128.0   124.0  ...     1.0     5.0    10.0     2.0     NaN     NaN   \n",
       "1   146.0   140.0  ...     2.0     NaN     NaN     2.0     NaN     NaN   \n",
       "2   138.0   132.0  ...     1.0     4.0   240.0     2.0     NaN     NaN   \n",
       "3   132.0   134.0  ...     1.0     5.0    90.0     2.0     NaN     NaN   \n",
       "4   100.0   114.0  ...     1.0     7.0   480.0     2.0     NaN     NaN   \n",
       "\n",
       "   PAQ665  PAQ670  PAD675  KIQ022  \n",
       "0     1.0     6.0    30.0     NaN  \n",
       "1     2.0     NaN     NaN     NaN  \n",
       "2     2.0     NaN     NaN     NaN  \n",
       "3     2.0     NaN     NaN     NaN  \n",
       "4     2.0     NaN     NaN     NaN  \n",
       "\n",
       "[5 rows x 62 columns]"
      ]
     },
     "execution_count": 3,
     "metadata": {},
     "output_type": "execute_result"
    }
   ],
   "source": [
    "data_path = Path(\"Data/df.csv\")\n",
    "if data_path.is_file():\n",
    "    df = pd.read_csv(\"Data/df.csv\")\n",
    "    df.drop('Unnamed: 0',axis=1,inplace=True)\n",
    "else:\n",
    "    file_list = pd.read_csv('files.csv')\n",
    "    years = file_list.Year.unique()\n",
    "    dfs = [None]*2\n",
    "    for i in range(len(years)):\n",
    "        files = file_list[file_list.Year == years[i]]\n",
    "        first = files[files.Notes==\"read in first\"]\n",
    "        first_path = list(first[\"Path\"])[0]\n",
    "        first_type = list(first[\"Dataset_Description\"])[0]\n",
    "        first_variables = list(variables[variables.Dataset_Description==first_type][\"Variable_Name\"])\n",
    "        df = pd.read_sas(first_path)\n",
    "        df = df[first_variables].copy()\n",
    "        others = files[files.Notes!=\"read in first\"]\n",
    "        for other_path in others[\"Path\"]:\n",
    "            other_type = list(others[others[\"Path\"]==other_path][\"Dataset_Description\"])[0]\n",
    "            temp_df = pd.read_sas(other_path)\n",
    "            other_variables = [\"SEQN\"] + list(variables[variables.Dataset_Description==other_type][\"Variable_Name\"])\n",
    "            temp_df = temp_df[other_variables].copy()\n",
    "            df = df.merge(temp_df, on=\"SEQN\", how=\"left\")\n",
    "        df.drop(\"SEQN\", axis=1, inplace=True)\n",
    "        dfs[i] = df.copy()\n",
    "    df = pd.concat(dfs,ignore_index=True)\n",
    "    df.to_csv(\"Data/df.csv\")\n",
    "df.head()\n"
   ]
  },
  {
   "cell_type": "markdown",
   "id": "4fe0ca43",
   "metadata": {},
   "source": [
    "## Initial data cleaning\n",
    "\n",
    "As we are only interested in those that had their Cholesterol level checked, I'm filtering for those without cholesterol level missing. I am also filtering for those age 20 and those who fasted at least 9 hours. As I do not plan to use fasting time in my model, it will be dropped.\n",
    "\n",
    "# need to explain why for age, fasting, and dropping fasting"
   ]
  },
  {
   "cell_type": "code",
   "execution_count": 4,
   "id": "23c5261d",
   "metadata": {},
   "outputs": [
    {
     "data": {
      "text/plain": [
       "(5003, 61)"
      ]
     },
     "execution_count": 4,
     "metadata": {},
     "output_type": "execute_result"
    }
   ],
   "source": [
    "df=df[(df.LBXTC.notnull())&(df.PHAFSTHR>=9)&(df.RIDAGEYR>=20)].copy()\n",
    "df.drop('PHAFSTHR',axis=1,inplace=True)\n",
    "df.shape"
   ]
  },
  {
   "cell_type": "markdown",
   "id": "18f368b6",
   "metadata": {},
   "source": [
    "Some questions on survey data get skipped given a certain response to a prior question.  For example, if a person has not been diagnosed with high blood pressure, then they will not be asked if they are taking medication for blood pressure.  Because of this there are more missing values than needed.  Before observing the amount of missing data, these missing values will be fixed.\n",
    "\n",
    "Also for survey data, there are answers of do not know or refuse to answer, these will be turned into NaNs."
   ]
  },
  {
   "cell_type": "markdown",
   "id": "47b76039",
   "metadata": {},
   "source": [
    "### Blood Pressure/Cholesterol Questionnaire\n",
    "\n",
    "For those that have never been told they have high blood pressure or high cholesterol I'm setting the taking prescription medication questions to a value of 2, meaning no."
   ]
  },
  {
   "cell_type": "code",
   "execution_count": 5,
   "id": "c87dade5",
   "metadata": {},
   "outputs": [],
   "source": [
    "df.loc[df.BPQ020==2,'BPQ040A']=2\n",
    "df.loc[df.BPQ020==2,'BPQ050A']=2\n",
    "df.loc[df.BPQ020==7,'BPQ020']=np.nan\n",
    "df.loc[df.BPQ020==9,'BPQ020']=np.nan\n",
    "df.loc[df.BPQ020==7,'BPQ040A']=np.nan\n",
    "df.loc[df.BPQ020==7,'BPQ050A']=np.nan\n",
    "df.loc[df.BPQ020==9,'BPQ040A']=np.nan\n",
    "df.loc[df.BPQ020==9,'BPQ050A']=np.nan\n",
    "df.loc[df.BPQ040A==7,'BPQ040A']=np.nan\n",
    "df.loc[df.BPQ040A==7,'BPQ050A']=np.nan\n",
    "df.loc[df.BPQ040A==9,'BPQ040A']=np.nan\n",
    "df.loc[df.BPQ040A==9,'BPQ050A']=np.nan\n",
    "df.loc[df.BPQ050A==7,'BPQ050A']=np.nan\n",
    "df.loc[df.BPQ050A==9,'BPQ050A']=np.nan\n",
    "\n",
    "df.loc[df.BPQ080==2,'BPQ090D']=2\n",
    "df.loc[df.BPQ080==2,'BPQ100D']=2\n",
    "df.loc[df.BPQ080==7,'BPQ080']=np.nan\n",
    "df.loc[df.BPQ080==9,'BPQ080']=np.nan\n",
    "df.loc[df.BPQ080==7,'BPQ090D']=np.nan\n",
    "df.loc[df.BPQ080==7,'BPQ100D']=np.nan\n",
    "df.loc[df.BPQ080==9,'BPQ090D']=np.nan\n",
    "df.loc[df.BPQ080==9,'BPQ100D']=np.nan\n",
    "df.loc[df.BPQ090D==7,'BPQ090D']=np.nan\n",
    "df.loc[df.BPQ090D==7,'BPQ100D']=np.nan\n",
    "df.loc[df.BPQ090D==9,'BPQ090D']=np.nan\n",
    "df.loc[df.BPQ090D==9,'BPQ100D']=np.nan\n",
    "df.loc[df.BPQ100D==7,'BPQ100D']=np.nan\n",
    "df.loc[df.BPQ100D==9,'BPQ100D']=np.nan"
   ]
  },
  {
   "cell_type": "markdown",
   "id": "e160df07",
   "metadata": {},
   "source": [
    "### Diabetes Questionnaire"
   ]
  },
  {
   "cell_type": "code",
   "execution_count": 6,
   "id": "0b7e8f64",
   "metadata": {},
   "outputs": [],
   "source": [
    "# remember this is 1 yes, 2 no, 3 borderline so later you will need to adjust this\n",
    "df.loc[df.DIQ010==7,'DIQ010']=np.nan\n",
    "df.loc[df.DIQ010==9,'DIQ010']=np.nan"
   ]
  },
  {
   "cell_type": "markdown",
   "id": "30fb3aea",
   "metadata": {},
   "source": [
    "### Kidney Conditions Questionnaire"
   ]
  },
  {
   "cell_type": "code",
   "execution_count": 7,
   "id": "5a97c9fb",
   "metadata": {},
   "outputs": [],
   "source": [
    "df.loc[df.KIQ022==7,'KIQ022']=np.nan\n",
    "df.loc[df.KIQ022==9,'KIQ022']=np.nan"
   ]
  },
  {
   "cell_type": "markdown",
   "id": "bd01b976",
   "metadata": {},
   "source": [
    "### Other medical conditions Questionnaire\n",
    "\n",
    "For those that have not been told they have a thyroid problem, they will still not have a thyroid problem. Accordingly I'm setting the value of MCQ170M to 2. \n",
    "For those that refused or don't know, I'm setting the value to nan"
   ]
  },
  {
   "cell_type": "code",
   "execution_count": 8,
   "id": "90e3ae52",
   "metadata": {},
   "outputs": [],
   "source": [
    "df.loc[df.MCQ160M==2,'MCQ170M']=2\n",
    "df.loc[df.MCQ160M==7,'MCQ160M']=np.nan\n",
    "df.loc[df.MCQ160M==7,'MCQ170M']=np.nan\n",
    "df.loc[df.MCQ160M==9,'MCQ160M']=np.nan\n",
    "df.loc[df.MCQ160M==9,'MCQ170M']=np.nan\n",
    "df.loc[df.MCQ170M==7,'MCQ170M']=np.nan\n",
    "df.loc[df.MCQ170M==9,'MCQ170M']=np.nan"
   ]
  },
  {
   "cell_type": "markdown",
   "id": "d4bc58c3",
   "metadata": {},
   "source": [
    "### Tobacco Use Questionnaire"
   ]
  },
  {
   "cell_type": "code",
   "execution_count": 9,
   "id": "46161408",
   "metadata": {},
   "outputs": [],
   "source": [
    "df.loc[df.SMQ681==7,'SMQ681']=np.nan\n",
    "df.loc[df.SMQ681==9,'SMQ681']=np.nan"
   ]
  },
  {
   "cell_type": "markdown",
   "id": "c3db08b0",
   "metadata": {},
   "source": [
    "### Physical activity Questionnaire\n",
    "For those that do not do vigorous or moderate exercise, I'm setting the days and minutes to 0."
   ]
  },
  {
   "cell_type": "code",
   "execution_count": 10,
   "id": "305a1f1a",
   "metadata": {},
   "outputs": [],
   "source": [
    "df.loc[df.PAQ605==2,'PAQ610']=0\n",
    "df.loc[df.PAQ605==2,'PAD615']=0\n",
    "df.loc[df.PAQ605==7,'PAQ605']=np.nan\n",
    "df.loc[df.PAQ605==9,'PAQ605']=np.nan\n",
    "df.loc[df.PAQ605==7,'PAQ610']=np.nan\n",
    "df.loc[df.PAQ605==7,'PAD615']=np.nan\n",
    "df.loc[df.PAQ605==9,'PAQ610']=np.nan\n",
    "df.loc[df.PAQ605==9,'PAD615']=np.nan\n",
    "df.loc[df.PAQ610==77,'PAQ610']=np.nan\n",
    "df.loc[df.PAQ610==77,'PAD615']=np.nan\n",
    "df.loc[df.PAQ610==99,'PAQ610']=np.nan\n",
    "df.loc[df.PAQ610==99,'PAD615']=np.nan\n",
    "df.loc[df.PAD615==7777,'PAD615']=np.nan\n",
    "df.loc[df.PAD615==9999,'PAD615']=np.nan\n",
    "df.loc[df.PAQ620==2,'PAQ625']=0\n",
    "df.loc[df.PAQ620==2,'PAD630']=0\n",
    "df.loc[df.PAQ620==7,'PAQ620']=np.nan\n",
    "df.loc[df.PAQ620==9,'PAQ620']=np.nan\n",
    "df.loc[df.PAQ620==7,'PAQ625']=np.nan\n",
    "df.loc[df.PAQ620==7,'PAD630']=np.nan\n",
    "df.loc[df.PAQ620==9,'PAQ625']=np.nan\n",
    "df.loc[df.PAQ620==9,'PAD630']=np.nan\n",
    "df.loc[df.PAQ625==77,'PAQ625']=np.nan\n",
    "df.loc[df.PAQ625==77,'PAD630']=np.nan\n",
    "df.loc[df.PAQ625==99,'PAQ625']=np.nan\n",
    "df.loc[df.PAQ625==99,'PAD630']=np.nan\n",
    "df.loc[df.PAD630==7777,'PAD630']=np.nan\n",
    "df.loc[df.PAD630==9999,'PAD630']=np.nan\n",
    "\n",
    "df.loc[df.PAQ650==2,'PAQ655']=0\n",
    "df.loc[df.PAQ650==2,'PAD660']=0\n",
    "df.loc[df.PAQ650==7,'PAQ650']=np.nan\n",
    "df.loc[df.PAQ650==9,'PAQ650']=np.nan\n",
    "df.loc[df.PAQ650==7,'PAQ655']=np.nan\n",
    "df.loc[df.PAQ650==7,'PAD660']=np.nan\n",
    "df.loc[df.PAQ650==9,'PAQ655']=np.nan\n",
    "df.loc[df.PAQ650==9,'PAD660']=np.nan\n",
    "df.loc[df.PAQ655==77,'PAQ655']=np.nan\n",
    "df.loc[df.PAQ655==77,'PAD660']=np.nan\n",
    "df.loc[df.PAQ655==99,'PAQ655']=np.nan\n",
    "df.loc[df.PAQ655==99,'PAD660']=np.nan\n",
    "df.loc[df.PAD660==7777,'PAD660']=np.nan\n",
    "df.loc[df.PAD660==9999,'PAD660']=np.nan\n",
    "df.loc[df.PAQ665==2,'PAQ670']=0\n",
    "df.loc[df.PAQ665==2,'PAD675']=0\n",
    "df.loc[df.PAQ665==7,'PAQ665']=np.nan\n",
    "df.loc[df.PAQ665==9,'PAQ665']=np.nan\n",
    "df.loc[df.PAQ665==7,'PAQ670']=np.nan\n",
    "df.loc[df.PAQ665==7,'PAD675']=np.nan\n",
    "df.loc[df.PAQ665==9,'PAQ670']=np.nan\n",
    "df.loc[df.PAQ665==9,'PAD675']=np.nan\n",
    "df.loc[df.PAQ670==77,'PAQ670']=np.nan\n",
    "df.loc[df.PAQ670==77,'PAD675']=np.nan\n",
    "df.loc[df.PAQ670==99,'PAQ670']=np.nan\n",
    "df.loc[df.PAQ670==99,'PAD675']=np.nan\n",
    "df.loc[df.PAD675==7777,'PAD675']=np.nan\n",
    "df.loc[df.PAD675==9999,'PAD675']=np.nan\n",
    "\n"
   ]
  },
  {
   "cell_type": "markdown",
   "id": "8f1ad846",
   "metadata": {},
   "source": [
    "### Alcohol Use Questionnaire"
   ]
  },
  {
   "cell_type": "code",
   "execution_count": 11,
   "id": "a5f0600c",
   "metadata": {},
   "outputs": [],
   "source": [
    "df.loc[df.ALQ101==1,'ALQ110']=1\n",
    "df.loc[df.ALQ101==7,'ALQ101']=np.nan\n",
    "df.loc[df.ALQ101==9,'ALQ101']=np.nan\n",
    "df.loc[df.ALQ101==7,'ALQ110']=np.nan\n",
    "df.loc[df.ALQ101==9,'ALQ110']=np.nan\n",
    "df.loc[df.ALQ101==7,'ALQ120Q']=np.nan\n",
    "df.loc[df.ALQ101==9,'ALQ120Q']=np.nan\n",
    "df.loc[df.ALQ101==7,'ALQ120U']=np.nan\n",
    "df.loc[df.ALQ101==9,'ALQ120U']=np.nan\n",
    "df.loc[df.ALQ101==7,'ALQ130']=np.nan\n",
    "df.loc[df.ALQ101==9,'ALQ130']=np.nan\n",
    "df.loc[df.ALQ110==2,'ALQ120Q']=0\n",
    "df.loc[df.ALQ110==2,'ALQ120U']=1\n",
    "df.loc[df.ALQ110==2,'ALQ130']=0\n",
    "df.loc[df.ALQ110==7,'ALQ110']=np.nan\n",
    "df.loc[df.ALQ110==9,'ALQ110']=np.nan\n",
    "df.loc[df.ALQ110==7,'ALQ120Q']=np.nan\n",
    "df.loc[df.ALQ110==7,'ALQ120U']=np.nan\n",
    "df.loc[df.ALQ110==7,'ALQ130']=np.nan\n",
    "df.loc[df.ALQ110==9,'ALQ120Q']=np.nan\n",
    "df.loc[df.ALQ110==9,'ALQ120U']=np.nan\n",
    "df.loc[df.ALQ110==9,'ALQ130']=np.nan\n",
    "df.loc[df.ALQ120Q==777,'ALQ120Q']=np.nan\n",
    "df.loc[df.ALQ120Q==777,'ALQ120U']=np.nan\n",
    "df.loc[df.ALQ120Q==777,'ALQ130']=np.nan\n",
    "df.loc[df.ALQ120Q==999,'ALQ120Q']=np.nan\n",
    "df.loc[df.ALQ120Q==999,'ALQ120U']=np.nan\n",
    "df.loc[df.ALQ120Q==999,'ALQ130']=np.nan\n",
    "df.loc[df.ALQ120U==7,'ALQ120U']=np.nan\n",
    "df.loc[df.ALQ120U==7,'ALQ130']=np.nan\n",
    "df.loc[df.ALQ120U==9,'ALQ120U']=np.nan\n",
    "df.loc[df.ALQ120U==9,'ALQ130']=np.nan\n",
    "df.loc[df.ALQ130==777,'ALQ130']=np.nan\n",
    "df.loc[df.ALQ130==999,'ALQ130']=np.nan"
   ]
  },
  {
   "cell_type": "markdown",
   "id": "e549635f",
   "metadata": {},
   "source": [
    "### Nutrition Question\n",
    "On the nutrition data there is a question on how what you ate today compares to normal.  For those that refused or don't know, I'm setting it to nan."
   ]
  },
  {
   "cell_type": "code",
   "execution_count": 12,
   "id": "afc840a4",
   "metadata": {},
   "outputs": [],
   "source": [
    "df.loc[df.DR1_300==7,'DR1_300']=np.nan\n",
    "df.loc[df.DR1_300==9,'DR1_300']=np.nan"
   ]
  },
  {
   "cell_type": "markdown",
   "id": "12ed2c99",
   "metadata": {},
   "source": [
    "## Missing Values"
   ]
  },
  {
   "cell_type": "markdown",
   "id": "4d705116",
   "metadata": {},
   "source": [
    "Checking for observations with more than a third of their information missing.  These will be dropped."
   ]
  },
  {
   "cell_type": "code",
   "execution_count": 13,
   "id": "d98fd0f7",
   "metadata": {},
   "outputs": [],
   "source": [
    "null_rows = 100*df.isnull().sum(axis=1)/df.shape[1]"
   ]
  },
  {
   "cell_type": "code",
   "execution_count": 14,
   "id": "f42ddbaf",
   "metadata": {},
   "outputs": [
    {
     "data": {
      "text/plain": [
       "Int64Index([   70,   111,   195,   205,   289,   449,   556,   580,   601,\n",
       "              674,\n",
       "            ...\n",
       "            15512, 15585, 15640, 15688, 15715, 15790, 16048, 16082, 16240,\n",
       "            16301],\n",
       "           dtype='int64', length=197)"
      ]
     },
     "execution_count": 14,
     "metadata": {},
     "output_type": "execute_result"
    }
   ],
   "source": [
    "null_rows[null_rows>33].index"
   ]
  },
  {
   "cell_type": "code",
   "execution_count": 15,
   "id": "4a8a7569",
   "metadata": {},
   "outputs": [],
   "source": [
    "df.drop(null_rows[null_rows>33].index,inplace=True)"
   ]
  },
  {
   "cell_type": "code",
   "execution_count": 16,
   "id": "fd144e98",
   "metadata": {},
   "outputs": [],
   "source": [
    "null_columns = 100*df.isnull().sum()/df.shape[0]"
   ]
  },
  {
   "cell_type": "code",
   "execution_count": 17,
   "id": "dc5ee649",
   "metadata": {},
   "outputs": [
    {
     "data": {
      "text/plain": [
       "BPXSY4    94.423637\n",
       "BPXDI4    94.423637\n",
       "KIQ022    48.626717\n",
       "dtype: float64"
      ]
     },
     "execution_count": 17,
     "metadata": {},
     "output_type": "execute_result"
    }
   ],
   "source": [
    "null_columns[null_columns>33].sort_values(ascending=False)"
   ]
  },
  {
   "cell_type": "markdown",
   "id": "a1974794",
   "metadata": {},
   "source": [
    "Blood pressure is going to be averaged so nulls in BPXSY4 and BPXDI4 do not matter.  Because of all the nulls in Kidney condition questionaire, that variable will be dropped."
   ]
  },
  {
   "cell_type": "code",
   "execution_count": 18,
   "id": "0f90805a",
   "metadata": {},
   "outputs": [
    {
     "data": {
      "text/plain": [
       "(4806, 60)"
      ]
     },
     "execution_count": 18,
     "metadata": {},
     "output_type": "execute_result"
    }
   ],
   "source": [
    "df.drop('KIQ022',axis=1,inplace=True)\n",
    "df.shape"
   ]
  },
  {
   "cell_type": "code",
   "execution_count": 19,
   "id": "760d4768",
   "metadata": {},
   "outputs": [
    {
     "data": {
      "text/plain": [
       "BMXWT         24\n",
       "BMXHT         26\n",
       "BMXBMI        32\n",
       "BPXSY1       280\n",
       "BPXSY2       130\n",
       "BPXSY3       130\n",
       "BPXSY4      4538\n",
       "BPXDI1       280\n",
       "BPXDI2       130\n",
       "BPXDI3       130\n",
       "BPXDI4      4538\n",
       "BPXPLS        78\n",
       "BPXPULS       77\n",
       "DR1TKCAL     147\n",
       "DR1TPROT     147\n",
       "DR1TCARB     147\n",
       "DR1TSUGR     147\n",
       "DR1TFIBE     147\n",
       "DR1TTFAT     147\n",
       "DR1TSFAT     147\n",
       "DR1TMFAT     147\n",
       "DR1TPFAT     147\n",
       "DR1TCHOL     147\n",
       "DR1TSODI     147\n",
       "DR1TVD       147\n",
       "DR1TCALC     147\n",
       "DR1TIRON     147\n",
       "DR1TPOTA     147\n",
       "DR1_300      165\n",
       "ALQ101       203\n",
       "ALQ110       201\n",
       "ALQ120Q      203\n",
       "ALQ120U      969\n",
       "ALQ130       970\n",
       "BPQ020         5\n",
       "BPQ040A        6\n",
       "BPQ050A      258\n",
       "BPQ080        32\n",
       "BPQ090D       18\n",
       "BPQ100D      583\n",
       "DIQ010         1\n",
       "MCQ160M        7\n",
       "MCQ170M       27\n",
       "SMQ681       200\n",
       "PAQ605         2\n",
       "PAQ610         4\n",
       "PAD615        14\n",
       "PAQ620         2\n",
       "PAQ625         5\n",
       "PAD630        16\n",
       "PAQ655         1\n",
       "PAD660         4\n",
       "PAQ665         3\n",
       "PAQ670         3\n",
       "PAD675         6\n",
       "dtype: int64"
      ]
     },
     "execution_count": 19,
     "metadata": {},
     "output_type": "execute_result"
    }
   ],
   "source": [
    "nulls = df.isnull().sum()\n",
    "nulls[nulls>0]"
   ]
  },
  {
   "cell_type": "markdown",
   "id": "3304a7ce",
   "metadata": {},
   "source": [
    "There are still many missing values, these will be imputed during the pipeline"
   ]
  },
  {
   "cell_type": "markdown",
   "id": "3a5c2191",
   "metadata": {},
   "source": [
    "## Checking for invalid values"
   ]
  },
  {
   "cell_type": "code",
   "execution_count": 20,
   "id": "adcf2918",
   "metadata": {},
   "outputs": [
    {
     "data": {
      "text/html": [
       "<div>\n",
       "<style scoped>\n",
       "    .dataframe tbody tr th:only-of-type {\n",
       "        vertical-align: middle;\n",
       "    }\n",
       "\n",
       "    .dataframe tbody tr th {\n",
       "        vertical-align: top;\n",
       "    }\n",
       "\n",
       "    .dataframe thead th {\n",
       "        text-align: right;\n",
       "    }\n",
       "</style>\n",
       "<table border=\"1\" class=\"dataframe\">\n",
       "  <thead>\n",
       "    <tr style=\"text-align: right;\">\n",
       "      <th></th>\n",
       "      <th>count</th>\n",
       "      <th>mean</th>\n",
       "      <th>std</th>\n",
       "      <th>min</th>\n",
       "      <th>25%</th>\n",
       "      <th>50%</th>\n",
       "      <th>75%</th>\n",
       "      <th>max</th>\n",
       "    </tr>\n",
       "  </thead>\n",
       "  <tbody>\n",
       "    <tr>\n",
       "      <th>LBXTC</th>\n",
       "      <td>4806.0</td>\n",
       "      <td>189.314607</td>\n",
       "      <td>41.733185</td>\n",
       "      <td>6.900000e+01</td>\n",
       "      <td>1.610000e+02</td>\n",
       "      <td>186.000</td>\n",
       "      <td>213.0000</td>\n",
       "      <td>612.000</td>\n",
       "    </tr>\n",
       "    <tr>\n",
       "      <th>RIAGENDR</th>\n",
       "      <td>4806.0</td>\n",
       "      <td>1.512692</td>\n",
       "      <td>0.499891</td>\n",
       "      <td>1.000000e+00</td>\n",
       "      <td>1.000000e+00</td>\n",
       "      <td>2.000</td>\n",
       "      <td>2.0000</td>\n",
       "      <td>2.000</td>\n",
       "    </tr>\n",
       "    <tr>\n",
       "      <th>RIDRETH3</th>\n",
       "      <td>4806.0</td>\n",
       "      <td>3.237203</td>\n",
       "      <td>1.525748</td>\n",
       "      <td>1.000000e+00</td>\n",
       "      <td>2.000000e+00</td>\n",
       "      <td>3.000</td>\n",
       "      <td>4.0000</td>\n",
       "      <td>7.000</td>\n",
       "    </tr>\n",
       "    <tr>\n",
       "      <th>RIDAGEYR</th>\n",
       "      <td>4806.0</td>\n",
       "      <td>49.548065</td>\n",
       "      <td>17.455878</td>\n",
       "      <td>2.000000e+01</td>\n",
       "      <td>3.500000e+01</td>\n",
       "      <td>50.000</td>\n",
       "      <td>64.0000</td>\n",
       "      <td>80.000</td>\n",
       "    </tr>\n",
       "    <tr>\n",
       "      <th>BMXWT</th>\n",
       "      <td>4782.0</td>\n",
       "      <td>82.074885</td>\n",
       "      <td>22.142625</td>\n",
       "      <td>3.230000e+01</td>\n",
       "      <td>6.670000e+01</td>\n",
       "      <td>78.600</td>\n",
       "      <td>93.6000</td>\n",
       "      <td>207.200</td>\n",
       "    </tr>\n",
       "    <tr>\n",
       "      <th>BMXHT</th>\n",
       "      <td>4780.0</td>\n",
       "      <td>166.962456</td>\n",
       "      <td>10.010643</td>\n",
       "      <td>1.376000e+02</td>\n",
       "      <td>1.596000e+02</td>\n",
       "      <td>166.600</td>\n",
       "      <td>174.2000</td>\n",
       "      <td>202.700</td>\n",
       "    </tr>\n",
       "    <tr>\n",
       "      <th>BMXBMI</th>\n",
       "      <td>4774.0</td>\n",
       "      <td>29.355614</td>\n",
       "      <td>7.189679</td>\n",
       "      <td>1.450000e+01</td>\n",
       "      <td>2.430000e+01</td>\n",
       "      <td>28.100</td>\n",
       "      <td>32.9000</td>\n",
       "      <td>74.100</td>\n",
       "    </tr>\n",
       "    <tr>\n",
       "      <th>BPXSY1</th>\n",
       "      <td>4526.0</td>\n",
       "      <td>124.015466</td>\n",
       "      <td>18.488586</td>\n",
       "      <td>6.600000e+01</td>\n",
       "      <td>1.120000e+02</td>\n",
       "      <td>122.000</td>\n",
       "      <td>134.0000</td>\n",
       "      <td>236.000</td>\n",
       "    </tr>\n",
       "    <tr>\n",
       "      <th>BPXSY2</th>\n",
       "      <td>4676.0</td>\n",
       "      <td>124.008554</td>\n",
       "      <td>18.599015</td>\n",
       "      <td>6.600000e+01</td>\n",
       "      <td>1.120000e+02</td>\n",
       "      <td>122.000</td>\n",
       "      <td>134.0000</td>\n",
       "      <td>230.000</td>\n",
       "    </tr>\n",
       "    <tr>\n",
       "      <th>BPXSY3</th>\n",
       "      <td>4676.0</td>\n",
       "      <td>123.547476</td>\n",
       "      <td>18.316215</td>\n",
       "      <td>6.200000e+01</td>\n",
       "      <td>1.100000e+02</td>\n",
       "      <td>120.000</td>\n",
       "      <td>134.0000</td>\n",
       "      <td>228.000</td>\n",
       "    </tr>\n",
       "    <tr>\n",
       "      <th>BPXSY4</th>\n",
       "      <td>268.0</td>\n",
       "      <td>132.522388</td>\n",
       "      <td>21.696482</td>\n",
       "      <td>8.800000e+01</td>\n",
       "      <td>1.180000e+02</td>\n",
       "      <td>130.000</td>\n",
       "      <td>144.0000</td>\n",
       "      <td>212.000</td>\n",
       "    </tr>\n",
       "    <tr>\n",
       "      <th>BPXDI1</th>\n",
       "      <td>4526.0</td>\n",
       "      <td>69.010163</td>\n",
       "      <td>12.777860</td>\n",
       "      <td>5.397605e-79</td>\n",
       "      <td>6.200000e+01</td>\n",
       "      <td>70.000</td>\n",
       "      <td>76.0000</td>\n",
       "      <td>122.000</td>\n",
       "    </tr>\n",
       "    <tr>\n",
       "      <th>BPXDI2</th>\n",
       "      <td>4676.0</td>\n",
       "      <td>68.609495</td>\n",
       "      <td>13.326945</td>\n",
       "      <td>5.397605e-79</td>\n",
       "      <td>6.200000e+01</td>\n",
       "      <td>68.000</td>\n",
       "      <td>76.0000</td>\n",
       "      <td>116.000</td>\n",
       "    </tr>\n",
       "    <tr>\n",
       "      <th>BPXDI3</th>\n",
       "      <td>4676.0</td>\n",
       "      <td>68.460650</td>\n",
       "      <td>13.552068</td>\n",
       "      <td>5.397605e-79</td>\n",
       "      <td>6.200000e+01</td>\n",
       "      <td>68.000</td>\n",
       "      <td>76.0000</td>\n",
       "      <td>118.000</td>\n",
       "    </tr>\n",
       "    <tr>\n",
       "      <th>BPXDI4</th>\n",
       "      <td>268.0</td>\n",
       "      <td>71.410448</td>\n",
       "      <td>16.773312</td>\n",
       "      <td>5.397605e-79</td>\n",
       "      <td>6.400000e+01</td>\n",
       "      <td>72.000</td>\n",
       "      <td>80.0000</td>\n",
       "      <td>128.000</td>\n",
       "    </tr>\n",
       "    <tr>\n",
       "      <th>BPXPLS</th>\n",
       "      <td>4728.0</td>\n",
       "      <td>71.756768</td>\n",
       "      <td>11.595651</td>\n",
       "      <td>3.600000e+01</td>\n",
       "      <td>6.400000e+01</td>\n",
       "      <td>70.000</td>\n",
       "      <td>78.0000</td>\n",
       "      <td>160.000</td>\n",
       "    </tr>\n",
       "    <tr>\n",
       "      <th>BPXPULS</th>\n",
       "      <td>4729.0</td>\n",
       "      <td>1.026010</td>\n",
       "      <td>0.159181</td>\n",
       "      <td>1.000000e+00</td>\n",
       "      <td>1.000000e+00</td>\n",
       "      <td>1.000</td>\n",
       "      <td>1.0000</td>\n",
       "      <td>2.000</td>\n",
       "    </tr>\n",
       "    <tr>\n",
       "      <th>DR1TKCAL</th>\n",
       "      <td>4659.0</td>\n",
       "      <td>2091.324319</td>\n",
       "      <td>986.905401</td>\n",
       "      <td>1.170000e+02</td>\n",
       "      <td>1.434500e+03</td>\n",
       "      <td>1935.000</td>\n",
       "      <td>2555.5000</td>\n",
       "      <td>12108.000</td>\n",
       "    </tr>\n",
       "    <tr>\n",
       "      <th>DR1TPROT</th>\n",
       "      <td>4659.0</td>\n",
       "      <td>81.911687</td>\n",
       "      <td>44.039317</td>\n",
       "      <td>5.397605e-79</td>\n",
       "      <td>5.233000e+01</td>\n",
       "      <td>73.860</td>\n",
       "      <td>101.3650</td>\n",
       "      <td>513.100</td>\n",
       "    </tr>\n",
       "    <tr>\n",
       "      <th>DR1TCARB</th>\n",
       "      <td>4659.0</td>\n",
       "      <td>247.110060</td>\n",
       "      <td>123.385000</td>\n",
       "      <td>8.670000e+00</td>\n",
       "      <td>1.625750e+02</td>\n",
       "      <td>227.440</td>\n",
       "      <td>308.2600</td>\n",
       "      <td>1423.870</td>\n",
       "    </tr>\n",
       "    <tr>\n",
       "      <th>DR1TSUGR</th>\n",
       "      <td>4659.0</td>\n",
       "      <td>105.316364</td>\n",
       "      <td>74.759343</td>\n",
       "      <td>1.300000e-01</td>\n",
       "      <td>5.511500e+01</td>\n",
       "      <td>90.610</td>\n",
       "      <td>138.4300</td>\n",
       "      <td>1115.500</td>\n",
       "    </tr>\n",
       "    <tr>\n",
       "      <th>DR1TFIBE</th>\n",
       "      <td>4659.0</td>\n",
       "      <td>16.868899</td>\n",
       "      <td>10.824094</td>\n",
       "      <td>5.397605e-79</td>\n",
       "      <td>9.500000e+00</td>\n",
       "      <td>14.500</td>\n",
       "      <td>21.6000</td>\n",
       "      <td>136.300</td>\n",
       "    </tr>\n",
       "    <tr>\n",
       "      <th>DR1TTFAT</th>\n",
       "      <td>4659.0</td>\n",
       "      <td>81.709944</td>\n",
       "      <td>47.467826</td>\n",
       "      <td>5.397605e-79</td>\n",
       "      <td>4.996500e+01</td>\n",
       "      <td>73.780</td>\n",
       "      <td>103.0050</td>\n",
       "      <td>548.380</td>\n",
       "    </tr>\n",
       "    <tr>\n",
       "      <th>DR1TSFAT</th>\n",
       "      <td>4659.0</td>\n",
       "      <td>26.212014</td>\n",
       "      <td>16.542418</td>\n",
       "      <td>5.397605e-79</td>\n",
       "      <td>1.497850e+01</td>\n",
       "      <td>22.925</td>\n",
       "      <td>33.7930</td>\n",
       "      <td>177.467</td>\n",
       "    </tr>\n",
       "    <tr>\n",
       "      <th>DR1TMFAT</th>\n",
       "      <td>4659.0</td>\n",
       "      <td>28.805027</td>\n",
       "      <td>17.784351</td>\n",
       "      <td>5.397605e-79</td>\n",
       "      <td>1.699100e+01</td>\n",
       "      <td>25.570</td>\n",
       "      <td>36.5580</td>\n",
       "      <td>221.673</td>\n",
       "    </tr>\n",
       "    <tr>\n",
       "      <th>DR1TPFAT</th>\n",
       "      <td>4659.0</td>\n",
       "      <td>19.093103</td>\n",
       "      <td>13.222234</td>\n",
       "      <td>5.397605e-79</td>\n",
       "      <td>1.020400e+01</td>\n",
       "      <td>16.404</td>\n",
       "      <td>24.5535</td>\n",
       "      <td>182.462</td>\n",
       "    </tr>\n",
       "    <tr>\n",
       "      <th>DR1TCHOL</th>\n",
       "      <td>4659.0</td>\n",
       "      <td>300.269371</td>\n",
       "      <td>239.312180</td>\n",
       "      <td>5.397605e-79</td>\n",
       "      <td>1.340000e+02</td>\n",
       "      <td>232.000</td>\n",
       "      <td>408.0000</td>\n",
       "      <td>2352.000</td>\n",
       "    </tr>\n",
       "    <tr>\n",
       "      <th>DR1TSODI</th>\n",
       "      <td>4659.0</td>\n",
       "      <td>3504.297918</td>\n",
       "      <td>1846.389627</td>\n",
       "      <td>2.900000e+01</td>\n",
       "      <td>2.248500e+03</td>\n",
       "      <td>3175.000</td>\n",
       "      <td>4354.0000</td>\n",
       "      <td>21399.000</td>\n",
       "    </tr>\n",
       "    <tr>\n",
       "      <th>DR1TVD</th>\n",
       "      <td>4659.0</td>\n",
       "      <td>4.512213</td>\n",
       "      <td>6.116494</td>\n",
       "      <td>5.397605e-79</td>\n",
       "      <td>1.000000e+00</td>\n",
       "      <td>2.800</td>\n",
       "      <td>5.7000</td>\n",
       "      <td>78.100</td>\n",
       "    </tr>\n",
       "    <tr>\n",
       "      <th>DR1TCALC</th>\n",
       "      <td>4659.0</td>\n",
       "      <td>905.860056</td>\n",
       "      <td>583.700992</td>\n",
       "      <td>1.800000e+01</td>\n",
       "      <td>5.020000e+02</td>\n",
       "      <td>787.000</td>\n",
       "      <td>1152.0000</td>\n",
       "      <td>7337.000</td>\n",
       "    </tr>\n",
       "    <tr>\n",
       "      <th>DR1TIRON</th>\n",
       "      <td>4659.0</td>\n",
       "      <td>13.843801</td>\n",
       "      <td>8.008768</td>\n",
       "      <td>5.000000e-02</td>\n",
       "      <td>8.395000e+00</td>\n",
       "      <td>12.140</td>\n",
       "      <td>17.6150</td>\n",
       "      <td>89.550</td>\n",
       "    </tr>\n",
       "    <tr>\n",
       "      <th>DR1TPOTA</th>\n",
       "      <td>4659.0</td>\n",
       "      <td>2554.507405</td>\n",
       "      <td>1217.422238</td>\n",
       "      <td>6.800000e+01</td>\n",
       "      <td>1.695000e+03</td>\n",
       "      <td>2384.000</td>\n",
       "      <td>3218.5000</td>\n",
       "      <td>14072.000</td>\n",
       "    </tr>\n",
       "    <tr>\n",
       "      <th>DR1_300</th>\n",
       "      <td>4641.0</td>\n",
       "      <td>2.109890</td>\n",
       "      <td>0.523984</td>\n",
       "      <td>1.000000e+00</td>\n",
       "      <td>2.000000e+00</td>\n",
       "      <td>2.000</td>\n",
       "      <td>2.0000</td>\n",
       "      <td>3.000</td>\n",
       "    </tr>\n",
       "    <tr>\n",
       "      <th>ALQ101</th>\n",
       "      <td>4603.0</td>\n",
       "      <td>1.296546</td>\n",
       "      <td>0.456784</td>\n",
       "      <td>1.000000e+00</td>\n",
       "      <td>1.000000e+00</td>\n",
       "      <td>1.000</td>\n",
       "      <td>2.0000</td>\n",
       "      <td>2.000</td>\n",
       "    </tr>\n",
       "    <tr>\n",
       "      <th>ALQ110</th>\n",
       "      <td>4605.0</td>\n",
       "      <td>1.160043</td>\n",
       "      <td>0.366686</td>\n",
       "      <td>1.000000e+00</td>\n",
       "      <td>1.000000e+00</td>\n",
       "      <td>1.000</td>\n",
       "      <td>1.0000</td>\n",
       "      <td>2.000</td>\n",
       "    </tr>\n",
       "    <tr>\n",
       "      <th>ALQ120Q</th>\n",
       "      <td>4603.0</td>\n",
       "      <td>2.832718</td>\n",
       "      <td>12.277212</td>\n",
       "      <td>0.000000e+00</td>\n",
       "      <td>5.397605e-79</td>\n",
       "      <td>1.000</td>\n",
       "      <td>3.0000</td>\n",
       "      <td>365.000</td>\n",
       "    </tr>\n",
       "    <tr>\n",
       "      <th>ALQ120U</th>\n",
       "      <td>3837.0</td>\n",
       "      <td>1.735470</td>\n",
       "      <td>0.843379</td>\n",
       "      <td>1.000000e+00</td>\n",
       "      <td>1.000000e+00</td>\n",
       "      <td>1.000</td>\n",
       "      <td>3.0000</td>\n",
       "      <td>3.000</td>\n",
       "    </tr>\n",
       "    <tr>\n",
       "      <th>ALQ130</th>\n",
       "      <td>3836.0</td>\n",
       "      <td>2.194734</td>\n",
       "      <td>2.425072</td>\n",
       "      <td>0.000000e+00</td>\n",
       "      <td>1.000000e+00</td>\n",
       "      <td>2.000</td>\n",
       "      <td>3.0000</td>\n",
       "      <td>25.000</td>\n",
       "    </tr>\n",
       "    <tr>\n",
       "      <th>BPQ020</th>\n",
       "      <td>4801.0</td>\n",
       "      <td>1.621121</td>\n",
       "      <td>0.485159</td>\n",
       "      <td>1.000000e+00</td>\n",
       "      <td>1.000000e+00</td>\n",
       "      <td>2.000</td>\n",
       "      <td>2.0000</td>\n",
       "      <td>2.000</td>\n",
       "    </tr>\n",
       "    <tr>\n",
       "      <th>BPQ040A</th>\n",
       "      <td>4800.0</td>\n",
       "      <td>1.673542</td>\n",
       "      <td>0.468966</td>\n",
       "      <td>1.000000e+00</td>\n",
       "      <td>1.000000e+00</td>\n",
       "      <td>2.000</td>\n",
       "      <td>2.0000</td>\n",
       "      <td>2.000</td>\n",
       "    </tr>\n",
       "    <tr>\n",
       "      <th>BPQ050A</th>\n",
       "      <td>4548.0</td>\n",
       "      <td>1.702067</td>\n",
       "      <td>0.457400</td>\n",
       "      <td>1.000000e+00</td>\n",
       "      <td>1.000000e+00</td>\n",
       "      <td>2.000</td>\n",
       "      <td>2.0000</td>\n",
       "      <td>2.000</td>\n",
       "    </tr>\n",
       "    <tr>\n",
       "      <th>BPQ080</th>\n",
       "      <td>4774.0</td>\n",
       "      <td>1.638877</td>\n",
       "      <td>0.480376</td>\n",
       "      <td>1.000000e+00</td>\n",
       "      <td>1.000000e+00</td>\n",
       "      <td>2.000</td>\n",
       "      <td>2.0000</td>\n",
       "      <td>2.000</td>\n",
       "    </tr>\n",
       "    <tr>\n",
       "      <th>BPQ090D</th>\n",
       "      <td>4788.0</td>\n",
       "      <td>1.754595</td>\n",
       "      <td>0.430372</td>\n",
       "      <td>1.000000e+00</td>\n",
       "      <td>2.000000e+00</td>\n",
       "      <td>2.000</td>\n",
       "      <td>2.0000</td>\n",
       "      <td>2.000</td>\n",
       "    </tr>\n",
       "    <tr>\n",
       "      <th>BPQ100D</th>\n",
       "      <td>4223.0</td>\n",
       "      <td>1.792565</td>\n",
       "      <td>0.405518</td>\n",
       "      <td>1.000000e+00</td>\n",
       "      <td>2.000000e+00</td>\n",
       "      <td>2.000</td>\n",
       "      <td>2.0000</td>\n",
       "      <td>2.000</td>\n",
       "    </tr>\n",
       "    <tr>\n",
       "      <th>DIQ010</th>\n",
       "      <td>4805.0</td>\n",
       "      <td>1.896566</td>\n",
       "      <td>0.387565</td>\n",
       "      <td>1.000000e+00</td>\n",
       "      <td>2.000000e+00</td>\n",
       "      <td>2.000</td>\n",
       "      <td>2.0000</td>\n",
       "      <td>3.000</td>\n",
       "    </tr>\n",
       "    <tr>\n",
       "      <th>MCQ160M</th>\n",
       "      <td>4799.0</td>\n",
       "      <td>1.894561</td>\n",
       "      <td>0.307150</td>\n",
       "      <td>1.000000e+00</td>\n",
       "      <td>2.000000e+00</td>\n",
       "      <td>2.000</td>\n",
       "      <td>2.0000</td>\n",
       "      <td>2.000</td>\n",
       "    </tr>\n",
       "    <tr>\n",
       "      <th>MCQ170M</th>\n",
       "      <td>4779.0</td>\n",
       "      <td>1.922369</td>\n",
       "      <td>0.267619</td>\n",
       "      <td>1.000000e+00</td>\n",
       "      <td>2.000000e+00</td>\n",
       "      <td>2.000</td>\n",
       "      <td>2.0000</td>\n",
       "      <td>2.000</td>\n",
       "    </tr>\n",
       "    <tr>\n",
       "      <th>SMQ681</th>\n",
       "      <td>4606.0</td>\n",
       "      <td>1.765740</td>\n",
       "      <td>0.423581</td>\n",
       "      <td>1.000000e+00</td>\n",
       "      <td>2.000000e+00</td>\n",
       "      <td>2.000</td>\n",
       "      <td>2.0000</td>\n",
       "      <td>2.000</td>\n",
       "    </tr>\n",
       "    <tr>\n",
       "      <th>PAQ605</th>\n",
       "      <td>4804.0</td>\n",
       "      <td>1.800167</td>\n",
       "      <td>0.399917</td>\n",
       "      <td>1.000000e+00</td>\n",
       "      <td>2.000000e+00</td>\n",
       "      <td>2.000</td>\n",
       "      <td>2.0000</td>\n",
       "      <td>2.000</td>\n",
       "    </tr>\n",
       "    <tr>\n",
       "      <th>PAQ610</th>\n",
       "      <td>4802.0</td>\n",
       "      <td>0.798001</td>\n",
       "      <td>1.790650</td>\n",
       "      <td>0.000000e+00</td>\n",
       "      <td>0.000000e+00</td>\n",
       "      <td>0.000</td>\n",
       "      <td>0.0000</td>\n",
       "      <td>7.000</td>\n",
       "    </tr>\n",
       "    <tr>\n",
       "      <th>PAD615</th>\n",
       "      <td>4792.0</td>\n",
       "      <td>36.603715</td>\n",
       "      <td>99.304459</td>\n",
       "      <td>0.000000e+00</td>\n",
       "      <td>0.000000e+00</td>\n",
       "      <td>0.000</td>\n",
       "      <td>0.0000</td>\n",
       "      <td>840.000</td>\n",
       "    </tr>\n",
       "    <tr>\n",
       "      <th>PAQ620</th>\n",
       "      <td>4804.0</td>\n",
       "      <td>1.635720</td>\n",
       "      <td>0.481278</td>\n",
       "      <td>1.000000e+00</td>\n",
       "      <td>1.000000e+00</td>\n",
       "      <td>2.000</td>\n",
       "      <td>2.0000</td>\n",
       "      <td>2.000</td>\n",
       "    </tr>\n",
       "    <tr>\n",
       "      <th>PAQ625</th>\n",
       "      <td>4801.0</td>\n",
       "      <td>1.542804</td>\n",
       "      <td>2.309376</td>\n",
       "      <td>0.000000e+00</td>\n",
       "      <td>0.000000e+00</td>\n",
       "      <td>0.000</td>\n",
       "      <td>3.0000</td>\n",
       "      <td>7.000</td>\n",
       "    </tr>\n",
       "    <tr>\n",
       "      <th>PAD630</th>\n",
       "      <td>4790.0</td>\n",
       "      <td>57.882046</td>\n",
       "      <td>114.499529</td>\n",
       "      <td>0.000000e+00</td>\n",
       "      <td>0.000000e+00</td>\n",
       "      <td>0.000</td>\n",
       "      <td>60.0000</td>\n",
       "      <td>990.000</td>\n",
       "    </tr>\n",
       "    <tr>\n",
       "      <th>PAQ650</th>\n",
       "      <td>4806.0</td>\n",
       "      <td>1.776529</td>\n",
       "      <td>0.416614</td>\n",
       "      <td>1.000000e+00</td>\n",
       "      <td>2.000000e+00</td>\n",
       "      <td>2.000</td>\n",
       "      <td>2.0000</td>\n",
       "      <td>2.000</td>\n",
       "    </tr>\n",
       "    <tr>\n",
       "      <th>PAQ655</th>\n",
       "      <td>4805.0</td>\n",
       "      <td>0.726119</td>\n",
       "      <td>1.542458</td>\n",
       "      <td>0.000000e+00</td>\n",
       "      <td>0.000000e+00</td>\n",
       "      <td>0.000</td>\n",
       "      <td>0.0000</td>\n",
       "      <td>7.000</td>\n",
       "    </tr>\n",
       "    <tr>\n",
       "      <th>PAD660</th>\n",
       "      <td>4802.0</td>\n",
       "      <td>17.232820</td>\n",
       "      <td>42.658923</td>\n",
       "      <td>0.000000e+00</td>\n",
       "      <td>0.000000e+00</td>\n",
       "      <td>0.000</td>\n",
       "      <td>0.0000</td>\n",
       "      <td>480.000</td>\n",
       "    </tr>\n",
       "    <tr>\n",
       "      <th>PAQ665</th>\n",
       "      <td>4803.0</td>\n",
       "      <td>1.592755</td>\n",
       "      <td>0.491372</td>\n",
       "      <td>1.000000e+00</td>\n",
       "      <td>1.000000e+00</td>\n",
       "      <td>2.000</td>\n",
       "      <td>2.0000</td>\n",
       "      <td>2.000</td>\n",
       "    </tr>\n",
       "    <tr>\n",
       "      <th>PAQ670</th>\n",
       "      <td>4803.0</td>\n",
       "      <td>1.408286</td>\n",
       "      <td>2.049184</td>\n",
       "      <td>0.000000e+00</td>\n",
       "      <td>0.000000e+00</td>\n",
       "      <td>0.000</td>\n",
       "      <td>3.0000</td>\n",
       "      <td>7.000</td>\n",
       "    </tr>\n",
       "    <tr>\n",
       "      <th>PAD675</th>\n",
       "      <td>4800.0</td>\n",
       "      <td>25.534167</td>\n",
       "      <td>47.960658</td>\n",
       "      <td>0.000000e+00</td>\n",
       "      <td>0.000000e+00</td>\n",
       "      <td>0.000</td>\n",
       "      <td>30.0000</td>\n",
       "      <td>600.000</td>\n",
       "    </tr>\n",
       "  </tbody>\n",
       "</table>\n",
       "</div>"
      ],
      "text/plain": [
       "           count         mean          std           min           25%  \\\n",
       "LBXTC     4806.0   189.314607    41.733185  6.900000e+01  1.610000e+02   \n",
       "RIAGENDR  4806.0     1.512692     0.499891  1.000000e+00  1.000000e+00   \n",
       "RIDRETH3  4806.0     3.237203     1.525748  1.000000e+00  2.000000e+00   \n",
       "RIDAGEYR  4806.0    49.548065    17.455878  2.000000e+01  3.500000e+01   \n",
       "BMXWT     4782.0    82.074885    22.142625  3.230000e+01  6.670000e+01   \n",
       "BMXHT     4780.0   166.962456    10.010643  1.376000e+02  1.596000e+02   \n",
       "BMXBMI    4774.0    29.355614     7.189679  1.450000e+01  2.430000e+01   \n",
       "BPXSY1    4526.0   124.015466    18.488586  6.600000e+01  1.120000e+02   \n",
       "BPXSY2    4676.0   124.008554    18.599015  6.600000e+01  1.120000e+02   \n",
       "BPXSY3    4676.0   123.547476    18.316215  6.200000e+01  1.100000e+02   \n",
       "BPXSY4     268.0   132.522388    21.696482  8.800000e+01  1.180000e+02   \n",
       "BPXDI1    4526.0    69.010163    12.777860  5.397605e-79  6.200000e+01   \n",
       "BPXDI2    4676.0    68.609495    13.326945  5.397605e-79  6.200000e+01   \n",
       "BPXDI3    4676.0    68.460650    13.552068  5.397605e-79  6.200000e+01   \n",
       "BPXDI4     268.0    71.410448    16.773312  5.397605e-79  6.400000e+01   \n",
       "BPXPLS    4728.0    71.756768    11.595651  3.600000e+01  6.400000e+01   \n",
       "BPXPULS   4729.0     1.026010     0.159181  1.000000e+00  1.000000e+00   \n",
       "DR1TKCAL  4659.0  2091.324319   986.905401  1.170000e+02  1.434500e+03   \n",
       "DR1TPROT  4659.0    81.911687    44.039317  5.397605e-79  5.233000e+01   \n",
       "DR1TCARB  4659.0   247.110060   123.385000  8.670000e+00  1.625750e+02   \n",
       "DR1TSUGR  4659.0   105.316364    74.759343  1.300000e-01  5.511500e+01   \n",
       "DR1TFIBE  4659.0    16.868899    10.824094  5.397605e-79  9.500000e+00   \n",
       "DR1TTFAT  4659.0    81.709944    47.467826  5.397605e-79  4.996500e+01   \n",
       "DR1TSFAT  4659.0    26.212014    16.542418  5.397605e-79  1.497850e+01   \n",
       "DR1TMFAT  4659.0    28.805027    17.784351  5.397605e-79  1.699100e+01   \n",
       "DR1TPFAT  4659.0    19.093103    13.222234  5.397605e-79  1.020400e+01   \n",
       "DR1TCHOL  4659.0   300.269371   239.312180  5.397605e-79  1.340000e+02   \n",
       "DR1TSODI  4659.0  3504.297918  1846.389627  2.900000e+01  2.248500e+03   \n",
       "DR1TVD    4659.0     4.512213     6.116494  5.397605e-79  1.000000e+00   \n",
       "DR1TCALC  4659.0   905.860056   583.700992  1.800000e+01  5.020000e+02   \n",
       "DR1TIRON  4659.0    13.843801     8.008768  5.000000e-02  8.395000e+00   \n",
       "DR1TPOTA  4659.0  2554.507405  1217.422238  6.800000e+01  1.695000e+03   \n",
       "DR1_300   4641.0     2.109890     0.523984  1.000000e+00  2.000000e+00   \n",
       "ALQ101    4603.0     1.296546     0.456784  1.000000e+00  1.000000e+00   \n",
       "ALQ110    4605.0     1.160043     0.366686  1.000000e+00  1.000000e+00   \n",
       "ALQ120Q   4603.0     2.832718    12.277212  0.000000e+00  5.397605e-79   \n",
       "ALQ120U   3837.0     1.735470     0.843379  1.000000e+00  1.000000e+00   \n",
       "ALQ130    3836.0     2.194734     2.425072  0.000000e+00  1.000000e+00   \n",
       "BPQ020    4801.0     1.621121     0.485159  1.000000e+00  1.000000e+00   \n",
       "BPQ040A   4800.0     1.673542     0.468966  1.000000e+00  1.000000e+00   \n",
       "BPQ050A   4548.0     1.702067     0.457400  1.000000e+00  1.000000e+00   \n",
       "BPQ080    4774.0     1.638877     0.480376  1.000000e+00  1.000000e+00   \n",
       "BPQ090D   4788.0     1.754595     0.430372  1.000000e+00  2.000000e+00   \n",
       "BPQ100D   4223.0     1.792565     0.405518  1.000000e+00  2.000000e+00   \n",
       "DIQ010    4805.0     1.896566     0.387565  1.000000e+00  2.000000e+00   \n",
       "MCQ160M   4799.0     1.894561     0.307150  1.000000e+00  2.000000e+00   \n",
       "MCQ170M   4779.0     1.922369     0.267619  1.000000e+00  2.000000e+00   \n",
       "SMQ681    4606.0     1.765740     0.423581  1.000000e+00  2.000000e+00   \n",
       "PAQ605    4804.0     1.800167     0.399917  1.000000e+00  2.000000e+00   \n",
       "PAQ610    4802.0     0.798001     1.790650  0.000000e+00  0.000000e+00   \n",
       "PAD615    4792.0    36.603715    99.304459  0.000000e+00  0.000000e+00   \n",
       "PAQ620    4804.0     1.635720     0.481278  1.000000e+00  1.000000e+00   \n",
       "PAQ625    4801.0     1.542804     2.309376  0.000000e+00  0.000000e+00   \n",
       "PAD630    4790.0    57.882046   114.499529  0.000000e+00  0.000000e+00   \n",
       "PAQ650    4806.0     1.776529     0.416614  1.000000e+00  2.000000e+00   \n",
       "PAQ655    4805.0     0.726119     1.542458  0.000000e+00  0.000000e+00   \n",
       "PAD660    4802.0    17.232820    42.658923  0.000000e+00  0.000000e+00   \n",
       "PAQ665    4803.0     1.592755     0.491372  1.000000e+00  1.000000e+00   \n",
       "PAQ670    4803.0     1.408286     2.049184  0.000000e+00  0.000000e+00   \n",
       "PAD675    4800.0    25.534167    47.960658  0.000000e+00  0.000000e+00   \n",
       "\n",
       "               50%        75%        max  \n",
       "LBXTC      186.000   213.0000    612.000  \n",
       "RIAGENDR     2.000     2.0000      2.000  \n",
       "RIDRETH3     3.000     4.0000      7.000  \n",
       "RIDAGEYR    50.000    64.0000     80.000  \n",
       "BMXWT       78.600    93.6000    207.200  \n",
       "BMXHT      166.600   174.2000    202.700  \n",
       "BMXBMI      28.100    32.9000     74.100  \n",
       "BPXSY1     122.000   134.0000    236.000  \n",
       "BPXSY2     122.000   134.0000    230.000  \n",
       "BPXSY3     120.000   134.0000    228.000  \n",
       "BPXSY4     130.000   144.0000    212.000  \n",
       "BPXDI1      70.000    76.0000    122.000  \n",
       "BPXDI2      68.000    76.0000    116.000  \n",
       "BPXDI3      68.000    76.0000    118.000  \n",
       "BPXDI4      72.000    80.0000    128.000  \n",
       "BPXPLS      70.000    78.0000    160.000  \n",
       "BPXPULS      1.000     1.0000      2.000  \n",
       "DR1TKCAL  1935.000  2555.5000  12108.000  \n",
       "DR1TPROT    73.860   101.3650    513.100  \n",
       "DR1TCARB   227.440   308.2600   1423.870  \n",
       "DR1TSUGR    90.610   138.4300   1115.500  \n",
       "DR1TFIBE    14.500    21.6000    136.300  \n",
       "DR1TTFAT    73.780   103.0050    548.380  \n",
       "DR1TSFAT    22.925    33.7930    177.467  \n",
       "DR1TMFAT    25.570    36.5580    221.673  \n",
       "DR1TPFAT    16.404    24.5535    182.462  \n",
       "DR1TCHOL   232.000   408.0000   2352.000  \n",
       "DR1TSODI  3175.000  4354.0000  21399.000  \n",
       "DR1TVD       2.800     5.7000     78.100  \n",
       "DR1TCALC   787.000  1152.0000   7337.000  \n",
       "DR1TIRON    12.140    17.6150     89.550  \n",
       "DR1TPOTA  2384.000  3218.5000  14072.000  \n",
       "DR1_300      2.000     2.0000      3.000  \n",
       "ALQ101       1.000     2.0000      2.000  \n",
       "ALQ110       1.000     1.0000      2.000  \n",
       "ALQ120Q      1.000     3.0000    365.000  \n",
       "ALQ120U      1.000     3.0000      3.000  \n",
       "ALQ130       2.000     3.0000     25.000  \n",
       "BPQ020       2.000     2.0000      2.000  \n",
       "BPQ040A      2.000     2.0000      2.000  \n",
       "BPQ050A      2.000     2.0000      2.000  \n",
       "BPQ080       2.000     2.0000      2.000  \n",
       "BPQ090D      2.000     2.0000      2.000  \n",
       "BPQ100D      2.000     2.0000      2.000  \n",
       "DIQ010       2.000     2.0000      3.000  \n",
       "MCQ160M      2.000     2.0000      2.000  \n",
       "MCQ170M      2.000     2.0000      2.000  \n",
       "SMQ681       2.000     2.0000      2.000  \n",
       "PAQ605       2.000     2.0000      2.000  \n",
       "PAQ610       0.000     0.0000      7.000  \n",
       "PAD615       0.000     0.0000    840.000  \n",
       "PAQ620       2.000     2.0000      2.000  \n",
       "PAQ625       0.000     3.0000      7.000  \n",
       "PAD630       0.000    60.0000    990.000  \n",
       "PAQ650       2.000     2.0000      2.000  \n",
       "PAQ655       0.000     0.0000      7.000  \n",
       "PAD660       0.000     0.0000    480.000  \n",
       "PAQ665       2.000     2.0000      2.000  \n",
       "PAQ670       0.000     3.0000      7.000  \n",
       "PAD675       0.000    30.0000    600.000  "
      ]
     },
     "execution_count": 20,
     "metadata": {},
     "output_type": "execute_result"
    }
   ],
   "source": [
    "df.describe().transpose()"
   ]
  },
  {
   "cell_type": "markdown",
   "id": "edbcfc27",
   "metadata": {},
   "source": [
    "For blood pressure and nutrition variables, a value of 5x10^-79 seems erroneous.  Those values will be changed to np.nan."
   ]
  },
  {
   "cell_type": "code",
   "execution_count": 21,
   "id": "b8169927",
   "metadata": {},
   "outputs": [],
   "source": [
    "for var in df.columns:\n",
    "    df.loc[(df[var]>0)&(df[var]<0.0001),var]=np.nan\n"
   ]
  },
  {
   "cell_type": "code",
   "execution_count": 22,
   "id": "0d320a59",
   "metadata": {},
   "outputs": [
    {
     "data": {
      "text/html": [
       "<div>\n",
       "<style scoped>\n",
       "    .dataframe tbody tr th:only-of-type {\n",
       "        vertical-align: middle;\n",
       "    }\n",
       "\n",
       "    .dataframe tbody tr th {\n",
       "        vertical-align: top;\n",
       "    }\n",
       "\n",
       "    .dataframe thead th {\n",
       "        text-align: right;\n",
       "    }\n",
       "</style>\n",
       "<table border=\"1\" class=\"dataframe\">\n",
       "  <thead>\n",
       "    <tr style=\"text-align: right;\">\n",
       "      <th></th>\n",
       "      <th>count</th>\n",
       "      <th>mean</th>\n",
       "      <th>std</th>\n",
       "      <th>min</th>\n",
       "      <th>25%</th>\n",
       "      <th>50%</th>\n",
       "      <th>75%</th>\n",
       "      <th>max</th>\n",
       "    </tr>\n",
       "  </thead>\n",
       "  <tbody>\n",
       "    <tr>\n",
       "      <th>LBXTC</th>\n",
       "      <td>4806.0</td>\n",
       "      <td>189.314607</td>\n",
       "      <td>41.733185</td>\n",
       "      <td>69.000</td>\n",
       "      <td>161.0000</td>\n",
       "      <td>186.000</td>\n",
       "      <td>213.00000</td>\n",
       "      <td>612.000</td>\n",
       "    </tr>\n",
       "    <tr>\n",
       "      <th>RIAGENDR</th>\n",
       "      <td>4806.0</td>\n",
       "      <td>1.512692</td>\n",
       "      <td>0.499891</td>\n",
       "      <td>1.000</td>\n",
       "      <td>1.0000</td>\n",
       "      <td>2.000</td>\n",
       "      <td>2.00000</td>\n",
       "      <td>2.000</td>\n",
       "    </tr>\n",
       "    <tr>\n",
       "      <th>RIDRETH3</th>\n",
       "      <td>4806.0</td>\n",
       "      <td>3.237203</td>\n",
       "      <td>1.525748</td>\n",
       "      <td>1.000</td>\n",
       "      <td>2.0000</td>\n",
       "      <td>3.000</td>\n",
       "      <td>4.00000</td>\n",
       "      <td>7.000</td>\n",
       "    </tr>\n",
       "    <tr>\n",
       "      <th>RIDAGEYR</th>\n",
       "      <td>4806.0</td>\n",
       "      <td>49.548065</td>\n",
       "      <td>17.455878</td>\n",
       "      <td>20.000</td>\n",
       "      <td>35.0000</td>\n",
       "      <td>50.000</td>\n",
       "      <td>64.00000</td>\n",
       "      <td>80.000</td>\n",
       "    </tr>\n",
       "    <tr>\n",
       "      <th>BMXWT</th>\n",
       "      <td>4782.0</td>\n",
       "      <td>82.074885</td>\n",
       "      <td>22.142625</td>\n",
       "      <td>32.300</td>\n",
       "      <td>66.7000</td>\n",
       "      <td>78.600</td>\n",
       "      <td>93.60000</td>\n",
       "      <td>207.200</td>\n",
       "    </tr>\n",
       "    <tr>\n",
       "      <th>BMXHT</th>\n",
       "      <td>4780.0</td>\n",
       "      <td>166.962456</td>\n",
       "      <td>10.010643</td>\n",
       "      <td>137.600</td>\n",
       "      <td>159.6000</td>\n",
       "      <td>166.600</td>\n",
       "      <td>174.20000</td>\n",
       "      <td>202.700</td>\n",
       "    </tr>\n",
       "    <tr>\n",
       "      <th>BMXBMI</th>\n",
       "      <td>4774.0</td>\n",
       "      <td>29.355614</td>\n",
       "      <td>7.189679</td>\n",
       "      <td>14.500</td>\n",
       "      <td>24.3000</td>\n",
       "      <td>28.100</td>\n",
       "      <td>32.90000</td>\n",
       "      <td>74.100</td>\n",
       "    </tr>\n",
       "    <tr>\n",
       "      <th>BPXSY1</th>\n",
       "      <td>4526.0</td>\n",
       "      <td>124.015466</td>\n",
       "      <td>18.488586</td>\n",
       "      <td>66.000</td>\n",
       "      <td>112.0000</td>\n",
       "      <td>122.000</td>\n",
       "      <td>134.00000</td>\n",
       "      <td>236.000</td>\n",
       "    </tr>\n",
       "    <tr>\n",
       "      <th>BPXSY2</th>\n",
       "      <td>4676.0</td>\n",
       "      <td>124.008554</td>\n",
       "      <td>18.599015</td>\n",
       "      <td>66.000</td>\n",
       "      <td>112.0000</td>\n",
       "      <td>122.000</td>\n",
       "      <td>134.00000</td>\n",
       "      <td>230.000</td>\n",
       "    </tr>\n",
       "    <tr>\n",
       "      <th>BPXSY3</th>\n",
       "      <td>4676.0</td>\n",
       "      <td>123.547476</td>\n",
       "      <td>18.316215</td>\n",
       "      <td>62.000</td>\n",
       "      <td>110.0000</td>\n",
       "      <td>120.000</td>\n",
       "      <td>134.00000</td>\n",
       "      <td>228.000</td>\n",
       "    </tr>\n",
       "    <tr>\n",
       "      <th>BPXSY4</th>\n",
       "      <td>268.0</td>\n",
       "      <td>132.522388</td>\n",
       "      <td>21.696482</td>\n",
       "      <td>88.000</td>\n",
       "      <td>118.0000</td>\n",
       "      <td>130.000</td>\n",
       "      <td>144.00000</td>\n",
       "      <td>212.000</td>\n",
       "    </tr>\n",
       "    <tr>\n",
       "      <th>BPXDI1</th>\n",
       "      <td>4502.0</td>\n",
       "      <td>69.378054</td>\n",
       "      <td>11.773491</td>\n",
       "      <td>4.000</td>\n",
       "      <td>62.0000</td>\n",
       "      <td>70.000</td>\n",
       "      <td>76.00000</td>\n",
       "      <td>122.000</td>\n",
       "    </tr>\n",
       "    <tr>\n",
       "      <th>BPXDI2</th>\n",
       "      <td>4637.0</td>\n",
       "      <td>69.186543</td>\n",
       "      <td>11.796993</td>\n",
       "      <td>4.000</td>\n",
       "      <td>62.0000</td>\n",
       "      <td>70.000</td>\n",
       "      <td>76.00000</td>\n",
       "      <td>116.000</td>\n",
       "    </tr>\n",
       "    <tr>\n",
       "      <th>BPXDI3</th>\n",
       "      <td>4628.0</td>\n",
       "      <td>69.170700</td>\n",
       "      <td>11.680691</td>\n",
       "      <td>10.000</td>\n",
       "      <td>62.0000</td>\n",
       "      <td>68.000</td>\n",
       "      <td>76.00000</td>\n",
       "      <td>118.000</td>\n",
       "    </tr>\n",
       "    <tr>\n",
       "      <th>BPXDI4</th>\n",
       "      <td>263.0</td>\n",
       "      <td>72.768061</td>\n",
       "      <td>13.694716</td>\n",
       "      <td>14.000</td>\n",
       "      <td>64.0000</td>\n",
       "      <td>72.000</td>\n",
       "      <td>80.00000</td>\n",
       "      <td>128.000</td>\n",
       "    </tr>\n",
       "    <tr>\n",
       "      <th>BPXPLS</th>\n",
       "      <td>4728.0</td>\n",
       "      <td>71.756768</td>\n",
       "      <td>11.595651</td>\n",
       "      <td>36.000</td>\n",
       "      <td>64.0000</td>\n",
       "      <td>70.000</td>\n",
       "      <td>78.00000</td>\n",
       "      <td>160.000</td>\n",
       "    </tr>\n",
       "    <tr>\n",
       "      <th>BPXPULS</th>\n",
       "      <td>4729.0</td>\n",
       "      <td>1.026010</td>\n",
       "      <td>0.159181</td>\n",
       "      <td>1.000</td>\n",
       "      <td>1.0000</td>\n",
       "      <td>1.000</td>\n",
       "      <td>1.00000</td>\n",
       "      <td>2.000</td>\n",
       "    </tr>\n",
       "    <tr>\n",
       "      <th>DR1TKCAL</th>\n",
       "      <td>4659.0</td>\n",
       "      <td>2091.324319</td>\n",
       "      <td>986.905401</td>\n",
       "      <td>117.000</td>\n",
       "      <td>1434.5000</td>\n",
       "      <td>1935.000</td>\n",
       "      <td>2555.50000</td>\n",
       "      <td>12108.000</td>\n",
       "    </tr>\n",
       "    <tr>\n",
       "      <th>DR1TPROT</th>\n",
       "      <td>4658.0</td>\n",
       "      <td>81.929272</td>\n",
       "      <td>44.027683</td>\n",
       "      <td>1.020</td>\n",
       "      <td>52.3325</td>\n",
       "      <td>73.865</td>\n",
       "      <td>101.37750</td>\n",
       "      <td>513.100</td>\n",
       "    </tr>\n",
       "    <tr>\n",
       "      <th>DR1TCARB</th>\n",
       "      <td>4659.0</td>\n",
       "      <td>247.110060</td>\n",
       "      <td>123.385000</td>\n",
       "      <td>8.670</td>\n",
       "      <td>162.5750</td>\n",
       "      <td>227.440</td>\n",
       "      <td>308.26000</td>\n",
       "      <td>1423.870</td>\n",
       "    </tr>\n",
       "    <tr>\n",
       "      <th>DR1TSUGR</th>\n",
       "      <td>4659.0</td>\n",
       "      <td>105.316364</td>\n",
       "      <td>74.759343</td>\n",
       "      <td>0.130</td>\n",
       "      <td>55.1150</td>\n",
       "      <td>90.610</td>\n",
       "      <td>138.43000</td>\n",
       "      <td>1115.500</td>\n",
       "    </tr>\n",
       "    <tr>\n",
       "      <th>DR1TFIBE</th>\n",
       "      <td>4655.0</td>\n",
       "      <td>16.883394</td>\n",
       "      <td>10.817436</td>\n",
       "      <td>0.100</td>\n",
       "      <td>9.5000</td>\n",
       "      <td>14.500</td>\n",
       "      <td>21.60000</td>\n",
       "      <td>136.300</td>\n",
       "    </tr>\n",
       "    <tr>\n",
       "      <th>DR1TTFAT</th>\n",
       "      <td>4658.0</td>\n",
       "      <td>81.727486</td>\n",
       "      <td>47.457817</td>\n",
       "      <td>0.330</td>\n",
       "      <td>49.9700</td>\n",
       "      <td>73.785</td>\n",
       "      <td>103.00750</td>\n",
       "      <td>548.380</td>\n",
       "    </tr>\n",
       "    <tr>\n",
       "      <th>DR1TSFAT</th>\n",
       "      <td>4658.0</td>\n",
       "      <td>26.217641</td>\n",
       "      <td>16.539733</td>\n",
       "      <td>0.091</td>\n",
       "      <td>14.9790</td>\n",
       "      <td>22.928</td>\n",
       "      <td>33.79300</td>\n",
       "      <td>177.467</td>\n",
       "    </tr>\n",
       "    <tr>\n",
       "      <th>DR1TMFAT</th>\n",
       "      <td>4658.0</td>\n",
       "      <td>28.811211</td>\n",
       "      <td>17.781250</td>\n",
       "      <td>0.136</td>\n",
       "      <td>16.9930</td>\n",
       "      <td>25.572</td>\n",
       "      <td>36.55800</td>\n",
       "      <td>221.673</td>\n",
       "    </tr>\n",
       "    <tr>\n",
       "      <th>DR1TPFAT</th>\n",
       "      <td>4658.0</td>\n",
       "      <td>19.097202</td>\n",
       "      <td>13.220693</td>\n",
       "      <td>0.041</td>\n",
       "      <td>10.2070</td>\n",
       "      <td>16.409</td>\n",
       "      <td>24.55525</td>\n",
       "      <td>182.462</td>\n",
       "    </tr>\n",
       "    <tr>\n",
       "      <th>DR1TCHOL</th>\n",
       "      <td>4639.0</td>\n",
       "      <td>301.563915</td>\n",
       "      <td>239.012153</td>\n",
       "      <td>1.000</td>\n",
       "      <td>135.0000</td>\n",
       "      <td>234.000</td>\n",
       "      <td>408.00000</td>\n",
       "      <td>2352.000</td>\n",
       "    </tr>\n",
       "    <tr>\n",
       "      <th>DR1TSODI</th>\n",
       "      <td>4659.0</td>\n",
       "      <td>3504.297918</td>\n",
       "      <td>1846.389627</td>\n",
       "      <td>29.000</td>\n",
       "      <td>2248.5000</td>\n",
       "      <td>3175.000</td>\n",
       "      <td>4354.00000</td>\n",
       "      <td>21399.000</td>\n",
       "    </tr>\n",
       "    <tr>\n",
       "      <th>DR1TVD</th>\n",
       "      <td>4526.0</td>\n",
       "      <td>4.644808</td>\n",
       "      <td>6.155899</td>\n",
       "      <td>0.100</td>\n",
       "      <td>1.2000</td>\n",
       "      <td>2.900</td>\n",
       "      <td>5.80000</td>\n",
       "      <td>78.100</td>\n",
       "    </tr>\n",
       "    <tr>\n",
       "      <th>DR1TCALC</th>\n",
       "      <td>4659.0</td>\n",
       "      <td>905.860056</td>\n",
       "      <td>583.700992</td>\n",
       "      <td>18.000</td>\n",
       "      <td>502.0000</td>\n",
       "      <td>787.000</td>\n",
       "      <td>1152.00000</td>\n",
       "      <td>7337.000</td>\n",
       "    </tr>\n",
       "    <tr>\n",
       "      <th>DR1TIRON</th>\n",
       "      <td>4659.0</td>\n",
       "      <td>13.843801</td>\n",
       "      <td>8.008768</td>\n",
       "      <td>0.050</td>\n",
       "      <td>8.3950</td>\n",
       "      <td>12.140</td>\n",
       "      <td>17.61500</td>\n",
       "      <td>89.550</td>\n",
       "    </tr>\n",
       "    <tr>\n",
       "      <th>DR1TPOTA</th>\n",
       "      <td>4659.0</td>\n",
       "      <td>2554.507405</td>\n",
       "      <td>1217.422238</td>\n",
       "      <td>68.000</td>\n",
       "      <td>1695.0000</td>\n",
       "      <td>2384.000</td>\n",
       "      <td>3218.50000</td>\n",
       "      <td>14072.000</td>\n",
       "    </tr>\n",
       "    <tr>\n",
       "      <th>DR1_300</th>\n",
       "      <td>4641.0</td>\n",
       "      <td>2.109890</td>\n",
       "      <td>0.523984</td>\n",
       "      <td>1.000</td>\n",
       "      <td>2.0000</td>\n",
       "      <td>2.000</td>\n",
       "      <td>2.00000</td>\n",
       "      <td>3.000</td>\n",
       "    </tr>\n",
       "    <tr>\n",
       "      <th>ALQ101</th>\n",
       "      <td>4603.0</td>\n",
       "      <td>1.296546</td>\n",
       "      <td>0.456784</td>\n",
       "      <td>1.000</td>\n",
       "      <td>1.0000</td>\n",
       "      <td>1.000</td>\n",
       "      <td>2.00000</td>\n",
       "      <td>2.000</td>\n",
       "    </tr>\n",
       "    <tr>\n",
       "      <th>ALQ110</th>\n",
       "      <td>4605.0</td>\n",
       "      <td>1.160043</td>\n",
       "      <td>0.366686</td>\n",
       "      <td>1.000</td>\n",
       "      <td>1.0000</td>\n",
       "      <td>1.000</td>\n",
       "      <td>1.00000</td>\n",
       "      <td>2.000</td>\n",
       "    </tr>\n",
       "    <tr>\n",
       "      <th>ALQ120Q</th>\n",
       "      <td>3837.0</td>\n",
       "      <td>3.398228</td>\n",
       "      <td>13.375595</td>\n",
       "      <td>0.000</td>\n",
       "      <td>1.0000</td>\n",
       "      <td>2.000</td>\n",
       "      <td>4.00000</td>\n",
       "      <td>365.000</td>\n",
       "    </tr>\n",
       "    <tr>\n",
       "      <th>ALQ120U</th>\n",
       "      <td>3837.0</td>\n",
       "      <td>1.735470</td>\n",
       "      <td>0.843379</td>\n",
       "      <td>1.000</td>\n",
       "      <td>1.0000</td>\n",
       "      <td>1.000</td>\n",
       "      <td>3.00000</td>\n",
       "      <td>3.000</td>\n",
       "    </tr>\n",
       "    <tr>\n",
       "      <th>ALQ130</th>\n",
       "      <td>3836.0</td>\n",
       "      <td>2.194734</td>\n",
       "      <td>2.425072</td>\n",
       "      <td>0.000</td>\n",
       "      <td>1.0000</td>\n",
       "      <td>2.000</td>\n",
       "      <td>3.00000</td>\n",
       "      <td>25.000</td>\n",
       "    </tr>\n",
       "    <tr>\n",
       "      <th>BPQ020</th>\n",
       "      <td>4801.0</td>\n",
       "      <td>1.621121</td>\n",
       "      <td>0.485159</td>\n",
       "      <td>1.000</td>\n",
       "      <td>1.0000</td>\n",
       "      <td>2.000</td>\n",
       "      <td>2.00000</td>\n",
       "      <td>2.000</td>\n",
       "    </tr>\n",
       "    <tr>\n",
       "      <th>BPQ040A</th>\n",
       "      <td>4800.0</td>\n",
       "      <td>1.673542</td>\n",
       "      <td>0.468966</td>\n",
       "      <td>1.000</td>\n",
       "      <td>1.0000</td>\n",
       "      <td>2.000</td>\n",
       "      <td>2.00000</td>\n",
       "      <td>2.000</td>\n",
       "    </tr>\n",
       "    <tr>\n",
       "      <th>BPQ050A</th>\n",
       "      <td>4548.0</td>\n",
       "      <td>1.702067</td>\n",
       "      <td>0.457400</td>\n",
       "      <td>1.000</td>\n",
       "      <td>1.0000</td>\n",
       "      <td>2.000</td>\n",
       "      <td>2.00000</td>\n",
       "      <td>2.000</td>\n",
       "    </tr>\n",
       "    <tr>\n",
       "      <th>BPQ080</th>\n",
       "      <td>4774.0</td>\n",
       "      <td>1.638877</td>\n",
       "      <td>0.480376</td>\n",
       "      <td>1.000</td>\n",
       "      <td>1.0000</td>\n",
       "      <td>2.000</td>\n",
       "      <td>2.00000</td>\n",
       "      <td>2.000</td>\n",
       "    </tr>\n",
       "    <tr>\n",
       "      <th>BPQ090D</th>\n",
       "      <td>4788.0</td>\n",
       "      <td>1.754595</td>\n",
       "      <td>0.430372</td>\n",
       "      <td>1.000</td>\n",
       "      <td>2.0000</td>\n",
       "      <td>2.000</td>\n",
       "      <td>2.00000</td>\n",
       "      <td>2.000</td>\n",
       "    </tr>\n",
       "    <tr>\n",
       "      <th>BPQ100D</th>\n",
       "      <td>4223.0</td>\n",
       "      <td>1.792565</td>\n",
       "      <td>0.405518</td>\n",
       "      <td>1.000</td>\n",
       "      <td>2.0000</td>\n",
       "      <td>2.000</td>\n",
       "      <td>2.00000</td>\n",
       "      <td>2.000</td>\n",
       "    </tr>\n",
       "    <tr>\n",
       "      <th>DIQ010</th>\n",
       "      <td>4805.0</td>\n",
       "      <td>1.896566</td>\n",
       "      <td>0.387565</td>\n",
       "      <td>1.000</td>\n",
       "      <td>2.0000</td>\n",
       "      <td>2.000</td>\n",
       "      <td>2.00000</td>\n",
       "      <td>3.000</td>\n",
       "    </tr>\n",
       "    <tr>\n",
       "      <th>MCQ160M</th>\n",
       "      <td>4799.0</td>\n",
       "      <td>1.894561</td>\n",
       "      <td>0.307150</td>\n",
       "      <td>1.000</td>\n",
       "      <td>2.0000</td>\n",
       "      <td>2.000</td>\n",
       "      <td>2.00000</td>\n",
       "      <td>2.000</td>\n",
       "    </tr>\n",
       "    <tr>\n",
       "      <th>MCQ170M</th>\n",
       "      <td>4779.0</td>\n",
       "      <td>1.922369</td>\n",
       "      <td>0.267619</td>\n",
       "      <td>1.000</td>\n",
       "      <td>2.0000</td>\n",
       "      <td>2.000</td>\n",
       "      <td>2.00000</td>\n",
       "      <td>2.000</td>\n",
       "    </tr>\n",
       "    <tr>\n",
       "      <th>SMQ681</th>\n",
       "      <td>4606.0</td>\n",
       "      <td>1.765740</td>\n",
       "      <td>0.423581</td>\n",
       "      <td>1.000</td>\n",
       "      <td>2.0000</td>\n",
       "      <td>2.000</td>\n",
       "      <td>2.00000</td>\n",
       "      <td>2.000</td>\n",
       "    </tr>\n",
       "    <tr>\n",
       "      <th>PAQ605</th>\n",
       "      <td>4804.0</td>\n",
       "      <td>1.800167</td>\n",
       "      <td>0.399917</td>\n",
       "      <td>1.000</td>\n",
       "      <td>2.0000</td>\n",
       "      <td>2.000</td>\n",
       "      <td>2.00000</td>\n",
       "      <td>2.000</td>\n",
       "    </tr>\n",
       "    <tr>\n",
       "      <th>PAQ610</th>\n",
       "      <td>4802.0</td>\n",
       "      <td>0.798001</td>\n",
       "      <td>1.790650</td>\n",
       "      <td>0.000</td>\n",
       "      <td>0.0000</td>\n",
       "      <td>0.000</td>\n",
       "      <td>0.00000</td>\n",
       "      <td>7.000</td>\n",
       "    </tr>\n",
       "    <tr>\n",
       "      <th>PAD615</th>\n",
       "      <td>4792.0</td>\n",
       "      <td>36.603715</td>\n",
       "      <td>99.304459</td>\n",
       "      <td>0.000</td>\n",
       "      <td>0.0000</td>\n",
       "      <td>0.000</td>\n",
       "      <td>0.00000</td>\n",
       "      <td>840.000</td>\n",
       "    </tr>\n",
       "    <tr>\n",
       "      <th>PAQ620</th>\n",
       "      <td>4804.0</td>\n",
       "      <td>1.635720</td>\n",
       "      <td>0.481278</td>\n",
       "      <td>1.000</td>\n",
       "      <td>1.0000</td>\n",
       "      <td>2.000</td>\n",
       "      <td>2.00000</td>\n",
       "      <td>2.000</td>\n",
       "    </tr>\n",
       "    <tr>\n",
       "      <th>PAQ625</th>\n",
       "      <td>4801.0</td>\n",
       "      <td>1.542804</td>\n",
       "      <td>2.309376</td>\n",
       "      <td>0.000</td>\n",
       "      <td>0.0000</td>\n",
       "      <td>0.000</td>\n",
       "      <td>3.00000</td>\n",
       "      <td>7.000</td>\n",
       "    </tr>\n",
       "    <tr>\n",
       "      <th>PAD630</th>\n",
       "      <td>4790.0</td>\n",
       "      <td>57.882046</td>\n",
       "      <td>114.499529</td>\n",
       "      <td>0.000</td>\n",
       "      <td>0.0000</td>\n",
       "      <td>0.000</td>\n",
       "      <td>60.00000</td>\n",
       "      <td>990.000</td>\n",
       "    </tr>\n",
       "    <tr>\n",
       "      <th>PAQ650</th>\n",
       "      <td>4806.0</td>\n",
       "      <td>1.776529</td>\n",
       "      <td>0.416614</td>\n",
       "      <td>1.000</td>\n",
       "      <td>2.0000</td>\n",
       "      <td>2.000</td>\n",
       "      <td>2.00000</td>\n",
       "      <td>2.000</td>\n",
       "    </tr>\n",
       "    <tr>\n",
       "      <th>PAQ655</th>\n",
       "      <td>4805.0</td>\n",
       "      <td>0.726119</td>\n",
       "      <td>1.542458</td>\n",
       "      <td>0.000</td>\n",
       "      <td>0.0000</td>\n",
       "      <td>0.000</td>\n",
       "      <td>0.00000</td>\n",
       "      <td>7.000</td>\n",
       "    </tr>\n",
       "    <tr>\n",
       "      <th>PAD660</th>\n",
       "      <td>4802.0</td>\n",
       "      <td>17.232820</td>\n",
       "      <td>42.658923</td>\n",
       "      <td>0.000</td>\n",
       "      <td>0.0000</td>\n",
       "      <td>0.000</td>\n",
       "      <td>0.00000</td>\n",
       "      <td>480.000</td>\n",
       "    </tr>\n",
       "    <tr>\n",
       "      <th>PAQ665</th>\n",
       "      <td>4803.0</td>\n",
       "      <td>1.592755</td>\n",
       "      <td>0.491372</td>\n",
       "      <td>1.000</td>\n",
       "      <td>1.0000</td>\n",
       "      <td>2.000</td>\n",
       "      <td>2.00000</td>\n",
       "      <td>2.000</td>\n",
       "    </tr>\n",
       "    <tr>\n",
       "      <th>PAQ670</th>\n",
       "      <td>4803.0</td>\n",
       "      <td>1.408286</td>\n",
       "      <td>2.049184</td>\n",
       "      <td>0.000</td>\n",
       "      <td>0.0000</td>\n",
       "      <td>0.000</td>\n",
       "      <td>3.00000</td>\n",
       "      <td>7.000</td>\n",
       "    </tr>\n",
       "    <tr>\n",
       "      <th>PAD675</th>\n",
       "      <td>4800.0</td>\n",
       "      <td>25.534167</td>\n",
       "      <td>47.960658</td>\n",
       "      <td>0.000</td>\n",
       "      <td>0.0000</td>\n",
       "      <td>0.000</td>\n",
       "      <td>30.00000</td>\n",
       "      <td>600.000</td>\n",
       "    </tr>\n",
       "  </tbody>\n",
       "</table>\n",
       "</div>"
      ],
      "text/plain": [
       "           count         mean          std      min        25%       50%  \\\n",
       "LBXTC     4806.0   189.314607    41.733185   69.000   161.0000   186.000   \n",
       "RIAGENDR  4806.0     1.512692     0.499891    1.000     1.0000     2.000   \n",
       "RIDRETH3  4806.0     3.237203     1.525748    1.000     2.0000     3.000   \n",
       "RIDAGEYR  4806.0    49.548065    17.455878   20.000    35.0000    50.000   \n",
       "BMXWT     4782.0    82.074885    22.142625   32.300    66.7000    78.600   \n",
       "BMXHT     4780.0   166.962456    10.010643  137.600   159.6000   166.600   \n",
       "BMXBMI    4774.0    29.355614     7.189679   14.500    24.3000    28.100   \n",
       "BPXSY1    4526.0   124.015466    18.488586   66.000   112.0000   122.000   \n",
       "BPXSY2    4676.0   124.008554    18.599015   66.000   112.0000   122.000   \n",
       "BPXSY3    4676.0   123.547476    18.316215   62.000   110.0000   120.000   \n",
       "BPXSY4     268.0   132.522388    21.696482   88.000   118.0000   130.000   \n",
       "BPXDI1    4502.0    69.378054    11.773491    4.000    62.0000    70.000   \n",
       "BPXDI2    4637.0    69.186543    11.796993    4.000    62.0000    70.000   \n",
       "BPXDI3    4628.0    69.170700    11.680691   10.000    62.0000    68.000   \n",
       "BPXDI4     263.0    72.768061    13.694716   14.000    64.0000    72.000   \n",
       "BPXPLS    4728.0    71.756768    11.595651   36.000    64.0000    70.000   \n",
       "BPXPULS   4729.0     1.026010     0.159181    1.000     1.0000     1.000   \n",
       "DR1TKCAL  4659.0  2091.324319   986.905401  117.000  1434.5000  1935.000   \n",
       "DR1TPROT  4658.0    81.929272    44.027683    1.020    52.3325    73.865   \n",
       "DR1TCARB  4659.0   247.110060   123.385000    8.670   162.5750   227.440   \n",
       "DR1TSUGR  4659.0   105.316364    74.759343    0.130    55.1150    90.610   \n",
       "DR1TFIBE  4655.0    16.883394    10.817436    0.100     9.5000    14.500   \n",
       "DR1TTFAT  4658.0    81.727486    47.457817    0.330    49.9700    73.785   \n",
       "DR1TSFAT  4658.0    26.217641    16.539733    0.091    14.9790    22.928   \n",
       "DR1TMFAT  4658.0    28.811211    17.781250    0.136    16.9930    25.572   \n",
       "DR1TPFAT  4658.0    19.097202    13.220693    0.041    10.2070    16.409   \n",
       "DR1TCHOL  4639.0   301.563915   239.012153    1.000   135.0000   234.000   \n",
       "DR1TSODI  4659.0  3504.297918  1846.389627   29.000  2248.5000  3175.000   \n",
       "DR1TVD    4526.0     4.644808     6.155899    0.100     1.2000     2.900   \n",
       "DR1TCALC  4659.0   905.860056   583.700992   18.000   502.0000   787.000   \n",
       "DR1TIRON  4659.0    13.843801     8.008768    0.050     8.3950    12.140   \n",
       "DR1TPOTA  4659.0  2554.507405  1217.422238   68.000  1695.0000  2384.000   \n",
       "DR1_300   4641.0     2.109890     0.523984    1.000     2.0000     2.000   \n",
       "ALQ101    4603.0     1.296546     0.456784    1.000     1.0000     1.000   \n",
       "ALQ110    4605.0     1.160043     0.366686    1.000     1.0000     1.000   \n",
       "ALQ120Q   3837.0     3.398228    13.375595    0.000     1.0000     2.000   \n",
       "ALQ120U   3837.0     1.735470     0.843379    1.000     1.0000     1.000   \n",
       "ALQ130    3836.0     2.194734     2.425072    0.000     1.0000     2.000   \n",
       "BPQ020    4801.0     1.621121     0.485159    1.000     1.0000     2.000   \n",
       "BPQ040A   4800.0     1.673542     0.468966    1.000     1.0000     2.000   \n",
       "BPQ050A   4548.0     1.702067     0.457400    1.000     1.0000     2.000   \n",
       "BPQ080    4774.0     1.638877     0.480376    1.000     1.0000     2.000   \n",
       "BPQ090D   4788.0     1.754595     0.430372    1.000     2.0000     2.000   \n",
       "BPQ100D   4223.0     1.792565     0.405518    1.000     2.0000     2.000   \n",
       "DIQ010    4805.0     1.896566     0.387565    1.000     2.0000     2.000   \n",
       "MCQ160M   4799.0     1.894561     0.307150    1.000     2.0000     2.000   \n",
       "MCQ170M   4779.0     1.922369     0.267619    1.000     2.0000     2.000   \n",
       "SMQ681    4606.0     1.765740     0.423581    1.000     2.0000     2.000   \n",
       "PAQ605    4804.0     1.800167     0.399917    1.000     2.0000     2.000   \n",
       "PAQ610    4802.0     0.798001     1.790650    0.000     0.0000     0.000   \n",
       "PAD615    4792.0    36.603715    99.304459    0.000     0.0000     0.000   \n",
       "PAQ620    4804.0     1.635720     0.481278    1.000     1.0000     2.000   \n",
       "PAQ625    4801.0     1.542804     2.309376    0.000     0.0000     0.000   \n",
       "PAD630    4790.0    57.882046   114.499529    0.000     0.0000     0.000   \n",
       "PAQ650    4806.0     1.776529     0.416614    1.000     2.0000     2.000   \n",
       "PAQ655    4805.0     0.726119     1.542458    0.000     0.0000     0.000   \n",
       "PAD660    4802.0    17.232820    42.658923    0.000     0.0000     0.000   \n",
       "PAQ665    4803.0     1.592755     0.491372    1.000     1.0000     2.000   \n",
       "PAQ670    4803.0     1.408286     2.049184    0.000     0.0000     0.000   \n",
       "PAD675    4800.0    25.534167    47.960658    0.000     0.0000     0.000   \n",
       "\n",
       "                 75%        max  \n",
       "LBXTC      213.00000    612.000  \n",
       "RIAGENDR     2.00000      2.000  \n",
       "RIDRETH3     4.00000      7.000  \n",
       "RIDAGEYR    64.00000     80.000  \n",
       "BMXWT       93.60000    207.200  \n",
       "BMXHT      174.20000    202.700  \n",
       "BMXBMI      32.90000     74.100  \n",
       "BPXSY1     134.00000    236.000  \n",
       "BPXSY2     134.00000    230.000  \n",
       "BPXSY3     134.00000    228.000  \n",
       "BPXSY4     144.00000    212.000  \n",
       "BPXDI1      76.00000    122.000  \n",
       "BPXDI2      76.00000    116.000  \n",
       "BPXDI3      76.00000    118.000  \n",
       "BPXDI4      80.00000    128.000  \n",
       "BPXPLS      78.00000    160.000  \n",
       "BPXPULS      1.00000      2.000  \n",
       "DR1TKCAL  2555.50000  12108.000  \n",
       "DR1TPROT   101.37750    513.100  \n",
       "DR1TCARB   308.26000   1423.870  \n",
       "DR1TSUGR   138.43000   1115.500  \n",
       "DR1TFIBE    21.60000    136.300  \n",
       "DR1TTFAT   103.00750    548.380  \n",
       "DR1TSFAT    33.79300    177.467  \n",
       "DR1TMFAT    36.55800    221.673  \n",
       "DR1TPFAT    24.55525    182.462  \n",
       "DR1TCHOL   408.00000   2352.000  \n",
       "DR1TSODI  4354.00000  21399.000  \n",
       "DR1TVD       5.80000     78.100  \n",
       "DR1TCALC  1152.00000   7337.000  \n",
       "DR1TIRON    17.61500     89.550  \n",
       "DR1TPOTA  3218.50000  14072.000  \n",
       "DR1_300      2.00000      3.000  \n",
       "ALQ101       2.00000      2.000  \n",
       "ALQ110       1.00000      2.000  \n",
       "ALQ120Q      4.00000    365.000  \n",
       "ALQ120U      3.00000      3.000  \n",
       "ALQ130       3.00000     25.000  \n",
       "BPQ020       2.00000      2.000  \n",
       "BPQ040A      2.00000      2.000  \n",
       "BPQ050A      2.00000      2.000  \n",
       "BPQ080       2.00000      2.000  \n",
       "BPQ090D      2.00000      2.000  \n",
       "BPQ100D      2.00000      2.000  \n",
       "DIQ010       2.00000      3.000  \n",
       "MCQ160M      2.00000      2.000  \n",
       "MCQ170M      2.00000      2.000  \n",
       "SMQ681       2.00000      2.000  \n",
       "PAQ605       2.00000      2.000  \n",
       "PAQ610       0.00000      7.000  \n",
       "PAD615       0.00000    840.000  \n",
       "PAQ620       2.00000      2.000  \n",
       "PAQ625       3.00000      7.000  \n",
       "PAD630      60.00000    990.000  \n",
       "PAQ650       2.00000      2.000  \n",
       "PAQ655       0.00000      7.000  \n",
       "PAD660       0.00000    480.000  \n",
       "PAQ665       2.00000      2.000  \n",
       "PAQ670       3.00000      7.000  \n",
       "PAD675      30.00000    600.000  "
      ]
     },
     "execution_count": 22,
     "metadata": {},
     "output_type": "execute_result"
    }
   ],
   "source": [
    "df.describe().transpose()"
   ]
  },
  {
   "cell_type": "markdown",
   "id": "0ace5cd3",
   "metadata": {},
   "source": [
    "Maximum calories of 12,000 seems alot but I am assuming it is correct.\n",
    "\n",
    "Looking at unique values of categorical variables to see if there are any erronous values..."
   ]
  },
  {
   "cell_type": "code",
   "execution_count": 23,
   "id": "8717e4ef",
   "metadata": {},
   "outputs": [
    {
     "name": "stdout",
     "output_type": "stream",
     "text": [
      "RIAGENDR: [1. 2.]\n",
      "RIDRETH3: [3. 4. 1. 7. 2. 6.]\n",
      "BPXPULS: [ 1.  2. nan]\n",
      "DR1_300: [ 2.  1.  3. nan]\n",
      "ALQ101: [ 1.  2. nan]\n",
      "ALQ110: [ 1.  2. nan]\n",
      "ALQ120U: [ 1. nan  3.  2.]\n",
      "BPQ020: [ 2.  1. nan]\n",
      "BPQ040A: [ 2.  1. nan]\n",
      "BPQ050A: [ 2.  1. nan]\n",
      "BPQ080: [ 2.  1. nan]\n",
      "BPQ090D: [ 2.  1. nan]\n",
      "BPQ100D: [ 2. nan  1.]\n",
      "DIQ010: [ 2.  1.  3. nan]\n",
      "MCQ160M: [ 2.  1. nan]\n",
      "MCQ170M: [ 2.  1. nan]\n",
      "SMQ681: [ 1.  2. nan]\n",
      "PAQ605: [ 2.  1. nan]\n",
      "PAQ620: [ 2.  1. nan]\n",
      "PAQ650: [2. 1.]\n",
      "PAQ665: [ 2.  1. nan]\n"
     ]
    }
   ],
   "source": [
    "categorical_variables = ['RIAGENDR','RIDRETH3','BPXPULS','DR1_300','ALQ101','ALQ110','ALQ120U',\n",
    "                        'BPQ020','BPQ040A','BPQ050A','BPQ080','BPQ090D','BPQ100D','DIQ010',\n",
    "                        'MCQ160M','MCQ170M','SMQ681','PAQ605','PAQ620','PAQ650','PAQ665']\n",
    "for var in categorical_variables:\n",
    "    print(\"{}:\".format(var),df[var].unique())\n"
   ]
  },
  {
   "cell_type": "markdown",
   "id": "ffcc2371",
   "metadata": {},
   "source": [
    "No erroneous values"
   ]
  },
  {
   "cell_type": "markdown",
   "id": "c7e2a46f",
   "metadata": {},
   "source": [
    "## Feature Engineering"
   ]
  },
  {
   "cell_type": "markdown",
   "id": "ffaf9d16",
   "metadata": {},
   "source": [
    "### Blood Pressure\n",
    "Three or four blood pressure readings were taken.   For modeling, the median of all blood pressure readings will be taken and the original blood pressure readings will be dropped.  "
   ]
  },
  {
   "cell_type": "code",
   "execution_count": 24,
   "id": "daa86cde",
   "metadata": {},
   "outputs": [],
   "source": [
    "df['Systolic'] = df[['BPXSY1','BPXSY2','BPXSY3','BPXSY4']].median(axis=1)\n",
    "df[\"Diastolic\"] = df[['BPXDI1','BPXDI2','BPXDI3','BPXDI4']].median(axis=1)\n",
    "df.drop(['BPXSY1','BPXSY2','BPXSY3','BPXSY4','BPXDI1','BPXDI2','BPXDI3','BPXDI4'],axis=1,inplace=True)"
   ]
  },
  {
   "cell_type": "markdown",
   "id": "55da5d8e",
   "metadata": {},
   "source": [
    "### Daily average physical activity\n",
    "\n",
    "\n",
    "# note to self, need to rewrite this"
   ]
  },
  {
   "cell_type": "code",
   "execution_count": 25,
   "id": "3842d854",
   "metadata": {},
   "outputs": [],
   "source": [
    "df['avg_daily_vigorous_activity'] = (df.PAQ610*df.PAD615+df.PAQ655*df.PAD660)/7\n",
    "df['avg_daily_moderate_activity'] = (df.PAQ625*df.PAD630+df.PAQ670*df.PAD675)/7\n",
    "df.drop(['PAQ610','PAD615','PAQ655','PAD660','PAQ625','PAD630','PAQ670','PAD675'],axis=1,inplace=True)"
   ]
  },
  {
   "cell_type": "markdown",
   "id": "a3637968",
   "metadata": {},
   "source": [
    "### Transformed nutritional varaibles\n",
    "DR1_300 asks how much you consumed compares to average, with 1 being more than usual, 2 being usual, and 3 being less than usual.  I am going to create average daily nutrition intakes using these values by multiplying the nutritional values by 1/2 if the repsonse to DR1_300 was 1, keeping them the same if the response to DR1_300 was 2, and multiplying by 2 if the response to DR1_300 was 3.  Then I will drop the original nutrition values and DR1_300.\n",
    "\n",
    "# need to say more on why you are doing this."
   ]
  },
  {
   "cell_type": "code",
   "execution_count": 26,
   "id": "bc11ba6e",
   "metadata": {},
   "outputs": [],
   "source": [
    "powers = df.DR1_300 - 2\n",
    "nutrition_variables = ['DR1TKCAL', 'DR1TPROT', 'DR1TCARB', 'DR1TSUGR',\n",
    "       'DR1TFIBE', 'DR1TTFAT', 'DR1TSFAT', 'DR1TMFAT', 'DR1TPFAT', 'DR1TCHOL',\n",
    "       'DR1TSODI', 'DR1TVD', 'DR1TCALC', 'DR1TIRON', 'DR1TPOTA']\n",
    "for var in nutrition_variables:\n",
    "    name = \"{}_t\".format(var)\n",
    "    df[name] = df[var]*2**powers\n",
    "    df.drop(var,axis=1,inplace=True)\n",
    "df.drop('DR1_300',axis=1,inplace=True)\n",
    "del powers\n",
    "del nutrition_variables"
   ]
  },
  {
   "cell_type": "markdown",
   "id": "fdfaaebc",
   "metadata": {},
   "source": [
    "### Average daily alcohol consumption\n",
    "\n",
    "ALQ120Q asks how often do you drink alcohol in the past year\n",
    "ALQ120U asks the unit where\n",
    "1 means week\n",
    "2 means month\n",
    "3 means year\n",
    "\n",
    "I am going to replace week with 52, month with 12, year with 1 then multiiply these balues by ALQ120Q and then by ALQ130 (how many drinks on days you drink) then divide by 365 to get the daily average"
   ]
  },
  {
   "cell_type": "code",
   "execution_count": 27,
   "id": "3b7a2c0d",
   "metadata": {},
   "outputs": [],
   "source": [
    "df['avgALC'] = df.ALQ120Q*df.ALQ120U.replace({1:52,2:12,3:1})*df.ALQ130/365"
   ]
  },
  {
   "cell_type": "markdown",
   "id": "c693ec33",
   "metadata": {},
   "source": [
    "### Dropping categorical variables\n",
    "\n",
    "I am dropping the following variables from the dataframe:\n",
    "\n",
    "* ALQ101, had at least 12 drinks in the past year; as the questionaire covers how much alcohol a person drinks, this is not needed\n",
    "* ALQ110, had at least 12 drinks in your lifetime; same reason\n",
    "* PAQ605, vigorous activity at work; can be inferred by number of minutes\n",
    "* PAQ620, moderate work activity; same reason\n",
    "* PAQ650, vigorous recreational activity; same reason\n",
    "* PAQ665, moderate recreational activity; same reason\n",
    "* BPQ040A, have you ever been told to take medication for blood pressure; as there is a question on now taking medication, I feel this is not important\n",
    "* BPQ090D, told to take medication for high cholesterol; same\n",
    "* MCQ160M, have you ever been told you have thyroid problems; as there is a question asking do you now have thyroid problems, I feel that question is more relevant\n",
    "\n",
    "Other thoughts\n",
    "* BPQ020, have you ever been told you have high blood pressure\n",
    "* BPQ080, have you ever been told you have high cholesterol\n",
    "* DIQ010, have you ever been told you have diabetes\n",
    "\n",
    "It would be better for these questions to know if the person now has these conditions.  I have considered dropping these but am keeping these for the time being."
   ]
  },
  {
   "cell_type": "code",
   "execution_count": 28,
   "id": "615d7ed2",
   "metadata": {},
   "outputs": [],
   "source": [
    "df.drop(['ALQ101','ALQ110','PAQ605','PAQ620','PAQ650','PAQ665','BPQ040A','BPQ090D','MCQ160M'],axis=1,inplace=True)"
   ]
  },
  {
   "cell_type": "markdown",
   "id": "0c4328fa",
   "metadata": {},
   "source": [
    "### Changing values of categorical variables\n",
    "For yes/no questions, I am going to replace no with 0 and yes with 1\n",
    "For gender, 0 will be female and 1 male\n",
    "For diabetes, 0 will be never diagnosed, 1 diagnosed with prediabetes, and 2 diabetic"
   ]
  },
  {
   "cell_type": "code",
   "execution_count": 29,
   "id": "4ffef37d",
   "metadata": {},
   "outputs": [],
   "source": [
    "df.RIAGENDR.replace({2:0},inplace=True)\n",
    "df.DIQ010.replace({1:2,2:0,3:1},inplace=True)\n",
    "df.BPXPULS.replace({1:0,2:1},inplace=True)\n",
    "df.BPQ020.replace({2:0},inplace=True)\n",
    "df.BPQ050A.replace({2:0},inplace=True)\n",
    "df.BPQ080.replace({2:0},inplace=True)\n",
    "df.BPQ100D.replace({2:0},inplace=True)\n",
    "df.MCQ170M.replace({2:0},inplace=True)\n",
    "df.SMQ681.replace({2:0},inplace=True)\n"
   ]
  },
  {
   "cell_type": "markdown",
   "id": "9415237f",
   "metadata": {},
   "source": [
    "# Looking for outliers\n",
    "\n",
    "Using DBSCAN, LOF, and using 3*IQR, I'm going to check for outliers.  First I will create an outliers variable so that if there are outliers, it can be marked"
   ]
  },
  {
   "cell_type": "code",
   "execution_count": 30,
   "id": "ba63cca4",
   "metadata": {},
   "outputs": [],
   "source": [
    "numerical_variables = [x for x in df.columns if x not in categorical_variables]"
   ]
  },
  {
   "cell_type": "code",
   "execution_count": 31,
   "id": "557626f0",
   "metadata": {},
   "outputs": [],
   "source": [
    "df['outlier']=0"
   ]
  },
  {
   "cell_type": "markdown",
   "id": "dbfd7117",
   "metadata": {},
   "source": [
    "## Using DBSCAN to look for outliers\n",
    "\n",
    "Using the elbow method and a k_neighbors graph to find an epsilon. \n",
    "In order to use neighbors and DBSCAN missing values need to be dropped"
   ]
  },
  {
   "cell_type": "code",
   "execution_count": 32,
   "id": "f0160f03",
   "metadata": {},
   "outputs": [
    {
     "data": {
      "text/plain": [
       "(2896, 40)"
      ]
     },
     "execution_count": 32,
     "metadata": {},
     "output_type": "execute_result"
    }
   ],
   "source": [
    "df2 = df.dropna()\n",
    "df2.shape"
   ]
  },
  {
   "cell_type": "code",
   "execution_count": 33,
   "id": "c4fa89df",
   "metadata": {},
   "outputs": [
    {
     "name": "stdout",
     "output_type": "stream",
     "text": [
      "The elbow occurs at 3313.5410680057676\n"
     ]
    },
    {
     "data": {
      "image/png": "[encoded data removed]",
      "text/plain": [
       "<Figure size 432x288 with 1 Axes>"
      ]
     },
     "metadata": {
      "needs_background": "light"
     },
     "output_type": "display_data"
    }
   ],
   "source": [
    "neighbors = NearestNeighbors(n_neighbors=75)\n",
    "neighbors_fit = neighbors.fit(df2)\n",
    "distances, _ = neighbors_fit.kneighbors(df2)\n",
    "distances = np.sort(distances, axis=0)\n",
    "distances = distances[:,74]\n",
    "plt.plot(distances)\n",
    "kl = KneeLocator(x=range(df2.shape[0]),y=distances,direction='increasing',curve='convex')\n",
    "elbow = kl.elbow\n",
    "plt.axvline(x=elbow, ymin=0, ymax = max(distances), color='red')\n",
    "print('The elbow occurs at',distances[elbow])\n"
   ]
  },
  {
   "cell_type": "markdown",
   "id": "665567ee",
   "metadata": {},
   "source": [
    "The epsilon suggested is 3313."
   ]
  },
  {
   "cell_type": "code",
   "execution_count": 34,
   "id": "4f24b504",
   "metadata": {},
   "outputs": [],
   "source": [
    "db = DBSCAN(eps=3313, min_samples=41)"
   ]
  },
  {
   "cell_type": "code",
   "execution_count": 35,
   "id": "067cf217",
   "metadata": {},
   "outputs": [],
   "source": [
    "preds = db.fit_predict(df2)"
   ]
  },
  {
   "cell_type": "code",
   "execution_count": 36,
   "id": "4f90edf4",
   "metadata": {},
   "outputs": [
    {
     "data": {
      "text/plain": [
       "36"
      ]
     },
     "execution_count": 36,
     "metadata": {},
     "output_type": "execute_result"
    }
   ],
   "source": [
    "sum(preds==-1)"
   ]
  },
  {
   "cell_type": "markdown",
   "id": "8e7af50e",
   "metadata": {},
   "source": [
    "According to DBSCAN there are 36 outliers"
   ]
  },
  {
   "cell_type": "code",
   "execution_count": 37,
   "id": "a7c7d554",
   "metadata": {},
   "outputs": [
    {
     "data": {
      "text/plain": [
       "Int64Index([ 1750,  2602,  2947,  3382,  3709,  4008,  5056,  5327,  6071,\n",
       "             6956,  7053,  7399,  7492,  7710,  7781,  8321,  8594,  9744,\n",
       "             9897, 10038, 10302, 10490, 10502, 10953, 11334, 12335, 12563,\n",
       "            14070, 14296, 14316, 14391, 14773, 15292, 15749, 15780, 15835],\n",
       "           dtype='int64')"
      ]
     },
     "execution_count": 37,
     "metadata": {},
     "output_type": "execute_result"
    }
   ],
   "source": [
    "outliers1 = df2[preds==-1].index\n",
    "outliers1"
   ]
  },
  {
   "cell_type": "markdown",
   "id": "82e8d0c7",
   "metadata": {},
   "source": [
    "## Using Local Outlier Factor"
   ]
  },
  {
   "cell_type": "code",
   "execution_count": 38,
   "id": "84421509",
   "metadata": {},
   "outputs": [],
   "source": [
    "lof = LocalOutlierFactor()"
   ]
  },
  {
   "cell_type": "code",
   "execution_count": 39,
   "id": "4249cbc4",
   "metadata": {},
   "outputs": [
    {
     "data": {
      "text/plain": [
       "Int64Index([  254,   343,   513,  1267,  1750,  1931,  2245,  2811,  2839,\n",
       "             2947,  2990,  3056,  3613,  3829,  4343,  4496,  4580,  4590,\n",
       "             4919,  5451,  5841,  5894,  6100,  7318,  7373,  7710,  7967,\n",
       "             8073,  8183,  8801,  9366,  9513, 10069, 10490, 10670, 10764,\n",
       "            11097, 11245, 11662, 12348, 12549, 12815, 12895, 12932, 13436,\n",
       "            14036, 14042, 14215, 14931, 15356, 15780, 15875, 16008],\n",
       "           dtype='int64')"
      ]
     },
     "execution_count": 39,
     "metadata": {},
     "output_type": "execute_result"
    }
   ],
   "source": [
    "preds2 = lof.fit_predict(df2)\n",
    "outliers2 = df2[preds2==-1].index\n",
    "outliers2"
   ]
  },
  {
   "cell_type": "markdown",
   "id": "9fb443ba",
   "metadata": {},
   "source": [
    "Local Outlier Factor predicted many more outliers"
   ]
  },
  {
   "cell_type": "markdown",
   "id": "d4551a36",
   "metadata": {},
   "source": [
    "## Using 3 IQR for numeric variables to find consistent outliers."
   ]
  },
  {
   "cell_type": "code",
   "execution_count": 40,
   "id": "dfa82f69",
   "metadata": {},
   "outputs": [
    {
     "data": {
      "text/plain": [
       "array([15007,  1750, 10953,  7710,  9748, 15835,  4844, 11226,  8594,\n",
       "       16166,  9897,   178, 14236,  8321, 14391,  3112,  4662,   475,\n",
       "       14296, 14773,  5056, 10302, 12335,  7492, 14316, 10490, 12018,\n",
       "       15162, 10038, 14202])"
      ]
     },
     "execution_count": 40,
     "metadata": {},
     "output_type": "execute_result"
    }
   ],
   "source": [
    "outliers = {}\n",
    "for column in df.columns:\n",
    "    description = df[column].describe()\n",
    "    q1 = description['25%']\n",
    "    q3 = description['75%']\n",
    "    iqr15 = 3*(q3-q1)\n",
    "    indices = df[(df[column]<q1-iqr15)|(df[column]>q3+iqr15)].index\n",
    "    for x in indices:\n",
    "        outliers[x]=outliers.get(x,0)+1\n",
    "outlier_df=pd.DataFrame({'index':outliers.keys(),'count':outliers.values()})\n",
    "outliers3 = (outlier_df.sort_values(by='count',ascending=False).head(30))['index']\n",
    "outliers3 = np.array(list(outliers3))\n",
    "outliers3"
   ]
  },
  {
   "cell_type": "code",
   "execution_count": 41,
   "id": "57c5202b",
   "metadata": {},
   "outputs": [
    {
     "data": {
      "text/plain": [
       "[10490, 1750, 7710]"
      ]
     },
     "execution_count": 41,
     "metadata": {},
     "output_type": "execute_result"
    }
   ],
   "source": [
    "outliers_all3 = list(set(outliers1).intersection(set(outliers2).intersection(set(outliers3))))\n",
    "outliers_all3"
   ]
  },
  {
   "cell_type": "markdown",
   "id": "7b5fd682",
   "metadata": {},
   "source": [
    "3 values are found using all 3 methods, these will be dropped"
   ]
  },
  {
   "cell_type": "code",
   "execution_count": 42,
   "id": "2f25ff43",
   "metadata": {},
   "outputs": [
    {
     "data": {
      "text/plain": [
       "array([ 1750,  2947,  7710, 10490, 15780], dtype=int64)"
      ]
     },
     "execution_count": 42,
     "metadata": {},
     "output_type": "execute_result"
    }
   ],
   "source": [
    "np.intersect1d(outliers1,outliers2)"
   ]
  },
  {
   "cell_type": "markdown",
   "id": "e622cfbd",
   "metadata": {},
   "source": [
    "5 values were found to be outliers using DBSCAN and LOF, these will be marked as outliers"
   ]
  },
  {
   "cell_type": "code",
   "execution_count": 43,
   "id": "7fe3d794",
   "metadata": {},
   "outputs": [],
   "source": [
    "for i in np.intersect1d(outliers1,outliers2):\n",
    "    df.loc[df.index==i,'outlier']=1"
   ]
  },
  {
   "cell_type": "code",
   "execution_count": 44,
   "id": "4b74bf48",
   "metadata": {},
   "outputs": [],
   "source": [
    "df.drop(outliers_all3,inplace=True)"
   ]
  },
  {
   "cell_type": "markdown",
   "id": "86dff047",
   "metadata": {},
   "source": [
    "# EDA\n",
    "\n",
    "## Univariate Analysis"
   ]
  },
  {
   "cell_type": "markdown",
   "id": "67dcedb2",
   "metadata": {},
   "source": [
    "### Dependant variable -- LBXTC"
   ]
  },
  {
   "cell_type": "code",
   "execution_count": 45,
   "id": "7c18b775",
   "metadata": {},
   "outputs": [
    {
     "data": {
      "text/plain": [
       "<AxesSubplot:>"
      ]
     },
     "execution_count": 45,
     "metadata": {},
     "output_type": "execute_result"
    },
    {
     "data": {
      "image/png": "[encoded data removed]",
      "text/plain": [
       "<Figure size 432x288 with 1 Axes>"
      ]
     },
     "metadata": {
      "needs_background": "light"
     },
     "output_type": "display_data"
    }
   ],
   "source": [
    "df.LBXTC.hist(bins=25)"
   ]
  },
  {
   "cell_type": "markdown",
   "id": "00012896",
   "metadata": {},
   "source": [
    "The distribution is skewed.  There do appear to be outliers. As there are not many predictions above 350, it may make it hard to predict values in that range.  \n",
    "I am going to log transform the variable"
   ]
  },
  {
   "cell_type": "code",
   "execution_count": 46,
   "id": "055bb0e4",
   "metadata": {},
   "outputs": [],
   "source": [
    "df['log_LBXTC']=np.log(df.LBXTC)\n",
    "numerical_variables.append('log_LBXTC')"
   ]
  },
  {
   "cell_type": "code",
   "execution_count": 47,
   "id": "5c24c667",
   "metadata": {},
   "outputs": [
    {
     "data": {
      "text/plain": [
       "<AxesSubplot:>"
      ]
     },
     "execution_count": 47,
     "metadata": {},
     "output_type": "execute_result"
    },
    {
     "data": {
      "image/png": "[encoded data removed]",
      "text/plain": [
       "<Figure size 432x288 with 1 Axes>"
      ]
     },
     "metadata": {
      "needs_background": "light"
     },
     "output_type": "display_data"
    }
   ],
   "source": [
    "df.log_LBXTC.hist(bins=25)"
   ]
  },
  {
   "cell_type": "markdown",
   "id": "de7120a7",
   "metadata": {},
   "source": [
    "The log of the total cholesterol is less skewed. Should this be used for modeling?"
   ]
  },
  {
   "cell_type": "code",
   "execution_count": 48,
   "id": "e976d97a",
   "metadata": {},
   "outputs": [
    {
     "data": {
      "text/plain": [
       "['LBXTC',\n",
       " 'RIDAGEYR',\n",
       " 'BMXWT',\n",
       " 'BMXHT',\n",
       " 'BMXBMI',\n",
       " 'BPXPLS',\n",
       " 'ALQ120Q',\n",
       " 'ALQ130',\n",
       " 'Systolic',\n",
       " 'Diastolic',\n",
       " 'avg_daily_vigorous_activity',\n",
       " 'avg_daily_moderate_activity',\n",
       " 'DR1TKCAL_t',\n",
       " 'DR1TPROT_t',\n",
       " 'DR1TCARB_t',\n",
       " 'DR1TSUGR_t',\n",
       " 'DR1TFIBE_t',\n",
       " 'DR1TTFAT_t',\n",
       " 'DR1TSFAT_t',\n",
       " 'DR1TMFAT_t',\n",
       " 'DR1TPFAT_t',\n",
       " 'DR1TCHOL_t',\n",
       " 'DR1TSODI_t',\n",
       " 'DR1TVD_t',\n",
       " 'DR1TCALC_t',\n",
       " 'DR1TIRON_t',\n",
       " 'DR1TPOTA_t',\n",
       " 'avgALC',\n",
       " 'log_LBXTC']"
      ]
     },
     "execution_count": 48,
     "metadata": {},
     "output_type": "execute_result"
    }
   ],
   "source": [
    "numerical_variables"
   ]
  },
  {
   "cell_type": "markdown",
   "id": "ef71cd62",
   "metadata": {},
   "source": [
    "### Histograms of continuous variables"
   ]
  },
  {
   "cell_type": "code",
   "execution_count": 49,
   "id": "2c1991a2",
   "metadata": {},
   "outputs": [
    {
     "data": {
      "image/png": "[encoded data removed]",
      "text/plain": [
       "<Figure size 1152x2520 with 32 Axes>"
      ]
     },
     "metadata": {
      "needs_background": "light"
     },
     "output_type": "display_data"
    }
   ],
   "source": [
    "r,c = (0,0)\n",
    "fig, axs = plt.subplots(8,4,figsize=[16,35])\n",
    "for f in numerical_variables:\n",
    "    axs[r,c].hist(df[f], bins=25)\n",
    "    axs[r,c].set_title(f)\n",
    "    c = c+1\n",
    "    if c >= 4:\n",
    "        r = r+1\n",
    "    c = c % 4"
   ]
  },
  {
   "cell_type": "markdown",
   "id": "6275a581",
   "metadata": {},
   "source": [
    "Many distributions appear skewed.  It may help to log transform the variables.  For the same variables I am looking at boxplots."
   ]
  },
  {
   "cell_type": "code",
   "execution_count": 50,
   "id": "04826db1",
   "metadata": {},
   "outputs": [
    {
     "data": {
      "image/png": "[encoded data removed]",
      "text/plain": [
       "<Figure size 1152x2520 with 32 Axes>"
      ]
     },
     "metadata": {
      "needs_background": "light"
     },
     "output_type": "display_data"
    }
   ],
   "source": [
    "r,c = (0,0)\n",
    "fig, axs = plt.subplots(8,4,figsize=[16,35])\n",
    "for f in numerical_variables:\n",
    "    sns.boxplot(x=df[f],ax=axs[r,c])\n",
    "    c = c+1\n",
    "    if c >= 4:\n",
    "        r = r+1\n",
    "        c = c % 4"
   ]
  },
  {
   "cell_type": "markdown",
   "id": "fd001a90",
   "metadata": {},
   "source": [
    "As can be seen, there are many outliers.  When working with linear models, I may want to winsorize"
   ]
  },
  {
   "cell_type": "code",
   "execution_count": 51,
   "id": "3dc47186",
   "metadata": {},
   "outputs": [
    {
     "data": {
      "text/plain": [
       "Index(['LBXTC', 'RIAGENDR', 'RIDRETH3', 'RIDAGEYR', 'BMXWT', 'BMXHT', 'BMXBMI',\n",
       "       'BPXPLS', 'BPXPULS', 'ALQ120Q', 'ALQ120U', 'ALQ130', 'BPQ020',\n",
       "       'BPQ050A', 'BPQ080', 'BPQ100D', 'DIQ010', 'MCQ170M', 'SMQ681',\n",
       "       'Systolic', 'Diastolic', 'avg_daily_vigorous_activity',\n",
       "       'avg_daily_moderate_activity', 'DR1TKCAL_t', 'DR1TPROT_t', 'DR1TCARB_t',\n",
       "       'DR1TSUGR_t', 'DR1TFIBE_t', 'DR1TTFAT_t', 'DR1TSFAT_t', 'DR1TMFAT_t',\n",
       "       'DR1TPFAT_t', 'DR1TCHOL_t', 'DR1TSODI_t', 'DR1TVD_t', 'DR1TCALC_t',\n",
       "       'DR1TIRON_t', 'DR1TPOTA_t', 'avgALC', 'outlier', 'log_LBXTC'],\n",
       "      dtype='object')"
      ]
     },
     "execution_count": 51,
     "metadata": {},
     "output_type": "execute_result"
    }
   ],
   "source": [
    "df.columns"
   ]
  },
  {
   "cell_type": "markdown",
   "id": "edaf3bae",
   "metadata": {},
   "source": [
    "## Bivariate Analysis: comparison to total cholesterol\n",
    "\n",
    "Looking at correlation between variables and LBXTC, the total cholesterol level.  Taking the absolute values so that I can look at the strength of correlation."
   ]
  },
  {
   "cell_type": "code",
   "execution_count": 52,
   "id": "1a85d627",
   "metadata": {},
   "outputs": [
    {
     "data": {
      "text/plain": [
       "LBXTC                          1.000000\n",
       "log_LBXTC                      0.983395\n",
       "BPQ080                         0.157436\n",
       "Diastolic                      0.149319\n",
       "DIQ010                         0.114081\n",
       "Systolic                       0.097255\n",
       "BPQ100D                        0.089028\n",
       "RIDAGEYR                       0.081660\n",
       "BMXHT                          0.065202\n",
       "RIAGENDR                       0.062907\n",
       "BPXPLS                         0.050821\n",
       "ALQ120U                        0.049956\n",
       "BPQ050A                        0.049281\n",
       "DR1TIRON_t                     0.046077\n",
       "DR1TCARB_t                     0.041419\n",
       "avgALC                         0.034947\n",
       "MCQ170M                        0.033554\n",
       "DR1TPFAT_t                     0.033419\n",
       "DR1TSODI_t                     0.032807\n",
       "avg_daily_moderate_activity    0.032254\n",
       "DR1TSUGR_t                     0.029815\n",
       "BPXPULS                        0.026965\n",
       "DR1TKCAL_t                     0.026798\n",
       "SMQ681                         0.024649\n",
       "BPQ020                         0.024395\n",
       "DR1TTFAT_t                     0.023898\n",
       "DR1TCALC_t                     0.023192\n",
       "outlier                        0.018501\n",
       "DR1TMFAT_t                     0.017896\n",
       "DR1TSFAT_t                     0.017611\n",
       "BMXWT                          0.014162\n",
       "avg_daily_vigorous_activity    0.013514\n",
       "DR1TVD_t                       0.012176\n",
       "DR1TCHOL_t                     0.011604\n",
       "DR1TPROT_t                     0.011557\n",
       "BMXBMI                         0.010978\n",
       "RIDRETH3                       0.008948\n",
       "DR1TFIBE_t                     0.007307\n",
       "ALQ120Q                        0.005255\n",
       "ALQ130                         0.003341\n",
       "DR1TPOTA_t                     0.002193\n",
       "Name: LBXTC, dtype: float64"
      ]
     },
     "execution_count": 52,
     "metadata": {},
     "output_type": "execute_result"
    }
   ],
   "source": [
    "np.abs(df.corr()['LBXTC']).sort_values(ascending=False)"
   ]
  },
  {
   "cell_type": "markdown",
   "id": "fe5fd416",
   "metadata": {},
   "source": [
    "Blood pressure appears the most correlated however no variable is strongly correlated.  Linear models may be difficult.  The following regplots demonstrate the low correlation."
   ]
  },
  {
   "cell_type": "code",
   "execution_count": 53,
   "id": "a54b9fcd",
   "metadata": {},
   "outputs": [
    {
     "data": {
      "image/png": "[encoded data removed]",
      "text/plain": [
       "<Figure size 1152x2520 with 32 Axes>"
      ]
     },
     "metadata": {
      "needs_background": "light"
     },
     "output_type": "display_data"
    }
   ],
   "source": [
    "#sns.regplot(x='RIDAGEYR',  y='LBXTC', data=demo_merged, scatter_kws={\"color\": \"blue\"}, line_kws={\"color\": \"red\"})\n",
    "r,c = (0,0)\n",
    "fig, axs = plt.subplots(8,4,figsize=[16,35])\n",
    "for f in numerical_variables:\n",
    "    sns.regplot(x=f,y='LBXTC', data=df, ax =axs[r,c], scatter_kws={\"color\": \"blue\"}, line_kws={\"color\": \"red\"})\n",
    "    c = c+1\n",
    "    if c >= 4:\n",
    "        r = r+1\n",
    "        c = c % 4"
   ]
  },
  {
   "cell_type": "markdown",
   "id": "90621f66",
   "metadata": {},
   "source": [
    "# note to self\n",
    "make more comments"
   ]
  },
  {
   "cell_type": "markdown",
   "id": "c737eed9",
   "metadata": {},
   "source": [
    "### Comparing categorical variables to total cholesterol\n"
   ]
  },
  {
   "cell_type": "code",
   "execution_count": 54,
   "id": "2f4374ec",
   "metadata": {},
   "outputs": [
    {
     "data": {
      "image/png": "[encoded data removed]",
      "text/plain": [
       "<Figure size 1080x2160 with 12 Axes>"
      ]
     },
     "metadata": {
      "needs_background": "light"
     },
     "output_type": "display_data"
    }
   ],
   "source": [
    "categorical_variables = [x for x in categorical_variables if x in df.columns]\n",
    "r,c = (0,0)\n",
    "fig, axs = plt.subplots(4,3,figsize=[15,30])\n",
    "for f in categorical_variables:\n",
    "    sns.boxplot(x=f,y='LBXTC',data=df,ax=axs[r,c])\n",
    "    c = c+1\n",
    "    if c >= 3:\n",
    "        r = r+1\n",
    "        c = c % 3"
   ]
  },
  {
   "cell_type": "markdown",
   "id": "f19b487d",
   "metadata": {},
   "source": [
    "Many boxplots show the same median values with the exception of questions relating to blood pressure or diabetes.  The key differences is the number and degree of outliers one value has over another.\n",
    "\n",
    "## Multivariate analysis"
   ]
  },
  {
   "cell_type": "markdown",
   "id": "926b4e9c",
   "metadata": {},
   "source": [
    "### Correlation between variables"
   ]
  },
  {
   "cell_type": "code",
   "execution_count": 55,
   "id": "0b480b48",
   "metadata": {},
   "outputs": [
    {
     "data": {
      "text/plain": [
       "<AxesSubplot:>"
      ]
     },
     "execution_count": 55,
     "metadata": {},
     "output_type": "execute_result"
    },
    {
     "data": {
      "image/png": "[encoded data removed]",
      "text/plain": [
       "<Figure size 864x864 with 2 Axes>"
      ]
     },
     "metadata": {
      "needs_background": "light"
     },
     "output_type": "display_data"
    }
   ],
   "source": [
    "fig, ax = plt.subplots(figsize=(12,12))\n",
    "sns.heatmap(df.corr())"
   ]
  },
  {
   "cell_type": "markdown",
   "id": "c7d5cb9c",
   "metadata": {},
   "source": [
    "There definitely appears to be correlation between nutrition variables and some physical activity variables.  I may want to use PCA at least for linear models."
   ]
  },
  {
   "cell_type": "markdown",
   "id": "0d0d9172",
   "metadata": {},
   "source": [
    "Writing the dataset to a csv file before modeling"
   ]
  },
  {
   "cell_type": "code",
   "execution_count": 56,
   "id": "05dfecb7",
   "metadata": {},
   "outputs": [],
   "source": [
    "df.to_csv(\"Data/df_final.csv\")"
   ]
  },
  {
   "cell_type": "markdown",
   "id": "1adfa197",
   "metadata": {},
   "source": [
    "# Model creation\n",
    "\n",
    "loading the dataset in case I am starting my notebook from here."
   ]
  },
  {
   "cell_type": "code",
   "execution_count": 2,
   "id": "28b793b9",
   "metadata": {},
   "outputs": [],
   "source": [
    "df = pd.read_csv('Data/df_final.csv')\n",
    "df.drop('Unnamed: 0',axis=1,inplace=True)\n"
   ]
  },
  {
   "cell_type": "code",
   "execution_count": 3,
   "id": "c4d6ef92",
   "metadata": {},
   "outputs": [],
   "source": [
    "variables = pd.read_csv('variables_final.csv')\n",
    "numerical_variables = list(variables[variables.type=='numerical']['variable'])\n",
    "categorical_variables = list(variables[variables.type=='categorical']['variable'])"
   ]
  },
  {
   "cell_type": "markdown",
   "id": "2739b6ef",
   "metadata": {},
   "source": [
    "The following model is a baseline for deep learning.  I got the idea for dropout and batch normalization from the Kaggle course: Into to Deep Learning."
   ]
  },
  {
   "cell_type": "code",
   "execution_count": 69,
   "id": "44bc7141",
   "metadata": {},
   "outputs": [],
   "source": [
    "def build_model():\n",
    "    model = Sequential([\n",
    "        Dense(1024, activation='relu'),\n",
    "        Dropout(0.3),\n",
    "        BatchNormalization(),\n",
    "        Dense(1024, activation='relu'),\n",
    "        Dropout(0.3),\n",
    "        BatchNormalization(),\n",
    "        Dense(1024, activation='relu'),\n",
    "        Dropout(0.3),\n",
    "        BatchNormalization(),\n",
    "        Dense(1),\n",
    "    ])\n",
    "    model.compile(loss='mean_squared_error', optimizer='adam')\n",
    "    return model"
   ]
  },
  {
   "cell_type": "markdown",
   "id": "a0c662eb",
   "metadata": {},
   "source": [
    "Since there is some correlation as seen by the heat map, for linear models I will need to use PCA and hence scale features.  For linear models I also need to one hot encode race, leaving one out.  For KNN I will need to use a min max scalar and also one hot encode, not leaving one out, the race variable.  For every model there needs to be imputation.  For continuous variables I will use KNN imputer and for discrete variables, I will use SimpleImputer and choose the most frequent.  Because of knn imputation, I need to scale no matter what.\n",
    "\n",
    "OLS pipeline on dataframe with dropped outliers\n",
    "* min max scalar\n",
    "* Simple imputer or KNN imputer\n",
    "* One hot encode race, leaving one out\n",
    "* Winsorize\n",
    "* PCA \n",
    "* OLS\n",
    "\n",
    "SVM pipeline on dataframe with dropped outliers\n",
    "* min max scalar\n",
    "* Simple imputer or knn imputer\n",
    "* One hot encode race, leave one out\n",
    "* Winsorize\n",
    "* PCA\n",
    "* SVM\n",
    "\n",
    "KNN\n",
    "* min max scalar\n",
    "* Simple imputer or knn imputer\n",
    "* One hot encode race, leaving one out\n",
    "* KNN\n",
    "\n",
    "Decision Tree/Random forest pipeline\n",
    "* min, max, scalar\n",
    "* Simple imputer or knn imputer\n",
    "* Decision tree or random forest\n",
    "\n",
    "Nueral network pipeline\n",
    "* min max scaler\n",
    "* simple imputer or knn\n",
    "* nueral network"
   ]
  },
  {
   "cell_type": "markdown",
   "id": "1bf74612",
   "metadata": {},
   "source": [
    "Some questions I have\n",
    "\n",
    "* Should I use the original variables on alcohol or my calculated average alcohol?\n",
    "* Is it better to use height and weight or just BMI?\n",
    "* Should I log transform skewed features?\n",
    "\n",
    "What I plan to do to help me answer these questions is create a model for each option with everything else the same and see which performs better using OLS as a linear basis and Random forest regression as a non-linear basis."
   ]
  },
  {
   "cell_type": "markdown",
   "id": "26d2b6f2",
   "metadata": {},
   "source": [
    "First creating a dataframe with outliers dropped for the linear models."
   ]
  },
  {
   "cell_type": "code",
   "execution_count": 4,
   "id": "48142370",
   "metadata": {},
   "outputs": [],
   "source": [
    "df2 = df[df.outlier==0].copy()\n",
    "df2.drop('outlier',axis=1,inplace=True)"
   ]
  },
  {
   "cell_type": "markdown",
   "id": "13a42989",
   "metadata": {},
   "source": [
    "## Answering questions\n",
    "\n",
    "## Should I use the original variables on alcohol or my calculated average?\n",
    "\n",
    "### OLS pipeline\n",
    "#### OLS pipeline with original alcohol values"
   ]
  },
  {
   "cell_type": "code",
   "execution_count": 90,
   "id": "1260ef3e",
   "metadata": {},
   "outputs": [],
   "source": [
    "y = df2.log_LBXTC\n",
    "X1 = df2.drop(['LBXTC','log_LBXTC','avgALC'],axis=1)"
   ]
  },
  {
   "cell_type": "code",
   "execution_count": 91,
   "id": "6256da35",
   "metadata": {},
   "outputs": [],
   "source": [
    "X_train, X_test, y_train, y_test = train_test_split(X1,y,test_size=0.25,random_state=625)"
   ]
  },
  {
   "cell_type": "code",
   "execution_count": 92,
   "id": "042a2c18",
   "metadata": {},
   "outputs": [],
   "source": [
    "numerical_variables_a = numerical_variables.copy()"
   ]
  },
  {
   "cell_type": "code",
   "execution_count": 93,
   "id": "07666b3f",
   "metadata": {},
   "outputs": [],
   "source": [
    "numerical_variables_a.remove('avgALC')"
   ]
  },
  {
   "cell_type": "code",
   "execution_count": 94,
   "id": "acd8b306",
   "metadata": {},
   "outputs": [],
   "source": [
    "numeric_transformer = Pipeline(steps=[\n",
    "    ('scale',MinMaxScaler()),\n",
    "    ('impute',KNNImputer()),\n",
    "    ('winsorizer',Winsorizer(capping_method='iqr',tail='both'))])\n",
    "cat_transformer1 = Pipeline(steps=[('one_hot',OneHotEncoder(handle_unknown='error',drop='first'))])\n",
    "cat_transformer2 = Pipeline(steps=[\n",
    "    ('scale',MinMaxScaler()),\n",
    "    ('impute',SimpleImputer(strategy='most_frequent'))\n",
    "])\n",
    "\n",
    "preprocessor = ColumnTransformer(transformers=[\n",
    "    ('num',numeric_transformer,numerical_variables_a),\n",
    "    ('encode',cat_transformer1,['RIDRETH3']),\n",
    "    ('impute_cat',cat_transformer2,categorical_variables)])\n",
    "\n",
    "lr1 = Pipeline(steps =[\n",
    "    ('preprocessor',preprocessor),\n",
    "    ('PCA',PCA(0.95)),\n",
    "    ('ols', LinearRegression())])"
   ]
  },
  {
   "cell_type": "code",
   "execution_count": 95,
   "id": "80179547",
   "metadata": {},
   "outputs": [
    {
     "data": {
      "text/plain": [
       "Pipeline(steps=[('preprocessor',\n",
       "                 ColumnTransformer(transformers=[('num',\n",
       "                                                  Pipeline(steps=[('scale',\n",
       "                                                                   MinMaxScaler()),\n",
       "                                                                  ('impute',\n",
       "                                                                   KNNImputer()),\n",
       "                                                                  ('winsorizer',\n",
       "                                                                   Winsorizer(capping_method='iqr',\n",
       "                                                                              tail='both'))]),\n",
       "                                                  ['RIDAGEYR', 'BMXWT', 'BMXHT',\n",
       "                                                   'BMXBMI', 'BPXPLS',\n",
       "                                                   'ALQ120Q', 'ALQ130',\n",
       "                                                   'Systolic', 'Diastolic',\n",
       "                                                   'avg_daily_vigorous_activity',\n",
       "                                                   'avg_daily_moderate_activity',\n",
       "                                                   'DR1...\n",
       "                                                 ('encode',\n",
       "                                                  Pipeline(steps=[('one_hot',\n",
       "                                                                   OneHotEncoder(drop='first'))]),\n",
       "                                                  ['RIDRETH3']),\n",
       "                                                 ('impute_cat',\n",
       "                                                  Pipeline(steps=[('scale',\n",
       "                                                                   MinMaxScaler()),\n",
       "                                                                  ('impute',\n",
       "                                                                   SimpleImputer(strategy='most_frequent'))]),\n",
       "                                                  ['RIAGENDR', 'BPXPULS',\n",
       "                                                   'ALQ120U', 'BPQ020',\n",
       "                                                   'BPQ050A', 'BPQ080',\n",
       "                                                   'BPQ100D', 'DIQ010',\n",
       "                                                   'MCQ170M', 'SMQ681'])])),\n",
       "                ('PCA', PCA(n_components=0.95)), ('ols', LinearRegression())])"
      ]
     },
     "execution_count": 95,
     "metadata": {},
     "output_type": "execute_result"
    }
   ],
   "source": [
    "lr1.fit(X_train,y_train)"
   ]
  },
  {
   "cell_type": "code",
   "execution_count": 96,
   "id": "ed806ceb",
   "metadata": {},
   "outputs": [
    {
     "data": {
      "text/plain": [
       "0.13497294672471594"
      ]
     },
     "execution_count": 96,
     "metadata": {},
     "output_type": "execute_result"
    }
   ],
   "source": [
    "lr1.score(X_train,y_train)"
   ]
  },
  {
   "cell_type": "markdown",
   "id": "778ed037",
   "metadata": {},
   "source": [
    "### OLS with transformed alcohol variable  "
   ]
  },
  {
   "cell_type": "code",
   "execution_count": 84,
   "id": "765215b4",
   "metadata": {},
   "outputs": [],
   "source": [
    "numerical_variables_b = numerical_variables.copy()\n",
    "numerical_variables_b.remove('ALQ120Q')\n",
    "numerical_variables_b.remove('ALQ130')"
   ]
  },
  {
   "cell_type": "code",
   "execution_count": 85,
   "id": "bd437ed1",
   "metadata": {},
   "outputs": [],
   "source": [
    "categorical_variables_b = categorical_variables.copy()\n",
    "categorical_variables_b.remove('ALQ120U')"
   ]
  },
  {
   "cell_type": "code",
   "execution_count": 86,
   "id": "4f5190bb",
   "metadata": {},
   "outputs": [],
   "source": [
    "y = df2.log_LBXTC\n",
    "X2 = df2.drop(['LBXTC','log_LBXTC'],axis=1)"
   ]
  },
  {
   "cell_type": "code",
   "execution_count": 87,
   "id": "5087956e",
   "metadata": {},
   "outputs": [],
   "source": [
    "X_train, X_test, y_train, y_test = train_test_split(X2,y,test_size=0.25,random_state=625)"
   ]
  },
  {
   "cell_type": "code",
   "execution_count": 88,
   "id": "d5ee2054",
   "metadata": {},
   "outputs": [],
   "source": [
    "numeric_transformer = Pipeline(steps=[\n",
    "    ('scale',MinMaxScaler()),\n",
    "    ('impute',KNNImputer()),\n",
    "    ('winsorizer',Winsorizer(capping_method='iqr',tail='both'))])\n",
    "cat_transformer1 = Pipeline(steps=[('one_hot',OneHotEncoder(handle_unknown='error',drop='first'))])\n",
    "cat_transformer2 = Pipeline(steps=[\n",
    "    ('scale',MinMaxScaler()),\n",
    "    ('impute',SimpleImputer(strategy='most_frequent'))\n",
    "])\n",
    "\n",
    "preprocessor = ColumnTransformer(transformers=[\n",
    "    ('num',numeric_transformer,numerical_variables_b),\n",
    "    ('encode',cat_transformer1,['RIDRETH3']),\n",
    "    ('impute_cat',cat_transformer2,categorical_variables_b)])\n",
    "\n",
    "lr1 = Pipeline(steps =[\n",
    "    ('preprocessor',preprocessor),\n",
    "    ('PCA',PCA(0.95)),\n",
    "    ('ols', LinearRegression())])"
   ]
  },
  {
   "cell_type": "code",
   "execution_count": 89,
   "id": "7a6d2756",
   "metadata": {},
   "outputs": [
    {
     "data": {
      "text/plain": [
       "0.13491470201327238"
      ]
     },
     "execution_count": 89,
     "metadata": {},
     "output_type": "execute_result"
    }
   ],
   "source": [
    "lr1.fit(X_train,y_train)\n",
    "lr1.score(X_train,y_train)"
   ]
  },
  {
   "cell_type": "markdown",
   "id": "f267c8da",
   "metadata": {},
   "source": [
    "The results are slightly better with the original alcohol for OLS\n",
    "\n",
    "### Decision Tree Regression pipeline\n",
    "#### Decision Tree with original alcohol values"
   ]
  },
  {
   "cell_type": "code",
   "execution_count": 97,
   "id": "b593a1a5",
   "metadata": {},
   "outputs": [],
   "source": [
    "y = df.log_LBXTC\n",
    "X1 = df.drop(['LBXTC','log_LBXTC','avgALC','outlier'],axis=1)"
   ]
  },
  {
   "cell_type": "code",
   "execution_count": 98,
   "id": "ba99bbf0",
   "metadata": {},
   "outputs": [],
   "source": [
    "X_train, X_test, y_train, y_test = train_test_split(X1,y,test_size=0.25,random_state=625)"
   ]
  },
  {
   "cell_type": "code",
   "execution_count": 99,
   "id": "9f16d119",
   "metadata": {},
   "outputs": [],
   "source": [
    "numerical_variables_a = numerical_variables.copy()\n",
    "numerical_variables_a.remove('avgALC')"
   ]
  },
  {
   "cell_type": "code",
   "execution_count": 100,
   "id": "4ff7541b",
   "metadata": {},
   "outputs": [],
   "source": [
    "categorical_variables_a = categorical_variables.copy()"
   ]
  },
  {
   "cell_type": "code",
   "execution_count": 101,
   "id": "f894cce8",
   "metadata": {},
   "outputs": [],
   "source": [
    "numeric_transformer = Pipeline(steps=[\n",
    "    ('scale',MinMaxScaler()),\n",
    "    ('impute',KNNImputer())])\n",
    "cat_transformer2 = Pipeline(steps=[\n",
    "    ('scale',MinMaxScaler()),\n",
    "    ('impute',SimpleImputer(strategy='most_frequent'))\n",
    "])\n",
    "\n",
    "preprocessor = ColumnTransformer(transformers=[\n",
    "    ('num',numeric_transformer,numerical_variables_a),\n",
    "    ('impute_cat',cat_transformer2,categorical_variables_a+['RIDRETH3'])])\n",
    "\n",
    "dt1 = Pipeline(steps =[\n",
    "    ('preprocessor',preprocessor),\n",
    "    ('decision_tree',DecisionTreeRegressor(random_state=75,max_depth=7))])\n"
   ]
  },
  {
   "cell_type": "code",
   "execution_count": 102,
   "id": "f420d238",
   "metadata": {},
   "outputs": [
    {
     "data": {
      "text/plain": [
       "Pipeline(steps=[('preprocessor',\n",
       "                 ColumnTransformer(transformers=[('num',\n",
       "                                                  Pipeline(steps=[('scale',\n",
       "                                                                   MinMaxScaler()),\n",
       "                                                                  ('impute',\n",
       "                                                                   KNNImputer())]),\n",
       "                                                  ['RIDAGEYR', 'BMXWT', 'BMXHT',\n",
       "                                                   'BMXBMI', 'BPXPLS',\n",
       "                                                   'ALQ120Q', 'ALQ130',\n",
       "                                                   'Systolic', 'Diastolic',\n",
       "                                                   'avg_daily_vigorous_activity',\n",
       "                                                   'avg_daily_moderate_activity',\n",
       "                                                   'DR1TKCAL_t', 'DR1TPROT_t',\n",
       "                                                   'DR1TCARB_t', 'DR1TSUGR_t',\n",
       "                                                   'DR1TFIBE_t'...\n",
       "                                                   'DR1TSODI_t', 'DR1TVD_t',\n",
       "                                                   'DR1TCALC_t', 'DR1TIRON_t',\n",
       "                                                   'DR1TPOTA_t']),\n",
       "                                                 ('impute_cat',\n",
       "                                                  Pipeline(steps=[('scale',\n",
       "                                                                   MinMaxScaler()),\n",
       "                                                                  ('impute',\n",
       "                                                                   SimpleImputer(strategy='most_frequent'))]),\n",
       "                                                  ['RIAGENDR', 'BPXPULS',\n",
       "                                                   'ALQ120U', 'BPQ020',\n",
       "                                                   'BPQ050A', 'BPQ080',\n",
       "                                                   'BPQ100D', 'DIQ010',\n",
       "                                                   'MCQ170M', 'SMQ681',\n",
       "                                                   'RIDRETH3'])])),\n",
       "                ('decision_tree',\n",
       "                 DecisionTreeRegressor(max_depth=7, random_state=75))])"
      ]
     },
     "execution_count": 102,
     "metadata": {},
     "output_type": "execute_result"
    }
   ],
   "source": [
    "dt1.fit(X_train,y_train)"
   ]
  },
  {
   "cell_type": "code",
   "execution_count": 103,
   "id": "71f92ef4",
   "metadata": {},
   "outputs": [
    {
     "data": {
      "text/plain": [
       "0.34454680903046"
      ]
     },
     "execution_count": 103,
     "metadata": {},
     "output_type": "execute_result"
    }
   ],
   "source": [
    "dt1.score(X_train,y_train)"
   ]
  },
  {
   "cell_type": "markdown",
   "id": "5a726ce0",
   "metadata": {},
   "source": [
    "#### Decision Tree Regressor with transformed alcohol"
   ]
  },
  {
   "cell_type": "code",
   "execution_count": 104,
   "id": "a87c9f17",
   "metadata": {},
   "outputs": [],
   "source": [
    "X2 = df.drop(['LBXTC','log_LBXTC','outlier'],axis=1)"
   ]
  },
  {
   "cell_type": "code",
   "execution_count": 105,
   "id": "d88835ab",
   "metadata": {},
   "outputs": [],
   "source": [
    "X_train, X_test, y_train, y_test = train_test_split(X2,y,test_size=0.25,random_state=625)"
   ]
  },
  {
   "cell_type": "code",
   "execution_count": 106,
   "id": "abbec80b",
   "metadata": {},
   "outputs": [],
   "source": [
    "numerical_variables_b = numerical_variables.copy()\n",
    "numerical_variables_b.remove('ALQ120Q')\n",
    "numerical_variables_b.remove('ALQ130')"
   ]
  },
  {
   "cell_type": "code",
   "execution_count": 107,
   "id": "db4498af",
   "metadata": {},
   "outputs": [],
   "source": [
    "categorical_variables_b = categorical_variables.copy()\n",
    "categorical_variables_b.remove('ALQ120U')"
   ]
  },
  {
   "cell_type": "code",
   "execution_count": 108,
   "id": "8ea99c98",
   "metadata": {},
   "outputs": [],
   "source": [
    "numeric_transformer = Pipeline(steps=[\n",
    "    ('scale',MinMaxScaler()),\n",
    "    ('impute',KNNImputer())])\n",
    "cat_transformer2 = Pipeline(steps=[\n",
    "    ('scale',MinMaxScaler()),\n",
    "    ('impute',SimpleImputer(strategy='most_frequent'))\n",
    "])\n",
    "\n",
    "preprocessor = ColumnTransformer(transformers=[\n",
    "    ('num',numeric_transformer,numerical_variables_b),\n",
    "    ('impute_cat',cat_transformer2,categorical_variables_b+['RIDRETH3'])])\n",
    "\n",
    "dt1 = Pipeline(steps =[\n",
    "    ('preprocessor',preprocessor),\n",
    "    ('decision_tree',DecisionTreeRegressor(random_state=75,max_depth=7))])\n"
   ]
  },
  {
   "cell_type": "code",
   "execution_count": 109,
   "id": "fda128f6",
   "metadata": {},
   "outputs": [
    {
     "data": {
      "text/plain": [
       "0.34997302453422496"
      ]
     },
     "execution_count": 109,
     "metadata": {},
     "output_type": "execute_result"
    }
   ],
   "source": [
    "dt1.fit(X_train,y_train)\n",
    "dt1.score(X_train,y_train)"
   ]
  },
  {
   "cell_type": "markdown",
   "id": "82f619bb",
   "metadata": {},
   "source": [
    "Unlike with OLS, the model performed better with the transformed alcohol.  For KNN regression, nueral networks, and random forests I will use the transformed variable"
   ]
  },
  {
   "cell_type": "markdown",
   "id": "ed8d089c",
   "metadata": {},
   "source": [
    "## Is it better to use height and weight or just BMI?\n",
    "### OLS pipeline\n",
    "#### OLS pipeline with height and weight"
   ]
  },
  {
   "cell_type": "code",
   "execution_count": 115,
   "id": "a4304078",
   "metadata": {},
   "outputs": [],
   "source": [
    "X1 = df2.drop(['LBXTC','log_LBXTC'],axis=1)\n",
    "y = df2.log_LBXTC"
   ]
  },
  {
   "cell_type": "code",
   "execution_count": 116,
   "id": "d564422b",
   "metadata": {},
   "outputs": [],
   "source": [
    "numerical_variables_a = numerical_variables.copy()\n",
    "numerical_variables_a.remove('BMXBMI')"
   ]
  },
  {
   "cell_type": "code",
   "execution_count": 117,
   "id": "1479933a",
   "metadata": {},
   "outputs": [],
   "source": [
    "numeric_transformer = Pipeline(steps=[\n",
    "    ('scale',MinMaxScaler()),\n",
    "    ('impute',KNNImputer()),\n",
    "    ('winsorizer',Winsorizer(capping_method='iqr',tail='both'))])\n",
    "cat_transformer1 = Pipeline(steps=[('one_hot',OneHotEncoder(handle_unknown='error',drop='first'))])\n",
    "cat_transformer2 = Pipeline(steps=[\n",
    "    ('scale',MinMaxScaler()),\n",
    "    ('impute',SimpleImputer(strategy='most_frequent'))\n",
    "])\n",
    "\n",
    "preprocessor = ColumnTransformer(transformers=[\n",
    "    ('num',numeric_transformer,numerical_variables_a),\n",
    "    ('encode',cat_transformer1,['RIDRETH3']),\n",
    "    ('impute_cat',cat_transformer2,categorical_variables)])\n",
    "\n",
    "lr1 = Pipeline(steps =[\n",
    "    ('preprocessor',preprocessor),\n",
    "    ('PCA',PCA(0.95)),\n",
    "    ('ols', LinearRegression())])"
   ]
  },
  {
   "cell_type": "code",
   "execution_count": 118,
   "id": "d0b2d988",
   "metadata": {},
   "outputs": [],
   "source": [
    "X_train, X_test, y_train, y_test = train_test_split(X1,y,test_size=0.25,random_state=625)"
   ]
  },
  {
   "cell_type": "code",
   "execution_count": 120,
   "id": "180599cb",
   "metadata": {},
   "outputs": [
    {
     "data": {
      "text/plain": [
       "Pipeline(steps=[('preprocessor',\n",
       "                 ColumnTransformer(transformers=[('num',\n",
       "                                                  Pipeline(steps=[('scale',\n",
       "                                                                   MinMaxScaler()),\n",
       "                                                                  ('impute',\n",
       "                                                                   KNNImputer()),\n",
       "                                                                  ('winsorizer',\n",
       "                                                                   Winsorizer(capping_method='iqr',\n",
       "                                                                              tail='both'))]),\n",
       "                                                  ['RIDAGEYR', 'BMXWT', 'BMXHT',\n",
       "                                                   'BPXPLS', 'ALQ120Q',\n",
       "                                                   'ALQ130', 'Systolic',\n",
       "                                                   'Diastolic',\n",
       "                                                   'avg_daily_vigorous_activity',\n",
       "                                                   'avg_daily_moderate_activity',\n",
       "                                                   'DR1TKCAL_t',...\n",
       "                                                 ('encode',\n",
       "                                                  Pipeline(steps=[('one_hot',\n",
       "                                                                   OneHotEncoder(drop='first'))]),\n",
       "                                                  ['RIDRETH3']),\n",
       "                                                 ('impute_cat',\n",
       "                                                  Pipeline(steps=[('scale',\n",
       "                                                                   MinMaxScaler()),\n",
       "                                                                  ('impute',\n",
       "                                                                   SimpleImputer(strategy='most_frequent'))]),\n",
       "                                                  ['RIAGENDR', 'BPXPULS',\n",
       "                                                   'ALQ120U', 'BPQ020',\n",
       "                                                   'BPQ050A', 'BPQ080',\n",
       "                                                   'BPQ100D', 'DIQ010',\n",
       "                                                   'MCQ170M', 'SMQ681'])])),\n",
       "                ('PCA', PCA(n_components=0.95)), ('ols', LinearRegression())])"
      ]
     },
     "execution_count": 120,
     "metadata": {},
     "output_type": "execute_result"
    }
   ],
   "source": [
    "lr1.fit(X_train,y_train)"
   ]
  },
  {
   "cell_type": "code",
   "execution_count": 122,
   "id": "31c07793",
   "metadata": {},
   "outputs": [
    {
     "data": {
      "text/plain": [
       "0.1344078528811038"
      ]
     },
     "execution_count": 122,
     "metadata": {},
     "output_type": "execute_result"
    }
   ],
   "source": [
    "lr1.score(X_train,y_train)"
   ]
  },
  {
   "cell_type": "markdown",
   "id": "0b534435",
   "metadata": {},
   "source": [
    "#### OLS using just BMI"
   ]
  },
  {
   "cell_type": "code",
   "execution_count": 123,
   "id": "389e1cd1",
   "metadata": {},
   "outputs": [],
   "source": [
    "X2 = df2.drop(['LBXTC','log_LBXTC'],axis=1)\n",
    "y = df2.log_LBXTC"
   ]
  },
  {
   "cell_type": "code",
   "execution_count": 125,
   "id": "7431de0a",
   "metadata": {},
   "outputs": [],
   "source": [
    "numerical_variables_b = numerical_variables.copy()\n",
    "numerical_variables_b.remove('BMXWT')\n",
    "numerical_variables_b.remove('BMXHT')"
   ]
  },
  {
   "cell_type": "code",
   "execution_count": 126,
   "id": "f75d9460",
   "metadata": {},
   "outputs": [],
   "source": [
    "numeric_transformer = Pipeline(steps=[\n",
    "    ('scale',MinMaxScaler()),\n",
    "    ('impute',KNNImputer()),\n",
    "    ('winsorizer',Winsorizer(capping_method='iqr',tail='both'))])\n",
    "cat_transformer1 = Pipeline(steps=[('one_hot',OneHotEncoder(handle_unknown='error',drop='first'))])\n",
    "cat_transformer2 = Pipeline(steps=[\n",
    "    ('scale',MinMaxScaler()),\n",
    "    ('impute',SimpleImputer(strategy='most_frequent'))\n",
    "])\n",
    "\n",
    "preprocessor = ColumnTransformer(transformers=[\n",
    "    ('num',numeric_transformer,numerical_variables_b),\n",
    "    ('encode',cat_transformer1,['RIDRETH3']),\n",
    "    ('impute_cat',cat_transformer2,categorical_variables)])\n",
    "\n",
    "lr1 = Pipeline(steps =[\n",
    "    ('preprocessor',preprocessor),\n",
    "    ('PCA',PCA(0.95)),\n",
    "    ('ols', LinearRegression())])"
   ]
  },
  {
   "cell_type": "code",
   "execution_count": 127,
   "id": "ee000a04",
   "metadata": {},
   "outputs": [],
   "source": [
    "X_train, X_test, y_train, y_test = train_test_split(X2,y,test_size=0.25,random_state=625)"
   ]
  },
  {
   "cell_type": "code",
   "execution_count": 128,
   "id": "7eaf46e0",
   "metadata": {},
   "outputs": [
    {
     "data": {
      "text/plain": [
       "Pipeline(steps=[('preprocessor',\n",
       "                 ColumnTransformer(transformers=[('num',\n",
       "                                                  Pipeline(steps=[('scale',\n",
       "                                                                   MinMaxScaler()),\n",
       "                                                                  ('impute',\n",
       "                                                                   KNNImputer()),\n",
       "                                                                  ('winsorizer',\n",
       "                                                                   Winsorizer(capping_method='iqr',\n",
       "                                                                              tail='both'))]),\n",
       "                                                  ['RIDAGEYR', 'BMXBMI',\n",
       "                                                   'BPXPLS', 'ALQ120Q',\n",
       "                                                   'ALQ130', 'Systolic',\n",
       "                                                   'Diastolic',\n",
       "                                                   'avg_daily_vigorous_activity',\n",
       "                                                   'avg_daily_moderate_activity',\n",
       "                                                   'DR1TKCAL_t', 'DR1TPR...\n",
       "                                                 ('encode',\n",
       "                                                  Pipeline(steps=[('one_hot',\n",
       "                                                                   OneHotEncoder(drop='first'))]),\n",
       "                                                  ['RIDRETH3']),\n",
       "                                                 ('impute_cat',\n",
       "                                                  Pipeline(steps=[('scale',\n",
       "                                                                   MinMaxScaler()),\n",
       "                                                                  ('impute',\n",
       "                                                                   SimpleImputer(strategy='most_frequent'))]),\n",
       "                                                  ['RIAGENDR', 'BPXPULS',\n",
       "                                                   'ALQ120U', 'BPQ020',\n",
       "                                                   'BPQ050A', 'BPQ080',\n",
       "                                                   'BPQ100D', 'DIQ010',\n",
       "                                                   'MCQ170M', 'SMQ681'])])),\n",
       "                ('PCA', PCA(n_components=0.95)), ('ols', LinearRegression())])"
      ]
     },
     "execution_count": 128,
     "metadata": {},
     "output_type": "execute_result"
    }
   ],
   "source": [
    "lr1.fit(X_train,y_train)"
   ]
  },
  {
   "cell_type": "code",
   "execution_count": 129,
   "id": "a6e0499a",
   "metadata": {},
   "outputs": [
    {
     "data": {
      "text/plain": [
       "0.13467205397598414"
      ]
     },
     "execution_count": 129,
     "metadata": {},
     "output_type": "execute_result"
    }
   ],
   "source": [
    "lr1.score(X_train,y_train)"
   ]
  },
  {
   "cell_type": "markdown",
   "id": "cf9bd2b6",
   "metadata": {},
   "source": [
    "OLS performs better using just BMI"
   ]
  },
  {
   "cell_type": "markdown",
   "id": "da73d8e1",
   "metadata": {},
   "source": [
    "### Decision Tree pipeline\n",
    "#### Decision Tree pipeline with height and weight"
   ]
  },
  {
   "cell_type": "code",
   "execution_count": 139,
   "id": "1fc543ac",
   "metadata": {},
   "outputs": [],
   "source": [
    "y = df.log_LBXTC\n",
    "X1 = df.drop(['LBXTC','log_LBXTC','outlier'],axis=1)"
   ]
  },
  {
   "cell_type": "code",
   "execution_count": 140,
   "id": "406decd1",
   "metadata": {},
   "outputs": [],
   "source": [
    "numerical_variables_a = numerical_variables.copy()\n",
    "numerical_variables_a.remove('BMXBMI')"
   ]
  },
  {
   "cell_type": "code",
   "execution_count": 141,
   "id": "5097188e",
   "metadata": {},
   "outputs": [],
   "source": [
    "numeric_transformer = Pipeline(steps=[\n",
    "    ('scale',MinMaxScaler()),\n",
    "    ('impute',KNNImputer())])\n",
    "cat_transformer2 = Pipeline(steps=[\n",
    "    ('scale',MinMaxScaler()),\n",
    "    ('impute',SimpleImputer(strategy='most_frequent'))\n",
    "])\n",
    "\n",
    "preprocessor = ColumnTransformer(transformers=[\n",
    "    ('num',numeric_transformer,numerical_variables_a),\n",
    "    ('impute_cat',cat_transformer2,categorical_variables+['RIDRETH3'])])\n",
    "\n",
    "dt1 = Pipeline(steps =[\n",
    "    ('preprocessor',preprocessor),\n",
    "    ('decision_tree',DecisionTreeRegressor(random_state=75,max_depth=7))])\n"
   ]
  },
  {
   "cell_type": "code",
   "execution_count": 142,
   "id": "e295d007",
   "metadata": {},
   "outputs": [],
   "source": [
    "X_train, X_test, y_train, y_test = train_test_split(X1,y,test_size=0.25,random_state=625)"
   ]
  },
  {
   "cell_type": "code",
   "execution_count": 143,
   "id": "a1470bf9",
   "metadata": {},
   "outputs": [
    {
     "data": {
      "text/plain": [
       "Pipeline(steps=[('preprocessor',\n",
       "                 ColumnTransformer(transformers=[('num',\n",
       "                                                  Pipeline(steps=[('scale',\n",
       "                                                                   MinMaxScaler()),\n",
       "                                                                  ('impute',\n",
       "                                                                   KNNImputer())]),\n",
       "                                                  ['RIDAGEYR', 'BMXWT', 'BMXHT',\n",
       "                                                   'BPXPLS', 'ALQ120Q',\n",
       "                                                   'ALQ130', 'Systolic',\n",
       "                                                   'Diastolic',\n",
       "                                                   'avg_daily_vigorous_activity',\n",
       "                                                   'avg_daily_moderate_activity',\n",
       "                                                   'DR1TKCAL_t', 'DR1TPROT_t',\n",
       "                                                   'DR1TCARB_t', 'DR1TSUGR_t',\n",
       "                                                   'DR1TFIBE_t', 'DR1TTFA...\n",
       "                                                   'DR1TSODI_t', 'DR1TVD_t',\n",
       "                                                   'DR1TCALC_t', 'DR1TIRON_t',\n",
       "                                                   'DR1TPOTA_t', 'avgALC']),\n",
       "                                                 ('impute_cat',\n",
       "                                                  Pipeline(steps=[('scale',\n",
       "                                                                   MinMaxScaler()),\n",
       "                                                                  ('impute',\n",
       "                                                                   SimpleImputer(strategy='most_frequent'))]),\n",
       "                                                  ['RIAGENDR', 'BPXPULS',\n",
       "                                                   'ALQ120U', 'BPQ020',\n",
       "                                                   'BPQ050A', 'BPQ080',\n",
       "                                                   'BPQ100D', 'DIQ010',\n",
       "                                                   'MCQ170M', 'SMQ681',\n",
       "                                                   'RIDRETH3'])])),\n",
       "                ('decision_tree',\n",
       "                 DecisionTreeRegressor(max_depth=7, random_state=75))])"
      ]
     },
     "execution_count": 143,
     "metadata": {},
     "output_type": "execute_result"
    }
   ],
   "source": [
    "dt1.fit(X_train,y_train)"
   ]
  },
  {
   "cell_type": "code",
   "execution_count": 144,
   "id": "2c980b96",
   "metadata": {},
   "outputs": [
    {
     "data": {
      "text/plain": [
       "0.34555342981039017"
      ]
     },
     "execution_count": 144,
     "metadata": {},
     "output_type": "execute_result"
    }
   ],
   "source": [
    "dt1.score(X_train,y_train)"
   ]
  },
  {
   "cell_type": "markdown",
   "id": "9e172666",
   "metadata": {},
   "source": [
    "#### Decision tree using BMI"
   ]
  },
  {
   "cell_type": "code",
   "execution_count": 145,
   "id": "c5fbd621",
   "metadata": {},
   "outputs": [],
   "source": [
    "y = df.log_LBXTC\n",
    "X2 = df.drop(['LBXTC','log_LBXTC','outlier'],axis=1)"
   ]
  },
  {
   "cell_type": "code",
   "execution_count": 146,
   "id": "869f4f48",
   "metadata": {},
   "outputs": [],
   "source": [
    "numerical_variables_b = numerical_variables.copy()\n",
    "numerical_variables_b.remove('BMXWT')\n",
    "numerical_variables_b.remove('BMXHT')"
   ]
  },
  {
   "cell_type": "code",
   "execution_count": 147,
   "id": "a3aca47e",
   "metadata": {},
   "outputs": [],
   "source": [
    "numeric_transformer = Pipeline(steps=[\n",
    "    ('scale',MinMaxScaler()),\n",
    "    ('impute',KNNImputer())])\n",
    "cat_transformer2 = Pipeline(steps=[\n",
    "    ('scale',MinMaxScaler()),\n",
    "    ('impute',SimpleImputer(strategy='most_frequent'))\n",
    "])\n",
    "\n",
    "preprocessor = ColumnTransformer(transformers=[\n",
    "    ('num',numeric_transformer,numerical_variables_b),\n",
    "    ('impute_cat',cat_transformer2,categorical_variables+['RIDRETH3'])])\n",
    "\n",
    "dt1 = Pipeline(steps =[\n",
    "    ('preprocessor',preprocessor),\n",
    "    ('decision_tree',DecisionTreeRegressor(random_state=75,max_depth=7))])\n"
   ]
  },
  {
   "cell_type": "code",
   "execution_count": 148,
   "id": "987b9e48",
   "metadata": {},
   "outputs": [],
   "source": [
    "X_train, X_test, y_train, y_test = train_test_split(X2,y,test_size=0.25,random_state=625)"
   ]
  },
  {
   "cell_type": "code",
   "execution_count": 149,
   "id": "6d30d366",
   "metadata": {},
   "outputs": [
    {
     "data": {
      "text/plain": [
       "Pipeline(steps=[('preprocessor',\n",
       "                 ColumnTransformer(transformers=[('num',\n",
       "                                                  Pipeline(steps=[('scale',\n",
       "                                                                   MinMaxScaler()),\n",
       "                                                                  ('impute',\n",
       "                                                                   KNNImputer())]),\n",
       "                                                  ['RIDAGEYR', 'BMXBMI',\n",
       "                                                   'BPXPLS', 'ALQ120Q',\n",
       "                                                   'ALQ130', 'Systolic',\n",
       "                                                   'Diastolic',\n",
       "                                                   'avg_daily_vigorous_activity',\n",
       "                                                   'avg_daily_moderate_activity',\n",
       "                                                   'DR1TKCAL_t', 'DR1TPROT_t',\n",
       "                                                   'DR1TCARB_t', 'DR1TSUGR_t',\n",
       "                                                   'DR1TFIBE_t', 'DR1TTFAT_t',\n",
       "                                                   'D...\n",
       "                                                   'DR1TSODI_t', 'DR1TVD_t',\n",
       "                                                   'DR1TCALC_t', 'DR1TIRON_t',\n",
       "                                                   'DR1TPOTA_t', 'avgALC']),\n",
       "                                                 ('impute_cat',\n",
       "                                                  Pipeline(steps=[('scale',\n",
       "                                                                   MinMaxScaler()),\n",
       "                                                                  ('impute',\n",
       "                                                                   SimpleImputer(strategy='most_frequent'))]),\n",
       "                                                  ['RIAGENDR', 'BPXPULS',\n",
       "                                                   'ALQ120U', 'BPQ020',\n",
       "                                                   'BPQ050A', 'BPQ080',\n",
       "                                                   'BPQ100D', 'DIQ010',\n",
       "                                                   'MCQ170M', 'SMQ681',\n",
       "                                                   'RIDRETH3'])])),\n",
       "                ('decision_tree',\n",
       "                 DecisionTreeRegressor(max_depth=7, random_state=75))])"
      ]
     },
     "execution_count": 149,
     "metadata": {},
     "output_type": "execute_result"
    }
   ],
   "source": [
    "dt1.fit(X_train,y_train)"
   ]
  },
  {
   "cell_type": "code",
   "execution_count": 150,
   "id": "35c1511e",
   "metadata": {},
   "outputs": [
    {
     "data": {
      "text/plain": [
       "0.34428222371286643"
      ]
     },
     "execution_count": 150,
     "metadata": {},
     "output_type": "execute_result"
    }
   ],
   "source": [
    "dt1.score(X_train,y_train)"
   ]
  },
  {
   "cell_type": "markdown",
   "id": "9377e2cd",
   "metadata": {},
   "source": [
    "Decision tree regression performs better using height and weight instead of BMI.  For nueral networks, random forests, and knn I plan to use both whereas for OLS and SVM I plan to use BMI only."
   ]
  },
  {
   "cell_type": "markdown",
   "id": "9d4c46b3",
   "metadata": {},
   "source": [
    "### Should I log transform skewed variables?\n",
    "\n",
    "### OLS pipeline without log transformed variables"
   ]
  },
  {
   "cell_type": "code",
   "execution_count": 6,
   "id": "d259239b",
   "metadata": {},
   "outputs": [],
   "source": [
    "y = df2.log_LBXTC\n",
    "X = df2.drop(['LBXTC','log_LBXTC'],axis=1)"
   ]
  },
  {
   "cell_type": "code",
   "execution_count": 8,
   "id": "e5961515",
   "metadata": {},
   "outputs": [],
   "source": [
    "numerical_variables = list(variables[variables.type=='numerical']['variable'])\n",
    "categorical_variables = list(variables[variables.type=='categorical']['variable'])"
   ]
  },
  {
   "cell_type": "code",
   "execution_count": 12,
   "id": "579a46ea",
   "metadata": {},
   "outputs": [],
   "source": [
    "numeric_transformer = Pipeline(steps=[\n",
    "    ('scale',MinMaxScaler()),\n",
    "    ('impute',KNNImputer()),\n",
    "    ('winsorizer',Winsorizer(capping_method='iqr',tail='both'))])\n",
    "cat_transformer1 = Pipeline(steps=[('one_hot',OneHotEncoder(handle_unknown='error',drop='first'))])\n",
    "cat_transformer2 = Pipeline(steps=[\n",
    "    ('scale',MinMaxScaler()),\n",
    "    ('impute',SimpleImputer(strategy='most_frequent'))\n",
    "])\n",
    "\n",
    "preprocessor = ColumnTransformer(transformers=[\n",
    "    ('num',numeric_transformer,numerical_variables),\n",
    "    ('encode',cat_transformer1,['RIDRETH3']),\n",
    "    ('impute_cat',cat_transformer2,categorical_variables)])\n",
    "\n",
    "lr1 = Pipeline(steps =[\n",
    "    ('preprocessor',preprocessor),\n",
    "    ('PCA',PCA(0.95)),\n",
    "    ('ols', LinearRegression())])"
   ]
  },
  {
   "cell_type": "code",
   "execution_count": 13,
   "id": "e36bfb5b",
   "metadata": {},
   "outputs": [],
   "source": [
    "X_train, X_test, y_train, y_test = train_test_split(X,y,test_size=0.25,random_state=625)"
   ]
  },
  {
   "cell_type": "code",
   "execution_count": 14,
   "id": "eb8d3ac9",
   "metadata": {},
   "outputs": [
    {
     "data": {
      "text/plain": [
       "Pipeline(steps=[('preprocessor',\n",
       "                 ColumnTransformer(transformers=[('num',\n",
       "                                                  Pipeline(steps=[('scale',\n",
       "                                                                   MinMaxScaler()),\n",
       "                                                                  ('impute',\n",
       "                                                                   KNNImputer()),\n",
       "                                                                  ('winsorizer',\n",
       "                                                                   Winsorizer(capping_method='iqr',\n",
       "                                                                              tail='both'))]),\n",
       "                                                  ['RIDAGEYR', 'BMXWT', 'BMXHT',\n",
       "                                                   'BMXBMI', 'BPXPLS',\n",
       "                                                   'ALQ120Q', 'ALQ130',\n",
       "                                                   'Systolic', 'Diastolic',\n",
       "                                                   'avg_daily_vigorous_activity',\n",
       "                                                   'avg_daily_moderate_activity',\n",
       "                                                   'DR1...\n",
       "                                                 ('encode',\n",
       "                                                  Pipeline(steps=[('one_hot',\n",
       "                                                                   OneHotEncoder(drop='first'))]),\n",
       "                                                  ['RIDRETH3']),\n",
       "                                                 ('impute_cat',\n",
       "                                                  Pipeline(steps=[('scale',\n",
       "                                                                   MinMaxScaler()),\n",
       "                                                                  ('impute',\n",
       "                                                                   SimpleImputer(strategy='most_frequent'))]),\n",
       "                                                  ['RIAGENDR', 'BPXPULS',\n",
       "                                                   'ALQ120U', 'BPQ020',\n",
       "                                                   'BPQ050A', 'BPQ080',\n",
       "                                                   'BPQ100D', 'DIQ010',\n",
       "                                                   'MCQ170M', 'SMQ681'])])),\n",
       "                ('PCA', PCA(n_components=0.95)), ('ols', LinearRegression())])"
      ]
     },
     "execution_count": 14,
     "metadata": {},
     "output_type": "execute_result"
    }
   ],
   "source": [
    "lr1.fit(X_train,y_train)"
   ]
  },
  {
   "cell_type": "code",
   "execution_count": 15,
   "id": "12b26a22",
   "metadata": {},
   "outputs": [
    {
     "data": {
      "text/plain": [
       "0.13490131460429422"
      ]
     },
     "execution_count": 15,
     "metadata": {},
     "output_type": "execute_result"
    }
   ],
   "source": [
    "lr1.score(X_train,y_train)"
   ]
  },
  {
   "cell_type": "markdown",
   "id": "f4ca18f1",
   "metadata": {},
   "source": [
    "#### OLS log transforming skewed variables"
   ]
  },
  {
   "cell_type": "code",
   "execution_count": 17,
   "id": "68553f0e",
   "metadata": {},
   "outputs": [],
   "source": [
    "numerical_not_skewed = list(variables[variables.skewed=='no']['variable'])\n",
    "numerical_variables_skewed = list(variables[variables.skewed=='yes']['variable'])"
   ]
  },
  {
   "cell_type": "code",
   "execution_count": 19,
   "id": "bc337d4c",
   "metadata": {},
   "outputs": [],
   "source": [
    "numeric_transformer1 = Pipeline(steps=[\n",
    "    ('scale',MinMaxScaler()),\n",
    "    ('impute',KNNImputer()),\n",
    "    ('winsorizer',Winsorizer(capping_method='iqr',tail='both'))])\n",
    "cat_transformer1 = Pipeline(steps=[('one_hot',OneHotEncoder(handle_unknown='error',drop='first'))])\n",
    "cat_transformer2 = Pipeline(steps=[\n",
    "    ('scale',MinMaxScaler()),\n",
    "    ('impute',SimpleImputer(strategy='most_frequent'))\n",
    "])\n",
    "numeric_transformer2 = Pipeline(steps=[\n",
    "    ('log_transform',FunctionTransformer(np.log1p)),\n",
    "    ('scale',MinMaxScaler()),\n",
    "    ('impute',KNNImputer()),\n",
    "    ('winsorizer',Winsorizer(capping_method='iqr',tail='both'))])\n",
    "cat_transformer1 = Pipeline(steps=[('one_hot',OneHotEncoder(handle_unknown='error',drop='first'))])\n",
    "cat_transformer2 = Pipeline(steps=[\n",
    "    ('scale',MinMaxScaler()),\n",
    "    ('impute',SimpleImputer(strategy='most_frequent'))\n",
    "])\n",
    "\n",
    "preprocessor = ColumnTransformer(transformers=[\n",
    "    ('num1',numeric_transformer1,numerical_not_skewed),\n",
    "    ('num2',numeric_transformer2,numerical_variables_skewed),\n",
    "    ('encode',cat_transformer1,['RIDRETH3']),\n",
    "    ('impute_cat',cat_transformer2,categorical_variables)])\n",
    "\n",
    "lr1 = Pipeline(steps =[\n",
    "    ('preprocessor',preprocessor),\n",
    "    ('PCA',PCA(0.95)),\n",
    "    ('ols', LinearRegression())])"
   ]
  },
  {
   "cell_type": "code",
   "execution_count": 20,
   "id": "3a90d195",
   "metadata": {},
   "outputs": [
    {
     "data": {
      "text/plain": [
       "0.1487056501354712"
      ]
     },
     "execution_count": 20,
     "metadata": {},
     "output_type": "execute_result"
    }
   ],
   "source": [
    "lr1.fit(X_train,y_train)\n",
    "lr1.score(X_train,y_train)"
   ]
  },
  {
   "cell_type": "markdown",
   "id": "1b22c345",
   "metadata": {},
   "source": [
    "For OLS the model performs better when the skewed variables are log transformed.\n",
    "\n",
    "#### Decision tree regressor without log transforming variables"
   ]
  },
  {
   "cell_type": "code",
   "execution_count": 21,
   "id": "24c06185",
   "metadata": {},
   "outputs": [],
   "source": [
    "y = df.log_LBXTC\n",
    "X = df.drop(['LBXTC','log_LBXTC','outlier'],axis=1)"
   ]
  },
  {
   "cell_type": "code",
   "execution_count": 23,
   "id": "a3a2b2bc",
   "metadata": {},
   "outputs": [],
   "source": [
    "numerical_variables = list(variables[variables.type=='numerical']['variable'])"
   ]
  },
  {
   "cell_type": "code",
   "execution_count": 25,
   "id": "fb5cefa3",
   "metadata": {},
   "outputs": [],
   "source": [
    "numeric_transformer = Pipeline(steps=[\n",
    "    ('scale',MinMaxScaler()),\n",
    "    ('impute',KNNImputer())])\n",
    "cat_transformer2 = Pipeline(steps=[\n",
    "    ('scale',MinMaxScaler()),\n",
    "    ('impute',SimpleImputer(strategy='most_frequent'))\n",
    "])\n",
    "\n",
    "preprocessor = ColumnTransformer(transformers=[\n",
    "    ('num',numeric_transformer,numerical_variables),\n",
    "    ('impute_cat',cat_transformer2,categorical_variables+['RIDRETH3'])])\n",
    "\n",
    "dt1 = Pipeline(steps =[\n",
    "    ('preprocessor',preprocessor),\n",
    "    ('decision_tree',DecisionTreeRegressor(random_state=75,max_depth=7))])\n"
   ]
  },
  {
   "cell_type": "code",
   "execution_count": 26,
   "id": "badce943",
   "metadata": {},
   "outputs": [],
   "source": [
    "X_train, X_test, y_train, y_test = train_test_split(X,y,test_size=0.25,random_state=625)"
   ]
  },
  {
   "cell_type": "code",
   "execution_count": 27,
   "id": "06eeba68",
   "metadata": {},
   "outputs": [
    {
     "data": {
      "text/plain": [
       "0.34419517054640514"
      ]
     },
     "execution_count": 27,
     "metadata": {},
     "output_type": "execute_result"
    }
   ],
   "source": [
    "dt1.fit(X_train,y_train)\n",
    "dt1.score(X_train,y_train)"
   ]
  },
  {
   "cell_type": "markdown",
   "id": "7782cf80",
   "metadata": {},
   "source": [
    "#### Decision tree regression with log transformed variables"
   ]
  },
  {
   "cell_type": "code",
   "execution_count": 28,
   "id": "e56539aa",
   "metadata": {},
   "outputs": [],
   "source": [
    "numerical_not_skewed = list(variables[variables.skewed=='no']['variable'])\n",
    "numerical_variables_skewed = list(variables[variables.skewed=='yes']['variable'])"
   ]
  },
  {
   "cell_type": "code",
   "execution_count": 30,
   "id": "abacbf42",
   "metadata": {},
   "outputs": [],
   "source": [
    "numeric_transformer1 = Pipeline(steps=[\n",
    "    ('scale',MinMaxScaler()),\n",
    "    ('impute',KNNImputer())])\n",
    "cat_transformer2 = Pipeline(steps=[\n",
    "    ('scale',MinMaxScaler()),\n",
    "    ('impute',SimpleImputer(strategy='most_frequent'))\n",
    "])\n",
    "numeric_transformer2 = Pipeline(steps=[\n",
    "    ('log_transform',FunctionTransformer(np.log1p)),\n",
    "    ('scale',MinMaxScaler()),\n",
    "    ('impute',KNNImputer())])\n",
    "cat_transformer2 = Pipeline(steps=[\n",
    "    ('scale',MinMaxScaler()),\n",
    "    ('impute',SimpleImputer(strategy='most_frequent'))\n",
    "])\n",
    "\n",
    "preprocessor = ColumnTransformer(transformers=[\n",
    "    ('num1',numeric_transformer1,numerical_not_skewed),\n",
    "    ('num2',numeric_transformer2,numerical_variables_skewed),\n",
    "    ('impute_cat',cat_transformer2,categorical_variables+['RIDRETH3'])])\n",
    "\n",
    "dt1 = Pipeline(steps =[\n",
    "    ('preprocessor',preprocessor),\n",
    "    ('decision_tree',DecisionTreeRegressor(random_state=75,max_depth=7))])"
   ]
  },
  {
   "cell_type": "code",
   "execution_count": 31,
   "id": "41c0cf40",
   "metadata": {},
   "outputs": [
    {
     "data": {
      "text/plain": [
       "0.3415494814668495"
      ]
     },
     "execution_count": 31,
     "metadata": {},
     "output_type": "execute_result"
    }
   ],
   "source": [
    "dt1.fit(X_train,y_train)\n",
    "dt1.score(X_train,y_train)"
   ]
  },
  {
   "cell_type": "markdown",
   "id": "d579b5cf",
   "metadata": {},
   "source": [
    "For non-linear models it seems it works better without transforming the variables\n",
    "\n",
    "### Results\n",
    "\n",
    "Linear\n",
    "* Use calculated average alcohol intake\n",
    "* Use BMI\n",
    "* log transform skewed variables\n",
    "\n",
    "Non-linear\n",
    "* Use alcohol variables from original survey\n",
    "* Use height and weight instead of BMI\n",
    "* Do not log transform skewed variables\n",
    "\n",
    "Creating a dictionary to save metrics..."
   ]
  },
  {
   "cell_type": "code",
   "execution_count": 32,
   "id": "b2f1eb20",
   "metadata": {},
   "outputs": [],
   "source": [
    "metrics = {'model':[],'r2':[],'adjusted r2':[],'MAE':[],'RMSE':[]}"
   ]
  },
  {
   "cell_type": "markdown",
   "id": "9d5a9d53",
   "metadata": {},
   "source": [
    "## Creating Models\n",
    "My plan is to use OLS, KNN, SVR, Random Forests, and Nueral networks to create a base model and compare their metrics.  The top 3 models I will do hyperparameter tuning on and compare those metrics.  Then I will chose the final model.\n",
    "\n",
    "### Note regarding physical activity variables\n",
    "\n",
    "# note to self need to do\n",
    "\n",
    "### OLS"
   ]
  },
  {
   "cell_type": "code",
   "execution_count": 33,
   "id": "86656a0a",
   "metadata": {},
   "outputs": [],
   "source": [
    "y = df2.log_LBXTC\n",
    "X = df2.drop(['LBXTC','log_LBXTC'],axis=1)"
   ]
  },
  {
   "cell_type": "code",
   "execution_count": null,
   "id": "b5f08bf4",
   "metadata": {},
   "outputs": [],
   "source": []
  }
 ],
 "metadata": {
  "kernelspec": {
   "display_name": "Python 3",
   "language": "python",
   "name": "python3"
  },
  "language_info": {
   "codemirror_mode": {
    "name": "ipython",
    "version": 3
   },
   "file_extension": ".py",
   "mimetype": "text/x-python",
   "name": "python",
   "nbconvert_exporter": "python",
   "pygments_lexer": "ipython3",
   "version": "3.9.5"
  }
 },
 "nbformat": 4,
 "nbformat_minor": 5
}
