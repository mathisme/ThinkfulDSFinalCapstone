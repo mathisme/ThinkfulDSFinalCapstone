{
 "cells": [
  {
   "cell_type": "code",
   "execution_count": 59,
   "id": "e0485b45",
   "metadata": {},
   "outputs": [],
   "source": [
    "import pandas as pd\n",
    "import numpy as np\n",
    "from pathlib import Path\n",
    "import matplotlib.pyplot as plt\n",
    "import seaborn as sns\n",
    "from sklearn.cluster import DBSCAN\n",
    "from sklearn.neighbors import NearestNeighbors\n",
    "from sklearn.neighbors import LocalOutlierFactor\n",
    "from kneed.knee_locator import KneeLocator"
   ]
  },
  {
   "cell_type": "markdown",
   "id": "d8c1391a",
   "metadata": {},
   "source": [
    "# Table of Contents"
   ]
  },
  {
   "cell_type": "markdown",
   "id": "8448b0b9",
   "metadata": {},
   "source": [
    "# References\n",
    "\n",
    "move this later\n",
    "\n",
    "1.  https://www.webmd.com/heart-disease/default.htm\n",
    "2.  https://www.webmd.com/cholesterol-management/default.htm"
   ]
  },
  {
   "cell_type": "markdown",
   "id": "e5c74e4c",
   "metadata": {},
   "source": [
    "# Background\n",
    "\n",
    "Heart disease is \"is the leading cause of death for men and women in the U.S.\"1  And, having high cholesterol is a major risk factor for heart disease.2  The goal of my project is to try to use NHANES survey data to predict total cholesterol level.  There are fitness trackers that can track physical activity, pulse, and blood pressure, nutrition apps that can monitor nutrion based on foods eaten.  Combine this along with personal information such as age, weight, and chronic conditions to create a model to predict total cholesterol.  A model that predicts total cholesterol level from health information would be benificial to health apps.  If a fittness/health app can predict total cholesterol level, they can notify the user if their cholesterol level is high, promoting they see a doctor and hence reduce heart disease risk.\n",
    "As someone who has high cholesterol, this is of personal interest to me.\n",
    "\n"
   ]
  },
  {
   "cell_type": "markdown",
   "id": "1e8a56ae",
   "metadata": {},
   "source": [
    "# Data\n",
    "\n",
    "The National Health and Nutrition Examination Survey is a yearly health exam and survey conducted by the CDC to gauge the overall health status of US citizens.  Each survey consists of multiple datasets in SAS format.\n",
    "\n",
    "Each year's dataset contains over 100 files and over 1500 variables.  An example of one years dataset can be found on Kaggle here [https://www.kaggle.com/cdc/national-health-and-nutrition-examination-survey]\n",
    "\n",
    "The data I chose to use comes from the 2013-2016 surveys.  Prior and posterior to those years, some variables changed which would make it difficult to combine the data.\n",
    "\n",
    "The list of vaariables I chose to include for modeling can be seen below."
   ]
  },
  {
   "cell_type": "code",
   "execution_count": 2,
   "id": "1601911c",
   "metadata": {},
   "outputs": [
    {
     "data": {
      "text/html": [
       "<div>\n",
       "<style scoped>\n",
       "    .dataframe tbody tr th:only-of-type {\n",
       "        vertical-align: middle;\n",
       "    }\n",
       "\n",
       "    .dataframe tbody tr th {\n",
       "        vertical-align: top;\n",
       "    }\n",
       "\n",
       "    .dataframe thead th {\n",
       "        text-align: right;\n",
       "    }\n",
       "</style>\n",
       "<table border=\"1\" class=\"dataframe\">\n",
       "  <thead>\n",
       "    <tr style=\"text-align: right;\">\n",
       "      <th></th>\n",
       "      <th>Dataset_Description</th>\n",
       "      <th>Variable_Name</th>\n",
       "      <th>Variable_Description</th>\n",
       "    </tr>\n",
       "  </thead>\n",
       "  <tbody>\n",
       "    <tr>\n",
       "      <th>0</th>\n",
       "      <td>LabCholesterolTotal</td>\n",
       "      <td>SEQN</td>\n",
       "      <td>Participant Identification Number</td>\n",
       "    </tr>\n",
       "    <tr>\n",
       "      <th>1</th>\n",
       "      <td>LabCholesterolTotal</td>\n",
       "      <td>LBXTC</td>\n",
       "      <td>Total Cholesterol Level</td>\n",
       "    </tr>\n",
       "    <tr>\n",
       "      <th>2</th>\n",
       "      <td>FastingQuestionairre</td>\n",
       "      <td>PHAFSTHR</td>\n",
       "      <td>Hours Fasted for labs</td>\n",
       "    </tr>\n",
       "    <tr>\n",
       "      <th>3</th>\n",
       "      <td>Demographics</td>\n",
       "      <td>RIAGENDR</td>\n",
       "      <td>Gender</td>\n",
       "    </tr>\n",
       "    <tr>\n",
       "      <th>4</th>\n",
       "      <td>Demographics</td>\n",
       "      <td>RIDRETH3</td>\n",
       "      <td>Race</td>\n",
       "    </tr>\n",
       "    <tr>\n",
       "      <th>...</th>\n",
       "      <td>...</td>\n",
       "      <td>...</td>\n",
       "      <td>...</td>\n",
       "    </tr>\n",
       "    <tr>\n",
       "      <th>58</th>\n",
       "      <td>AlcoholUse</td>\n",
       "      <td>ALQ101</td>\n",
       "      <td>Had at least 12 drinks in the past year</td>\n",
       "    </tr>\n",
       "    <tr>\n",
       "      <th>59</th>\n",
       "      <td>AlcoholUse</td>\n",
       "      <td>ALQ110</td>\n",
       "      <td>Had at least 12 drinks in your lifetime</td>\n",
       "    </tr>\n",
       "    <tr>\n",
       "      <th>60</th>\n",
       "      <td>AlcoholUse</td>\n",
       "      <td>ALQ120Q</td>\n",
       "      <td>Number of drinks in the past twelve months</td>\n",
       "    </tr>\n",
       "    <tr>\n",
       "      <th>61</th>\n",
       "      <td>AlcoholUse</td>\n",
       "      <td>ALQ120U</td>\n",
       "      <td>Unit for number of drinks</td>\n",
       "    </tr>\n",
       "    <tr>\n",
       "      <th>62</th>\n",
       "      <td>AlcoholUse</td>\n",
       "      <td>ALQ130</td>\n",
       "      <td>How many drinks per day</td>\n",
       "    </tr>\n",
       "  </tbody>\n",
       "</table>\n",
       "<p>63 rows × 3 columns</p>\n",
       "</div>"
      ],
      "text/plain": [
       "     Dataset_Description Variable_Name  \\\n",
       "0    LabCholesterolTotal          SEQN   \n",
       "1    LabCholesterolTotal         LBXTC   \n",
       "2   FastingQuestionairre      PHAFSTHR   \n",
       "3           Demographics      RIAGENDR   \n",
       "4           Demographics      RIDRETH3   \n",
       "..                   ...           ...   \n",
       "58            AlcoholUse        ALQ101   \n",
       "59            AlcoholUse        ALQ110   \n",
       "60            AlcoholUse       ALQ120Q   \n",
       "61            AlcoholUse       ALQ120U   \n",
       "62            AlcoholUse        ALQ130   \n",
       "\n",
       "                          Variable_Description  \n",
       "0            Participant Identification Number  \n",
       "1                      Total Cholesterol Level  \n",
       "2                        Hours Fasted for labs  \n",
       "3                                       Gender  \n",
       "4                                         Race  \n",
       "..                                         ...  \n",
       "58     Had at least 12 drinks in the past year  \n",
       "59     Had at least 12 drinks in your lifetime  \n",
       "60  Number of drinks in the past twelve months  \n",
       "61                   Unit for number of drinks  \n",
       "62                     How many drinks per day  \n",
       "\n",
       "[63 rows x 3 columns]"
      ]
     },
     "execution_count": 2,
     "metadata": {},
     "output_type": "execute_result"
    }
   ],
   "source": [
    "variables = pd.read_csv('variables.csv')\n",
    "variables"
   ]
  },
  {
   "cell_type": "markdown",
   "id": "3cdd3a64",
   "metadata": {},
   "source": [
    "\n",
    "\n",
    "The reasons for chosing these variables are...\n",
    "\n",
    "## notes\n",
    "later want to say you only used first day nutrition\n",
    "may want to change variables to only include recreation info and say why you only used recreational activity info"
   ]
  },
  {
   "cell_type": "code",
   "execution_count": 3,
   "id": "d0f383d3",
   "metadata": {},
   "outputs": [
    {
     "name": "stderr",
     "output_type": "stream",
     "text": [
      "c:\\users\\anned\\appdata\\local\\programs\\python\\python39\\lib\\site-packages\\pandas\\io\\sas\\sas_xport.py:475: PerformanceWarning: DataFrame is highly fragmented.  This is usually the result of calling `frame.insert` many times, which has poor performance.  Consider using pd.concat instead.  To get a de-fragmented frame, use `newframe = frame.copy()`\n",
      "  df[x] = v\n"
     ]
    },
    {
     "data": {
      "text/html": [
       "<div>\n",
       "<style scoped>\n",
       "    .dataframe tbody tr th:only-of-type {\n",
       "        vertical-align: middle;\n",
       "    }\n",
       "\n",
       "    .dataframe tbody tr th {\n",
       "        vertical-align: top;\n",
       "    }\n",
       "\n",
       "    .dataframe thead th {\n",
       "        text-align: right;\n",
       "    }\n",
       "</style>\n",
       "<table border=\"1\" class=\"dataframe\">\n",
       "  <thead>\n",
       "    <tr style=\"text-align: right;\">\n",
       "      <th></th>\n",
       "      <th>LBXTC</th>\n",
       "      <th>PHAFSTHR</th>\n",
       "      <th>RIAGENDR</th>\n",
       "      <th>RIDRETH3</th>\n",
       "      <th>RIDAGEYR</th>\n",
       "      <th>BMXWT</th>\n",
       "      <th>BMXHT</th>\n",
       "      <th>BMXBMI</th>\n",
       "      <th>BPXSY1</th>\n",
       "      <th>BPXSY2</th>\n",
       "      <th>...</th>\n",
       "      <th>PAQ620</th>\n",
       "      <th>PAQ625</th>\n",
       "      <th>PAD630</th>\n",
       "      <th>PAQ650</th>\n",
       "      <th>PAQ655</th>\n",
       "      <th>PAD660</th>\n",
       "      <th>PAQ665</th>\n",
       "      <th>PAQ670</th>\n",
       "      <th>PAD675</th>\n",
       "      <th>KIQ022</th>\n",
       "    </tr>\n",
       "  </thead>\n",
       "  <tbody>\n",
       "    <tr>\n",
       "      <th>0</th>\n",
       "      <td>173.0</td>\n",
       "      <td>3.0</td>\n",
       "      <td>1.0</td>\n",
       "      <td>3.0</td>\n",
       "      <td>62.0</td>\n",
       "      <td>94.8</td>\n",
       "      <td>184.5</td>\n",
       "      <td>27.8</td>\n",
       "      <td>128.0</td>\n",
       "      <td>124.0</td>\n",
       "      <td>...</td>\n",
       "      <td>1.0</td>\n",
       "      <td>5.0</td>\n",
       "      <td>10.0</td>\n",
       "      <td>2.0</td>\n",
       "      <td>NaN</td>\n",
       "      <td>NaN</td>\n",
       "      <td>1.0</td>\n",
       "      <td>6.0</td>\n",
       "      <td>30.0</td>\n",
       "      <td>NaN</td>\n",
       "    </tr>\n",
       "    <tr>\n",
       "      <th>1</th>\n",
       "      <td>265.0</td>\n",
       "      <td>12.0</td>\n",
       "      <td>1.0</td>\n",
       "      <td>3.0</td>\n",
       "      <td>53.0</td>\n",
       "      <td>90.4</td>\n",
       "      <td>171.4</td>\n",
       "      <td>30.8</td>\n",
       "      <td>146.0</td>\n",
       "      <td>140.0</td>\n",
       "      <td>...</td>\n",
       "      <td>2.0</td>\n",
       "      <td>NaN</td>\n",
       "      <td>NaN</td>\n",
       "      <td>2.0</td>\n",
       "      <td>NaN</td>\n",
       "      <td>NaN</td>\n",
       "      <td>2.0</td>\n",
       "      <td>NaN</td>\n",
       "      <td>NaN</td>\n",
       "      <td>NaN</td>\n",
       "    </tr>\n",
       "    <tr>\n",
       "      <th>2</th>\n",
       "      <td>229.0</td>\n",
       "      <td>10.0</td>\n",
       "      <td>1.0</td>\n",
       "      <td>3.0</td>\n",
       "      <td>78.0</td>\n",
       "      <td>83.4</td>\n",
       "      <td>170.1</td>\n",
       "      <td>28.8</td>\n",
       "      <td>138.0</td>\n",
       "      <td>132.0</td>\n",
       "      <td>...</td>\n",
       "      <td>1.0</td>\n",
       "      <td>4.0</td>\n",
       "      <td>240.0</td>\n",
       "      <td>2.0</td>\n",
       "      <td>NaN</td>\n",
       "      <td>NaN</td>\n",
       "      <td>2.0</td>\n",
       "      <td>NaN</td>\n",
       "      <td>NaN</td>\n",
       "      <td>NaN</td>\n",
       "    </tr>\n",
       "    <tr>\n",
       "      <th>3</th>\n",
       "      <td>174.0</td>\n",
       "      <td>2.0</td>\n",
       "      <td>2.0</td>\n",
       "      <td>3.0</td>\n",
       "      <td>56.0</td>\n",
       "      <td>109.8</td>\n",
       "      <td>160.9</td>\n",
       "      <td>42.4</td>\n",
       "      <td>132.0</td>\n",
       "      <td>134.0</td>\n",
       "      <td>...</td>\n",
       "      <td>1.0</td>\n",
       "      <td>5.0</td>\n",
       "      <td>90.0</td>\n",
       "      <td>2.0</td>\n",
       "      <td>NaN</td>\n",
       "      <td>NaN</td>\n",
       "      <td>2.0</td>\n",
       "      <td>NaN</td>\n",
       "      <td>NaN</td>\n",
       "      <td>NaN</td>\n",
       "    </tr>\n",
       "    <tr>\n",
       "      <th>4</th>\n",
       "      <td>204.0</td>\n",
       "      <td>10.0</td>\n",
       "      <td>2.0</td>\n",
       "      <td>4.0</td>\n",
       "      <td>42.0</td>\n",
       "      <td>55.2</td>\n",
       "      <td>164.9</td>\n",
       "      <td>20.3</td>\n",
       "      <td>100.0</td>\n",
       "      <td>114.0</td>\n",
       "      <td>...</td>\n",
       "      <td>1.0</td>\n",
       "      <td>7.0</td>\n",
       "      <td>480.0</td>\n",
       "      <td>2.0</td>\n",
       "      <td>NaN</td>\n",
       "      <td>NaN</td>\n",
       "      <td>2.0</td>\n",
       "      <td>NaN</td>\n",
       "      <td>NaN</td>\n",
       "      <td>NaN</td>\n",
       "    </tr>\n",
       "  </tbody>\n",
       "</table>\n",
       "<p>5 rows × 62 columns</p>\n",
       "</div>"
      ],
      "text/plain": [
       "   LBXTC  PHAFSTHR  RIAGENDR  RIDRETH3  RIDAGEYR  BMXWT  BMXHT  BMXBMI  \\\n",
       "0  173.0       3.0       1.0       3.0      62.0   94.8  184.5    27.8   \n",
       "1  265.0      12.0       1.0       3.0      53.0   90.4  171.4    30.8   \n",
       "2  229.0      10.0       1.0       3.0      78.0   83.4  170.1    28.8   \n",
       "3  174.0       2.0       2.0       3.0      56.0  109.8  160.9    42.4   \n",
       "4  204.0      10.0       2.0       4.0      42.0   55.2  164.9    20.3   \n",
       "\n",
       "   BPXSY1  BPXSY2  ...  PAQ620  PAQ625  PAD630  PAQ650  PAQ655  PAD660  \\\n",
       "0   128.0   124.0  ...     1.0     5.0    10.0     2.0     NaN     NaN   \n",
       "1   146.0   140.0  ...     2.0     NaN     NaN     2.0     NaN     NaN   \n",
       "2   138.0   132.0  ...     1.0     4.0   240.0     2.0     NaN     NaN   \n",
       "3   132.0   134.0  ...     1.0     5.0    90.0     2.0     NaN     NaN   \n",
       "4   100.0   114.0  ...     1.0     7.0   480.0     2.0     NaN     NaN   \n",
       "\n",
       "   PAQ665  PAQ670  PAD675  KIQ022  \n",
       "0     1.0     6.0    30.0     NaN  \n",
       "1     2.0     NaN     NaN     NaN  \n",
       "2     2.0     NaN     NaN     NaN  \n",
       "3     2.0     NaN     NaN     NaN  \n",
       "4     2.0     NaN     NaN     NaN  \n",
       "\n",
       "[5 rows x 62 columns]"
      ]
     },
     "execution_count": 3,
     "metadata": {},
     "output_type": "execute_result"
    }
   ],
   "source": [
    "data_path = Path(\"Data/df.csv\")\n",
    "if data_path.is_file():\n",
    "    df = pd.read_csv(\"Data/df.csv\")\n",
    "    df.drop('Unnamed: 0',axis=1,inplace=True)\n",
    "else:\n",
    "    file_list = pd.read_csv('files.csv')\n",
    "    years = file_list.Year.unique()\n",
    "    dfs = [None]*2\n",
    "    for i in range(len(years)):\n",
    "        files = file_list[file_list.Year == years[i]]\n",
    "        first = files[files.Notes==\"read in first\"]\n",
    "        first_path = list(first[\"Path\"])[0]\n",
    "        first_type = list(first[\"Dataset_Description\"])[0]\n",
    "        first_variables = list(variables[variables.Dataset_Description==first_type][\"Variable_Name\"])\n",
    "        df = pd.read_sas(first_path)\n",
    "        df = df[first_variables].copy()\n",
    "        others = files[files.Notes!=\"read in first\"]\n",
    "        for other_path in others[\"Path\"]:\n",
    "            other_type = list(others[others[\"Path\"]==other_path][\"Dataset_Description\"])[0]\n",
    "            temp_df = pd.read_sas(other_path)\n",
    "            other_variables = [\"SEQN\"] + list(variables[variables.Dataset_Description==other_type][\"Variable_Name\"])\n",
    "            temp_df = temp_df[other_variables].copy()\n",
    "            df = df.merge(temp_df, on=\"SEQN\", how=\"left\")\n",
    "        df.drop(\"SEQN\", axis=1, inplace=True)\n",
    "        dfs[i] = df.copy()\n",
    "    df = pd.concat(dfs,ignore_index=True)\n",
    "    df.to_csv(\"Data/df.csv\")\n",
    "df.head()\n"
   ]
  },
  {
   "cell_type": "markdown",
   "id": "4fe0ca43",
   "metadata": {},
   "source": [
    "## Initial data cleaning\n",
    "\n",
    "As we are only interested in those that had their Cholesterol level checked, I'm filtering for those without cholesterol level missing. I am also filtering for those age 20 and those who fasted at least 9 hours. As I do not plan to use fasting time in my model, it will be dropped.\n",
    "\n",
    "# need to explain why for age, fasting, and dropping fasting"
   ]
  },
  {
   "cell_type": "code",
   "execution_count": 4,
   "id": "23c5261d",
   "metadata": {},
   "outputs": [
    {
     "data": {
      "text/plain": [
       "(5003, 62)"
      ]
     },
     "execution_count": 4,
     "metadata": {},
     "output_type": "execute_result"
    }
   ],
   "source": [
    "df=df[(df.LBXTC.notnull())&(df.PHAFSTHR>=9)&(df.RIDAGEYR>=20)].copy()\n",
    "df.shape"
   ]
  },
  {
   "cell_type": "markdown",
   "id": "18f368b6",
   "metadata": {},
   "source": [
    "Some questions on survey data get skipped given a certain response to a prior question.  For example, if a person has not been diagnosed with high blood pressure, then they will not be asked if they are taking medication for blood pressure.  Because of this there are more missing values than needed.  Before observing the amount of missing data, these missing values will be fixed.\n",
    "\n",
    "Also for survey data, there are answers of do not know or refuse to answer, these will be turned into NaNs."
   ]
  },
  {
   "cell_type": "markdown",
   "id": "47b76039",
   "metadata": {},
   "source": [
    "### Blood Pressure/Cholesterol Questionnaire\n",
    "\n",
    "For those that have never been told they have high blood pressure or high cholesterol I'm setting the taking prescription medication questions to a value of 2, meaning no."
   ]
  },
  {
   "cell_type": "code",
   "execution_count": 5,
   "id": "c87dade5",
   "metadata": {},
   "outputs": [],
   "source": [
    "df.loc[df.BPQ020==2,'BPQ040A']=2\n",
    "df.loc[df.BPQ020==2,'BPQ050A']=2\n",
    "df.loc[df.BPQ020==7,'BPQ020']=np.nan\n",
    "df.loc[df.BPQ020==9,'BPQ020']=np.nan\n",
    "df.loc[df.BPQ020==7,'BPQ040A']=np.nan\n",
    "df.loc[df.BPQ020==7,'BPQ050A']=np.nan\n",
    "df.loc[df.BPQ020==9,'BPQ040A']=np.nan\n",
    "df.loc[df.BPQ020==9,'BPQ050A']=np.nan\n",
    "df.loc[df.BPQ040A==7,'BPQ040A']=np.nan\n",
    "df.loc[df.BPQ040A==7,'BPQ050A']=np.nan\n",
    "df.loc[df.BPQ040A==9,'BPQ040A']=np.nan\n",
    "df.loc[df.BPQ040A==9,'BPQ050A']=np.nan\n",
    "df.loc[df.BPQ050A==7,'BPQ050A']=np.nan\n",
    "df.loc[df.BPQ050A==9,'BPQ050A']=np.nan\n",
    "\n",
    "df.loc[df.BPQ080==2,'BPQ090D']=2\n",
    "df.loc[df.BPQ080==2,'BPQ100D']=2\n",
    "df.loc[df.BPQ080==7,'BPQ080']=np.nan\n",
    "df.loc[df.BPQ080==9,'BPQ080']=np.nan\n",
    "df.loc[df.BPQ080==7,'BPQ090D']=np.nan\n",
    "df.loc[df.BPQ080==7,'BPQ100D']=np.nan\n",
    "df.loc[df.BPQ080==9,'BPQ090D']=np.nan\n",
    "df.loc[df.BPQ080==9,'BPQ100D']=np.nan\n",
    "df.loc[df.BPQ090D==7,'BPQ090D']=np.nan\n",
    "df.loc[df.BPQ090D==7,'BPQ100D']=np.nan\n",
    "df.loc[df.BPQ090D==9,'BPQ090D']=np.nan\n",
    "df.loc[df.BPQ090D==9,'BPQ100D']=np.nan\n",
    "df.loc[df.BPQ100D==7,'BPQ100D']=np.nan\n",
    "df.loc[df.BPQ100D==9,'BPQ100D']=np.nan"
   ]
  },
  {
   "cell_type": "markdown",
   "id": "e160df07",
   "metadata": {},
   "source": [
    "### Diabetes Questionnaire"
   ]
  },
  {
   "cell_type": "code",
   "execution_count": 6,
   "id": "0b7e8f64",
   "metadata": {},
   "outputs": [],
   "source": [
    "# remember this is 1 yes, 2 no, 3 borderline so later you will need to adjust this\n",
    "df.loc[df.DIQ010==7,'DIQ010']=np.nan\n",
    "df.loc[df.DIQ010==9,'DIQ010']=np.nan"
   ]
  },
  {
   "cell_type": "markdown",
   "id": "30fb3aea",
   "metadata": {},
   "source": [
    "### Kidney Conditions Questionnaire"
   ]
  },
  {
   "cell_type": "code",
   "execution_count": 7,
   "id": "5a97c9fb",
   "metadata": {},
   "outputs": [],
   "source": [
    "df.loc[df.KIQ022==7,'KIQ022']=np.nan\n",
    "df.loc[df.KIQ022==9,'KIQ022']=np.nan"
   ]
  },
  {
   "cell_type": "markdown",
   "id": "bd01b976",
   "metadata": {},
   "source": [
    "### Other medical conditions Questionnaire\n",
    "\n",
    "For those that have not been told they have a thyroid problem, they will still not have a thyroid problem. Accordingly I'm setting the value of MCQ170M to 2. \n",
    "For those that refused or don't know, I'm setting the value to nan"
   ]
  },
  {
   "cell_type": "code",
   "execution_count": 8,
   "id": "90e3ae52",
   "metadata": {},
   "outputs": [],
   "source": [
    "df.loc[df.MCQ160M==2,'MCQ170M']=2\n",
    "df.loc[df.MCQ160M==7,'MCQ160M']=np.nan\n",
    "df.loc[df.MCQ160M==7,'MCQ170M']=np.nan\n",
    "df.loc[df.MCQ160M==9,'MCQ160M']=np.nan\n",
    "df.loc[df.MCQ160M==9,'MCQ170M']=np.nan\n",
    "df.loc[df.MCQ170M==7,'MCQ170M']=np.nan\n",
    "df.loc[df.MCQ170M==9,'MCQ170M']=np.nan"
   ]
  },
  {
   "cell_type": "markdown",
   "id": "d4bc58c3",
   "metadata": {},
   "source": [
    "### Tobacco Use Questionnaire"
   ]
  },
  {
   "cell_type": "code",
   "execution_count": 9,
   "id": "46161408",
   "metadata": {},
   "outputs": [],
   "source": [
    "df.loc[df.SMQ681==7,'SMQ681']=np.nan\n",
    "df.loc[df.SMQ681==9,'SMQ681']=np.nan"
   ]
  },
  {
   "cell_type": "markdown",
   "id": "c3db08b0",
   "metadata": {},
   "source": [
    "### Physical activity Questionnaire\n",
    "For those that do not do vigorous or moderate exercise, I'm setting the days and minutes to 0."
   ]
  },
  {
   "cell_type": "code",
   "execution_count": 10,
   "id": "305a1f1a",
   "metadata": {},
   "outputs": [],
   "source": [
    "df.loc[df.PAQ605==2,'PAQ610']=0\n",
    "df.loc[df.PAQ605==2,'PAD615']=0\n",
    "df.loc[df.PAQ605==7,'PAQ605']=np.nan\n",
    "df.loc[df.PAQ605==9,'PAQ605']=np.nan\n",
    "df.loc[df.PAQ605==7,'PAQ610']=np.nan\n",
    "df.loc[df.PAQ605==7,'PAD615']=np.nan\n",
    "df.loc[df.PAQ605==9,'PAQ610']=np.nan\n",
    "df.loc[df.PAQ605==9,'PAD615']=np.nan\n",
    "df.loc[df.PAQ610==77,'PAQ610']=np.nan\n",
    "df.loc[df.PAQ610==77,'PAD615']=np.nan\n",
    "df.loc[df.PAQ610==99,'PAQ610']=np.nan\n",
    "df.loc[df.PAQ610==99,'PAD615']=np.nan\n",
    "df.loc[df.PAD615==7777,'PAD615']=np.nan\n",
    "df.loc[df.PAD615==9999,'PAD615']=np.nan\n",
    "df.loc[df.PAQ620==2,'PAQ625']=0\n",
    "df.loc[df.PAQ620==2,'PAD630']=0\n",
    "df.loc[df.PAQ620==7,'PAQ620']=np.nan\n",
    "df.loc[df.PAQ620==9,'PAQ620']=np.nan\n",
    "df.loc[df.PAQ620==7,'PAQ625']=np.nan\n",
    "df.loc[df.PAQ620==7,'PAD630']=np.nan\n",
    "df.loc[df.PAQ620==9,'PAQ625']=np.nan\n",
    "df.loc[df.PAQ620==9,'PAD630']=np.nan\n",
    "df.loc[df.PAQ625==77,'PAQ625']=np.nan\n",
    "df.loc[df.PAQ625==77,'PAD630']=np.nan\n",
    "df.loc[df.PAQ625==99,'PAQ625']=np.nan\n",
    "df.loc[df.PAQ625==99,'PAD630']=np.nan\n",
    "df.loc[df.PAD630==7777,'PAD630']=np.nan\n",
    "df.loc[df.PAD630==9999,'PAD630']=np.nan\n",
    "\n",
    "df.loc[df.PAQ650==2,'PAQ655']=0\n",
    "df.loc[df.PAQ650==2,'PAD660']=0\n",
    "df.loc[df.PAQ650==7,'PAQ650']=np.nan\n",
    "df.loc[df.PAQ650==9,'PAQ650']=np.nan\n",
    "df.loc[df.PAQ650==7,'PAQ655']=np.nan\n",
    "df.loc[df.PAQ650==7,'PAD660']=np.nan\n",
    "df.loc[df.PAQ650==9,'PAQ655']=np.nan\n",
    "df.loc[df.PAQ650==9,'PAD660']=np.nan\n",
    "df.loc[df.PAQ655==77,'PAQ655']=np.nan\n",
    "df.loc[df.PAQ655==77,'PAD660']=np.nan\n",
    "df.loc[df.PAQ655==99,'PAQ655']=np.nan\n",
    "df.loc[df.PAQ655==99,'PAD660']=np.nan\n",
    "df.loc[df.PAD660==7777,'PAD660']=np.nan\n",
    "df.loc[df.PAD660==9999,'PAD660']=np.nan\n",
    "df.loc[df.PAQ665==2,'PAQ670']=0\n",
    "df.loc[df.PAQ665==2,'PAD675']=0\n",
    "df.loc[df.PAQ665==7,'PAQ665']=np.nan\n",
    "df.loc[df.PAQ665==9,'PAQ665']=np.nan\n",
    "df.loc[df.PAQ665==7,'PAQ670']=np.nan\n",
    "df.loc[df.PAQ665==7,'PAD675']=np.nan\n",
    "df.loc[df.PAQ665==9,'PAQ670']=np.nan\n",
    "df.loc[df.PAQ665==9,'PAD675']=np.nan\n",
    "df.loc[df.PAQ670==77,'PAQ670']=np.nan\n",
    "df.loc[df.PAQ670==77,'PAD675']=np.nan\n",
    "df.loc[df.PAQ670==99,'PAQ670']=np.nan\n",
    "df.loc[df.PAQ670==99,'PAD675']=np.nan\n",
    "df.loc[df.PAD675==7777,'PAD675']=np.nan\n",
    "df.loc[df.PAD675==9999,'PAD675']=np.nan\n",
    "\n"
   ]
  },
  {
   "cell_type": "markdown",
   "id": "8f1ad846",
   "metadata": {},
   "source": [
    "### Alcohol Use Questionnaire"
   ]
  },
  {
   "cell_type": "code",
   "execution_count": 11,
   "id": "a5f0600c",
   "metadata": {},
   "outputs": [],
   "source": [
    "df.loc[df.ALQ101==1,'ALQ110']=1\n",
    "df.loc[df.ALQ101==7,'ALQ101']=np.nan\n",
    "df.loc[df.ALQ101==9,'ALQ101']=np.nan\n",
    "df.loc[df.ALQ101==7,'ALQ110']=np.nan\n",
    "df.loc[df.ALQ101==9,'ALQ110']=np.nan\n",
    "df.loc[df.ALQ101==7,'ALQ120Q']=np.nan\n",
    "df.loc[df.ALQ101==9,'ALQ120Q']=np.nan\n",
    "df.loc[df.ALQ101==7,'ALQ120U']=np.nan\n",
    "df.loc[df.ALQ101==9,'ALQ120U']=np.nan\n",
    "df.loc[df.ALQ101==7,'ALQ130']=np.nan\n",
    "df.loc[df.ALQ101==9,'ALQ130']=np.nan\n",
    "df.loc[df.ALQ110==2,'ALQ120Q']=0\n",
    "df.loc[df.ALQ110==2,'ALQ120U']=1\n",
    "df.loc[df.ALQ110==2,'ALQ130']=0\n",
    "df.loc[df.ALQ110==7,'ALQ110']=np.nan\n",
    "df.loc[df.ALQ110==9,'ALQ110']=np.nan\n",
    "df.loc[df.ALQ110==7,'ALQ120Q']=np.nan\n",
    "df.loc[df.ALQ110==7,'ALQ120U']=np.nan\n",
    "df.loc[df.ALQ110==7,'ALQ130']=np.nan\n",
    "df.loc[df.ALQ110==9,'ALQ120Q']=np.nan\n",
    "df.loc[df.ALQ110==9,'ALQ120U']=np.nan\n",
    "df.loc[df.ALQ110==9,'ALQ130']=np.nan\n",
    "df.loc[df.ALQ120Q==777,'ALQ120Q']=np.nan\n",
    "df.loc[df.ALQ120Q==777,'ALQ120U']=np.nan\n",
    "df.loc[df.ALQ120Q==777,'ALQ130']=np.nan\n",
    "df.loc[df.ALQ120Q==999,'ALQ120Q']=np.nan\n",
    "df.loc[df.ALQ120Q==999,'ALQ120U']=np.nan\n",
    "df.loc[df.ALQ120Q==999,'ALQ130']=np.nan\n",
    "df.loc[df.ALQ120U==7,'ALQ120U']=np.nan\n",
    "df.loc[df.ALQ120U==7,'ALQ130']=np.nan\n",
    "df.loc[df.ALQ120U==9,'ALQ120U']=np.nan\n",
    "df.loc[df.ALQ120U==9,'ALQ130']=np.nan\n",
    "df.loc[df.ALQ130==777,'ALQ130']=np.nan\n",
    "df.loc[df.ALQ130==999,'ALQ130']=np.nan"
   ]
  },
  {
   "cell_type": "markdown",
   "id": "e549635f",
   "metadata": {},
   "source": [
    "### Nutrition Question\n",
    "On the nutrition data there is a question on how what you ate today compares to normal.  For those that refused or don't know, I'm setting it to nan."
   ]
  },
  {
   "cell_type": "code",
   "execution_count": 12,
   "id": "afc840a4",
   "metadata": {},
   "outputs": [],
   "source": [
    "df.loc[df.DR1_300==7,'DR1_300']=np.nan\n",
    "df.loc[df.DR1_300==9,'DR1_300']=np.nan"
   ]
  },
  {
   "cell_type": "markdown",
   "id": "12ed2c99",
   "metadata": {},
   "source": [
    "## Missing Values"
   ]
  },
  {
   "cell_type": "markdown",
   "id": "4d705116",
   "metadata": {},
   "source": [
    "Checking for observations with more than a third of their information missing.  These will be dropped."
   ]
  },
  {
   "cell_type": "code",
   "execution_count": 13,
   "id": "d98fd0f7",
   "metadata": {},
   "outputs": [],
   "source": [
    "null_rows = 100*df.isnull().sum(axis=1)/df.shape[1]"
   ]
  },
  {
   "cell_type": "code",
   "execution_count": 14,
   "id": "f42ddbaf",
   "metadata": {},
   "outputs": [
    {
     "data": {
      "text/plain": [
       "Int64Index([   70,   111,   195,   205,   289,   449,   556,   580,   601,\n",
       "              674,\n",
       "            ...\n",
       "            15512, 15585, 15640, 15688, 15715, 15790, 16048, 16082, 16240,\n",
       "            16301],\n",
       "           dtype='int64', length=197)"
      ]
     },
     "execution_count": 14,
     "metadata": {},
     "output_type": "execute_result"
    }
   ],
   "source": [
    "null_rows[null_rows>33].index"
   ]
  },
  {
   "cell_type": "code",
   "execution_count": 15,
   "id": "4a8a7569",
   "metadata": {},
   "outputs": [],
   "source": [
    "df.drop(null_rows[null_rows>33].index,inplace=True)"
   ]
  },
  {
   "cell_type": "code",
   "execution_count": 16,
   "id": "fd144e98",
   "metadata": {},
   "outputs": [],
   "source": [
    "null_columns = 100*df.isnull().sum()/df.shape[0]"
   ]
  },
  {
   "cell_type": "code",
   "execution_count": 17,
   "id": "dc5ee649",
   "metadata": {},
   "outputs": [
    {
     "data": {
      "text/plain": [
       "BPXSY4    94.423637\n",
       "BPXDI4    94.423637\n",
       "KIQ022    48.626717\n",
       "dtype: float64"
      ]
     },
     "execution_count": 17,
     "metadata": {},
     "output_type": "execute_result"
    }
   ],
   "source": [
    "null_columns[null_columns>33].sort_values(ascending=False)"
   ]
  },
  {
   "cell_type": "markdown",
   "id": "a1974794",
   "metadata": {},
   "source": [
    "Blood pressure is going to be averaged so nulls in BPXSY4 and BPXDI4 do not matter.  Because of all the nulls in Kidney condition questionaire, that variable will be dropped."
   ]
  },
  {
   "cell_type": "code",
   "execution_count": 18,
   "id": "0f90805a",
   "metadata": {},
   "outputs": [
    {
     "data": {
      "text/plain": [
       "(4806, 61)"
      ]
     },
     "execution_count": 18,
     "metadata": {},
     "output_type": "execute_result"
    }
   ],
   "source": [
    "df.drop('KIQ022',axis=1,inplace=True)\n",
    "df.shape"
   ]
  },
  {
   "cell_type": "code",
   "execution_count": 19,
   "id": "760d4768",
   "metadata": {},
   "outputs": [
    {
     "data": {
      "text/plain": [
       "BMXWT         24\n",
       "BMXHT         26\n",
       "BMXBMI        32\n",
       "BPXSY1       280\n",
       "BPXSY2       130\n",
       "BPXSY3       130\n",
       "BPXSY4      4538\n",
       "BPXDI1       280\n",
       "BPXDI2       130\n",
       "BPXDI3       130\n",
       "BPXDI4      4538\n",
       "BPXPLS        78\n",
       "BPXPULS       77\n",
       "DR1TKCAL     147\n",
       "DR1TPROT     147\n",
       "DR1TCARB     147\n",
       "DR1TSUGR     147\n",
       "DR1TFIBE     147\n",
       "DR1TTFAT     147\n",
       "DR1TSFAT     147\n",
       "DR1TMFAT     147\n",
       "DR1TPFAT     147\n",
       "DR1TCHOL     147\n",
       "DR1TSODI     147\n",
       "DR1TVD       147\n",
       "DR1TCALC     147\n",
       "DR1TIRON     147\n",
       "DR1TPOTA     147\n",
       "DR1_300      165\n",
       "ALQ101       203\n",
       "ALQ110       201\n",
       "ALQ120Q      203\n",
       "ALQ120U      969\n",
       "ALQ130       970\n",
       "BPQ020         5\n",
       "BPQ040A        6\n",
       "BPQ050A      258\n",
       "BPQ080        32\n",
       "BPQ090D       18\n",
       "BPQ100D      583\n",
       "DIQ010         1\n",
       "MCQ160M        7\n",
       "MCQ170M       27\n",
       "SMQ681       200\n",
       "PAQ605         2\n",
       "PAQ610         4\n",
       "PAD615        14\n",
       "PAQ620         2\n",
       "PAQ625         5\n",
       "PAD630        16\n",
       "PAQ655         1\n",
       "PAD660         4\n",
       "PAQ665         3\n",
       "PAQ670         3\n",
       "PAD675         6\n",
       "dtype: int64"
      ]
     },
     "execution_count": 19,
     "metadata": {},
     "output_type": "execute_result"
    }
   ],
   "source": [
    "nulls = df.isnull().sum()\n",
    "nulls[nulls>0]"
   ]
  },
  {
   "cell_type": "markdown",
   "id": "3304a7ce",
   "metadata": {},
   "source": [
    "There are still many missing values, these will be imputed during the pipeline"
   ]
  },
  {
   "cell_type": "markdown",
   "id": "3a5c2191",
   "metadata": {},
   "source": [
    "## Checking for invalid values"
   ]
  },
  {
   "cell_type": "code",
   "execution_count": 20,
   "id": "adcf2918",
   "metadata": {},
   "outputs": [
    {
     "data": {
      "text/html": [
       "<div>\n",
       "<style scoped>\n",
       "    .dataframe tbody tr th:only-of-type {\n",
       "        vertical-align: middle;\n",
       "    }\n",
       "\n",
       "    .dataframe tbody tr th {\n",
       "        vertical-align: top;\n",
       "    }\n",
       "\n",
       "    .dataframe thead th {\n",
       "        text-align: right;\n",
       "    }\n",
       "</style>\n",
       "<table border=\"1\" class=\"dataframe\">\n",
       "  <thead>\n",
       "    <tr style=\"text-align: right;\">\n",
       "      <th></th>\n",
       "      <th>count</th>\n",
       "      <th>mean</th>\n",
       "      <th>std</th>\n",
       "      <th>min</th>\n",
       "      <th>25%</th>\n",
       "      <th>50%</th>\n",
       "      <th>75%</th>\n",
       "      <th>max</th>\n",
       "    </tr>\n",
       "  </thead>\n",
       "  <tbody>\n",
       "    <tr>\n",
       "      <th>LBXTC</th>\n",
       "      <td>4806.0</td>\n",
       "      <td>189.314607</td>\n",
       "      <td>41.733185</td>\n",
       "      <td>69.0</td>\n",
       "      <td>161.0</td>\n",
       "      <td>186.0</td>\n",
       "      <td>213.0</td>\n",
       "      <td>612.0</td>\n",
       "    </tr>\n",
       "    <tr>\n",
       "      <th>PHAFSTHR</th>\n",
       "      <td>4806.0</td>\n",
       "      <td>12.053891</td>\n",
       "      <td>2.900179</td>\n",
       "      <td>9.0</td>\n",
       "      <td>10.0</td>\n",
       "      <td>12.0</td>\n",
       "      <td>13.0</td>\n",
       "      <td>39.0</td>\n",
       "    </tr>\n",
       "    <tr>\n",
       "      <th>RIAGENDR</th>\n",
       "      <td>4806.0</td>\n",
       "      <td>1.512692</td>\n",
       "      <td>0.499891</td>\n",
       "      <td>1.0</td>\n",
       "      <td>1.0</td>\n",
       "      <td>2.0</td>\n",
       "      <td>2.0</td>\n",
       "      <td>2.0</td>\n",
       "    </tr>\n",
       "    <tr>\n",
       "      <th>RIDRETH3</th>\n",
       "      <td>4806.0</td>\n",
       "      <td>3.237203</td>\n",
       "      <td>1.525748</td>\n",
       "      <td>1.0</td>\n",
       "      <td>2.0</td>\n",
       "      <td>3.0</td>\n",
       "      <td>4.0</td>\n",
       "      <td>7.0</td>\n",
       "    </tr>\n",
       "    <tr>\n",
       "      <th>RIDAGEYR</th>\n",
       "      <td>4806.0</td>\n",
       "      <td>49.548065</td>\n",
       "      <td>17.455878</td>\n",
       "      <td>20.0</td>\n",
       "      <td>35.0</td>\n",
       "      <td>50.0</td>\n",
       "      <td>64.0</td>\n",
       "      <td>80.0</td>\n",
       "    </tr>\n",
       "    <tr>\n",
       "      <th>...</th>\n",
       "      <td>...</td>\n",
       "      <td>...</td>\n",
       "      <td>...</td>\n",
       "      <td>...</td>\n",
       "      <td>...</td>\n",
       "      <td>...</td>\n",
       "      <td>...</td>\n",
       "      <td>...</td>\n",
       "    </tr>\n",
       "    <tr>\n",
       "      <th>PAQ655</th>\n",
       "      <td>4805.0</td>\n",
       "      <td>0.726119</td>\n",
       "      <td>1.542458</td>\n",
       "      <td>0.0</td>\n",
       "      <td>0.0</td>\n",
       "      <td>0.0</td>\n",
       "      <td>0.0</td>\n",
       "      <td>7.0</td>\n",
       "    </tr>\n",
       "    <tr>\n",
       "      <th>PAD660</th>\n",
       "      <td>4802.0</td>\n",
       "      <td>17.232820</td>\n",
       "      <td>42.658923</td>\n",
       "      <td>0.0</td>\n",
       "      <td>0.0</td>\n",
       "      <td>0.0</td>\n",
       "      <td>0.0</td>\n",
       "      <td>480.0</td>\n",
       "    </tr>\n",
       "    <tr>\n",
       "      <th>PAQ665</th>\n",
       "      <td>4803.0</td>\n",
       "      <td>1.592755</td>\n",
       "      <td>0.491372</td>\n",
       "      <td>1.0</td>\n",
       "      <td>1.0</td>\n",
       "      <td>2.0</td>\n",
       "      <td>2.0</td>\n",
       "      <td>2.0</td>\n",
       "    </tr>\n",
       "    <tr>\n",
       "      <th>PAQ670</th>\n",
       "      <td>4803.0</td>\n",
       "      <td>1.408286</td>\n",
       "      <td>2.049184</td>\n",
       "      <td>0.0</td>\n",
       "      <td>0.0</td>\n",
       "      <td>0.0</td>\n",
       "      <td>3.0</td>\n",
       "      <td>7.0</td>\n",
       "    </tr>\n",
       "    <tr>\n",
       "      <th>PAD675</th>\n",
       "      <td>4800.0</td>\n",
       "      <td>25.534167</td>\n",
       "      <td>47.960658</td>\n",
       "      <td>0.0</td>\n",
       "      <td>0.0</td>\n",
       "      <td>0.0</td>\n",
       "      <td>30.0</td>\n",
       "      <td>600.0</td>\n",
       "    </tr>\n",
       "  </tbody>\n",
       "</table>\n",
       "<p>61 rows × 8 columns</p>\n",
       "</div>"
      ],
      "text/plain": [
       "           count        mean        std   min    25%    50%    75%    max\n",
       "LBXTC     4806.0  189.314607  41.733185  69.0  161.0  186.0  213.0  612.0\n",
       "PHAFSTHR  4806.0   12.053891   2.900179   9.0   10.0   12.0   13.0   39.0\n",
       "RIAGENDR  4806.0    1.512692   0.499891   1.0    1.0    2.0    2.0    2.0\n",
       "RIDRETH3  4806.0    3.237203   1.525748   1.0    2.0    3.0    4.0    7.0\n",
       "RIDAGEYR  4806.0   49.548065  17.455878  20.0   35.0   50.0   64.0   80.0\n",
       "...          ...         ...        ...   ...    ...    ...    ...    ...\n",
       "PAQ655    4805.0    0.726119   1.542458   0.0    0.0    0.0    0.0    7.0\n",
       "PAD660    4802.0   17.232820  42.658923   0.0    0.0    0.0    0.0  480.0\n",
       "PAQ665    4803.0    1.592755   0.491372   1.0    1.0    2.0    2.0    2.0\n",
       "PAQ670    4803.0    1.408286   2.049184   0.0    0.0    0.0    3.0    7.0\n",
       "PAD675    4800.0   25.534167  47.960658   0.0    0.0    0.0   30.0  600.0\n",
       "\n",
       "[61 rows x 8 columns]"
      ]
     },
     "execution_count": 20,
     "metadata": {},
     "output_type": "execute_result"
    }
   ],
   "source": [
    "df.describe().transpose()"
   ]
  },
  {
   "cell_type": "markdown",
   "id": "edbcfc27",
   "metadata": {},
   "source": [
    "For blood pressure and nutrition variables, a value of 5x10^-79 seems erroneous.  Those values will be changed to np.nan."
   ]
  },
  {
   "cell_type": "code",
   "execution_count": 21,
   "id": "b8169927",
   "metadata": {},
   "outputs": [],
   "source": [
    "for var in df.columns:\n",
    "    df.loc[(df[var]>0)&(df[var]<0.0001),var]=np.nan\n"
   ]
  },
  {
   "cell_type": "code",
   "execution_count": 22,
   "id": "0d320a59",
   "metadata": {},
   "outputs": [
    {
     "data": {
      "text/html": [
       "<div>\n",
       "<style scoped>\n",
       "    .dataframe tbody tr th:only-of-type {\n",
       "        vertical-align: middle;\n",
       "    }\n",
       "\n",
       "    .dataframe tbody tr th {\n",
       "        vertical-align: top;\n",
       "    }\n",
       "\n",
       "    .dataframe thead th {\n",
       "        text-align: right;\n",
       "    }\n",
       "</style>\n",
       "<table border=\"1\" class=\"dataframe\">\n",
       "  <thead>\n",
       "    <tr style=\"text-align: right;\">\n",
       "      <th></th>\n",
       "      <th>count</th>\n",
       "      <th>mean</th>\n",
       "      <th>std</th>\n",
       "      <th>min</th>\n",
       "      <th>25%</th>\n",
       "      <th>50%</th>\n",
       "      <th>75%</th>\n",
       "      <th>max</th>\n",
       "    </tr>\n",
       "  </thead>\n",
       "  <tbody>\n",
       "    <tr>\n",
       "      <th>LBXTC</th>\n",
       "      <td>4806.0</td>\n",
       "      <td>189.314607</td>\n",
       "      <td>41.733185</td>\n",
       "      <td>69.0</td>\n",
       "      <td>161.0</td>\n",
       "      <td>186.0</td>\n",
       "      <td>213.0</td>\n",
       "      <td>612.0</td>\n",
       "    </tr>\n",
       "    <tr>\n",
       "      <th>PHAFSTHR</th>\n",
       "      <td>4806.0</td>\n",
       "      <td>12.053891</td>\n",
       "      <td>2.900179</td>\n",
       "      <td>9.0</td>\n",
       "      <td>10.0</td>\n",
       "      <td>12.0</td>\n",
       "      <td>13.0</td>\n",
       "      <td>39.0</td>\n",
       "    </tr>\n",
       "    <tr>\n",
       "      <th>RIAGENDR</th>\n",
       "      <td>4806.0</td>\n",
       "      <td>1.512692</td>\n",
       "      <td>0.499891</td>\n",
       "      <td>1.0</td>\n",
       "      <td>1.0</td>\n",
       "      <td>2.0</td>\n",
       "      <td>2.0</td>\n",
       "      <td>2.0</td>\n",
       "    </tr>\n",
       "    <tr>\n",
       "      <th>RIDRETH3</th>\n",
       "      <td>4806.0</td>\n",
       "      <td>3.237203</td>\n",
       "      <td>1.525748</td>\n",
       "      <td>1.0</td>\n",
       "      <td>2.0</td>\n",
       "      <td>3.0</td>\n",
       "      <td>4.0</td>\n",
       "      <td>7.0</td>\n",
       "    </tr>\n",
       "    <tr>\n",
       "      <th>RIDAGEYR</th>\n",
       "      <td>4806.0</td>\n",
       "      <td>49.548065</td>\n",
       "      <td>17.455878</td>\n",
       "      <td>20.0</td>\n",
       "      <td>35.0</td>\n",
       "      <td>50.0</td>\n",
       "      <td>64.0</td>\n",
       "      <td>80.0</td>\n",
       "    </tr>\n",
       "    <tr>\n",
       "      <th>...</th>\n",
       "      <td>...</td>\n",
       "      <td>...</td>\n",
       "      <td>...</td>\n",
       "      <td>...</td>\n",
       "      <td>...</td>\n",
       "      <td>...</td>\n",
       "      <td>...</td>\n",
       "      <td>...</td>\n",
       "    </tr>\n",
       "    <tr>\n",
       "      <th>PAQ655</th>\n",
       "      <td>4805.0</td>\n",
       "      <td>0.726119</td>\n",
       "      <td>1.542458</td>\n",
       "      <td>0.0</td>\n",
       "      <td>0.0</td>\n",
       "      <td>0.0</td>\n",
       "      <td>0.0</td>\n",
       "      <td>7.0</td>\n",
       "    </tr>\n",
       "    <tr>\n",
       "      <th>PAD660</th>\n",
       "      <td>4802.0</td>\n",
       "      <td>17.232820</td>\n",
       "      <td>42.658923</td>\n",
       "      <td>0.0</td>\n",
       "      <td>0.0</td>\n",
       "      <td>0.0</td>\n",
       "      <td>0.0</td>\n",
       "      <td>480.0</td>\n",
       "    </tr>\n",
       "    <tr>\n",
       "      <th>PAQ665</th>\n",
       "      <td>4803.0</td>\n",
       "      <td>1.592755</td>\n",
       "      <td>0.491372</td>\n",
       "      <td>1.0</td>\n",
       "      <td>1.0</td>\n",
       "      <td>2.0</td>\n",
       "      <td>2.0</td>\n",
       "      <td>2.0</td>\n",
       "    </tr>\n",
       "    <tr>\n",
       "      <th>PAQ670</th>\n",
       "      <td>4803.0</td>\n",
       "      <td>1.408286</td>\n",
       "      <td>2.049184</td>\n",
       "      <td>0.0</td>\n",
       "      <td>0.0</td>\n",
       "      <td>0.0</td>\n",
       "      <td>3.0</td>\n",
       "      <td>7.0</td>\n",
       "    </tr>\n",
       "    <tr>\n",
       "      <th>PAD675</th>\n",
       "      <td>4800.0</td>\n",
       "      <td>25.534167</td>\n",
       "      <td>47.960658</td>\n",
       "      <td>0.0</td>\n",
       "      <td>0.0</td>\n",
       "      <td>0.0</td>\n",
       "      <td>30.0</td>\n",
       "      <td>600.0</td>\n",
       "    </tr>\n",
       "  </tbody>\n",
       "</table>\n",
       "<p>61 rows × 8 columns</p>\n",
       "</div>"
      ],
      "text/plain": [
       "           count        mean        std   min    25%    50%    75%    max\n",
       "LBXTC     4806.0  189.314607  41.733185  69.0  161.0  186.0  213.0  612.0\n",
       "PHAFSTHR  4806.0   12.053891   2.900179   9.0   10.0   12.0   13.0   39.0\n",
       "RIAGENDR  4806.0    1.512692   0.499891   1.0    1.0    2.0    2.0    2.0\n",
       "RIDRETH3  4806.0    3.237203   1.525748   1.0    2.0    3.0    4.0    7.0\n",
       "RIDAGEYR  4806.0   49.548065  17.455878  20.0   35.0   50.0   64.0   80.0\n",
       "...          ...         ...        ...   ...    ...    ...    ...    ...\n",
       "PAQ655    4805.0    0.726119   1.542458   0.0    0.0    0.0    0.0    7.0\n",
       "PAD660    4802.0   17.232820  42.658923   0.0    0.0    0.0    0.0  480.0\n",
       "PAQ665    4803.0    1.592755   0.491372   1.0    1.0    2.0    2.0    2.0\n",
       "PAQ670    4803.0    1.408286   2.049184   0.0    0.0    0.0    3.0    7.0\n",
       "PAD675    4800.0   25.534167  47.960658   0.0    0.0    0.0   30.0  600.0\n",
       "\n",
       "[61 rows x 8 columns]"
      ]
     },
     "execution_count": 22,
     "metadata": {},
     "output_type": "execute_result"
    }
   ],
   "source": [
    "df.describe().transpose()"
   ]
  },
  {
   "cell_type": "markdown",
   "id": "0ace5cd3",
   "metadata": {},
   "source": [
    "Maximum calories of 12,000 seems alot but I am assuming it is correct.\n",
    "\n",
    "Looking at unique values of categorical variables to see if there are any erronous values..."
   ]
  },
  {
   "cell_type": "code",
   "execution_count": 23,
   "id": "8717e4ef",
   "metadata": {},
   "outputs": [
    {
     "name": "stdout",
     "output_type": "stream",
     "text": [
      "RIAGENDR: [1. 2.]\n",
      "RIDRETH3: [3. 4. 1. 7. 2. 6.]\n",
      "BPXPULS: [ 1.  2. nan]\n",
      "DR1_300: [ 2.  1.  3. nan]\n",
      "ALQ101: [ 1.  2. nan]\n",
      "ALQ110: [ 1.  2. nan]\n",
      "ALQ120U: [ 1. nan  3.  2.]\n",
      "BPQ020: [ 2.  1. nan]\n",
      "BPQ040A: [ 2.  1. nan]\n",
      "BPQ050A: [ 2.  1. nan]\n",
      "BPQ080: [ 2.  1. nan]\n",
      "BPQ090D: [ 2.  1. nan]\n",
      "BPQ100D: [ 2. nan  1.]\n",
      "DIQ010: [ 2.  1.  3. nan]\n",
      "MCQ160M: [ 2.  1. nan]\n",
      "MCQ170M: [ 2.  1. nan]\n",
      "SMQ681: [ 1.  2. nan]\n",
      "PAQ605: [ 2.  1. nan]\n",
      "PAQ620: [ 2.  1. nan]\n",
      "PAQ650: [2. 1.]\n",
      "PAQ665: [ 2.  1. nan]\n"
     ]
    }
   ],
   "source": [
    "categorical_variables = ['RIAGENDR','RIDRETH3','BPXPULS','DR1_300','ALQ101','ALQ110','ALQ120U',\n",
    "                        'BPQ020','BPQ040A','BPQ050A','BPQ080','BPQ090D','BPQ100D','DIQ010',\n",
    "                        'MCQ160M','MCQ170M','SMQ681','PAQ605','PAQ620','PAQ650','PAQ665']\n",
    "for var in categorical_variables:\n",
    "    print(\"{}:\".format(var),df[var].unique())\n"
   ]
  },
  {
   "cell_type": "markdown",
   "id": "ffcc2371",
   "metadata": {},
   "source": [
    "No erroneous values"
   ]
  },
  {
   "cell_type": "markdown",
   "id": "c7e2a46f",
   "metadata": {},
   "source": [
    "## Feature Engineering"
   ]
  },
  {
   "cell_type": "markdown",
   "id": "ffaf9d16",
   "metadata": {},
   "source": [
    "### Blood Pressure\n",
    "The median of all blood pressure readings will be taken and the original blood pressure readings will be dropped.  "
   ]
  },
  {
   "cell_type": "code",
   "execution_count": 24,
   "id": "daa86cde",
   "metadata": {},
   "outputs": [],
   "source": [
    "df['Systolic'] = df[['BPXSY1','BPXSY2','BPXSY3','BPXSY4']].median(axis=1)\n",
    "df[\"Diastolic\"] = df[['BPXDI1','BPXDI2','BPXDI3','BPXDI4']].median(axis=1)\n",
    "df.drop(['BPXSY1','BPXSY2','BPXSY3','BPXSY4','BPXDI1','BPXDI2','BPXDI3','BPXDI4'],axis=1,inplace=True)"
   ]
  },
  {
   "cell_type": "markdown",
   "id": "55da5d8e",
   "metadata": {},
   "source": [
    "### Daily average physical activity\n",
    "According to the codebook, the amount of physical activity comes with a MET score for weighing.  Vigorous activity gets a score of 8 while moderate activity gets a score of 4.  I want to create a daily average met amount of minutes. I haven't yet decided wether or not I will use this daily average, so I will also multiply the minutes of activity bu 4 or 8 appropriately"
   ]
  },
  {
   "cell_type": "code",
   "execution_count": 25,
   "id": "3842d854",
   "metadata": {},
   "outputs": [],
   "source": [
    "df['MET_rec'] = 8*df.PAQ655*df.PAD660/7 + 4*df.PAQ670*df.PAD675/7\n",
    "df['MET_work'] = 8*df.PAQ610*df.PAD615/7 + 4*df.PAQ625*df.PAD630/7\n",
    "df['MET_total']=df['MET_rec']+df['MET_work']\n",
    "df['PAD615']=8*df.PAD615\n",
    "df['PAD660']=8*df.PAD660\n",
    "df['PAD630']=4*df.PAD630\n",
    "df['PAD675']=4*df.PAD675"
   ]
  },
  {
   "cell_type": "markdown",
   "id": "a3637968",
   "metadata": {},
   "source": [
    "### Transformed nutritional varaibles\n",
    "DR1_300 asks how much you consumed compares to average, with 1 being more than usual, 2 being usual, and 3 being less than usual.  I am going to create average daily nutrition intakes using these values by multiplying the nutritional values by 1/2 if the repsonse to DR1_300 was 1, keeping them the same if the response to DR1_300 was 2, and multiplying by 2 if the response to DR1_300 was 3.  Then I will drop the original nutrition values and DR1_300.\n",
    "\n",
    "# need to say more on why you are doing this."
   ]
  },
  {
   "cell_type": "code",
   "execution_count": 26,
   "id": "bc11ba6e",
   "metadata": {},
   "outputs": [],
   "source": [
    "powers = df.DR1_300 - 2\n",
    "nutrition_variables = ['DR1TKCAL', 'DR1TPROT', 'DR1TCARB', 'DR1TSUGR',\n",
    "       'DR1TFIBE', 'DR1TTFAT', 'DR1TSFAT', 'DR1TMFAT', 'DR1TPFAT', 'DR1TCHOL',\n",
    "       'DR1TSODI', 'DR1TVD', 'DR1TCALC', 'DR1TIRON', 'DR1TPOTA']\n",
    "for var in nutrition_variables:\n",
    "    name = \"{}_t\".format(var)\n",
    "    df[name] = df[var]*2**powers\n",
    "    df.drop(var,axis=1,inplace=True)\n",
    "df.drop('DR1_300',axis=1,inplace=True)\n",
    "del powers\n",
    "del nutrition_variables"
   ]
  },
  {
   "cell_type": "markdown",
   "id": "fdfaaebc",
   "metadata": {},
   "source": [
    "### Average daily alcohol consumption\n",
    "\n",
    "ALQ120Q asks how often do you drink alcohol in the past year\n",
    "ALQ120U asks the unit where\n",
    "1 means week\n",
    "2 means month\n",
    "3 means year\n",
    "\n",
    "I am going to replace week with 52, month with 12, year with 1 then multiiply these balues by ALQ120Q and then by ALQ130 (how many drinks on days you drink) then divide by 365 to get the daily average"
   ]
  },
  {
   "cell_type": "code",
   "execution_count": 27,
   "id": "3b7a2c0d",
   "metadata": {},
   "outputs": [],
   "source": [
    "df['avgALC'] = df.ALQ120Q*df.ALQ120U.replace({1:52,2:12,3:1})*df.ALQ130/365"
   ]
  },
  {
   "cell_type": "markdown",
   "id": "c693ec33",
   "metadata": {},
   "source": [
    "### Dropping categorical variables\n",
    "\n",
    "I am dropping the following variables from the dataframe:\n",
    "\n",
    "* ALQ101, had at least 12 drinks in the past year; as the questionaire covers how much alcohol a person drinks, this is not needed\n",
    "* ALQ110, had at least 12 drinks in your lifetime; same reason\n",
    "* PAQ605, vigorous activity at work; can be inferred by number of minutes\n",
    "* PAQ620, moderate work activity; same reason\n",
    "* PAQ650, vigorous recreational activity; same reason\n",
    "* PAQ665, moderate recreational activity; same reason\n",
    "* BPQ040A, have you ever been told to take medication for blood pressure; as there is a question on now taking medication, I feel this is not important\n",
    "* BPQ090D, told to take medication for high cholesterol; same\n",
    "* MCQ160M, have you ever been told you have thyroid problems; as there is a question asking do you now have thyroid problems, I feel that question is more relevant\n",
    "\n",
    "Other thoughts\n",
    "* BPQ020, have you ever been told you have high blood pressure\n",
    "* BPQ080, have you ever been told you have high cholesterol\n",
    "* DIQ010, have you ever been told you have diabetes\n",
    "\n",
    "It would be better for these questions to know if the person now has these conditions.  I have considered dropping these but am keeping these for the time being."
   ]
  },
  {
   "cell_type": "code",
   "execution_count": 28,
   "id": "615d7ed2",
   "metadata": {},
   "outputs": [],
   "source": [
    "df.drop(['ALQ101','ALQ110','PAQ605','PAQ620','PAQ650','PAQ665','BPQ040A','BPQ090D','MCQ160M'],axis=1,inplace=True)"
   ]
  },
  {
   "cell_type": "markdown",
   "id": "0c4328fa",
   "metadata": {},
   "source": [
    "### Changing values of categorical variables\n",
    "For yes/no questions, I am going to replace no with 0 and yes with 1\n",
    "For gender, 0 will be female and 1 male\n",
    "For diabetes, 0 will be never diagnosed, 1 diagnosed with prediabetes, and 2 diabetic"
   ]
  },
  {
   "cell_type": "code",
   "execution_count": 29,
   "id": "4ffef37d",
   "metadata": {},
   "outputs": [],
   "source": [
    "df.RIAGENDR.replace({2:0},inplace=True)\n",
    "df.DIQ010.replace({1:2,2:0,3:1},inplace=True)\n",
    "df.BPXPULS.replace({1:0,2:1},inplace=True)\n",
    "df.BPQ020.replace({2:0},inplace=True)\n",
    "df.BPQ050A.replace({2:0},inplace=True)\n",
    "df.BPQ080.replace({2:0},inplace=True)\n",
    "df.BPQ100D.replace({2:0},inplace=True)\n",
    "df.MCQ170M.replace({2:0},inplace=True)\n",
    "df.SMQ681.replace({2:0},inplace=True)\n"
   ]
  },
  {
   "cell_type": "markdown",
   "id": "9415237f",
   "metadata": {},
   "source": [
    "# Looking for outliers\n",
    "\n",
    "Using DBSCAN, LOF, and using 3*IQR, I'm going to check for outliers.  First I will create an outliers variable so that if there are outliers, it can be marked"
   ]
  },
  {
   "cell_type": "code",
   "execution_count": 30,
   "id": "ba63cca4",
   "metadata": {},
   "outputs": [],
   "source": [
    "numerical_variables = [x for x in df.columns if x not in categorical_variables]"
   ]
  },
  {
   "cell_type": "code",
   "execution_count": 31,
   "id": "557626f0",
   "metadata": {},
   "outputs": [],
   "source": [
    "df['outlier']=0"
   ]
  },
  {
   "cell_type": "markdown",
   "id": "dbfd7117",
   "metadata": {},
   "source": [
    "## Using DBSCAN to look for outliers\n",
    "\n",
    "Using the elbow method and a k_neighbors graph to find an epsilon. \n",
    "In order to use neighbors and DBSCAN missing values need to be dropped"
   ]
  },
  {
   "cell_type": "code",
   "execution_count": 32,
   "id": "f0160f03",
   "metadata": {},
   "outputs": [
    {
     "data": {
      "text/plain": [
       "(2896, 50)"
      ]
     },
     "execution_count": 32,
     "metadata": {},
     "output_type": "execute_result"
    }
   ],
   "source": [
    "df2 = df.dropna()\n",
    "df2.shape"
   ]
  },
  {
   "cell_type": "code",
   "execution_count": 33,
   "id": "c4fa89df",
   "metadata": {},
   "outputs": [
    {
     "name": "stdout",
     "output_type": "stream",
     "text": [
      "The elbow occurs at 4554.27370576461\n"
     ]
    },
    {
     "data": {
      "image/png": "[encoded data removed]",
      "text/plain": [
       "<Figure size 432x288 with 1 Axes>"
      ]
     },
     "metadata": {
      "needs_background": "light"
     },
     "output_type": "display_data"
    }
   ],
   "source": [
    "neighbors = NearestNeighbors(n_neighbors=90)\n",
    "neighbors_fit = neighbors.fit(df2)\n",
    "distances, _ = neighbors_fit.kneighbors(df2)\n",
    "distances = np.sort(distances, axis=0)\n",
    "distances = distances[:,89]\n",
    "plt.plot(distances)\n",
    "kl = KneeLocator(x=range(df2.shape[0]),y=distances,direction='increasing',curve='convex')\n",
    "elbow = kl.elbow\n",
    "plt.axvline(x=elbow, ymin=0, ymax = max(distances), color='red')\n",
    "print('The elbow occurs at',distances[elbow])\n"
   ]
  },
  {
   "cell_type": "markdown",
   "id": "665567ee",
   "metadata": {},
   "source": [
    "The epsilon suggested is 4554."
   ]
  },
  {
   "cell_type": "code",
   "execution_count": 34,
   "id": "4f24b504",
   "metadata": {},
   "outputs": [],
   "source": [
    "db = DBSCAN(eps=4554, min_samples=51)"
   ]
  },
  {
   "cell_type": "code",
   "execution_count": 35,
   "id": "067cf217",
   "metadata": {},
   "outputs": [],
   "source": [
    "preds = db.fit_predict(df2)"
   ]
  },
  {
   "cell_type": "code",
   "execution_count": 36,
   "id": "4f90edf4",
   "metadata": {},
   "outputs": [
    {
     "data": {
      "text/plain": [
       "21"
      ]
     },
     "execution_count": 36,
     "metadata": {},
     "output_type": "execute_result"
    }
   ],
   "source": [
    "sum(preds==-1)"
   ]
  },
  {
   "cell_type": "markdown",
   "id": "8e7af50e",
   "metadata": {},
   "source": [
    "According to DBSCAN there are 21 outliers"
   ]
  },
  {
   "cell_type": "code",
   "execution_count": 37,
   "id": "a7c7d554",
   "metadata": {},
   "outputs": [
    {
     "data": {
      "text/plain": [
       "Int64Index([ 1750,  2602,  4008,  5056,  7053,  7399,  7492,  7710,  7781,\n",
       "             8594, 10038, 10302, 10490, 10953, 11334, 12563, 14391, 14773,\n",
       "            15749, 15780, 15835],\n",
       "           dtype='int64')"
      ]
     },
     "execution_count": 37,
     "metadata": {},
     "output_type": "execute_result"
    }
   ],
   "source": [
    "outliers1 = df2[preds==-1].index\n",
    "outliers1"
   ]
  },
  {
   "cell_type": "markdown",
   "id": "82e8d0c7",
   "metadata": {},
   "source": [
    "## Using Local Outlier Factor"
   ]
  },
  {
   "cell_type": "code",
   "execution_count": 38,
   "id": "84421509",
   "metadata": {},
   "outputs": [],
   "source": [
    "lof = LocalOutlierFactor()"
   ]
  },
  {
   "cell_type": "code",
   "execution_count": 39,
   "id": "4249cbc4",
   "metadata": {},
   "outputs": [
    {
     "data": {
      "text/plain": [
       "Int64Index([  284,   343,   507,   513,   525,   921,   965,  1319,  1493,\n",
       "             1749,  1750,  1966,  2026,  2151,  2947,  3056,  3094,  3694,\n",
       "             3822,  3829,  4128,  4132,  4496,  4500,  4542,  4580,  4590,\n",
       "             4829,  5389,  5489,  5502,  5763,  5841,  5885,  5894,  5896,\n",
       "             6020,  6100,  6681,  7066,  7318,  7664,  7710,  7858,  7931,\n",
       "             7967,  8073,  8163,  8183,  8429,  9146,  9190,  9366,  9513,\n",
       "            10069, 10476, 10490, 10502, 10699, 10764, 10867, 11662, 11777,\n",
       "            12549, 12733, 12815, 12932, 12940, 13454, 13544, 14036, 14261,\n",
       "            14315, 14931, 15356, 15670, 15749, 15780, 15875, 15977, 16101],\n",
       "           dtype='int64')"
      ]
     },
     "execution_count": 39,
     "metadata": {},
     "output_type": "execute_result"
    }
   ],
   "source": [
    "preds2 = lof.fit_predict(df2)\n",
    "outliers2 = df2[preds2==-1].index\n",
    "outliers2"
   ]
  },
  {
   "cell_type": "markdown",
   "id": "9fb443ba",
   "metadata": {},
   "source": [
    "Local Outlier Factor predicted many more outliers"
   ]
  },
  {
   "cell_type": "markdown",
   "id": "d4551a36",
   "metadata": {},
   "source": [
    "## Using 3 IQR for numeric variables to find consistent outliers."
   ]
  },
  {
   "cell_type": "code",
   "execution_count": 40,
   "id": "dfa82f69",
   "metadata": {},
   "outputs": [
    {
     "data": {
      "text/plain": [
       "array([15007, 15835, 10953,  9748,  1750,   178, 10038, 14391,  7710,\n",
       "       14236, 10302,  2943, 16166,  7492, 11226,  4844,  8594,  9897,\n",
       "        4662,   475, 14773, 14239,  3112,  9041,  7010,  3709, 16182,\n",
       "       11771,  7539, 15162])"
      ]
     },
     "execution_count": 40,
     "metadata": {},
     "output_type": "execute_result"
    }
   ],
   "source": [
    "outliers = {}\n",
    "for column in df.columns:\n",
    "    description = df[column].describe()\n",
    "    q1 = description['25%']\n",
    "    q3 = description['75%']\n",
    "    iqr15 = 3*(q3-q1)\n",
    "    indices = df[(df[column]<q1-iqr15)|(df[column]>q3+iqr15)].index\n",
    "    for x in indices:\n",
    "        outliers[x]=outliers.get(x,0)+1\n",
    "outlier_df=pd.DataFrame({'index':outliers.keys(),'count':outliers.values()})\n",
    "outliers3 = (outlier_df.sort_values(by='count',ascending=False).head(30))['index']\n",
    "outliers3 = np.array(list(outliers3))\n",
    "outliers3"
   ]
  },
  {
   "cell_type": "code",
   "execution_count": 41,
   "id": "57c5202b",
   "metadata": {},
   "outputs": [
    {
     "data": {
      "text/plain": [
       "{1750, 7710}"
      ]
     },
     "execution_count": 41,
     "metadata": {},
     "output_type": "execute_result"
    }
   ],
   "source": [
    "outliers_all3 = set(outliers1).intersection(set(outliers2).intersection(set(outliers3)))\n",
    "outliers_all3"
   ]
  },
  {
   "cell_type": "markdown",
   "id": "7b5fd682",
   "metadata": {},
   "source": [
    "2 values were found to be an outlier in all 3 methods.  These I am going to drop.  The rest of the outliers found in both DBSCAN and LOF I am going to mark as outliers."
   ]
  },
  {
   "cell_type": "code",
   "execution_count": 42,
   "id": "7fe3d794",
   "metadata": {},
   "outputs": [],
   "source": [
    "for i in np.intersect1d(outliers1,outliers2):\n",
    "    df.loc[df.index==i,'outlier']=1"
   ]
  },
  {
   "cell_type": "code",
   "execution_count": 43,
   "id": "4b74bf48",
   "metadata": {},
   "outputs": [],
   "source": [
    "df.drop(outliers_all3,inplace=True)"
   ]
  },
  {
   "cell_type": "markdown",
   "id": "86dff047",
   "metadata": {},
   "source": [
    "# EDA"
   ]
  },
  {
   "cell_type": "markdown",
   "id": "67dcedb2",
   "metadata": {},
   "source": [
    "### Dependant variable -- LBXTC"
   ]
  },
  {
   "cell_type": "code",
   "execution_count": 44,
   "id": "7c18b775",
   "metadata": {},
   "outputs": [
    {
     "data": {
      "text/plain": [
       "<AxesSubplot:>"
      ]
     },
     "execution_count": 44,
     "metadata": {},
     "output_type": "execute_result"
    },
    {
     "data": {
      "image/png": "[encoded data removed]",
      "text/plain": [
       "<Figure size 432x288 with 1 Axes>"
      ]
     },
     "metadata": {
      "needs_background": "light"
     },
     "output_type": "display_data"
    }
   ],
   "source": [
    "df.LBXTC.hist(bins=25)"
   ]
  },
  {
   "cell_type": "markdown",
   "id": "00012896",
   "metadata": {},
   "source": [
    "The distribution is skewed.  There do appear to be outliers. As there are not many predictions above 350, it may make it hard to predict values in that range.  \n",
    "I am going to log transform the variable"
   ]
  },
  {
   "cell_type": "code",
   "execution_count": 45,
   "id": "055bb0e4",
   "metadata": {},
   "outputs": [],
   "source": [
    "df['log_LBXTC']=np.log(df.LBXTC)"
   ]
  },
  {
   "cell_type": "markdown",
   "id": "ef71cd62",
   "metadata": {},
   "source": [
    "### Histograms of continuous variables"
   ]
  },
  {
   "cell_type": "code",
   "execution_count": 53,
   "id": "2c1991a2",
   "metadata": {},
   "outputs": [
    {
     "data": {
      "image/png": "[encoded data removed]",
      "text/plain": [
       "<Figure size 1152x2592 with 40 Axes>"
      ]
     },
     "metadata": {
      "needs_background": "light"
     },
     "output_type": "display_data"
    }
   ],
   "source": [
    "r,c = (0,0)\n",
    "fig, axs = plt.subplots(10,4,figsize=[16,36])\n",
    "for f in numerical_variables:\n",
    "    axs[r,c].hist(df[f], bins=25)\n",
    "    axs[r,c].set_title(f)\n",
    "    c = c+1\n",
    "    if c >= 4:\n",
    "        r = r+1\n",
    "    c = c % 4"
   ]
  },
  {
   "cell_type": "markdown",
   "id": "6275a581",
   "metadata": {},
   "source": [
    "Many distributions appear skewed.  It may help to log transform the variables.  For the same variables I am looking at boxplots."
   ]
  },
  {
   "cell_type": "code",
   "execution_count": 62,
   "id": "04826db1",
   "metadata": {},
   "outputs": [
    {
     "data": {
      "image/png": "[encoded data removed]",
      "text/plain": [
       "<Figure size 1152x2880 with 40 Axes>"
      ]
     },
     "metadata": {
      "needs_background": "light"
     },
     "output_type": "display_data"
    }
   ],
   "source": [
    "r,c = (0,0)\n",
    "fig, axs = plt.subplots(10,4,figsize=[16,40])\n",
    "for f in numerical_variables:\n",
    "    sns.boxplot(x=df[f],ax=axs[r,c])\n",
    "    c = c+1\n",
    "    if c >= 4:\n",
    "        r = r+1\n",
    "        c = c % 4"
   ]
  },
  {
   "cell_type": "markdown",
   "id": "fd001a90",
   "metadata": {},
   "source": [
    "As can be seen, there are many outliers.  When working with linear models, I may want to winsorize"
   ]
  },
  {
   "cell_type": "markdown",
   "id": "926b4e9c",
   "metadata": {},
   "source": [
    "### Correlation between variables"
   ]
  },
  {
   "cell_type": "code",
   "execution_count": 63,
   "id": "0b480b48",
   "metadata": {},
   "outputs": [
    {
     "data": {
      "text/plain": [
       "<AxesSubplot:>"
      ]
     },
     "execution_count": 63,
     "metadata": {},
     "output_type": "execute_result"
    },
    {
     "data": {
      "image/png": "[encoded data removed]",
      "text/plain": [
       "<Figure size 432x288 with 2 Axes>"
      ]
     },
     "metadata": {
      "needs_background": "light"
     },
     "output_type": "display_data"
    }
   ],
   "source": [
    "sns.heatmap(df.corr())"
   ]
  },
  {
   "cell_type": "markdown",
   "id": "c7d5cb9c",
   "metadata": {},
   "source": [
    "There definitely appears to be correlation between nutrition variables.  I may want to use PCA at least for linear models.\n",
    "\n",
    "Looking at correlation between variables and log_LBXTC, the log of the total cholesterol level.  Taking the absolute values so that I can look at the strength of correlation."
   ]
  },
  {
   "cell_type": "code",
   "execution_count": 65,
   "id": "1a85d627",
   "metadata": {},
   "outputs": [
    {
     "data": {
      "text/plain": [
       "log_LBXTC     1.000000\n",
       "LBXTC         0.983394\n",
       "Diastolic     0.155776\n",
       "BPQ080        0.143596\n",
       "DIQ010        0.129889\n",
       "BPQ100D       0.097683\n",
       "Systolic      0.096704\n",
       "RIDAGEYR      0.078749\n",
       "BMXHT         0.074319\n",
       "RIAGENDR      0.071505\n",
       "BPQ050A       0.056523\n",
       "DR1TIRON_t    0.047028\n",
       "ALQ120U       0.046593\n",
       "BPXPLS        0.045525\n",
       "DR1TCARB_t    0.043235\n",
       "MCQ170M       0.036497\n",
       "avgALC        0.036329\n",
       "DR1TSODI_t    0.036167\n",
       "DR1TPFAT_t    0.035538\n",
       "DR1TSUGR_t    0.032489\n",
       "PAD630        0.031179\n",
       "BPQ020        0.029563\n",
       "BPXPULS       0.029399\n",
       "DR1TKCAL_t    0.028542\n",
       "PAD660        0.027862\n",
       "DR1TTFAT_t    0.026290\n",
       "SMQ681        0.025541\n",
       "MET_total     0.024976\n",
       "DR1TCALC_t    0.024331\n",
       "MET_work      0.020541\n",
       "MET_rec       0.020368\n",
       "PAQ625        0.020227\n",
       "DR1TMFAT_t    0.019976\n",
       "DR1TSFAT_t    0.019715\n",
       "PAD615        0.017684\n",
       "DR1TCHOL_t    0.016126\n",
       "BMXBMI        0.015683\n",
       "BMXWT         0.013852\n",
       "DR1TPROT_t    0.013224\n",
       "DR1TVD_t      0.012619\n",
       "PHAFSTHR      0.010460\n",
       "RIDRETH3      0.010213\n",
       "PAQ655        0.008198\n",
       "PAD675        0.007253\n",
       "DR1TFIBE_t    0.007175\n",
       "PAQ610        0.005715\n",
       "outlier       0.004943\n",
       "DR1TPOTA_t    0.004858\n",
       "PAQ670        0.004567\n",
       "ALQ120Q       0.004131\n",
       "ALQ130        0.002718\n",
       "Name: log_LBXTC, dtype: float64"
      ]
     },
     "execution_count": 65,
     "metadata": {},
     "output_type": "execute_result"
    }
   ],
   "source": [
    "np.abs(df.corr()['log_LBXTC']).sort_values(ascending=False)"
   ]
  },
  {
   "cell_type": "markdown",
   "id": "fe5fd416",
   "metadata": {},
   "source": [
    "Blood pressure appears the most correlated however no variable is strongly correlated.  Linear models may be difficult."
   ]
  },
  {
   "cell_type": "code",
   "execution_count": null,
   "id": "a54b9fcd",
   "metadata": {},
   "outputs": [],
   "source": []
  }
 ],
 "metadata": {
  "kernelspec": {
   "display_name": "Python 3",
   "language": "python",
   "name": "python3"
  },
  "language_info": {
   "codemirror_mode": {
    "name": "ipython",
    "version": 3
   },
   "file_extension": ".py",
   "mimetype": "text/x-python",
   "name": "python",
   "nbconvert_exporter": "python",
   "pygments_lexer": "ipython3",
   "version": "3.9.5"
  }
 },
 "nbformat": 4,
 "nbformat_minor": 5
}
