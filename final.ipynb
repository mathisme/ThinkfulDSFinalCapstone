{
 "cells": [
  {
   "cell_type": "code",
   "execution_count": null,
   "id": "e0485b45",
   "metadata": {},
   "outputs": [],
   "source": []
  },
  {
   "cell_type": "markdown",
   "id": "d8c1391a",
   "metadata": {},
   "source": [
    "# Table of Contents"
   ]
  },
  {
   "cell_type": "markdown",
   "id": "8448b0b9",
   "metadata": {},
   "source": [
    "# References\n",
    "\n",
    "move this later\n",
    "\n",
    "1.  https://www.webmd.com/heart-disease/default.htm\n",
    "2.  https://www.webmd.com/cholesterol-management/default.htm"
   ]
  },
  {
   "cell_type": "markdown",
   "id": "e5c74e4c",
   "metadata": {},
   "source": [
    "# Background\n",
    "\n",
    "Heart disease is \"is the leading cause of death for men and women in the U.S.\"1  And, having high cholesterol is a major risk factor for heart disease.2  The goal of my project is to try to use NHANES survey data to predict total cholesterol level.  A model that predicts total cholesterol level from health information would be benificial to health apps.  If a fittness/health app can predict total cholesterol level, they can notify the user if their cholesterol level is high, promoting they see a doctor and hence reduce heart disease risk.\n",
    "\n",
    "## note to self, may want to expand\n"
   ]
  },
  {
   "cell_type": "markdown",
   "id": "1e8a56ae",
   "metadata": {},
   "source": [
    "# Data\n",
    "\n",
    "## go over the survey\n",
    "## what datasets/variables you intend to use and why."
   ]
  },
  {
   "cell_type": "code",
   "execution_count": null,
   "id": "d0f383d3",
   "metadata": {},
   "outputs": [],
   "source": []
  }
 ],
 "metadata": {
  "kernelspec": {
   "display_name": "Python 3",
   "language": "python",
   "name": "python3"
  },
  "language_info": {
   "codemirror_mode": {
    "name": "ipython",
    "version": 3
   },
   "file_extension": ".py",
   "mimetype": "text/x-python",
   "name": "python",
   "nbconvert_exporter": "python",
   "pygments_lexer": "ipython3",
   "version": "3.9.5"
  }
 },
 "nbformat": 4,
 "nbformat_minor": 5
}
